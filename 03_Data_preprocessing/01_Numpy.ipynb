{
 "cells": [
  {
   "cell_type": "markdown",
   "id": "3c404e75-9ffd-4da6-b9f7-8874eb148046",
   "metadata": {},
   "source": [
    "# Numpy 개요\n",
    "```\n",
    "Numeric + Python = Numpy\n",
    "수학 및 과학 연산을 위한 파이썬 패키지\n",
    "배열이나 행렬 계산에 용이한 메서드를 제공\n",
    "한글로 넘파이로 주로 통칭, 넘피/늄파이라고 부르기도 함\n",
    "관련 사이트 : http://www.numpy.org\n",
    "일반 List에 비해 빠르고, 메모리 효율적\n",
    "\n",
    "반복문 없이 데이터 배열에 대한 처리를 지원함\n",
    "선형대수와 관련된 다양한 기능을 제공함\n",
    "Reference Site\n",
    "cs231 : http://cs231n.github.io/python-numpy-tutorial/#numpy\n",
    "https://docs.scipy.org/doc/numpy-dev/user/quickstart.html\n",
    "데이터사이언스스쿨(파이썬버전) - https://goo.gl/3hsjbS\n",
    "설치 및 임포트\n",
    "넘파이는 외부 라이브러리이므로 설치 필요.(아나콘다는 사전 설치됨)\n",
    "pip install numpy\n",
    "```"
   ]
  },
  {
   "cell_type": "code",
   "execution_count": 3,
   "id": "c9f63186-6605-4da0-a456-aed44387e6cf",
   "metadata": {},
   "outputs": [
    {
     "data": {
      "text/plain": [
       "'1.26.4'"
      ]
     },
     "execution_count": 3,
     "metadata": {},
     "output_type": "execute_result"
    }
   ],
   "source": [
    "import numpy as np\n",
    "np.__version__"
   ]
  },
  {
   "cell_type": "markdown",
   "id": "8adfd96d-6c10-4842-9269-b54ff9ae8162",
   "metadata": {},
   "source": [
    "## 넘파이 배열 이해하기"
   ]
  },
  {
   "cell_type": "markdown",
   "id": "87137307-c106-4805-9ae3-531a1afac5b3",
   "metadata": {},
   "source": [
    "## ndim(dimention, rank)\n",
    "몇 차원인지 반환"
   ]
  },
  {
   "cell_type": "code",
   "execution_count": 6,
   "id": "9d49959d-a9ed-4f8a-acc7-f3ea193a5e34",
   "metadata": {},
   "outputs": [
    {
     "data": {
      "text/plain": [
       "(array(0), 0, numpy.ndarray)"
      ]
     },
     "execution_count": 6,
     "metadata": {},
     "output_type": "execute_result"
    }
   ],
   "source": [
    "a = np.array(0)\n",
    "a, a.ndim, type(a)"
   ]
  },
  {
   "cell_type": "code",
   "execution_count": 7,
   "id": "84189a6e-6ff8-43f5-9d19-7854598de0bd",
   "metadata": {},
   "outputs": [
    {
     "data": {
      "text/plain": [
       "(array([2, 4, 6]), 1, numpy.ndarray)"
      ]
     },
     "execution_count": 7,
     "metadata": {},
     "output_type": "execute_result"
    }
   ],
   "source": [
    "a = np.array([2, 4, 6])\n",
    "a, a.ndim, type(a)"
   ]
  },
  {
   "cell_type": "code",
   "execution_count": 8,
   "id": "904b447b-9220-4e48-9086-0951049bd2cc",
   "metadata": {},
   "outputs": [
    {
     "data": {
      "text/plain": [
       "(array([[1, 2, 3],\n",
       "        [4, 5, 6]]),\n",
       " 2,\n",
       " numpy.ndarray)"
      ]
     },
     "execution_count": 8,
     "metadata": {},
     "output_type": "execute_result"
    }
   ],
   "source": [
    "a = np.array( [[1,2,3], [4,5,6]] )\n",
    "a, a.ndim, type(a)"
   ]
  },
  {
   "cell_type": "code",
   "execution_count": 9,
   "id": "5bd292cc-51ec-44c3-acd8-c6ce3befe949",
   "metadata": {},
   "outputs": [
    {
     "data": {
      "text/plain": [
       "(array([[[1, 2, 3],\n",
       "         [4, 5, 6]],\n",
       " \n",
       "        [[1, 2, 3],\n",
       "         [4, 5, 6]]]),\n",
       " 3,\n",
       " numpy.ndarray)"
      ]
     },
     "execution_count": 9,
     "metadata": {},
     "output_type": "execute_result"
    }
   ],
   "source": [
    "a = np.array( [ [[1,2,3], [4,5,6]], [[1,2,3], [4,5,6]] ] )\n",
    "a, a.ndim, type(a)"
   ]
  },
  {
   "cell_type": "code",
   "execution_count": 10,
   "id": "3223dada-e207-4f3e-accf-9797bdae83ad",
   "metadata": {},
   "outputs": [
    {
     "data": {
      "text/plain": [
       "(2, 2, 3)"
      ]
     },
     "execution_count": 10,
     "metadata": {},
     "output_type": "execute_result"
    }
   ],
   "source": [
    "a.shape"
   ]
  },
  {
   "cell_type": "code",
   "execution_count": 11,
   "id": "e67c6dd4-0a29-4ca0-a8ae-16a0b6deb0f0",
   "metadata": {},
   "outputs": [
    {
     "data": {
      "text/plain": [
       "(array([1, 3, 5, 7, 9]), (5,))"
      ]
     },
     "execution_count": 11,
     "metadata": {},
     "output_type": "execute_result"
    }
   ],
   "source": [
    "a = np.array([ 1, 3, 5, 7, 9 ])\n",
    "a, a.shape"
   ]
  },
  {
   "cell_type": "code",
   "execution_count": 12,
   "id": "d4a4d3ce-3218-4231-b70f-186905933626",
   "metadata": {},
   "outputs": [
    {
     "data": {
      "text/plain": [
       "(array([[[0, 0, 0, 0],\n",
       "         [0, 0, 0, 0],\n",
       "         [0, 0, 0, 0]],\n",
       " \n",
       "        [[0, 0, 0, 0],\n",
       "         [0, 0, 0, 0],\n",
       "         [0, 0, 0, 0]]]),\n",
       " (2, 3, 4))"
      ]
     },
     "execution_count": 12,
     "metadata": {},
     "output_type": "execute_result"
    }
   ],
   "source": [
    "a = np.array([[[0, 0, 0, 0], [0, 0, 0, 0], [0, 0, 0, 0]], [[0, 0, 0, 0], [0, 0, 0, 0], [0, 0, 0, 0]]])\n",
    "a, a.shape # 2개의 3행 4열"
   ]
  },
  {
   "cell_type": "markdown",
   "id": "eeab2486-5e5f-4dd2-af13-0e86bf61445b",
   "metadata": {},
   "source": [
    "## 넘파이 배열\n",
    "```\n",
    "리스트를 넘파이 배열로 생성 np.array(리스트)\n",
    "관련 속성 : ndim 차원 반환 int , size 전체 길이 반환 int, shape 구조 반환 tuple\n",
    "```"
   ]
  },
  {
   "cell_type": "code",
   "execution_count": 14,
   "id": "5b9a3c25-66d9-421f-8dda-a0bbeecfe31e",
   "metadata": {},
   "outputs": [
    {
     "name": "stdout",
     "output_type": "stream",
     "text": [
      "[10, 56, 77, 23, 44] <class 'list'> 5\n"
     ]
    }
   ],
   "source": [
    "# 1차원 리스트 객체(이터러블)\n",
    "myList = [10, 56, 77, 23, 44]\n",
    "print(myList, type(myList), len(myList))"
   ]
  },
  {
   "cell_type": "code",
   "execution_count": 15,
   "id": "f24d07de-2293-4c30-9759-d566ac664da8",
   "metadata": {},
   "outputs": [
    {
     "data": {
      "text/plain": [
       "([[1, 2, 3], [10, 20, 30], [100, 200, 300]], 3)"
      ]
     },
     "execution_count": 15,
     "metadata": {},
     "output_type": "execute_result"
    }
   ],
   "source": [
    "# 2차원 리스트 객체(이터러블)\n",
    "myList2 = [[1,2,3 ],[10,20,30],[100,200,300]]\n",
    "myList2, len(myList2)"
   ]
  },
  {
   "cell_type": "code",
   "execution_count": 16,
   "id": "efe6626f-089a-45c8-a73d-cbd6613da596",
   "metadata": {},
   "outputs": [
    {
     "name": "stdout",
     "output_type": "stream",
     "text": [
      "[[  1   2   3]\n",
      " [ 10  20  30]\n",
      " [100 200 300]] <class 'numpy.ndarray'> 3\n",
      "차원= 2, 구조 = (3, 3), size = 9, 길이=3\n"
     ]
    }
   ],
   "source": [
    "myArr2 = np.array(myList2)\n",
    "print(myArr2, type(myArr2), len(myArr2))\n",
    "print(f'차원= {myArr2.ndim}, 구조 = {myArr2.shape}, size = {myArr2.size}, 길이={len(myArr2)}' )"
   ]
  },
  {
   "cell_type": "code",
   "execution_count": 17,
   "id": "822abeab-3780-42f5-b881-40702c4df57c",
   "metadata": {},
   "outputs": [
    {
     "name": "stdout",
     "output_type": "stream",
     "text": [
      "[[1, 2, 3, 4], [10, 20, 30, 40, 50], [100, 200]] <class 'list'> 3\n"
     ]
    }
   ],
   "source": [
    "# 2차원 리스트에서 각 행의 수가 다를 경우?\n",
    "myList21 = [ [1,2,3,4],[10,20,30,40,50],[100,200,]]\n",
    "print(myList21, type(myList21), len(myList21))"
   ]
  },
  {
   "cell_type": "code",
   "execution_count": 18,
   "id": "0e813428-41e1-4b65-bd18-02bb058a0811",
   "metadata": {},
   "outputs": [
    {
     "ename": "ValueError",
     "evalue": "setting an array element with a sequence. The requested array has an inhomogeneous shape after 1 dimensions. The detected shape was (3,) + inhomogeneous part.",
     "output_type": "error",
     "traceback": [
      "\u001b[1;31m---------------------------------------------------------------------------\u001b[0m",
      "\u001b[1;31mValueError\u001b[0m                                Traceback (most recent call last)",
      "Cell \u001b[1;32mIn[18], line 2\u001b[0m\n\u001b[0;32m      1\u001b[0m \u001b[38;5;66;03m# 길이가 달라 에러 리턴\u001b[39;00m\n\u001b[1;32m----> 2\u001b[0m myArr21 \u001b[38;5;241m=\u001b[39m np\u001b[38;5;241m.\u001b[39marray(myList21)\n\u001b[0;32m      3\u001b[0m \u001b[38;5;28mprint\u001b[39m(myArr21, \u001b[38;5;28mtype\u001b[39m(myArr21), \u001b[38;5;28mlen\u001b[39m(myArr21))\n\u001b[0;32m      4\u001b[0m \u001b[38;5;28mprint\u001b[39m(\u001b[38;5;124mf\u001b[39m\u001b[38;5;124m'\u001b[39m\u001b[38;5;124m차원= \u001b[39m\u001b[38;5;132;01m{\u001b[39;00mmyArr21\u001b[38;5;241m.\u001b[39mndim\u001b[38;5;132;01m}\u001b[39;00m\u001b[38;5;124m, 구조 = \u001b[39m\u001b[38;5;132;01m{\u001b[39;00mmyArr21\u001b[38;5;241m.\u001b[39mshape\u001b[38;5;132;01m}\u001b[39;00m\u001b[38;5;124m, size = \u001b[39m\u001b[38;5;132;01m{\u001b[39;00mmyArr21\u001b[38;5;241m.\u001b[39msize\u001b[38;5;132;01m}\u001b[39;00m\u001b[38;5;124m'\u001b[39m)\n",
      "\u001b[1;31mValueError\u001b[0m: setting an array element with a sequence. The requested array has an inhomogeneous shape after 1 dimensions. The detected shape was (3,) + inhomogeneous part."
     ]
    }
   ],
   "source": [
    "# 길이가 달라 에러 리턴\n",
    "myArr21 = np.array(myList21)\n",
    "print(myArr21, type(myArr21), len(myArr21))\n",
    "print(f'차원= {myArr21.ndim}, 구조 = {myArr21.shape}, size = {myArr21.size}')"
   ]
  },
  {
   "cell_type": "markdown",
   "id": "8454d352-ab92-4b1f-b11e-9d56104bd240",
   "metadata": {},
   "source": [
    "## 넘파이 배열과 리스트와의 차이점\n",
    "```\n",
    "배열간의 연산 가능 \"브로드캐스팅\", 요소별 연산(element-wise)\n",
    "넘파이 메서드 사용 가능 : 평균, 상관계수, 분산, 표준편차 등\n",
    "리스트는 자료형 혼합 가능, 넘파이배열은 하나의 자료형만 가능\n",
    "```"
   ]
  },
  {
   "cell_type": "code",
   "execution_count": 21,
   "id": "2715e8b7-e8d4-4ece-9dc9-c744d0b275fa",
   "metadata": {},
   "outputs": [
    {
     "name": "stdout",
     "output_type": "stream",
     "text": [
      "[10, 30, 50, 1, 2, 3]\n"
     ]
    },
    {
     "ename": "TypeError",
     "evalue": "can only concatenate list (not \"int\") to list",
     "output_type": "error",
     "traceback": [
      "\u001b[1;31m---------------------------------------------------------------------------\u001b[0m",
      "\u001b[1;31mTypeError\u001b[0m                                 Traceback (most recent call last)",
      "Cell \u001b[1;32mIn[21], line 5\u001b[0m\n\u001b[0;32m      3\u001b[0m listB \u001b[38;5;241m=\u001b[39m [\u001b[38;5;241m1\u001b[39m, \u001b[38;5;241m2\u001b[39m, \u001b[38;5;241m3\u001b[39m]\n\u001b[0;32m      4\u001b[0m \u001b[38;5;28mprint\u001b[39m(listA \u001b[38;5;241m+\u001b[39m listB) \u001b[38;5;66;03m# 리스트의 + 연산자는 조인역할\u001b[39;00m\n\u001b[1;32m----> 5\u001b[0m \u001b[38;5;28mprint\u001b[39m(listA \u001b[38;5;241m+\u001b[39m \u001b[38;5;241m2\u001b[39m)\n",
      "\u001b[1;31mTypeError\u001b[0m: can only concatenate list (not \"int\") to list"
     ]
    }
   ],
   "source": [
    "# 리스트의 산술연산자 +, * \n",
    "listA = [10, 30, 50]\n",
    "listB = [1, 2, 3]\n",
    "print(listA + listB) # 리스트의 + 연산자는 조인역할\n",
    "print(listA + 2) # 불가"
   ]
  },
  {
   "cell_type": "code",
   "execution_count": 22,
   "id": "930654a6-77db-44a7-acc6-a07c791cb502",
   "metadata": {},
   "outputs": [
    {
     "name": "stdout",
     "output_type": "stream",
     "text": [
      "[10, 30, 50, 10, 30, 50]\n"
     ]
    },
    {
     "ename": "TypeError",
     "evalue": "can't multiply sequence by non-int of type 'list'",
     "output_type": "error",
     "traceback": [
      "\u001b[1;31m---------------------------------------------------------------------------\u001b[0m",
      "\u001b[1;31mTypeError\u001b[0m                                 Traceback (most recent call last)",
      "Cell \u001b[1;32mIn[22], line 2\u001b[0m\n\u001b[0;32m      1\u001b[0m \u001b[38;5;28mprint\u001b[39m(listA \u001b[38;5;241m*\u001b[39m \u001b[38;5;241m2\u001b[39m) \u001b[38;5;66;03m# 해당 리스트의 반복\u001b[39;00m\n\u001b[1;32m----> 2\u001b[0m \u001b[38;5;28mprint\u001b[39m(listA \u001b[38;5;241m*\u001b[39m listB)\n",
      "\u001b[1;31mTypeError\u001b[0m: can't multiply sequence by non-int of type 'list'"
     ]
    }
   ],
   "source": [
    "print(listA * 2) # 해당 리스트의 반복\n",
    "print(listA * listB) # 불가"
   ]
  },
  {
   "cell_type": "code",
   "execution_count": 23,
   "id": "ca41ab56-6d5f-4ffc-8cef-5c30ff4bc61b",
   "metadata": {},
   "outputs": [
    {
     "name": "stdout",
     "output_type": "stream",
     "text": [
      "[3 4 5]\n",
      "[2 4 6]\n"
     ]
    }
   ],
   "source": [
    "# 넘파이의 산술연산\n",
    "arrA = np.array([1, 2, 3])\n",
    "print(arrA + 2)\n",
    "print(arrA * 2)"
   ]
  },
  {
   "cell_type": "code",
   "execution_count": 24,
   "id": "4a7f3a84-3bbe-402c-8ddf-bb3bd53306c1",
   "metadata": {},
   "outputs": [
    {
     "name": "stdout",
     "output_type": "stream",
     "text": [
      "[5 7 9]\n",
      "[ 4 10 18]\n",
      "[0.25 0.4  0.5 ]\n",
      "[0 0 0]\n",
      "[1 2 3]\n"
     ]
    }
   ],
   "source": [
    "arrB = np.array([4, 5, 6])\n",
    "print(arrA + arrB)\n",
    "print(arrA * arrB)\n",
    "print(arrA / arrB)\n",
    "print(arrA // arrB) # 몫\n",
    "print(arrA % arrB) # 나머지"
   ]
  },
  {
   "cell_type": "markdown",
   "id": "505f502c-b9f5-4715-8a7b-40cc30422520",
   "metadata": {},
   "source": [
    "## dtype\n",
    "```\n",
    "https://numpy.org/doc/stable/reference/arrays.dtypes.html\n",
    "데이터 U유형은 각 유니코드 문자를 32비트 정수(예: 4바이트)로 저장합니다. (유니코드 스트링 dtype 인수로 지정할 자료형은 다음 표에 보인것과 같은 “dtype 접두사”로 시작하는 문자열이고 이 글자 뒤에 오는 숫자는 바이트 수 혹은 글자 수를 의미한다.\n",
    "예를 들어 f8은 8바이트(64비트) 부동소수점 실수를 뜻하고 U4 는 4글자 유니코드 문자열을 뜻한다\n",
    "숫자를 생략하면 운영체제에 따라 알맞은 크기를 지정한다.\n",
    "```"
   ]
  },
  {
   "cell_type": "code",
   "execution_count": 27,
   "id": "620d98b1-8012-48ad-995b-730bfbb13d86",
   "metadata": {},
   "outputs": [
    {
     "name": "stdout",
     "output_type": "stream",
     "text": [
      "['안녕', 100, 3.14, True, False]\n"
     ]
    }
   ],
   "source": [
    "# 자료형 테스트\n",
    "myList_c = ['안녕', 100, 3.14, True, False] # 리스트는 혼합된 형 그대로 유지\n",
    "print(myList_c)"
   ]
  },
  {
   "cell_type": "code",
   "execution_count": 28,
   "id": "d3139c02-5be1-4332-8ce1-36736bff81a3",
   "metadata": {},
   "outputs": [
    {
     "name": "stdout",
     "output_type": "stream",
     "text": [
      "['안녕' '100' '3.14' 'True' 'False'] <class 'numpy.ndarray'> <U32\n"
     ]
    }
   ],
   "source": [
    "myArr_c = np.array(myList_c) # 넘파이배열은 '문자열'로 통일 자동형변환\n",
    "print(myArr_c, type(myArr_c), myArr_c.dtype)"
   ]
  },
  {
   "cell_type": "code",
   "execution_count": 29,
   "id": "58649ba9-ee55-4cbd-b887-524617497a8b",
   "metadata": {},
   "outputs": [
    {
     "name": "stdout",
     "output_type": "stream",
     "text": [
      "[100.     3.14  23.5    0.  ] <class 'numpy.ndarray'> float64\n"
     ]
    }
   ],
   "source": [
    "# 정수와 실수가 혼합된 넘파이 배열\n",
    "myArr_d = np.array([100, 3.14, 23.5, 0])\n",
    "print(myArr_d, type(myArr_d), myArr_d.dtype) # 정수와 실수 혼합시, 더 큰 실수형으로 통일 자동형변환"
   ]
  },
  {
   "cell_type": "markdown",
   "id": "914e405d-a9f8-4a80-8aa4-c0a7bab58223",
   "metadata": {},
   "source": [
    "## Inf와 NaN\n",
    "```\n",
    "넘파이에서는 무한대를 표현하기 위한 np.inf(infinity)와 정의할 수 없는 숫자를 나타내는 np.nan(not a number)을 사용할 수 있다.\n",
    "다음 예와 같이 1을 0으로 나누려고 하거나 0에 대한 로그 값을 계산하면 무한대인 np.inf이 나온다.\n",
    "0을 0으로 나누려고 시도하면 np.nan이 나온다.\n",
    "```"
   ]
  },
  {
   "cell_type": "code",
   "execution_count": 33,
   "id": "37f80291-8014-41a4-951d-6c0f562890cc",
   "metadata": {},
   "outputs": [
    {
     "name": "stderr",
     "output_type": "stream",
     "text": [
      "C:\\Users\\cyh\\AppData\\Local\\Temp\\ipykernel_19916\\2068585620.py:1: RuntimeWarning: divide by zero encountered in divide\n",
      "  np.array([0, 1, -1, 0]) / np.array([1, 0, 0, 0])\n",
      "C:\\Users\\cyh\\AppData\\Local\\Temp\\ipykernel_19916\\2068585620.py:1: RuntimeWarning: invalid value encountered in divide\n",
      "  np.array([0, 1, -1, 0]) / np.array([1, 0, 0, 0])\n"
     ]
    },
    {
     "data": {
      "text/plain": [
       "array([  0.,  inf, -inf,  nan])"
      ]
     },
     "execution_count": 33,
     "metadata": {},
     "output_type": "execute_result"
    }
   ],
   "source": [
    "np.array([0, 1, -1, 0]) / np.array([1, 0, 0, 0])"
   ]
  },
  {
   "cell_type": "code",
   "execution_count": 34,
   "id": "65a7dee1-6f53-4db4-88e4-228ff762d473",
   "metadata": {},
   "outputs": [
    {
     "name": "stderr",
     "output_type": "stream",
     "text": [
      "C:\\Users\\cyh\\AppData\\Local\\Temp\\ipykernel_19916\\2933082444.py:1: RuntimeWarning: divide by zero encountered in log\n",
      "  np.log(0)\n"
     ]
    },
    {
     "data": {
      "text/plain": [
       "-inf"
      ]
     },
     "execution_count": 34,
     "metadata": {},
     "output_type": "execute_result"
    }
   ],
   "source": [
    "np.log(0)"
   ]
  },
  {
   "cell_type": "code",
   "execution_count": 35,
   "id": "1f93031d-7b62-4f93-8cbb-2494ab72341f",
   "metadata": {},
   "outputs": [
    {
     "data": {
      "text/plain": [
       "0.0"
      ]
     },
     "execution_count": 35,
     "metadata": {},
     "output_type": "execute_result"
    }
   ],
   "source": [
    "np.exp(-np.inf)"
   ]
  },
  {
   "cell_type": "markdown",
   "id": "f6d92b7f-0169-42b7-8df4-f09f35657a76",
   "metadata": {},
   "source": [
    "## 기술통계"
   ]
  },
  {
   "cell_type": "code",
   "execution_count": 38,
   "id": "80a158db-8956-4a59-95c0-005fd665064f",
   "metadata": {},
   "outputs": [],
   "source": [
    "x = np.array([18,   5,  10,  23,  19,  -8,  10,   0,   0,   5,   2,  15,   8,\n",
    "              2,   5,   4,  15,  -1,   4,  -7, -24,   7,   9,  -6,  23, -13])"
   ]
  },
  {
   "cell_type": "code",
   "execution_count": 39,
   "id": "1294c174-8770-4112-bc1d-be22df1e5164",
   "metadata": {},
   "outputs": [
    {
     "data": {
      "text/plain": [
       "4.8076923076923075"
      ]
     },
     "execution_count": 39,
     "metadata": {},
     "output_type": "execute_result"
    }
   ],
   "source": [
    "x.mean()"
   ]
  },
  {
   "cell_type": "code",
   "execution_count": 40,
   "id": "7afe7af7-2728-4720-ada3-d1d573ab6bab",
   "metadata": {},
   "outputs": [
    {
     "data": {
      "text/plain": [
       "4.8076923076923075"
      ]
     },
     "execution_count": 40,
     "metadata": {},
     "output_type": "execute_result"
    }
   ],
   "source": [
    "np.mean(x)  # 평균"
   ]
  },
  {
   "cell_type": "code",
   "execution_count": 41,
   "id": "f7db7675-0306-4acf-a5f4-24834cbb92bd",
   "metadata": {},
   "outputs": [
    {
     "data": {
      "text/plain": [
       "115.23224852071006"
      ]
     },
     "execution_count": 41,
     "metadata": {},
     "output_type": "execute_result"
    }
   ],
   "source": [
    "np.var(x)  # 분산"
   ]
  },
  {
   "cell_type": "code",
   "execution_count": 42,
   "id": "d9d8d654-ad58-4386-978c-0de0ae54e06b",
   "metadata": {},
   "outputs": [
    {
     "data": {
      "text/plain": [
       "10.734628476137871"
      ]
     },
     "execution_count": 42,
     "metadata": {},
     "output_type": "execute_result"
    }
   ],
   "source": [
    "np.std(x)  # 표준 편차"
   ]
  },
  {
   "cell_type": "code",
   "execution_count": 43,
   "id": "4d0721c1-cc74-413e-b8d8-78300c08e3c5",
   "metadata": {},
   "outputs": [
    {
     "data": {
      "text/plain": [
       "23"
      ]
     },
     "execution_count": 43,
     "metadata": {},
     "output_type": "execute_result"
    }
   ],
   "source": [
    "np.max(x)  # 최댓값"
   ]
  },
  {
   "cell_type": "code",
   "execution_count": 44,
   "id": "b849874b-3b07-4e5a-adaf-af95aa226332",
   "metadata": {},
   "outputs": [
    {
     "data": {
      "text/plain": [
       "-24"
      ]
     },
     "execution_count": 44,
     "metadata": {},
     "output_type": "execute_result"
    }
   ],
   "source": [
    "np.min(x)  # 최소값"
   ]
  },
  {
   "cell_type": "code",
   "execution_count": 45,
   "id": "03ade846-cb22-49f0-8edc-249f76d61d95",
   "metadata": {},
   "outputs": [
    {
     "data": {
      "text/plain": [
       "5.0"
      ]
     },
     "execution_count": 45,
     "metadata": {},
     "output_type": "execute_result"
    }
   ],
   "source": [
    "np.median(x)  # 중앙값"
   ]
  },
  {
   "cell_type": "markdown",
   "id": "8fc672e5-530f-4161-bcbc-635eb7ed1e87",
   "metadata": {},
   "source": [
    "## 사분위수\n",
    "```\n",
    "사분위수(quartile)는 데이터를 가장 작은 수부터 가장 큰 수까지 크기가 커지는 순서대로 정렬하였을 때 1/4, 2/4, 3/4 위치에 있는 수를 말한다.\n",
    "각각 1사분위수, 2사분위수, 3사분위수라고 한다.\n",
    "1/4의 위치란 전체 데이터의 수가 만약 100개이면 25번째 순서, 즉 하위 25%를 말한다. 따라서 2사분위수는 중앙값과 같다.\n",
    "\n",
    "때로는 위치를 1/100 단위로 나눈 백분위수(percentile)을 사용하기도 한다. 1사분위수는 25% 백분위수와 같다.\n",
    "```"
   ]
  },
  {
   "cell_type": "code",
   "execution_count": 48,
   "id": "38a76d9d-85f1-4e57-9df9-35fa4940165b",
   "metadata": {},
   "outputs": [
    {
     "data": {
      "text/plain": [
       "-24.0"
      ]
     },
     "execution_count": 48,
     "metadata": {},
     "output_type": "execute_result"
    }
   ],
   "source": [
    "np.percentile(x, 0)  # 최소값"
   ]
  },
  {
   "cell_type": "code",
   "execution_count": 49,
   "id": "dfeb7a99-dfa5-4524-a62a-272e39cbc356",
   "metadata": {},
   "outputs": [
    {
     "data": {
      "text/plain": [
       "0.0"
      ]
     },
     "execution_count": 49,
     "metadata": {},
     "output_type": "execute_result"
    }
   ],
   "source": [
    "np.percentile(x, 25)  # 1사분위 수"
   ]
  },
  {
   "cell_type": "code",
   "execution_count": 50,
   "id": "e0060f59-198d-4c67-9a1a-c067b607d090",
   "metadata": {},
   "outputs": [
    {
     "data": {
      "text/plain": [
       "5.0"
      ]
     },
     "execution_count": 50,
     "metadata": {},
     "output_type": "execute_result"
    }
   ],
   "source": [
    "np.percentile(x, 50)  # 2사분위 수"
   ]
  },
  {
   "cell_type": "code",
   "execution_count": 51,
   "id": "8d0c7650-9cae-4c8e-bf4c-c73879a5b0b7",
   "metadata": {},
   "outputs": [
    {
     "data": {
      "text/plain": [
       "10.0"
      ]
     },
     "execution_count": 51,
     "metadata": {},
     "output_type": "execute_result"
    }
   ],
   "source": [
    "np.percentile(x, 75)  # 3사분위 수"
   ]
  },
  {
   "cell_type": "code",
   "execution_count": 52,
   "id": "559333e8-ae9c-4477-8ba2-b1b409717fb7",
   "metadata": {},
   "outputs": [
    {
     "data": {
      "text/plain": [
       "23.0"
      ]
     },
     "execution_count": 52,
     "metadata": {},
     "output_type": "execute_result"
    }
   ],
   "source": [
    "np.percentile(x, 100)  # 최댓값"
   ]
  },
  {
   "cell_type": "markdown",
   "id": "b9976402-6be2-48d5-bf53-e05c4d07fe87",
   "metadata": {},
   "source": [
    "## 넘파이 함수로 배열 만들기\n",
    "```\n",
    "np.ones(n) , np.ones((x, y))\n",
    "np.zeros(n) , np.zeros((x, y))\n",
    "np.empty(n) , np.empty((x, y))\n",
    "np.aranges(start, end step)\n",
    "\n",
    "reshape(x, y) # 차원 확대\n",
    "flatten(x, y) # 차원 축소\n",
    "```"
   ]
  },
  {
   "cell_type": "code",
   "execution_count": 55,
   "id": "2d657dd5-b7ac-4308-82d8-b1841feb3c80",
   "metadata": {},
   "outputs": [
    {
     "name": "stdout",
     "output_type": "stream",
     "text": [
      "[1. 1. 1. 1. 1. 1. 1. 1. 1. 1.] float64\n"
     ]
    }
   ],
   "source": [
    "# 1로 메모리 초기화, 넘파이 함수로 배열을 만들때에는 디폴트가 실수형 특징을 유지하고자 할\n",
    "print(np.ones(10), np.ones(10).dtype) "
   ]
  },
  {
   "cell_type": "code",
   "execution_count": 56,
   "id": "17d74448-9389-468e-b6b2-35dab6304579",
   "metadata": {},
   "outputs": [
    {
     "name": "stdout",
     "output_type": "stream",
     "text": [
      "[[1. 1. 1. 1.]\n",
      " [1. 1. 1. 1.]] float64\n"
     ]
    }
   ],
   "source": [
    "print(np.ones((2,4)), np.ones((2,4)).dtype)"
   ]
  },
  {
   "cell_type": "code",
   "execution_count": 57,
   "id": "f13a9761-f9a9-4b3e-97d2-41056f41b020",
   "metadata": {},
   "outputs": [
    {
     "name": "stdout",
     "output_type": "stream",
     "text": [
      "[0. 0. 0. 0. 0. 0. 0. 0. 0. 0.] float64\n"
     ]
    }
   ],
   "source": [
    "# 0으로 메모리 초기화\n",
    "print(np.zeros(10), np.zeros(10).dtype)"
   ]
  },
  {
   "cell_type": "code",
   "execution_count": 58,
   "id": "64004920-3751-4a56-a565-b9a8f72dc6c5",
   "metadata": {},
   "outputs": [
    {
     "name": "stdout",
     "output_type": "stream",
     "text": [
      "[[0. 0. 0.]\n",
      " [0. 0. 0.]\n",
      " [0. 0. 0.]] float64\n"
     ]
    }
   ],
   "source": [
    "print(np.zeros((3,3)), np.zeros((3,3)).dtype)"
   ]
  },
  {
   "cell_type": "code",
   "execution_count": 59,
   "id": "0f1fff23-8586-44be-ab83-4050b9d3d5a2",
   "metadata": {},
   "outputs": [
    {
     "name": "stdout",
     "output_type": "stream",
     "text": [
      "[0. 0. 0. 0. 0. 0. 0. 0. 0. 0.] float64\n",
      "[[0. 0. 0.]\n",
      " [0. 0. 0.]\n",
      " [0. 0. 0.]] float64\n",
      "[[0. 0. 0.]\n",
      " [0. 0. 0.]\n",
      " [0. 0. 0.]]\n",
      "[[         0          0 -289445936]\n",
      " [       475 -289443376        475]\n",
      " [-289445296        475  260046848]]\n"
     ]
    }
   ],
   "source": [
    "# 메모리가 비어있음 -> 메모리가 초기화 되지 않는다.\n",
    "print(np.empty(10), np.empty(10).dtype)\n",
    "print(np.empty((3,3)), np.empty((3,3)).dtype)\n",
    "print(np.empty((3,3)))\n",
    "print(np.empty((3,3), dtype=int))  # 기존 메모리에 있던 값을 출력한다.(정확히 알수 없음)"
   ]
  },
  {
   "cell_type": "code",
   "execution_count": 60,
   "id": "6929f9c3-1b88-484c-a9e8-64ffc035a199",
   "metadata": {},
   "outputs": [
    {
     "name": "stdout",
     "output_type": "stream",
     "text": [
      "[1, 2, 3, 4, 5, 6, 7, 8, 9, 10, 11, 12, 13, 14, 15, 16, 17, 18, 19, 20] <class 'list'>\n"
     ]
    }
   ],
   "source": [
    "# 리스트+레인지\n",
    "print( list(range(1,21)), type(list(range(1,21))) )"
   ]
  },
  {
   "cell_type": "code",
   "execution_count": 61,
   "id": "3feda027-ad90-4755-9dd1-9738aa8d2aeb",
   "metadata": {},
   "outputs": [
    {
     "name": "stdout",
     "output_type": "stream",
     "text": [
      "[ 0  1  2  3  4  5  6  7  8  9 10 11 12 13 14 15 16 17 18 19] <class 'numpy.ndarray'>\n",
      "[ 1  2  3  4  5  6  7  8  9 10 11 12 13 14 15 16 17 18 19] <class 'numpy.ndarray'>\n",
      "[ 1  3  5  7  9 11 13 15 17 19] <class 'numpy.ndarray'>\n"
     ]
    }
   ],
   "source": [
    "# 1~20으로 구성된 4행 5열의 넘파이 배열print(np.array(list(range(1,21))), type(list(range(1,21))))\n",
    "print(np.arange(20), type(np.arange(20)))\n",
    "print(np.arange(1, 20), type(np.arange(1, 20)))\n",
    "print(np.arange(1, 20, 2), type(np.arange(1, 20,2)))"
   ]
  },
  {
   "cell_type": "code",
   "execution_count": 62,
   "id": "64dec523-980e-4f69-9591-e71dd6334fa7",
   "metadata": {},
   "outputs": [
    {
     "name": "stdout",
     "output_type": "stream",
     "text": [
      "[ 0  1  2  3  4  5  6  7  8  9 10 11 12 13 14 15 16 17 18 19 20 21 22 23\n",
      " 24 25 26 27 28 29 30 31 32 33 34 35 36 37 38 39 40 41 42 43 44 45 46 47\n",
      " 48 49] 50 50\n"
     ]
    }
   ],
   "source": [
    "# 0~49까지 구성된 넘파이 배열\n",
    "arr = np.arange(50)\n",
    "print(arr, len(arr), arr.size)"
   ]
  },
  {
   "cell_type": "code",
   "execution_count": 63,
   "id": "9eb65b8d-15ed-4e18-a1cc-6dd20ff88ab4",
   "metadata": {},
   "outputs": [
    {
     "data": {
      "text/plain": [
       "array([  0.,  25.,  50.,  75., 100.])"
      ]
     },
     "execution_count": 63,
     "metadata": {},
     "output_type": "execute_result"
    }
   ],
   "source": [
    "# linspace 명령이나 logspace 명령은 선형 구간 혹은 로그 구간을 지정한 구간의 수만큼 분할한다.\n",
    "np.linspace(0, 100, 5)  # 시작, 끝(포함), 갯수"
   ]
  },
  {
   "cell_type": "code",
   "execution_count": 64,
   "id": "4a4e1043-c2ce-47f7-8313-70e506f32aea",
   "metadata": {},
   "outputs": [
    {
     "data": {
      "text/plain": [
       "array([ 1.25892541,  1.58489319,  1.99526231,  2.51188643,  3.16227766,\n",
       "        3.98107171,  5.01187234,  6.30957344,  7.94328235, 10.        ])"
      ]
     },
     "execution_count": 64,
     "metadata": {},
     "output_type": "execute_result"
    }
   ],
   "source": [
    "np.logspace(0.1, 1, 10)"
   ]
  },
  {
   "cell_type": "markdown",
   "id": "f5cd7fed-868b-4378-9241-7f596e8167ba",
   "metadata": {},
   "source": [
    "## reshape 구조의 재배열\n",
    "```\n",
    "reshape함수는 np.reshape(변경할 배열, 차원) 또는 배열.reshape(차원)으로 사용 할 수 있으며,\n",
    "현재의 배열의 차원(1차원,2차원,3차원)을 변경하여 행렬을 반환하거나 하는 경우에 많이 이용되는 함수이다.\n",
    "```"
   ]
  },
  {
   "cell_type": "code",
   "execution_count": 67,
   "id": "8234a73e-9351-4e58-bd09-c0f69c78b235",
   "metadata": {},
   "outputs": [
    {
     "name": "stdout",
     "output_type": "stream",
     "text": [
      "[ 0  1  2  3  4  5  6  7  8  9 10 11 12 13 14 15 16 17 18 19 20 21 22 23\n",
      " 24 25 26 27 28 29 30 31 32 33 34 35 36 37 38 39 40 41 42 43 44 45 46 47\n",
      " 48 49] 50 50\n"
     ]
    }
   ],
   "source": [
    "arr = np.arange(50)\n",
    "print(arr, len(arr), arr.size)"
   ]
  },
  {
   "cell_type": "code",
   "execution_count": 68,
   "id": "b3472910-f078-4831-885f-ffb93055d462",
   "metadata": {},
   "outputs": [
    {
     "data": {
      "text/plain": [
       "(array([ 0,  1,  2,  3,  4,  5,  6,  7,  8,  9, 10, 11, 12, 13, 14, 15, 16,\n",
       "        17, 18, 19, 20, 21, 22, 23, 24, 25, 26, 27, 28, 29, 30, 31, 32, 33,\n",
       "        34, 35, 36, 37, 38, 39, 40, 41, 42, 43, 44, 45, 46, 47, 48, 49]),\n",
       " 1,\n",
       " (50,))"
      ]
     },
     "execution_count": 68,
     "metadata": {},
     "output_type": "execute_result"
    }
   ],
   "source": [
    "arr, arr.ndim, arr.shape"
   ]
  },
  {
   "cell_type": "code",
   "execution_count": 69,
   "id": "01c4f66c-6e29-476f-8150-885a3336cfb3",
   "metadata": {},
   "outputs": [
    {
     "data": {
      "text/plain": [
       "(array([[ 0,  1,  2,  3,  4],\n",
       "        [ 5,  6,  7,  8,  9],\n",
       "        [10, 11, 12, 13, 14],\n",
       "        [15, 16, 17, 18, 19],\n",
       "        [20, 21, 22, 23, 24],\n",
       "        [25, 26, 27, 28, 29],\n",
       "        [30, 31, 32, 33, 34],\n",
       "        [35, 36, 37, 38, 39],\n",
       "        [40, 41, 42, 43, 44],\n",
       "        [45, 46, 47, 48, 49]]),\n",
       " 2,\n",
       " (10, 5))"
      ]
     },
     "execution_count": 69,
     "metadata": {},
     "output_type": "execute_result"
    }
   ],
   "source": [
    "arr = arr.reshape(10,5)\n",
    "arr, arr.ndim, arr.shape"
   ]
  },
  {
   "cell_type": "code",
   "execution_count": 70,
   "id": "f2316de0-7858-486c-9c8f-fc7438ee98fa",
   "metadata": {},
   "outputs": [
    {
     "data": {
      "text/plain": [
       "(array([[ 0,  1,  2,  3,  4,  5,  6,  7,  8,  9],\n",
       "        [10, 11, 12, 13, 14, 15, 16, 17, 18, 19],\n",
       "        [20, 21, 22, 23, 24, 25, 26, 27, 28, 29],\n",
       "        [30, 31, 32, 33, 34, 35, 36, 37, 38, 39],\n",
       "        [40, 41, 42, 43, 44, 45, 46, 47, 48, 49]]),\n",
       " 2,\n",
       " (5, 10))"
      ]
     },
     "execution_count": 70,
     "metadata": {},
     "output_type": "execute_result"
    }
   ],
   "source": [
    "arr2 = arr.reshape(5,10)\n",
    "arr2, arr2.ndim, arr2.shape"
   ]
  },
  {
   "cell_type": "code",
   "execution_count": 71,
   "id": "a3106d42-056a-496b-b0a5-47d834774129",
   "metadata": {},
   "outputs": [
    {
     "data": {
      "text/plain": [
       "(array([ 0,  1,  2,  3,  4,  5,  6,  7,  8,  9, 10, 11, 12, 13, 14, 15, 16,\n",
       "        17, 18, 19, 20, 21, 22, 23, 24, 25, 26, 27, 28, 29, 30, 31, 32, 33,\n",
       "        34, 35, 36, 37, 38, 39, 40, 41, 42, 43, 44, 45, 46, 47, 48, 49]),\n",
       " (50,),\n",
       " 1)"
      ]
     },
     "execution_count": 71,
     "metadata": {},
     "output_type": "execute_result"
    }
   ],
   "source": [
    "# 2차원 -> 1차원\n",
    "# 넘파이배열.flatten()\n",
    "arr3 = arr2.flatten()\n",
    "arr3, arr3.shape, arr3.ndim"
   ]
  },
  {
   "cell_type": "code",
   "execution_count": 72,
   "id": "42374368-a51f-4019-a317-d195352a1a09",
   "metadata": {},
   "outputs": [
    {
     "data": {
      "text/plain": [
       "array([  2,   4,   6,   8,  10,  12,  14,  16,  18,  20,  22,  24,  26,\n",
       "        28,  30,  32,  34,  36,  38,  40,  42,  44,  46,  48,  50,  52,\n",
       "        54,  56,  58,  60,  62,  64,  66,  68,  70,  72,  74,  76,  78,\n",
       "        80,  82,  84,  86,  88,  90,  92,  94,  96,  98, 100])"
      ]
     },
     "execution_count": 72,
     "metadata": {},
     "output_type": "execute_result"
    }
   ],
   "source": [
    "# 1~100 사이의 짝수로 된 넘파이 배열 생성\n",
    "np.arange(2,101,2)"
   ]
  },
  {
   "cell_type": "code",
   "execution_count": 73,
   "id": "30156ae3-0f12-4be9-9ccb-8f97b5f64f22",
   "metadata": {},
   "outputs": [
    {
     "name": "stdout",
     "output_type": "stream",
     "text": [
      "[[  2   4   6   8  10  12  14  16  18  20]\n",
      " [ 22  24  26  28  30  32  34  36  38  40]\n",
      " [ 42  44  46  48  50  52  54  56  58  60]\n",
      " [ 62  64  66  68  70  72  74  76  78  80]\n",
      " [ 82  84  86  88  90  92  94  96  98 100]]\n"
     ]
    }
   ],
   "source": [
    "print(np.arange(2,101,2).reshape(5,10))"
   ]
  },
  {
   "cell_type": "code",
   "execution_count": 74,
   "id": "e76935d0-89bd-4b11-83d7-a06e7d024cac",
   "metadata": {},
   "outputs": [
    {
     "data": {
      "text/plain": [
       "array([ 1,  2,  3,  4,  5,  6,  7,  8,  9, 10, 11, 12, 13, 14, 15, 16, 17,\n",
       "       18, 19, 20, 21, 22, 23, 24, 25, 26, 27, 28, 29, 30])"
      ]
     },
     "execution_count": 74,
     "metadata": {},
     "output_type": "execute_result"
    }
   ],
   "source": [
    "np.arange(1, 31)"
   ]
  },
  {
   "cell_type": "code",
   "execution_count": 75,
   "id": "0c3e5965-b842-422a-b0eb-4be967f993fe",
   "metadata": {},
   "outputs": [
    {
     "data": {
      "text/plain": [
       "(array([[ 1],\n",
       "        [ 2],\n",
       "        [ 3],\n",
       "        [ 4],\n",
       "        [ 5],\n",
       "        [ 6],\n",
       "        [ 7],\n",
       "        [ 8],\n",
       "        [ 9],\n",
       "        [10],\n",
       "        [11],\n",
       "        [12],\n",
       "        [13],\n",
       "        [14],\n",
       "        [15],\n",
       "        [16],\n",
       "        [17],\n",
       "        [18],\n",
       "        [19],\n",
       "        [20],\n",
       "        [21],\n",
       "        [22],\n",
       "        [23],\n",
       "        [24],\n",
       "        [25],\n",
       "        [26],\n",
       "        [27],\n",
       "        [28],\n",
       "        [29],\n",
       "        [30]]),\n",
       " 2,\n",
       " (30, 1))"
      ]
     },
     "execution_count": 75,
     "metadata": {},
     "output_type": "execute_result"
    }
   ],
   "source": [
    "# 2차원인데 1개 칼럼의 모형을 만들어보자\n",
    "# reshape(-1, n) : 2차원 n개의 컬럼으로 구성, -1을 넣으면 자동으로 사이즈를 맞춰준다.\n",
    "arr4 = np.arange(1, 31).reshape(-1, 1)\n",
    "arr4, arr4.ndim, arr4.shape"
   ]
  },
  {
   "cell_type": "code",
   "execution_count": 79,
   "id": "4e6faa96-f6fe-4f39-b6d4-4201dacc559a",
   "metadata": {},
   "outputs": [
    {
     "data": {
      "text/plain": [
       "array([[ 1,  2,  3,  4],\n",
       "       [ 5,  6,  7,  8],\n",
       "       [ 9, 10, 11, 12],\n",
       "       [13, 14, 15, 16],\n",
       "       [17, 18, 19, 20]])"
      ]
     },
     "execution_count": 79,
     "metadata": {},
     "output_type": "execute_result"
    }
   ],
   "source": [
    "# 4개 칼럼으로 배열 모형을 만들자\n",
    "np.arange(1, 21).reshape(5, 4)"
   ]
  },
  {
   "cell_type": "code",
   "execution_count": 80,
   "id": "3e8d53a1-5a97-4f17-88e9-a603e7af3743",
   "metadata": {},
   "outputs": [
    {
     "data": {
      "text/plain": [
       "array([[ 1,  2,  3,  4,  5],\n",
       "       [ 6,  7,  8,  9, 10],\n",
       "       [11, 12, 13, 14, 15],\n",
       "       [16, 17, 18, 19, 20]])"
      ]
     },
     "execution_count": 80,
     "metadata": {},
     "output_type": "execute_result"
    }
   ],
   "source": [
    "# 5개 칼럼으로 배열 모형을 만들자\n",
    "np.arange(1, 21).reshape(-1, 5)\n",
    "# rehsape -1은, 행무관하고 n개의 컬럼을 만든다"
   ]
  },
  {
   "cell_type": "code",
   "execution_count": 84,
   "id": "24bda6f6-3f79-43f2-8b06-6eb9b3599772",
   "metadata": {},
   "outputs": [
    {
     "data": {
      "text/plain": [
       "(array([ 0,  1,  2,  3,  4,  5,  6,  7,  8,  9, 10, 11]), (12,))"
      ]
     },
     "execution_count": 84,
     "metadata": {},
     "output_type": "execute_result"
    }
   ],
   "source": [
    "a = np.arange(12)\n",
    "a, a.shape"
   ]
  },
  {
   "cell_type": "code",
   "execution_count": 85,
   "id": "56c13867-101f-45e2-9d7c-b7a031921089",
   "metadata": {},
   "outputs": [
    {
     "data": {
      "text/plain": [
       "(array([[ 0,  1,  2,  3,  4,  5],\n",
       "        [ 6,  7,  8,  9, 10, 11]]),\n",
       " (2, 6))"
      ]
     },
     "execution_count": 85,
     "metadata": {},
     "output_type": "execute_result"
    }
   ],
   "source": [
    "# 원본 값이 바뀜\n",
    "a.shape = 2, -1\n",
    "a, a.shape"
   ]
  },
  {
   "cell_type": "markdown",
   "id": "9fd8116c-1596-4e8b-af18-1cbc0c8bcd86",
   "metadata": {},
   "source": [
    "## 넘파이배열의 자료형 형변환\n",
    "```\n",
    "배열명2 = 배열명1.astype(자료형)\n",
    "자료형 = np.float64, np.int32\n",
    "```"
   ]
  },
  {
   "cell_type": "code",
   "execution_count": 88,
   "id": "3bad5a26-4ba4-4c17-a1de-018a5cfa088c",
   "metadata": {},
   "outputs": [
    {
     "data": {
      "text/plain": [
       "(array([1, 2, 3, 4, 5, 6, 7, 8, 9]), dtype('int32'))"
      ]
     },
     "execution_count": 88,
     "metadata": {},
     "output_type": "execute_result"
    }
   ],
   "source": [
    "matrix1 = np.arange(1, 10)\n",
    "matrix1, matrix1.dtype"
   ]
  },
  {
   "cell_type": "code",
   "execution_count": 89,
   "id": "bf86d15d-120b-4f17-a1a3-8dac50734b8e",
   "metadata": {},
   "outputs": [
    {
     "data": {
      "text/plain": [
       "(array([[1, 2, 3],\n",
       "        [4, 5, 6],\n",
       "        [7, 8, 9]]),\n",
       " dtype('int32'))"
      ]
     },
     "execution_count": 89,
     "metadata": {},
     "output_type": "execute_result"
    }
   ],
   "source": [
    "# 정수형, 3행 3열\n",
    "matrix = np.arange(1, 10).reshape(3,3)\n",
    "matrix, matrix.dtype"
   ]
  },
  {
   "cell_type": "code",
   "execution_count": 90,
   "id": "a9e4ae36-227c-4323-a0e7-dbdc374da9b6",
   "metadata": {},
   "outputs": [
    {
     "data": {
      "text/plain": [
       "(array([[1., 2., 3.],\n",
       "        [4., 5., 6.],\n",
       "        [7., 8., 9.]]),\n",
       " dtype('float64'))"
      ]
     },
     "execution_count": 90,
     "metadata": {},
     "output_type": "execute_result"
    }
   ],
   "source": [
    "# 실수형, 3행 3열\n",
    "matrix = np.arange(1, 10, dtype=float).reshape(3,3)\n",
    "matrix, matrix.dtype"
   ]
  },
  {
   "cell_type": "code",
   "execution_count": 91,
   "id": "f312b74b-2a87-48e2-aac6-1098d8b4a278",
   "metadata": {},
   "outputs": [
    {
     "ename": "TypeError",
     "evalue": "arange() not supported for inputs with DType <class 'numpy.dtypes.StrDType'>.",
     "output_type": "error",
     "traceback": [
      "\u001b[1;31m---------------------------------------------------------------------------\u001b[0m",
      "\u001b[1;31mTypeError\u001b[0m                                 Traceback (most recent call last)",
      "Cell \u001b[1;32mIn[91], line 2\u001b[0m\n\u001b[0;32m      1\u001b[0m \u001b[38;5;66;03m# 문자열형, 3행 3열 -> 불가\u001b[39;00m\n\u001b[1;32m----> 2\u001b[0m matrix \u001b[38;5;241m=\u001b[39m np\u001b[38;5;241m.\u001b[39marange(\u001b[38;5;241m1\u001b[39m, \u001b[38;5;241m10\u001b[39m, dtype\u001b[38;5;241m=\u001b[39m\u001b[38;5;124m'\u001b[39m\u001b[38;5;124mstr\u001b[39m\u001b[38;5;124m'\u001b[39m)\u001b[38;5;241m.\u001b[39mreshape(\u001b[38;5;241m3\u001b[39m,\u001b[38;5;241m3\u001b[39m)\n\u001b[0;32m      3\u001b[0m matrix, matrix\u001b[38;5;241m.\u001b[39mdtype\n",
      "\u001b[1;31mTypeError\u001b[0m: arange() not supported for inputs with DType <class 'numpy.dtypes.StrDType'>."
     ]
    }
   ],
   "source": [
    "# 문자열형, 3행 3열 -> 불가\n",
    "matrix = np.arange(1, 10, dtype='str').reshape(3,3)\n",
    "matrix, matrix.dtype"
   ]
  },
  {
   "cell_type": "code",
   "execution_count": 92,
   "id": "18593cad-d2d4-4386-8a9a-118838d0d653",
   "metadata": {},
   "outputs": [
    {
     "data": {
      "text/plain": [
       "array([['1.0', '2.0', '3.0'],\n",
       "       ['4.0', '5.0', '6.0'],\n",
       "       ['7.0', '8.0', '9.0']], dtype='<U5')"
      ]
     },
     "execution_count": 92,
     "metadata": {},
     "output_type": "execute_result"
    }
   ],
   "source": [
    "# 정수형 => 문자열\n",
    "matrix.astype('<U5')"
   ]
  },
  {
   "cell_type": "code",
   "execution_count": 93,
   "id": "c03cde3b-2547-4bff-869e-9a5d0e42ceff",
   "metadata": {},
   "outputs": [
    {
     "data": {
      "text/plain": [
       "(array([ True, False,  True,  True]), dtype('bool'))"
      ]
     },
     "execution_count": 93,
     "metadata": {},
     "output_type": "execute_result"
    }
   ],
   "source": [
    "# 논리형으로 구성된 넘파이 배열 생성\n",
    "matrix2 = np.array([True, False, True, True])\n",
    "matrix2, matrix2.dtype"
   ]
  },
  {
   "cell_type": "code",
   "execution_count": 94,
   "id": "76880b8b-fe4a-4a67-abc5-7ece330c5d97",
   "metadata": {},
   "outputs": [
    {
     "data": {
      "text/plain": [
       "array(['True', 'False', 'True', 'True'], dtype='<U5')"
      ]
     },
     "execution_count": 94,
     "metadata": {},
     "output_type": "execute_result"
    }
   ],
   "source": [
    "# 불린형 -> 문자열\n",
    "matrix2.astype('<U5')"
   ]
  },
  {
   "cell_type": "code",
   "execution_count": 95,
   "id": "f29bdc0c-ad08-4e5d-ab03-5ee3ab0830dc",
   "metadata": {},
   "outputs": [
    {
     "data": {
      "text/plain": [
       "(array(['3.14', '5.5', '0.78'], dtype='<U4'), dtype('<U4'))"
      ]
     },
     "execution_count": 95,
     "metadata": {},
     "output_type": "execute_result"
    }
   ],
   "source": [
    "# 문자열 숫자 => 정수 , 실수\n",
    "matrix3 = np.array(['3.14', '5.5', '0.78'])\n",
    "matrix3, matrix3.dtype"
   ]
  },
  {
   "cell_type": "markdown",
   "id": "44c187f5-f76a-41d8-8346-f1d969742b26",
   "metadata": {},
   "source": [
    "## 넘파이 배열의 인덱싱\n",
    "넘파이배열[index] 넘파이배열[i, j], 넘파이배열[i][j] : i행 j 열\n",
    "\n",
    "1D array"
   ]
  },
  {
   "cell_type": "code",
   "execution_count": 98,
   "id": "13fdc4c8-b608-49f9-bac7-ed3e3d59888f",
   "metadata": {},
   "outputs": [
    {
     "data": {
      "text/plain": [
       "(array([1, 3, 5, 7, 9]), 1, (5,), 5)"
      ]
     },
     "execution_count": 98,
     "metadata": {},
     "output_type": "execute_result"
    }
   ],
   "source": [
    "a = np.array([1, 3, 5, 7, 9])\n",
    "a, a.ndim, a.shape, a.size"
   ]
  },
  {
   "cell_type": "code",
   "execution_count": 99,
   "id": "f86a61f7-b2ed-4ee9-bbd5-2eb58ee6d9e3",
   "metadata": {},
   "outputs": [
    {
     "data": {
      "text/plain": [
       "array([1, 5, 9])"
      ]
     },
     "execution_count": 99,
     "metadata": {},
     "output_type": "execute_result"
    }
   ],
   "source": [
    "a[[0, 2, 4]]"
   ]
  },
  {
   "cell_type": "code",
   "execution_count": 100,
   "id": "71daced1-ac89-4944-8dad-632dbe53adf7",
   "metadata": {},
   "outputs": [
    {
     "data": {
      "text/plain": [
       "array([[1, 3],\n",
       "       [4, 2]])"
      ]
     },
     "execution_count": 100,
     "metadata": {},
     "output_type": "execute_result"
    }
   ],
   "source": [
    "# 행렬 구조로 인덱싱도 가능하다\n",
    "b = np.array( [[1,3], [4,2]] )\n",
    "b"
   ]
  },
  {
   "cell_type": "code",
   "execution_count": 101,
   "id": "2f5bc510-bb94-49f5-98a9-42d76ba6cdae",
   "metadata": {},
   "outputs": [
    {
     "data": {
      "text/plain": [
       "array([[3, 7],\n",
       "       [9, 5]])"
      ]
     },
     "execution_count": 101,
     "metadata": {},
     "output_type": "execute_result"
    }
   ],
   "source": [
    "# 넘파이배열1을 넘파이배열2로 인덱싱하는 경우. 넘파이배열2는 인덱스 번호로 인식\n",
    "a[b]"
   ]
  },
  {
   "cell_type": "code",
   "execution_count": 102,
   "id": "13545255-0763-473e-9fa0-1806d5ec2773",
   "metadata": {},
   "outputs": [
    {
     "data": {
      "text/plain": [
       "array([1, 3, 0, 7, 9])"
      ]
     },
     "execution_count": 102,
     "metadata": {},
     "output_type": "execute_result"
    }
   ],
   "source": [
    "a[2] = 0\n",
    "a"
   ]
  },
  {
   "cell_type": "code",
   "execution_count": 103,
   "id": "f7d88068-a2f4-4fec-82fb-e35a19ed3f4c",
   "metadata": {},
   "outputs": [
    {
     "data": {
      "text/plain": [
       "array([1, 5, 0, 7, 9])"
      ]
     },
     "execution_count": 103,
     "metadata": {},
     "output_type": "execute_result"
    }
   ],
   "source": [
    "a[1] += 2\n",
    "a"
   ]
  },
  {
   "cell_type": "code",
   "execution_count": 104,
   "id": "10cd1d98-a86e-4390-877a-fdbe5d98926c",
   "metadata": {},
   "outputs": [
    {
     "data": {
      "text/plain": [
       "array([6, 5, 0, 7, 9])"
      ]
     },
     "execution_count": 104,
     "metadata": {},
     "output_type": "execute_result"
    }
   ],
   "source": [
    "a[0] *= 6\n",
    "a"
   ]
  },
  {
   "cell_type": "markdown",
   "id": "fe195a58-6f2d-4e4c-86f1-1a97ab7a05fe",
   "metadata": {},
   "source": [
    "## 2D array"
   ]
  },
  {
   "cell_type": "code",
   "execution_count": 107,
   "id": "48030735-381d-46a8-a136-7a2f716ff7e7",
   "metadata": {},
   "outputs": [
    {
     "data": {
      "text/plain": [
       "(array([[ 0,  1,  2,  3,  4],\n",
       "        [ 5,  6,  7,  8,  9],\n",
       "        [10, 11, 12, 13, 14]]),\n",
       " 2,\n",
       " (3, 5),\n",
       " 15)"
      ]
     },
     "execution_count": 107,
     "metadata": {},
     "output_type": "execute_result"
    }
   ],
   "source": [
    "a = np.arange(15).reshape(3, 5)\n",
    "a, a.ndim, a.shape, a.size"
   ]
  },
  {
   "cell_type": "code",
   "execution_count": 108,
   "id": "5ddc519d-d5d5-4ac9-95d9-3e1778d8600e",
   "metadata": {},
   "outputs": [
    {
     "data": {
      "text/plain": [
       "array([0, 1, 2, 3, 4])"
      ]
     },
     "execution_count": 108,
     "metadata": {},
     "output_type": "execute_result"
    }
   ],
   "source": [
    "# 2차원 인덱싱할 때, 값을 하나면 넣으면 행인덱싱\n",
    "a[0]"
   ]
  },
  {
   "cell_type": "code",
   "execution_count": 109,
   "id": "f85f729f-0822-4126-a0d6-9f4a99411816",
   "metadata": {},
   "outputs": [
    {
     "data": {
      "text/plain": [
       "array([10, 11, 12, 13, 14])"
      ]
     },
     "execution_count": 109,
     "metadata": {},
     "output_type": "execute_result"
    }
   ],
   "source": [
    "a[-1]"
   ]
  },
  {
   "cell_type": "code",
   "execution_count": 110,
   "id": "03c2a8a7-1ef7-42a1-bf34-1a7318d70084",
   "metadata": {},
   "outputs": [
    {
     "data": {
      "text/plain": [
       "8"
      ]
     },
     "execution_count": 110,
     "metadata": {},
     "output_type": "execute_result"
    }
   ],
   "source": [
    "a[1, 3]"
   ]
  },
  {
   "cell_type": "code",
   "execution_count": 111,
   "id": "d5ae3a2f-f2e2-483c-b4e8-d0449531fdd2",
   "metadata": {},
   "outputs": [
    {
     "data": {
      "text/plain": [
       "14"
      ]
     },
     "execution_count": 111,
     "metadata": {},
     "output_type": "execute_result"
    }
   ],
   "source": [
    "a[2, 4]"
   ]
  },
  {
   "cell_type": "code",
   "execution_count": 112,
   "id": "ee3fb9f9-8980-4e5b-8fb0-cb0821225dd4",
   "metadata": {},
   "outputs": [
    {
     "data": {
      "text/plain": [
       "14"
      ]
     },
     "execution_count": 112,
     "metadata": {},
     "output_type": "execute_result"
    }
   ],
   "source": [
    "a[-1, -1]"
   ]
  },
  {
   "cell_type": "code",
   "execution_count": 113,
   "id": "d637d8a3-188e-4982-b645-ab67f26b89e9",
   "metadata": {},
   "outputs": [
    {
     "data": {
      "text/plain": [
       "array([[ 0,  1,  2,  3,  4],\n",
       "       [ 1,  3,  5,  7,  9],\n",
       "       [10, 11, 12, 13, 14]])"
      ]
     },
     "execution_count": 113,
     "metadata": {},
     "output_type": "execute_result"
    }
   ],
   "source": [
    "a[1] = [1, 3, 5, 7, 9]\n",
    "a"
   ]
  },
  {
   "cell_type": "code",
   "execution_count": 114,
   "id": "0c99d627-ed85-4914-bdbc-d07b826b7065",
   "metadata": {},
   "outputs": [
    {
     "data": {
      "text/plain": [
       "array([[ 1,  3,  5,  7,  9],\n",
       "       [ 1,  3,  5,  7,  9],\n",
       "       [10, 11, 12, 13, 14]])"
      ]
     },
     "execution_count": 114,
     "metadata": {},
     "output_type": "execute_result"
    }
   ],
   "source": [
    "a[0] += [1, 2, 3, 4, 5]\n",
    "a"
   ]
  },
  {
   "cell_type": "markdown",
   "id": "db0b54a3-0dd3-46bf-b7d6-4929db464749",
   "metadata": {},
   "source": [
    "## 넘파이배열 슬라이싱\n",
    "```\n",
    "1차원\n",
    "넘파이배열[:end]\n",
    "넘파이배열[start:]\n",
    "넘파이배열[start:end]\n",
    "넘파이배열[start:end:step]\n",
    "\n",
    "2차원\n",
    "\n",
    "넘파이배열[행, 열] = [start:end:step, start2:end2:step2]```"
   ]
  },
  {
   "cell_type": "markdown",
   "id": "a56dc185-4e67-4fc1-aec3-79d66d7461f8",
   "metadata": {},
   "source": [
    "### 1D array"
   ]
  },
  {
   "cell_type": "code",
   "execution_count": 119,
   "id": "83103a5d-dbff-4026-9a8f-c49f66f98dd4",
   "metadata": {},
   "outputs": [
    {
     "data": {
      "text/plain": [
       "(array([1, 3, 5, 7, 9]), 1, (5,), 5)"
      ]
     },
     "execution_count": 119,
     "metadata": {},
     "output_type": "execute_result"
    }
   ],
   "source": [
    "a = np.array([1, 3, 5, 7, 9])\n",
    "a, a.ndim, a.shape, a.size"
   ]
  },
  {
   "cell_type": "code",
   "execution_count": 120,
   "id": "efd31956-b2a1-448e-b959-547678b14fb1",
   "metadata": {},
   "outputs": [
    {
     "data": {
      "text/plain": [
       "array([1, 3, 5, 7, 9])"
      ]
     },
     "execution_count": 120,
     "metadata": {},
     "output_type": "execute_result"
    }
   ],
   "source": [
    "a[:]"
   ]
  },
  {
   "cell_type": "code",
   "execution_count": 121,
   "id": "24342440-059d-4c7e-971c-e2477313f1a9",
   "metadata": {},
   "outputs": [
    {
     "data": {
      "text/plain": [
       "array([1, 3, 5])"
      ]
     },
     "execution_count": 121,
     "metadata": {},
     "output_type": "execute_result"
    }
   ],
   "source": [
    "a[:3]"
   ]
  },
  {
   "cell_type": "code",
   "execution_count": 122,
   "id": "0222cd68-85aa-4f0d-8dab-fca560b663bb",
   "metadata": {},
   "outputs": [
    {
     "data": {
      "text/plain": [
       "array([0, 1, 2, 3, 4, 5, 6, 7, 8, 9])"
      ]
     },
     "execution_count": 122,
     "metadata": {},
     "output_type": "execute_result"
    }
   ],
   "source": [
    "a = np.arange(10)\n",
    "a"
   ]
  },
  {
   "cell_type": "code",
   "execution_count": 123,
   "id": "0d5b95b4-9f00-4214-9c78-a85280f482e5",
   "metadata": {},
   "outputs": [
    {
     "data": {
      "text/plain": [
       "array([1, 3, 5, 7, 9])"
      ]
     },
     "execution_count": 123,
     "metadata": {},
     "output_type": "execute_result"
    }
   ],
   "source": [
    "# 홀수\n",
    "a[1::2]"
   ]
  },
  {
   "cell_type": "code",
   "execution_count": 124,
   "id": "4930157a-948b-4c16-95d3-c2ba9745dd1a",
   "metadata": {},
   "outputs": [
    {
     "data": {
      "text/plain": [
       "array([9, 8, 7, 6, 5, 4, 3, 2, 1, 0])"
      ]
     },
     "execution_count": 124,
     "metadata": {},
     "output_type": "execute_result"
    }
   ],
   "source": [
    "# 홀수\n",
    "a[::-1]"
   ]
  },
  {
   "cell_type": "markdown",
   "id": "608017de-dd90-476e-89f1-563bc0820dc6",
   "metadata": {},
   "source": [
    "### 2D array"
   ]
  },
  {
   "cell_type": "code",
   "execution_count": 3,
   "id": "d180b5cf-dc64-408c-b39f-92f4ef08c746",
   "metadata": {},
   "outputs": [
    {
     "data": {
      "text/plain": [
       "(array([[10, 11, 12, 13, 14],\n",
       "        [15, 16, 17, 18, 19],\n",
       "        [20, 21, 22, 23, 24]]),\n",
       " 2,\n",
       " (3, 5),\n",
       " 15)"
      ]
     },
     "execution_count": 3,
     "metadata": {},
     "output_type": "execute_result"
    }
   ],
   "source": [
    "a = np.arange(10, 25).reshape(3, 5)\n",
    "a, a.ndim, a.shape, a.size"
   ]
  },
  {
   "cell_type": "code",
   "execution_count": 130,
   "id": "bd0d34c5-0d2d-4f6e-83c2-287cf85a49f2",
   "metadata": {},
   "outputs": [
    {
     "data": {
      "text/plain": [
       "array([[15, 16, 17, 18, 19],\n",
       "       [20, 21, 22, 23, 24]])"
      ]
     },
     "execution_count": 130,
     "metadata": {},
     "output_type": "execute_result"
    }
   ],
   "source": [
    "a[1:]"
   ]
  },
  {
   "cell_type": "code",
   "execution_count": 131,
   "id": "c82447a2-63d4-4a2d-aa46-ec06f541a08c",
   "metadata": {},
   "outputs": [
    {
     "data": {
      "text/plain": [
       "array([[15, 16, 17, 18, 19]])"
      ]
     },
     "execution_count": 131,
     "metadata": {},
     "output_type": "execute_result"
    }
   ],
   "source": [
    "a[1:-1]"
   ]
  },
  {
   "cell_type": "code",
   "execution_count": 132,
   "id": "c6389fa0-d628-45b2-a17b-8f5b72420e00",
   "metadata": {},
   "outputs": [
    {
     "data": {
      "text/plain": [
       "array([[10, 11, 12, 13, 14],\n",
       "       [15, 16, 17, 18, 19],\n",
       "       [20, 21, 22, 23, 24]])"
      ]
     },
     "execution_count": 132,
     "metadata": {},
     "output_type": "execute_result"
    }
   ],
   "source": [
    "a[:, :] # 행의 범위, 열의 범위"
   ]
  },
  {
   "cell_type": "code",
   "execution_count": 133,
   "id": "50b65d4d-1a53-415c-a42d-2fba8f317f08",
   "metadata": {},
   "outputs": [
    {
     "data": {
      "text/plain": [
       "array([[11, 12, 13, 14],\n",
       "       [16, 17, 18, 19],\n",
       "       [21, 22, 23, 24]])"
      ]
     },
     "execution_count": 133,
     "metadata": {},
     "output_type": "execute_result"
    }
   ],
   "source": [
    "a[:, 1:] # 행의 범위, 열의 범위"
   ]
  },
  {
   "cell_type": "code",
   "execution_count": 134,
   "id": "6286c9a3-5b6c-4bc1-b7c2-ded95790bda2",
   "metadata": {},
   "outputs": [
    {
     "data": {
      "text/plain": [
       "array([[14],\n",
       "       [19],\n",
       "       [24]])"
      ]
     },
     "execution_count": 134,
     "metadata": {},
     "output_type": "execute_result"
    }
   ],
   "source": [
    "a[:, -1:]"
   ]
  },
  {
   "cell_type": "code",
   "execution_count": 135,
   "id": "087afc28-0c8b-4f02-be0f-547570241476",
   "metadata": {},
   "outputs": [
    {
     "data": {
      "text/plain": [
       "array([[17],\n",
       "       [22]])"
      ]
     },
     "execution_count": 135,
     "metadata": {},
     "output_type": "execute_result"
    }
   ],
   "source": [
    "a[1:, 2:3]"
   ]
  },
  {
   "cell_type": "code",
   "execution_count": 136,
   "id": "2dfe2dad-9419-4aba-b026-95a3732f156e",
   "metadata": {},
   "outputs": [
    {
     "data": {
      "text/plain": [
       "array([[11, 12, 13],\n",
       "       [16, 17, 18]])"
      ]
     },
     "execution_count": 136,
     "metadata": {},
     "output_type": "execute_result"
    }
   ],
   "source": [
    "a[:-1, 1:-1]"
   ]
  },
  {
   "cell_type": "code",
   "execution_count": 137,
   "id": "2950b463-8445-439c-9ad0-78be6d08971d",
   "metadata": {},
   "outputs": [
    {
     "data": {
      "text/plain": [
       "17"
      ]
     },
     "execution_count": 137,
     "metadata": {},
     "output_type": "execute_result"
    }
   ],
   "source": [
    "a[1][2]"
   ]
  },
  {
   "cell_type": "code",
   "execution_count": 1,
   "id": "8e698f7c-9604-4927-8e6b-966013ee6352",
   "metadata": {},
   "outputs": [],
   "source": [
    "import numpy as np"
   ]
  },
  {
   "cell_type": "code",
   "execution_count": 4,
   "id": "809898a8-c56a-439b-97c2-15326086c694",
   "metadata": {},
   "outputs": [
    {
     "data": {
      "text/plain": [
       "array([[20, 21, 22, 23, 24],\n",
       "       [15, 16, 17, 18, 19],\n",
       "       [10, 11, 12, 13, 14]])"
      ]
     },
     "execution_count": 4,
     "metadata": {},
     "output_type": "execute_result"
    }
   ],
   "source": [
    "# 행 뒤집기 \n",
    "a[::-1,::]"
   ]
  },
  {
   "cell_type": "code",
   "execution_count": 5,
   "id": "e34620a0-8783-4499-8c36-86a05c45beb2",
   "metadata": {},
   "outputs": [
    {
     "data": {
      "text/plain": [
       "array([[14, 13, 12, 11, 10],\n",
       "       [19, 18, 17, 16, 15],\n",
       "       [24, 23, 22, 21, 20]])"
      ]
     },
     "execution_count": 5,
     "metadata": {},
     "output_type": "execute_result"
    }
   ],
   "source": [
    "a[:,::-1]"
   ]
  },
  {
   "cell_type": "markdown",
   "id": "7e12b35e-854e-4349-a9e5-0b27e73be0d9",
   "metadata": {},
   "source": [
    "## 전치행렬"
   ]
  },
  {
   "cell_type": "code",
   "execution_count": 8,
   "id": "5ee0ad3e-39cf-4cb4-b6a5-c0979e03d254",
   "metadata": {},
   "outputs": [
    {
     "data": {
      "text/plain": [
       "array([[1, 2],\n",
       "       [3, 4],\n",
       "       [5, 6]])"
      ]
     },
     "execution_count": 8,
     "metadata": {},
     "output_type": "execute_result"
    }
   ],
   "source": [
    "# 3행 2열\n",
    "matrix_d = np.arange(1,7).reshape(3,2)\n",
    "matrix_d"
   ]
  },
  {
   "cell_type": "code",
   "execution_count": 9,
   "id": "2b9725f8-d5dd-42a1-aa19-c5b151d05f2d",
   "metadata": {},
   "outputs": [
    {
     "name": "stdout",
     "output_type": "stream",
     "text": [
      "[[1 3 5]\n",
      " [2 4 6]]\n"
     ]
    }
   ],
   "source": [
    "# 2행 3열로 변환\n",
    "print(matrix_d.T)"
   ]
  },
  {
   "cell_type": "code",
   "execution_count": 10,
   "id": "e6d4c7e6-d38b-4bd5-9c0e-8bc811da2036",
   "metadata": {},
   "outputs": [
    {
     "name": "stdout",
     "output_type": "stream",
     "text": [
      "[[1 2 3]\n",
      " [4 5 6]]\n"
     ]
    }
   ],
   "source": [
    "# reshape과 transpose은 값이 다름을 유의\n",
    "print(matrix_d.reshape(2,3)) "
   ]
  },
  {
   "cell_type": "markdown",
   "id": "31fef1f2-8175-4792-98a8-44b17a0cb05a",
   "metadata": {},
   "source": [
    "## 난수로 구성된 넘파이 배열\n",
    "```\n",
    "np.random.randint(start, end, n) : 정수 난수\n",
    "np.random.randint(start, end, (i, j))\n",
    "```"
   ]
  },
  {
   "cell_type": "code",
   "execution_count": 13,
   "id": "586ee116-3ff0-4873-ba9a-175c5c2532b7",
   "metadata": {},
   "outputs": [
    {
     "data": {
      "text/plain": [
       "array([1, 7, 8, 9, 3, 5, 5, 5, 9, 1])"
      ]
     },
     "execution_count": 13,
     "metadata": {},
     "output_type": "execute_result"
    }
   ],
   "source": [
    "# 1~10 사이의 숫자중에서 10개 출력\n",
    "np.random.randint(1, 10, 10)"
   ]
  },
  {
   "cell_type": "code",
   "execution_count": 14,
   "id": "d4003917-4d77-4849-811f-de7e86d02036",
   "metadata": {},
   "outputs": [
    {
     "data": {
      "text/plain": [
       "array([18, 43,  2, 10, 39, 43])"
      ]
     },
     "execution_count": 14,
     "metadata": {},
     "output_type": "execute_result"
    }
   ],
   "source": [
    "# 1~10 사이의 숫자중에서 10개 출력\n",
    "np.random.randint(1, 49, 6)"
   ]
  },
  {
   "cell_type": "code",
   "execution_count": 17,
   "id": "0283430a-388b-4e15-80c8-444a28929786",
   "metadata": {},
   "outputs": [
    {
     "data": {
      "text/plain": [
       "array([[36, 35, 19, 28, 44, 39],\n",
       "       [ 9,  7, 32, 13,  6, 37],\n",
       "       [41, 45, 20,  1, 37, 16],\n",
       "       [29,  2, 40,  6, 11, 28],\n",
       "       [24, 18, 36, 19,  2,  2]])"
      ]
     },
     "execution_count": 17,
     "metadata": {},
     "output_type": "execute_result"
    }
   ],
   "source": [
    "# 1~10 사이의 숫자중에서 10개 출력\n",
    "np.random.randint(1, 46, (5,6))"
   ]
  },
  {
   "cell_type": "markdown",
   "id": "aa5cb5ab-7e53-4148-baf5-e92ecf0f99e5",
   "metadata": {},
   "source": [
    "## 집계함수에서의 축\n",
    "```\n",
    "2차원에서의 집계합수(sum, mean)\n",
    "axis = 0, 1\n",
    "np.sum(넘파이배열, axis=0/1)\n",
    "np.mean(넘파이배열, axis=0/1)\n",
    "np.sort(넘파이배열, axis=0/1)\n",
    "```"
   ]
  },
  {
   "cell_type": "code",
   "execution_count": 20,
   "id": "b0da3cd8-3aaf-499c-84f1-4b9a5d13a9ab",
   "metadata": {},
   "outputs": [
    {
     "data": {
      "text/plain": [
       "array([[31, 38, 49, 13, 44],\n",
       "       [36, 11, 40, 42, 12],\n",
       "       [36,  6, 12, 34, 17],\n",
       "       [34, 33, 18, 27, 17],\n",
       "       [42, 35, 29,  9, 33]])"
      ]
     },
     "execution_count": 20,
     "metadata": {},
     "output_type": "execute_result"
    }
   ],
   "source": [
    "m1 = np.random.randint(1, 50, (5,5))\n",
    "m1"
   ]
  },
  {
   "cell_type": "code",
   "execution_count": 21,
   "id": "2644696a-e23e-4ff6-8785-eb0f1fd12dfa",
   "metadata": {},
   "outputs": [
    {
     "data": {
      "text/plain": [
       "array([179, 123, 148, 125, 123])"
      ]
     },
     "execution_count": 21,
     "metadata": {},
     "output_type": "execute_result"
    }
   ],
   "source": [
    "np.sum(m1, axis=0) # (y)열 합계"
   ]
  },
  {
   "cell_type": "code",
   "execution_count": 22,
   "id": "fb72e2bd-b3aa-4a6d-8d09-d590f993c5ac",
   "metadata": {},
   "outputs": [
    {
     "data": {
      "text/plain": [
       "array([175, 141, 105, 129, 148])"
      ]
     },
     "execution_count": 22,
     "metadata": {},
     "output_type": "execute_result"
    }
   ],
   "source": [
    "np.sum(m1, axis=1) # (x)행 합계"
   ]
  },
  {
   "cell_type": "code",
   "execution_count": 23,
   "id": "69181761-9cff-44a4-9ad7-3641b29c9dbd",
   "metadata": {},
   "outputs": [
    {
     "data": {
      "text/plain": [
       "148"
      ]
     },
     "execution_count": 23,
     "metadata": {},
     "output_type": "execute_result"
    }
   ],
   "source": [
    "np.sum(m1[:,2], axis=0)"
   ]
  },
  {
   "cell_type": "markdown",
   "id": "c2bb8ed5-186d-4314-ab58-88b8293553a7",
   "metadata": {},
   "source": [
    "## np.sort()"
   ]
  },
  {
   "cell_type": "code",
   "execution_count": 25,
   "id": "32081a8a-b9e6-424f-8845-946fc184fc49",
   "metadata": {},
   "outputs": [],
   "source": [
    "import numpy as np"
   ]
  },
  {
   "cell_type": "code",
   "execution_count": 26,
   "id": "396e287c-0573-4984-a368-57920ad3aeba",
   "metadata": {},
   "outputs": [
    {
     "data": {
      "text/plain": [
       "array([[31, 32,  6],\n",
       "       [35, 10, 35],\n",
       "       [20, 36, 21],\n",
       "       [26, 31,  3]])"
      ]
     },
     "execution_count": 26,
     "metadata": {},
     "output_type": "execute_result"
    }
   ],
   "source": [
    "# 정수 난수로 구성된 4x3\n",
    "m2 = np.random.randint(1, 50,(4,3))\n",
    "m2"
   ]
  },
  {
   "cell_type": "code",
   "execution_count": 27,
   "id": "5b9f0dff-4944-4a10-9d26-0be8cef6f474",
   "metadata": {},
   "outputs": [
    {
     "data": {
      "text/plain": [
       "array([[ 6, 31, 32],\n",
       "       [10, 35, 35],\n",
       "       [20, 21, 36],\n",
       "       [ 3, 26, 31]])"
      ]
     },
     "execution_count": 27,
     "metadata": {},
     "output_type": "execute_result"
    }
   ],
   "source": [
    "np.sort(m2) # 행안에서 열정렬 # default axis = -1"
   ]
  },
  {
   "cell_type": "code",
   "execution_count": 28,
   "id": "2fd5dc5c-db3f-415c-8f02-53a88e7d750d",
   "metadata": {},
   "outputs": [
    {
     "data": {
      "text/plain": [
       "array([[20, 10,  3],\n",
       "       [26, 31,  6],\n",
       "       [31, 32, 21],\n",
       "       [35, 36, 35]])"
      ]
     },
     "execution_count": 28,
     "metadata": {},
     "output_type": "execute_result"
    }
   ],
   "source": [
    "np.sort(m2, axis=0) # 행방향 오름차순(요소별로)"
   ]
  },
  {
   "cell_type": "markdown",
   "id": "2b1f856a-8e9e-4551-afdf-7e7522fdb26c",
   "metadata": {},
   "source": [
    "## 인덱스 소팅\n",
    "```\n",
    "np.argsort(넘파이배열, axis=0,1)\n",
    "\n",
    "정렬값을 인덱스로 반환 (np.sort()를 인덱스로)\n",
    "```"
   ]
  },
  {
   "cell_type": "code",
   "execution_count": 30,
   "id": "9cf3b6bd-5ab7-4d2c-b134-a82cf67e9980",
   "metadata": {},
   "outputs": [
    {
     "data": {
      "text/plain": [
       "array([2, 1, 0], dtype=int64)"
      ]
     },
     "execution_count": 30,
     "metadata": {},
     "output_type": "execute_result"
    }
   ],
   "source": [
    "x = np.array([9,5,4])\n",
    "np.argsort(x) # 오름차순 정렬 4 5 9 의 인덱스 값 "
   ]
  },
  {
   "cell_type": "code",
   "execution_count": 31,
   "id": "0d709212-a9ea-49c6-a264-d99a70e54beb",
   "metadata": {},
   "outputs": [
    {
     "data": {
      "text/plain": [
       "array([4, 5, 9])"
      ]
     },
     "execution_count": 31,
     "metadata": {},
     "output_type": "execute_result"
    }
   ],
   "source": [
    "x[np.argsort(x)] # 인덱스값으로 실제 값 출력"
   ]
  },
  {
   "cell_type": "markdown",
   "id": "6762231f-6857-4f3e-903c-41e6d6eaab6f",
   "metadata": {},
   "source": [
    "## 넘파이 배열 요소 추가와 삭제\n",
    "```\n",
    "삽입\n",
    "\n",
    "np.insert(배열, 위치인덱스, 값, axis=0/1)\n",
    "2차원인 경우 axis를 설정하지 않으면 1차원 배열로 변경되어 삽입출력\n",
    "삭제\n",
    "\n",
    "np.delete(배열명, 위치인덱스, axis=0/1)\n",
    "```"
   ]
  },
  {
   "cell_type": "code",
   "execution_count": 33,
   "id": "ef7e41aa-d648-4713-bc76-2634d67d690f",
   "metadata": {},
   "outputs": [
    {
     "data": {
      "text/plain": [
       "array([ 1,  2,  3,  4,  5,  6,  7,  8,  9, 10])"
      ]
     },
     "execution_count": 33,
     "metadata": {},
     "output_type": "execute_result"
    }
   ],
   "source": [
    "m3 = np.arange(1,11)\n",
    "m3"
   ]
  },
  {
   "cell_type": "code",
   "execution_count": 34,
   "id": "1e232b2b-b9b1-409f-a53c-0126e7027651",
   "metadata": {},
   "outputs": [
    {
     "data": {
      "text/plain": [
       "array([[1, 2, 3],\n",
       "       [4, 5, 6],\n",
       "       [7, 8, 9]])"
      ]
     },
     "execution_count": 34,
     "metadata": {},
     "output_type": "execute_result"
    }
   ],
   "source": [
    "m4 = np.arange(1,10).reshape(3,3)\n",
    "m4"
   ]
  },
  {
   "cell_type": "code",
   "execution_count": 35,
   "id": "c4248c19-6749-4b23-b019-8c1a41b7eeb5",
   "metadata": {},
   "outputs": [
    {
     "data": {
      "text/plain": [
       "array([[100,   1,   2,   3],\n",
       "       [100,   4,   5,   6],\n",
       "       [100,   7,   8,   9]])"
      ]
     },
     "execution_count": 35,
     "metadata": {},
     "output_type": "execute_result"
    }
   ],
   "source": [
    "# 1열으로 [100,100,100] 삽입\n",
    "np.insert(m4, 0, 100, axis=1)"
   ]
  },
  {
   "cell_type": "markdown",
   "id": "855af0cc-8038-43fb-8b1a-5610b069f930",
   "metadata": {},
   "source": [
    "## 배열 합치기\n",
    "```\n",
    "np.vstack((배열1,배열2....)) : 세로 합치기\n",
    "np.hstack((배열1,배열2....)) : 가로 합치기\n",
    "np.concatenate((배열1, 배열2), axis=0/1 ) 2차원만 가능\n",
    "```"
   ]
  },
  {
   "cell_type": "markdown",
   "id": "0c28e2f4-0b6f-46cd-a8af-057076dad98f",
   "metadata": {},
   "source": [
    "## boolean indexing, mask\n",
    "```\n",
    "조건절의 결과는 True, False로 반환\n",
    "True인 결과의 데이터 반환\n",
    "넘파이배열[조건절] : ==, !=, <=, >=, &, |, ~\n",
    "```"
   ]
  },
  {
   "cell_type": "code",
   "execution_count": 39,
   "id": "bf1a1a9d-3ffa-4da1-8b49-d4086d0a3cc7",
   "metadata": {},
   "outputs": [
    {
     "data": {
      "text/plain": [
       "array([ 1,  2,  3,  4,  5,  6,  7,  8,  9, 10, 11, 12, 13, 14, 15, 16, 17,\n",
       "       18, 19, 20])"
      ]
     },
     "execution_count": 39,
     "metadata": {},
     "output_type": "execute_result"
    }
   ],
   "source": [
    "matrix = np.arange(1, 21)\n",
    "matrix"
   ]
  },
  {
   "cell_type": "code",
   "execution_count": 40,
   "id": "2ea757a4-393d-4844-b336-3c362b86cc08",
   "metadata": {},
   "outputs": [
    {
     "data": {
      "text/plain": [
       "array([False, False, False, False, False, False, False, False, False,\n",
       "       False,  True,  True,  True,  True,  True,  True,  True,  True,\n",
       "        True,  True])"
      ]
     },
     "execution_count": 40,
     "metadata": {},
     "output_type": "execute_result"
    }
   ],
   "source": [
    "matrix > 10"
   ]
  },
  {
   "cell_type": "code",
   "execution_count": 41,
   "id": "35caa1f1-0079-4814-b7fc-514738a46bf4",
   "metadata": {},
   "outputs": [
    {
     "data": {
      "text/plain": [
       "array([11, 12, 13, 14, 15, 16, 17, 18, 19, 20])"
      ]
     },
     "execution_count": 41,
     "metadata": {},
     "output_type": "execute_result"
    }
   ],
   "source": [
    "matrix[matrix > 10]"
   ]
  },
  {
   "cell_type": "markdown",
   "id": "f4d3cb33-a853-4fac-ae1c-b7deffdbf9b1",
   "metadata": {},
   "source": [
    "## Quiz : 1~100사이 난수 30개를 추출하여 넘파이 배열을 생성하고, 30보다 크거나 70보다 작은 수를 출력하라"
   ]
  },
  {
   "cell_type": "code",
   "execution_count": 45,
   "id": "f64f6683-02bf-42aa-a9e2-85f59361d181",
   "metadata": {},
   "outputs": [
    {
     "data": {
      "text/plain": [
       "array([62, 34, 58, 41, 51, 45, 67, 68, 52, 47, 61, 49])"
      ]
     },
     "execution_count": 45,
     "metadata": {},
     "output_type": "execute_result"
    }
   ],
   "source": [
    "num = np.random.randint(1, 100, 30)\n",
    "num[(num > 30) & (num < 70)]"
   ]
  },
  {
   "cell_type": "code",
   "execution_count": 46,
   "id": "2772b887-641a-4aca-ab2c-e109fb0ce5dc",
   "metadata": {},
   "outputs": [
    {
     "data": {
      "text/plain": [
       "array([ 1, 22,  1,  5, 15, 14, 11])"
      ]
     },
     "execution_count": 46,
     "metadata": {},
     "output_type": "execute_result"
    }
   ],
   "source": [
    "# ~ 은 reverse를 의미\n",
    "num[~(num > 30) & (num < 70)]"
   ]
  },
  {
   "cell_type": "markdown",
   "id": "0ff64347-7edc-44a9-a8e2-b82bf4b5452e",
   "metadata": {},
   "source": [
    "## fancy indexing(filtering)\n",
    "```\n",
    "넘파이 배열에 배열로 인덱싱하면 인덱스 번호로 인식한다.\n",
    "\n",
    "넘파이배열1[넘파이배열2]\n",
    "넘파이배열2 : 인덱스 역할 (only 정수형)\n",
    "```"
   ]
  },
  {
   "cell_type": "markdown",
   "id": "592cb4d8-dfd3-43aa-9843-728bad95971b",
   "metadata": {},
   "source": [
    "## np.where()를 이용한 필터링\n",
    "```\n",
    "np.where(조건식) : 조건식 만족하는 인덱스 반환\n",
    "np.where(조건식, T, F) : 조건식 만족하면 T값, 아니면F값\n",
    "배열[np.where(조건식)] : 조건식 만족하는 실제 배열값\n",
    "```"
   ]
  },
  {
   "cell_type": "code",
   "execution_count": 49,
   "id": "30ddf2af-cb37-4055-bcd3-bf639c0c95ee",
   "metadata": {},
   "outputs": [
    {
     "data": {
      "text/plain": [
       "(array([0, 1, 2, 3, 4, 5, 6, 7, 8, 9]),\n",
       " array([ 0,  1,  2,  3,  4, 50, 60, 70, 80, 90]))"
      ]
     },
     "execution_count": 49,
     "metadata": {},
     "output_type": "execute_result"
    }
   ],
   "source": [
    "a = np.arange(10)\n",
    "a, np.where(a < 5, a, 10*a)\n",
    "# a가 5보다 작으면 a를, 아니면 10을 곱하여 출력"
   ]
  },
  {
   "cell_type": "code",
   "execution_count": 50,
   "id": "6e6f37ec-3f66-4397-b6b2-10f81962f6ce",
   "metadata": {},
   "outputs": [
    {
     "data": {
      "text/plain": [
       "(array([20, 21, 22, 23, 24, 25, 26, 27, 28, 29, 30]),\n",
       " (array([0, 1, 2, 3, 4], dtype=int64),))"
      ]
     },
     "execution_count": 50,
     "metadata": {},
     "output_type": "execute_result"
    }
   ],
   "source": [
    "b = np.arange(20, 31)\n",
    "b, np.where(b<25) # 조건을 하나만 주면 인덱스를 반환함"
   ]
  },
  {
   "cell_type": "code",
   "execution_count": null,
   "id": "8cbdfe79-67f1-4ec2-b0ee-5cf7882067ee",
   "metadata": {},
   "outputs": [],
   "source": []
  },
  {
   "cell_type": "code",
   "execution_count": null,
   "id": "a32ed93b-1047-4b1c-a489-166323655242",
   "metadata": {},
   "outputs": [],
   "source": []
  },
  {
   "cell_type": "code",
   "execution_count": null,
   "id": "bbe1c8e1-ce29-427b-9cd9-3da8228c63f1",
   "metadata": {},
   "outputs": [],
   "source": []
  },
  {
   "cell_type": "code",
   "execution_count": null,
   "id": "a55a194e-a2a0-46ee-9c37-23a75e39711a",
   "metadata": {},
   "outputs": [],
   "source": []
  },
  {
   "cell_type": "code",
   "execution_count": null,
   "id": "d81a4de0-449b-4cf1-802d-77c3dedf00d8",
   "metadata": {},
   "outputs": [],
   "source": []
  },
  {
   "cell_type": "code",
   "execution_count": null,
   "id": "30fa812e-6a90-41e0-ad9b-9e90a6d373e1",
   "metadata": {},
   "outputs": [],
   "source": []
  },
  {
   "cell_type": "code",
   "execution_count": null,
   "id": "3f045dbf-e5e4-4fb8-9ae3-24f7cbdcdfa4",
   "metadata": {},
   "outputs": [],
   "source": []
  },
  {
   "cell_type": "code",
   "execution_count": null,
   "id": "36f93707-449c-4782-abbb-accd861c7892",
   "metadata": {},
   "outputs": [],
   "source": []
  }
 ],
 "metadata": {
  "kernelspec": {
   "display_name": "Python 3 (ipykernel)",
   "language": "python",
   "name": "python3"
  },
  "language_info": {
   "codemirror_mode": {
    "name": "ipython",
    "version": 3
   },
   "file_extension": ".py",
   "mimetype": "text/x-python",
   "name": "python",
   "nbconvert_exporter": "python",
   "pygments_lexer": "ipython3",
   "version": "3.11.7"
  }
 },
 "nbformat": 4,
 "nbformat_minor": 5
}
