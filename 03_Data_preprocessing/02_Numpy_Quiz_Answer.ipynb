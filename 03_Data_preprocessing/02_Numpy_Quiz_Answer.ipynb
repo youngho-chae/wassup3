{
 "cells": [
  {
   "cell_type": "markdown",
   "id": "6f17d151",
   "metadata": {},
   "source": [
    "### Quiz"
   ]
  },
  {
   "cell_type": "markdown",
   "id": "822f98fc",
   "metadata": {},
   "source": [
    "#### Q1. 다음과 같은 리스트를 이용하여 넘파이 배열을 만들고\n",
    "전체 갯수, 차원, 데이터형, 구조를 출력하여라\n",
    "```\n",
    "\n",
    "['강아지', '원숭이', '꽃', '45', '100']\n",
    "\n",
    "array(['강아지', '원숭이', '꽃', '45', '100'], dtype='<U3')\n",
    "차원 ? 1\n",
    "전체 갯수 ? 5\n",
    "데이터형 ? <U3\n",
    "전체 구조  ? (5,)\n",
    "```"
   ]
  },
  {
   "cell_type": "code",
   "execution_count": 1,
   "id": "fa9724da-5f6b-416b-881a-15674a1cfc99",
   "metadata": {},
   "outputs": [],
   "source": [
    "import numpy as np"
   ]
  },
  {
   "cell_type": "code",
   "execution_count": 4,
   "id": "ab563d5b",
   "metadata": {
    "ExecuteTime": {
     "end_time": "2023-10-31T17:28:18.247075Z",
     "start_time": "2023-10-31T17:28:18.238754Z"
    }
   },
   "outputs": [
    {
     "data": {
      "text/plain": [
       "(array(['강아지', '원숭이', '꽃', '45', '100'], dtype='<U11'),\n",
       " 1,\n",
       " 5,\n",
       " numpy.ndarray,\n",
       " dtype('<U11'),\n",
       " (5,))"
      ]
     },
     "execution_count": 4,
     "metadata": {},
     "output_type": "execute_result"
    }
   ],
   "source": [
    "a = np.array(['강아지', '원숭이', '꽃', 45, 100])\n",
    "a, a.ndim, a.size, type(a), a.dtype, a.shape"
   ]
  },
  {
   "cell_type": "markdown",
   "id": "e1cef698",
   "metadata": {},
   "source": [
    "#### Q2. np.ones()를 이용하여\n",
    "2행 3열의 넘파이 배열을 생성하여라\n",
    "\n",
    "array([[1., 1., 1.],\n",
    "       [1., 1., 1.]])"
   ]
  },
  {
   "cell_type": "code",
   "execution_count": 6,
   "id": "5f257ecc",
   "metadata": {
    "ExecuteTime": {
     "end_time": "2021-11-23T08:50:18.403707Z",
     "start_time": "2021-11-23T08:50:18.398720Z"
    }
   },
   "outputs": [
    {
     "data": {
      "text/plain": [
       "array([[1., 1., 1.],\n",
       "       [1., 1., 1.]])"
      ]
     },
     "execution_count": 6,
     "metadata": {},
     "output_type": "execute_result"
    }
   ],
   "source": [
    "np.ones( (2, 3) )"
   ]
  },
  {
   "cell_type": "markdown",
   "id": "42c9b79e",
   "metadata": {},
   "source": [
    "#### Q3. np.arange(), np.reshape()를 이용하여\n",
    "다음과 같은 넘파이 배열을 생성하여라\n",
    "array([[51, 52, 53, 54, 55],\n",
    "       [56, 57, 58, 59, 60],\n",
    "       [61, 62, 63, 64, 65],\n",
    "       [66, 67, 68, 69, 70],\n",
    "       [71, 72, 73, 74, 75],\n",
    "       [76, 77, 78, 79, 80]])"
   ]
  },
  {
   "cell_type": "code",
   "execution_count": 8,
   "id": "c47e134f",
   "metadata": {
    "ExecuteTime": {
     "end_time": "2021-11-24T00:25:00.549649Z",
     "start_time": "2021-11-24T00:25:00.543660Z"
    },
    "scrolled": true
   },
   "outputs": [
    {
     "data": {
      "text/plain": [
       "array([[51, 52, 53, 54, 55],\n",
       "       [56, 57, 58, 59, 60],\n",
       "       [61, 62, 63, 64, 65],\n",
       "       [66, 67, 68, 69, 70],\n",
       "       [71, 72, 73, 74, 75],\n",
       "       [76, 77, 78, 79, 80]])"
      ]
     },
     "execution_count": 8,
     "metadata": {},
     "output_type": "execute_result"
    }
   ],
   "source": [
    "arr = np.arange(51,81).reshape(6,5)\n",
    "# np.arange(51,81).reshape(-1,5)\n",
    "arr"
   ]
  },
  {
   "cell_type": "markdown",
   "id": "6b0dd4b5",
   "metadata": {},
   "source": [
    "#### Q4. Q3의 넘파이 배열의 자료형을\n",
    "float로 변경하고 데이터형을 출력하여라\n",
    "\n",
    "array([[51., 52., 53., 54., 55.],\n",
    "       [56., 57., 58., 59., 60.],\n",
    "       [61., 62., 63., 64., 65.],\n",
    "       [66., 67., 68., 69., 70.],\n",
    "       [71., 72., 73., 74., 75.],\n",
    "       [76., 77., 78., 79., 80.]])\n",
    "\n",
    "-------------------------------------  \n",
    "\n",
    "dtype('float64')"
   ]
  },
  {
   "cell_type": "code",
   "execution_count": 9,
   "id": "425b4937",
   "metadata": {
    "ExecuteTime": {
     "end_time": "2021-11-24T00:25:02.941446Z",
     "start_time": "2021-11-24T00:25:02.924526Z"
    }
   },
   "outputs": [
    {
     "data": {
      "text/plain": [
       "dtype('float64')"
      ]
     },
     "execution_count": 9,
     "metadata": {},
     "output_type": "execute_result"
    }
   ],
   "source": [
    "arr = arr.astype(float)\n",
    "arr.dtype"
   ]
  },
  {
   "cell_type": "markdown",
   "id": "906cf1f4",
   "metadata": {},
   "source": [
    "#### Q5. 다음과 같이 넘파이 배열을 생성한 후 1차원 배열로 변경하고 슬라이싱하여라 \n",
    "\n",
    "```\n",
    "array([[ 1,  4,  5,  6],\n",
    "       [56, 23, 45, 67],\n",
    "       [ 8,  4,  6, 10]])\n",
    "       \n",
    "array([ 1,  4,  5,  6, 56, 23, 45, 67,  8,  4,  6, 10])\n",
    "\n",
    "\n",
    "array([23, 45, 67,  8,  4,  6])\n",
    "```       "
   ]
  },
  {
   "cell_type": "code",
   "execution_count": 10,
   "id": "a580080e",
   "metadata": {
    "ExecuteTime": {
     "end_time": "2021-11-24T00:28:34.761603Z",
     "start_time": "2021-11-24T00:28:34.751630Z"
    }
   },
   "outputs": [
    {
     "name": "stdout",
     "output_type": "stream",
     "text": [
      "[23 45 67  8  4  6]\n",
      "[23 45 67  8  4  6]\n"
     ]
    }
   ],
   "source": [
    "arr2d = np.array([[ 1,  4,  5,  6], [56, 23, 45, 67], [ 8,  4,  6, 10]])\n",
    "print(arr2d.flatten()[5:11])\n",
    "print(arr2d.flatten()[5:-1])"
   ]
  },
  {
   "cell_type": "markdown",
   "id": "46e67feb",
   "metadata": {},
   "source": [
    "#### Q6. 다음과 같은 넘파이 배열을 생성한 후 아이템을 교체하여라 \n",
    "\n",
    "```\n",
    "array([ 1,  2,  3,  4,  5,  6,  7,  8,  9, 10])\n",
    "\n",
    "array([10,  2,  3,  4,  5,  6,  7,  0,  0,  0])\n",
    "\n",
    "```"
   ]
  },
  {
   "cell_type": "code",
   "execution_count": 11,
   "id": "f0de129e",
   "metadata": {
    "ExecuteTime": {
     "end_time": "2021-11-24T00:31:24.685935Z",
     "start_time": "2021-11-24T00:31:24.665988Z"
    }
   },
   "outputs": [
    {
     "data": {
      "text/plain": [
       "array([10,  2,  3,  4,  5,  6,  7,  0,  0,  0])"
      ]
     },
     "execution_count": 11,
     "metadata": {},
     "output_type": "execute_result"
    }
   ],
   "source": [
    "arr = np.array([ 1,  2,  3,  4,  5,  6,  7,  8,  9, 10])\n",
    "arr[0] = 10\n",
    "arr[7:] = 0\n",
    "arr"
   ]
  },
  {
   "cell_type": "markdown",
   "id": "cf265b90",
   "metadata": {},
   "source": [
    "#### Q7. 2자리의 숫자로 구성된 넘파이 배열(5행5열)을 만들어라. 숫자는 난수를 이용한다. \n",
    "\n",
    "```\n",
    "[[63 85 71 67 15]\n",
    " [31 81 69 17 97]\n",
    " [25 41 33 23 39]\n",
    " [39 43 59 33 43]\n",
    " [23 51 65 91 23]]\n",
    "\n",
    "```"
   ]
  },
  {
   "cell_type": "code",
   "execution_count": 12,
   "id": "c17efe34",
   "metadata": {
    "ExecuteTime": {
     "end_time": "2021-11-24T00:33:15.839381Z",
     "start_time": "2021-11-24T00:33:15.825430Z"
    }
   },
   "outputs": [
    {
     "data": {
      "text/plain": [
       "array([[90, 30, 97, 56, 85],\n",
       "       [14, 50, 44, 80, 53],\n",
       "       [63, 61, 53, 76, 84],\n",
       "       [44, 90, 12, 20, 21],\n",
       "       [60, 58, 98, 57, 42]])"
      ]
     },
     "execution_count": 12,
     "metadata": {},
     "output_type": "execute_result"
    }
   ],
   "source": [
    "np.random.randint(10,99,25).reshape(5,5)\n",
    "np.random.randint(10,99,(5,5))"
   ]
  },
  {
   "cell_type": "markdown",
   "id": "5c5ccecf",
   "metadata": {},
   "source": [
    "#### Q8. 1~100 사이의 정수중 7개의 숫자를 무작위로 추출한 후 가장 큰값과 가장 작은 값을 출력하여라.\n",
    "[91, 65, 14, 66, 65, 98, 34]\n",
    "\n",
    "max = 98\n",
    "min = 14"
   ]
  },
  {
   "cell_type": "code",
   "execution_count": 11,
   "id": "2aaef524",
   "metadata": {
    "ExecuteTime": {
     "end_time": "2021-11-24T00:34:35.620374Z",
     "start_time": "2021-11-24T00:34:35.607409Z"
    },
    "scrolled": true
   },
   "outputs": [
    {
     "data": {
      "text/plain": [
       "(array([71, 90,  9, 49, 55, 57, 34]), 90, 9)"
      ]
     },
     "execution_count": 11,
     "metadata": {},
     "output_type": "execute_result"
    }
   ],
   "source": [
    "num = np.random.randint(1,100,7)\n",
    "num, np.max(num), np.min(num)"
   ]
  },
  {
   "cell_type": "markdown",
   "id": "24dcaa28",
   "metadata": {},
   "source": [
    "#### Q9. 다음과 같은 3개의 넘파이 배열을 생성한 후 다음과 같이 합쳐라\n",
    "[[1, 2, 3],\n",
    " [4, 5, 6],\n",
    " [7, 8, 9]]\n",
    "\n",
    "\n",
    "[[11, 12, 13],\n",
    " [14, 15, 16],\n",
    " [17, 18, 19]]\n",
    "\n",
    "\n",
    "[[21, 22, 23],\n",
    " [24, 25, 26],\n",
    " [27, 28, 29]]\n",
    "\n",
    " ----------\n",
    "  Result1 \n",
    "\n",
    " [[ 1,  2,  3, 11, 12, 13, 21, 22, 23],\n",
    "  [ 4,  5,  6, 14, 15, 16, 24, 25, 26],\n",
    "  [ 7,  8,  9, 17, 18, 19, 27, 28, 29]] \n",
    "\n",
    "\n",
    "  ----------\n",
    "  Result2\n",
    "\n",
    " [[ 1,  2,  3],\n",
    "  [ 4,  5,  6],\n",
    "  [ 7,  8,  9],\n",
    "  [11, 12, 13],\n",
    "  [14, 15, 16],\n",
    "  [17, 18, 19],\n",
    "  [21, 22, 23],\n",
    "  [24, 25, 26],\n",
    "  [27, 28, 29]]"
   ]
  },
  {
   "cell_type": "code",
   "execution_count": 13,
   "id": "7e6cc080",
   "metadata": {
    "ExecuteTime": {
     "end_time": "2021-11-24T00:40:26.980457Z",
     "start_time": "2021-11-24T00:40:26.958504Z"
    }
   },
   "outputs": [
    {
     "data": {
      "text/plain": [
       "(array([[ 1,  2,  3],\n",
       "        [ 4,  5,  6],\n",
       "        [ 7,  8,  9],\n",
       "        [11, 12, 13],\n",
       "        [14, 15, 16],\n",
       "        [17, 18, 19],\n",
       "        [21, 22, 23],\n",
       "        [24, 25, 26],\n",
       "        [27, 28, 29]]),\n",
       " array([[ 1,  2,  3, 11, 12, 13, 21, 22, 23],\n",
       "        [ 4,  5,  6, 14, 15, 16, 24, 25, 26],\n",
       "        [ 7,  8,  9, 17, 18, 19, 27, 28, 29]]))"
      ]
     },
     "execution_count": 13,
     "metadata": {},
     "output_type": "execute_result"
    }
   ],
   "source": [
    "a = np.array([[1, 2, 3], [4, 5, 6], [7, 8, 9]])\n",
    "b = np.array([[11, 12, 13], [14, 15, 16], [17, 18, 19]])\n",
    "c = np.array([[21, 22, 23], [24, 25, 26], [27, 28, 29]])\n",
    "\n",
    "# result1 \n",
    "result2 = np.hstack((a, b, c))\n",
    "\n",
    "# result2 \n",
    "result1 = np.vstack((a, b, c))\n",
    "\n",
    "result1, result2"
   ]
  },
  {
   "cell_type": "markdown",
   "id": "2d8638be",
   "metadata": {},
   "source": [
    "#### Q10. 아래와 같이 넘파이 배열을 생성한 후 50보다 큰 숫자만 필터링하여라. \n",
    "\n",
    "```\n",
    "arr = np.random.choice(100, 40, replace=False)\n",
    "\n",
    "Before => \n",
    "\n",
    "[40, 63,  8,  2, 35, 84, 72, 48, 78, 86, 87, 58,  0, 49, 14, 55, 11,\n",
    "       73, 39, 26, 75, 27, 99, 46, 25, 22, 34, 83, 24, 47, 31, 57, 62, 19,\n",
    "       36, 15, 17, 10, 98, 90]\n",
    "\n",
    "\n",
    "After =>\n",
    "\n",
    "[63, 84, 72, 78, 86, 87, 58, 55, 73, 75, 99, 83, 57, 62, 98, 90]\n",
    "\n",
    "\n",
    "```"
   ]
  },
  {
   "cell_type": "code",
   "execution_count": 14,
   "id": "08dd2c95",
   "metadata": {
    "ExecuteTime": {
     "end_time": "2021-11-24T04:12:29.152196Z",
     "start_time": "2021-11-24T04:12:29.147229Z"
    }
   },
   "outputs": [
    {
     "data": {
      "text/plain": [
       "(array([51,  4, 39, 64, 16, 85, 86, 88, 56, 76, 70, 15, 18,  5, 40, 25, 23,\n",
       "        62, 57, 11, 28, 47, 52, 49, 54, 83, 35, 96, 46, 53, 81, 82, 34, 97,\n",
       "        59, 84, 67, 27,  6, 42]),\n",
       " array([51, 64, 85, 86, 88, 56, 76, 70, 62, 57, 52, 54, 83, 96, 53, 81, 82,\n",
       "        97, 59, 84, 67]),\n",
       " array([51, 64, 85, 86, 88, 56, 76, 70, 62, 57, 52, 54, 83, 96, 53, 81, 82,\n",
       "        97, 59, 84, 67]))"
      ]
     },
     "execution_count": 14,
     "metadata": {},
     "output_type": "execute_result"
    }
   ],
   "source": [
    "# 중복없이, 100까지 숫자중 40개를 추출가능, randint는 중복생김\n",
    "n = np.random.choice(100, 40, replace=False)\n",
    "# 50보다 큰 숫자만 필터링\n",
    "n, n[np.where(n>50)] , n[n>50]"
   ]
  },
  {
   "cell_type": "markdown",
   "id": "249ef810",
   "metadata": {},
   "source": [
    "#### Quiz 11\n",
    "```\n",
    "kor = np.array( [60,55,70,30,20,90])\n",
    "1. 국어점수가 가장큰값을 구하여라\n",
    "2. 국어점수가 80점이상인 값을 구하여라\n",
    "3. 국어 점수가 50점이상 80점 이하인 값을 구하여라\n",
    "4. 국어점수의 평균을 구하여라\n",
    "5. 국어점수의 총합을 구하여라.\n",
    "6. 국어점수가 40점이하인 데이터를 삭제하여라\n",
    "7. 국어점수가 50점이상인 데이터에 가산점 10%를 부여하여라\n",
    "8. 국어점수 top 3를 구하여라\n",
    "9. 국어점수가 70점이상이면 '합격' , 아니면 '불합격으로' 아래와 같이 출력하시요\n",
    "\n",
    "60 '불합격'\n",
    "55 '불합격'\n",
    "```"
   ]
  },
  {
   "cell_type": "code",
   "execution_count": 15,
   "id": "a34bc3a5",
   "metadata": {
    "ExecuteTime": {
     "end_time": "2021-11-24T02:33:52.238430Z",
     "start_time": "2021-11-24T02:33:52.227460Z"
    }
   },
   "outputs": [],
   "source": [
    "kor = np.array( [60,55,70,30,20,90])"
   ]
  },
  {
   "cell_type": "code",
   "execution_count": 16,
   "id": "50748e23",
   "metadata": {
    "ExecuteTime": {
     "end_time": "2021-11-24T02:34:53.359039Z",
     "start_time": "2021-11-24T02:34:53.339106Z"
    }
   },
   "outputs": [
    {
     "data": {
      "text/plain": [
       "90"
      ]
     },
     "execution_count": 16,
     "metadata": {},
     "output_type": "execute_result"
    }
   ],
   "source": [
    "# 국어 점수가 가장 큰값\n",
    "max(kor)"
   ]
  },
  {
   "cell_type": "code",
   "execution_count": 17,
   "id": "f26ddaf0",
   "metadata": {
    "ExecuteTime": {
     "end_time": "2021-11-24T02:37:02.636995Z",
     "start_time": "2021-11-24T02:37:02.618045Z"
    }
   },
   "outputs": [
    {
     "data": {
      "text/plain": [
       "array([90])"
      ]
     },
     "execution_count": 17,
     "metadata": {},
     "output_type": "execute_result"
    }
   ],
   "source": [
    "# 국어점수가 80점이상인 값을 구하여라\n",
    "kor[(kor>=80)]"
   ]
  },
  {
   "cell_type": "code",
   "execution_count": 18,
   "id": "657b4ccd",
   "metadata": {
    "ExecuteTime": {
     "end_time": "2021-11-24T02:37:21.108369Z",
     "start_time": "2021-11-24T02:37:21.098396Z"
    }
   },
   "outputs": [
    {
     "data": {
      "text/plain": [
       "array([60, 55, 70])"
      ]
     },
     "execution_count": 18,
     "metadata": {},
     "output_type": "execute_result"
    }
   ],
   "source": [
    "#  국어 점수가 50점이상 80점 이하인 값을 구하여라\n",
    "kor[(kor>= 50) & (kor <=80)]"
   ]
  },
  {
   "cell_type": "code",
   "execution_count": 19,
   "id": "7be5694d",
   "metadata": {
    "ExecuteTime": {
     "end_time": "2021-11-24T04:18:29.200637Z",
     "start_time": "2021-11-24T04:18:29.187672Z"
    }
   },
   "outputs": [
    {
     "data": {
      "text/plain": [
       "(54.166666666666664, 54.167)"
      ]
     },
     "execution_count": 19,
     "metadata": {},
     "output_type": "execute_result"
    }
   ],
   "source": [
    "# 국어점수의 평균을 구하여라\n",
    "np.average(kor), round(kor.mean(),3)"
   ]
  },
  {
   "cell_type": "code",
   "execution_count": 20,
   "id": "8f6d2536",
   "metadata": {
    "ExecuteTime": {
     "end_time": "2021-11-24T02:38:01.791001Z",
     "start_time": "2021-11-24T02:38:01.783024Z"
    },
    "scrolled": true
   },
   "outputs": [
    {
     "data": {
      "text/plain": [
       "325"
      ]
     },
     "execution_count": 20,
     "metadata": {},
     "output_type": "execute_result"
    }
   ],
   "source": [
    "# 국어점수의 총합을 구하여라.\n",
    "np.sum(kor)"
   ]
  },
  {
   "cell_type": "code",
   "execution_count": 22,
   "id": "a3fb01b3",
   "metadata": {
    "ExecuteTime": {
     "end_time": "2021-11-24T04:19:34.284000Z",
     "start_time": "2021-11-24T04:19:34.270051Z"
    }
   },
   "outputs": [
    {
     "data": {
      "text/plain": [
       "(array([60, 55, 70, 30, 20, 90]), array([30, 20]), array([60, 55, 70, 90]))"
      ]
     },
     "execution_count": 22,
     "metadata": {},
     "output_type": "execute_result"
    }
   ],
   "source": [
    "# 국어점수가 40점이하인 데이터를 삭제하여라\n",
    "import copy\n",
    "kor1 = kor.copy()\n",
    "num = kor[kor<=40]\n",
    "kor1, num, np.delete(kor1, np.where(kor<=40))"
   ]
  },
  {
   "cell_type": "code",
   "execution_count": 23,
   "id": "7d85a3d2",
   "metadata": {
    "ExecuteTime": {
     "end_time": "2021-11-24T04:20:29.720042Z",
     "start_time": "2021-11-24T04:20:29.705082Z"
    }
   },
   "outputs": [
    {
     "data": {
      "text/plain": [
       "array([66. , 60.5, 77. , 30. , 20. , 99. ])"
      ]
     },
     "execution_count": 23,
     "metadata": {},
     "output_type": "execute_result"
    }
   ],
   "source": [
    "# 국어점수가 50점이상인 데이터에 가산점 10%를 부여하여라\n",
    "np.where(kor>=50, kor*1.1, kor )"
   ]
  },
  {
   "cell_type": "code",
   "execution_count": 24,
   "id": "0d1c4ed9-c6b3-415f-8197-2ef7c80c4e15",
   "metadata": {},
   "outputs": [
    {
     "data": {
      "text/plain": [
       "array([20, 30, 55, 60, 70, 90])"
      ]
     },
     "execution_count": 24,
     "metadata": {},
     "output_type": "execute_result"
    }
   ],
   "source": [
    "# 국어점수 top 3를 구하여라\n",
    "np.sort(kor)"
   ]
  },
  {
   "cell_type": "code",
   "execution_count": 26,
   "id": "57861d3f-6637-408d-b1de-44c6fc7692a1",
   "metadata": {},
   "outputs": [
    {
     "data": {
      "text/plain": [
       "array([90, 70, 60, 55, 30, 20])"
      ]
     },
     "execution_count": 26,
     "metadata": {},
     "output_type": "execute_result"
    }
   ],
   "source": [
    "np.sort(kor)[::-1]"
   ]
  },
  {
   "cell_type": "code",
   "execution_count": 27,
   "id": "926bcd24-a92f-4bf6-9833-2996456e10e3",
   "metadata": {},
   "outputs": [
    {
     "data": {
      "text/plain": [
       "array([5, 2, 0], dtype=int64)"
      ]
     },
     "execution_count": 27,
     "metadata": {},
     "output_type": "execute_result"
    }
   ],
   "source": [
    "np.argsort(kor)[::-1][:3]"
   ]
  },
  {
   "cell_type": "code",
   "execution_count": 22,
   "id": "4b29cf3b",
   "metadata": {
    "ExecuteTime": {
     "end_time": "2021-11-24T04:27:03.562255Z",
     "start_time": "2021-11-24T04:27:03.553279Z"
    }
   },
   "outputs": [
    {
     "data": {
      "text/plain": [
       "(array([90, 70, 60]), array([90, 70, 60]))"
      ]
     },
     "execution_count": 22,
     "metadata": {},
     "output_type": "execute_result"
    }
   ],
   "source": [
    "# 국어점수 top 3를 구하여라\n",
    "np.sort(kor)[::-1][:3], kor[np.argsort(kor)[::-1][:3]] # 인덱스값으로 실제 값 출력"
   ]
  },
  {
   "cell_type": "code",
   "execution_count": 28,
   "id": "054b37db",
   "metadata": {
    "ExecuteTime": {
     "end_time": "2021-11-24T04:29:56.679622Z",
     "start_time": "2021-11-24T04:29:56.669649Z"
    }
   },
   "outputs": [
    {
     "data": {
      "text/plain": [
       "(array([60, 55, 70, 30, 20, 90]),\n",
       " array(['불합격', '불합격', '합격', '불합격', '불합격', '합격'], dtype='<U3'))"
      ]
     },
     "execution_count": 28,
     "metadata": {},
     "output_type": "execute_result"
    }
   ],
   "source": [
    "# 국어점수가 70점이상이면 '합격' , 아니면 '불합격으로' 아래와 같이 출력하시요\n",
    "kor, np.where(kor>=70, \"합격\", \"불합격\")"
   ]
  }
 ],
 "metadata": {
  "kernelspec": {
   "display_name": "Python 3 (ipykernel)",
   "language": "python",
   "name": "python3"
  },
  "language_info": {
   "codemirror_mode": {
    "name": "ipython",
    "version": 3
   },
   "file_extension": ".py",
   "mimetype": "text/x-python",
   "name": "python",
   "nbconvert_exporter": "python",
   "pygments_lexer": "ipython3",
   "version": "3.11.5"
  },
  "toc": {
   "base_numbering": 1,
   "nav_menu": {},
   "number_sections": true,
   "sideBar": true,
   "skip_h1_title": false,
   "title_cell": "Table of Contents",
   "title_sidebar": "Contents",
   "toc_cell": false,
   "toc_position": {
    "height": "calc(100% - 180px)",
    "left": "10px",
    "top": "150px",
    "width": "232px"
   },
   "toc_section_display": true,
   "toc_window_display": true
  },
  "varInspector": {
   "cols": {
    "lenName": 16,
    "lenType": 16,
    "lenVar": 40
   },
   "kernels_config": {
    "python": {
     "delete_cmd_postfix": "",
     "delete_cmd_prefix": "del ",
     "library": "var_list.py",
     "varRefreshCmd": "print(var_dic_list())"
    },
    "r": {
     "delete_cmd_postfix": ") ",
     "delete_cmd_prefix": "rm(",
     "library": "var_list.r",
     "varRefreshCmd": "cat(var_dic_list()) "
    }
   },
   "types_to_exclude": [
    "module",
    "function",
    "builtin_function_or_method",
    "instance",
    "_Feature"
   ],
   "window_display": false
  }
 },
 "nbformat": 4,
 "nbformat_minor": 5
}
