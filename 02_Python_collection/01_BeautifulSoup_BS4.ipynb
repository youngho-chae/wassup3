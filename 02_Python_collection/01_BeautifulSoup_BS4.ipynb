{
 "cells": [
  {
   "cell_type": "markdown",
   "id": "3c14f711-5b4f-4ebd-abf7-5b4d5e28a3b4",
   "metadata": {},
   "source": [
    "# BeautifulSoup"
   ]
  },
  {
   "cell_type": "code",
   "execution_count": 3,
   "id": "f60893a9-cf1c-4af7-a6d4-5e960bf6b4f2",
   "metadata": {},
   "outputs": [
    {
     "name": "stdout",
     "output_type": "stream",
     "text": [
      "Collecting bs4\n",
      "  Downloading bs4-0.0.2-py2.py3-none-any.whl.metadata (411 bytes)\n",
      "Requirement already satisfied: beautifulsoup4 in c:\\users\\cyh\\anaconda3\\lib\\site-packages (from bs4) (4.12.2)\n",
      "Requirement already satisfied: soupsieve>1.2 in c:\\users\\cyh\\anaconda3\\lib\\site-packages (from beautifulsoup4->bs4) (2.5)\n",
      "Downloading bs4-0.0.2-py2.py3-none-any.whl (1.2 kB)\n",
      "Installing collected packages: bs4\n",
      "Successfully installed bs4-0.0.2\n",
      "Note: you may need to restart the kernel to use updated packages.\n"
     ]
    }
   ],
   "source": [
    "pip install bs4"
   ]
  },
  {
   "cell_type": "code",
   "execution_count": 4,
   "id": "56eaad3d-e158-479f-a19c-ac82ccb1916b",
   "metadata": {},
   "outputs": [
    {
     "name": "stdout",
     "output_type": "stream",
     "text": [
      "Requirement already satisfied: lxml in c:\\users\\cyh\\anaconda3\\lib\\site-packages (4.9.3)\n",
      "Note: you may need to restart the kernel to use updated packages.\n"
     ]
    }
   ],
   "source": [
    "pip install lxml"
   ]
  },
  {
   "cell_type": "markdown",
   "id": "1c3cdf80-c6a0-486a-8a85-b7c459b62af5",
   "metadata": {},
   "source": [
    "## parser"
   ]
  },
  {
   "cell_type": "code",
   "execution_count": 6,
   "id": "c7fe0a82-01b8-4df6-9a3c-a987f1eca6da",
   "metadata": {},
   "outputs": [],
   "source": [
    "from bs4 import BeautifulSoup\n",
    "import lxml"
   ]
  },
  {
   "cell_type": "code",
   "execution_count": 7,
   "id": "1459e9cc-fd2b-4c33-849d-d8856f946613",
   "metadata": {},
   "outputs": [
    {
     "data": {
      "text/plain": [
       "\u001b[1;31mInit signature:\u001b[0m\n",
       "\u001b[0mBeautifulSoup\u001b[0m\u001b[1;33m(\u001b[0m\u001b[1;33m\n",
       "\u001b[0m    \u001b[0mmarkup\u001b[0m\u001b[1;33m=\u001b[0m\u001b[1;34m''\u001b[0m\u001b[1;33m,\u001b[0m\u001b[1;33m\n",
       "\u001b[0m    \u001b[0mfeatures\u001b[0m\u001b[1;33m=\u001b[0m\u001b[1;32mNone\u001b[0m\u001b[1;33m,\u001b[0m\u001b[1;33m\n",
       "\u001b[0m    \u001b[0mbuilder\u001b[0m\u001b[1;33m=\u001b[0m\u001b[1;32mNone\u001b[0m\u001b[1;33m,\u001b[0m\u001b[1;33m\n",
       "\u001b[0m    \u001b[0mparse_only\u001b[0m\u001b[1;33m=\u001b[0m\u001b[1;32mNone\u001b[0m\u001b[1;33m,\u001b[0m\u001b[1;33m\n",
       "\u001b[0m    \u001b[0mfrom_encoding\u001b[0m\u001b[1;33m=\u001b[0m\u001b[1;32mNone\u001b[0m\u001b[1;33m,\u001b[0m\u001b[1;33m\n",
       "\u001b[0m    \u001b[0mexclude_encodings\u001b[0m\u001b[1;33m=\u001b[0m\u001b[1;32mNone\u001b[0m\u001b[1;33m,\u001b[0m\u001b[1;33m\n",
       "\u001b[0m    \u001b[0melement_classes\u001b[0m\u001b[1;33m=\u001b[0m\u001b[1;32mNone\u001b[0m\u001b[1;33m,\u001b[0m\u001b[1;33m\n",
       "\u001b[0m    \u001b[1;33m**\u001b[0m\u001b[0mkwargs\u001b[0m\u001b[1;33m,\u001b[0m\u001b[1;33m\n",
       "\u001b[0m\u001b[1;33m)\u001b[0m\u001b[1;33m\u001b[0m\u001b[1;33m\u001b[0m\u001b[0m\n",
       "\u001b[1;31mDocstring:\u001b[0m     \n",
       "A data structure representing a parsed HTML or XML document.\n",
       "\n",
       "Most of the methods you'll call on a BeautifulSoup object are inherited from\n",
       "PageElement or Tag.\n",
       "\n",
       "Internally, this class defines the basic interface called by the\n",
       "tree builders when converting an HTML/XML document into a data\n",
       "structure. The interface abstracts away the differences between\n",
       "parsers. To write a new tree builder, you'll need to understand\n",
       "these methods as a whole.\n",
       "\n",
       "These methods will be called by the BeautifulSoup constructor:\n",
       "  * reset()\n",
       "  * feed(markup)\n",
       "\n",
       "The tree builder may call these methods from its feed() implementation:\n",
       "  * handle_starttag(name, attrs) # See note about return value\n",
       "  * handle_endtag(name)\n",
       "  * handle_data(data) # Appends to the current data node\n",
       "  * endData(containerClass) # Ends the current data node\n",
       "\n",
       "No matter how complicated the underlying parser is, you should be\n",
       "able to build a tree using 'start tag' events, 'end tag' events,\n",
       "'data' events, and \"done with data\" events.\n",
       "\n",
       "If you encounter an empty-element tag (aka a self-closing tag,\n",
       "like HTML's <br> tag), call handle_starttag and then\n",
       "handle_endtag.\n",
       "\u001b[1;31mInit docstring:\u001b[0m\n",
       "Constructor.\n",
       "\n",
       ":param markup: A string or a file-like object representing\n",
       " markup to be parsed.\n",
       "\n",
       ":param features: Desirable features of the parser to be\n",
       " used. This may be the name of a specific parser (\"lxml\",\n",
       " \"lxml-xml\", \"html.parser\", or \"html5lib\") or it may be the\n",
       " type of markup to be used (\"html\", \"html5\", \"xml\"). It's\n",
       " recommended that you name a specific parser, so that\n",
       " Beautiful Soup gives you the same results across platforms\n",
       " and virtual environments.\n",
       "\n",
       ":param builder: A TreeBuilder subclass to instantiate (or\n",
       " instance to use) instead of looking one up based on\n",
       " `features`. You only need to use this if you've implemented a\n",
       " custom TreeBuilder.\n",
       "\n",
       ":param parse_only: A SoupStrainer. Only parts of the document\n",
       " matching the SoupStrainer will be considered. This is useful\n",
       " when parsing part of a document that would otherwise be too\n",
       " large to fit into memory.\n",
       "\n",
       ":param from_encoding: A string indicating the encoding of the\n",
       " document to be parsed. Pass this in if Beautiful Soup is\n",
       " guessing wrongly about the document's encoding.\n",
       "\n",
       ":param exclude_encodings: A list of strings indicating\n",
       " encodings known to be wrong. Pass this in if you don't know\n",
       " the document's encoding but you know Beautiful Soup's guess is\n",
       " wrong.\n",
       "\n",
       ":param element_classes: A dictionary mapping BeautifulSoup\n",
       " classes like Tag and NavigableString, to other classes you'd\n",
       " like to be instantiated instead as the parse tree is\n",
       " built. This is useful for subclassing Tag or NavigableString\n",
       " to modify default behavior.\n",
       "\n",
       ":param kwargs: For backwards compatibility purposes, the\n",
       " constructor accepts certain keyword arguments used in\n",
       " Beautiful Soup 3. None of these arguments do anything in\n",
       " Beautiful Soup 4; they will result in a warning and then be\n",
       " ignored.\n",
       " \n",
       " Apart from this, any keyword arguments passed into the\n",
       " BeautifulSoup constructor are propagated to the TreeBuilder\n",
       " constructor. This makes it possible to configure a\n",
       " TreeBuilder by passing in arguments, not just by saying which\n",
       " one to use.\n",
       "\u001b[1;31mFile:\u001b[0m           c:\\users\\cyh\\anaconda3\\lib\\site-packages\\bs4\\__init__.py\n",
       "\u001b[1;31mType:\u001b[0m           type\n",
       "\u001b[1;31mSubclasses:\u001b[0m     BeautifulStoneSoup"
      ]
     },
     "metadata": {},
     "output_type": "display_data"
    }
   ],
   "source": [
    "BeautifulSoup?"
   ]
  },
  {
   "cell_type": "code",
   "execution_count": 8,
   "id": "76e026ad-af58-49e3-97d8-fc56820c7021",
   "metadata": {},
   "outputs": [],
   "source": [
    "# sample\n",
    "html = '''\n",
    "<div id=prices >\n",
    "    <table >\n",
    "        <tr class=bb>\n",
    "            <th class=\"bb lm lft\">Date\n",
    "            <th class=\"rgt bb\">Open\n",
    "            <th class=\"rgt bb\">High\n",
    "            <th class=\"rgt bb\">Low\n",
    "            <th class=\"rgt bb\">Close\n",
    "            <th class=\"rgt bb rm\">Volume\n",
    "        <tr>\n",
    "            <td class=\"lm\">Feb 28, 2014\n",
    "            <td class=\"rgt\">100.71\n",
    "            <td class=\"rgt\">100.71\n",
    "            <td class=\"rgt\">100.71\n",
    "            <td class=\"rgt\">100.71\n",
    "            <td class=\"rgt rm\">0\n",
    "     </table>\n",
    "'''"
   ]
  },
  {
   "cell_type": "code",
   "execution_count": 9,
   "id": "95e0c225-5fda-4fbb-a66b-21040579a8d4",
   "metadata": {},
   "outputs": [
    {
     "data": {
      "text/plain": [
       "<html><body><div id=\"prices\">\n",
       "<table>\n",
       "<tr class=\"bb\">\n",
       "<th class=\"bb lm lft\">Date\n",
       "            </th><th class=\"rgt bb\">Open\n",
       "            </th><th class=\"rgt bb\">High\n",
       "            </th><th class=\"rgt bb\">Low\n",
       "            </th><th class=\"rgt bb\">Close\n",
       "            </th><th class=\"rgt bb rm\">Volume\n",
       "        </th></tr><tr>\n",
       "<td class=\"lm\">Feb 28, 2014\n",
       "            </td><td class=\"rgt\">100.71\n",
       "            </td><td class=\"rgt\">100.71\n",
       "            </td><td class=\"rgt\">100.71\n",
       "            </td><td class=\"rgt\">100.71\n",
       "            </td><td class=\"rgt rm\">0\n",
       "     </td></tr></table>\n",
       "</div></body></html>"
      ]
     },
     "execution_count": 9,
     "metadata": {},
     "output_type": "execute_result"
    }
   ],
   "source": [
    "# lxml의 HTML 파서\n",
    "BeautifulSoup(html, 'lxml')"
   ]
  },
  {
   "cell_type": "code",
   "execution_count": 10,
   "id": "4c8e5293-ae5e-4c16-b5a6-c0ccd1eeeda9",
   "metadata": {},
   "outputs": [],
   "source": [
    "# 파이선 표준 html 파서"
   ]
  },
  {
   "cell_type": "code",
   "execution_count": 11,
   "id": "cb042cfa-f053-4439-9cdc-892384f32e1d",
   "metadata": {},
   "outputs": [
    {
     "data": {
      "text/plain": [
       "\n",
       "<div id=\"prices\">\n",
       "<table>\n",
       "<tr class=\"bb\">\n",
       "<th class=\"bb lm lft\">Date\n",
       "            <th class=\"rgt bb\">Open\n",
       "            <th class=\"rgt bb\">High\n",
       "            <th class=\"rgt bb\">Low\n",
       "            <th class=\"rgt bb\">Close\n",
       "            <th class=\"rgt bb rm\">Volume\n",
       "        <tr>\n",
       "<td class=\"lm\">Feb 28, 2014\n",
       "            <td class=\"rgt\">100.71\n",
       "            <td class=\"rgt\">100.71\n",
       "            <td class=\"rgt\">100.71\n",
       "            <td class=\"rgt\">100.71\n",
       "            <td class=\"rgt rm\">0\n",
       "     </td></td></td></td></td></td></tr></th></th></th></th></th></th></tr></table>\n",
       "</div>"
      ]
     },
     "execution_count": 11,
     "metadata": {},
     "output_type": "execute_result"
    }
   ],
   "source": [
    "# lxml의 HTML 파서\n",
    "BeautifulSoup(html, 'html.parser')"
   ]
  },
  {
   "cell_type": "markdown",
   "id": "d7ddf471-2acd-4b5a-af04-6ed26fbc66e8",
   "metadata": {},
   "source": [
    "## BS4 객체의 속성과 메서드"
   ]
  },
  {
   "cell_type": "code",
   "execution_count": null,
   "id": "501160cb-b743-45ed-b80e-750b79fc9338",
   "metadata": {},
   "outputs": [],
   "source": []
  },
  {
   "cell_type": "code",
   "execution_count": null,
   "id": "9c93ca45-aeb6-4caf-a99e-dd132579cce7",
   "metadata": {},
   "outputs": [],
   "source": []
  },
  {
   "cell_type": "code",
   "execution_count": null,
   "id": "d64b5d9a-cc97-4913-bb93-ea5cf237f956",
   "metadata": {},
   "outputs": [],
   "source": []
  },
  {
   "cell_type": "code",
   "execution_count": null,
   "id": "1bd84c0e-bd8a-4924-b9c9-deeedb744b14",
   "metadata": {},
   "outputs": [],
   "source": []
  },
  {
   "cell_type": "code",
   "execution_count": null,
   "id": "183d20e4-a0b7-49d3-9fe5-8d1a9fac41e5",
   "metadata": {},
   "outputs": [],
   "source": []
  },
  {
   "cell_type": "code",
   "execution_count": null,
   "id": "44299a08-6753-4665-a38f-8cf165b183df",
   "metadata": {},
   "outputs": [],
   "source": []
  },
  {
   "cell_type": "code",
   "execution_count": null,
   "id": "b840add5-bae5-4e97-ba5c-4dabd650dfb1",
   "metadata": {},
   "outputs": [],
   "source": []
  },
  {
   "cell_type": "code",
   "execution_count": null,
   "id": "c49ed692-86ee-4646-8c7c-c8f9f5aa75c7",
   "metadata": {},
   "outputs": [],
   "source": []
  },
  {
   "cell_type": "code",
   "execution_count": null,
   "id": "abc50f54-6231-4dd4-af51-edb62099ce88",
   "metadata": {},
   "outputs": [],
   "source": []
  },
  {
   "cell_type": "code",
   "execution_count": null,
   "id": "36d976a7-55bc-4c9a-bdb7-9e19cb3e2beb",
   "metadata": {},
   "outputs": [],
   "source": []
  }
 ],
 "metadata": {
  "kernelspec": {
   "display_name": "Python 3 (ipykernel)",
   "language": "python",
   "name": "python3"
  },
  "language_info": {
   "codemirror_mode": {
    "name": "ipython",
    "version": 3
   },
   "file_extension": ".py",
   "mimetype": "text/x-python",
   "name": "python",
   "nbconvert_exporter": "python",
   "pygments_lexer": "ipython3",
   "version": "3.11.7"
  }
 },
 "nbformat": 4,
 "nbformat_minor": 5
}
