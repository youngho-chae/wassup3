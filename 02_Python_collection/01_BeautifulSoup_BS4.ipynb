{
 "cells": [
  {
   "cell_type": "markdown",
   "id": "3c14f711-5b4f-4ebd-abf7-5b4d5e28a3b4",
   "metadata": {},
   "source": [
    "# BeautifulSoup"
   ]
  },
  {
   "cell_type": "code",
   "execution_count": 3,
   "id": "f60893a9-cf1c-4af7-a6d4-5e960bf6b4f2",
   "metadata": {},
   "outputs": [
    {
     "name": "stdout",
     "output_type": "stream",
     "text": [
      "Collecting bs4\n",
      "  Downloading bs4-0.0.2-py2.py3-none-any.whl.metadata (411 bytes)\n",
      "Requirement already satisfied: beautifulsoup4 in c:\\users\\cyh\\anaconda3\\lib\\site-packages (from bs4) (4.12.2)\n",
      "Requirement already satisfied: soupsieve>1.2 in c:\\users\\cyh\\anaconda3\\lib\\site-packages (from beautifulsoup4->bs4) (2.5)\n",
      "Downloading bs4-0.0.2-py2.py3-none-any.whl (1.2 kB)\n",
      "Installing collected packages: bs4\n",
      "Successfully installed bs4-0.0.2\n",
      "Note: you may need to restart the kernel to use updated packages.\n"
     ]
    }
   ],
   "source": [
    "pip install bs4"
   ]
  },
  {
   "cell_type": "code",
   "execution_count": 4,
   "id": "56eaad3d-e158-479f-a19c-ac82ccb1916b",
   "metadata": {},
   "outputs": [
    {
     "name": "stdout",
     "output_type": "stream",
     "text": [
      "Requirement already satisfied: lxml in c:\\users\\cyh\\anaconda3\\lib\\site-packages (4.9.3)\n",
      "Note: you may need to restart the kernel to use updated packages.\n"
     ]
    }
   ],
   "source": [
    "pip install lxml"
   ]
  },
  {
   "cell_type": "markdown",
   "id": "1c3cdf80-c6a0-486a-8a85-b7c459b62af5",
   "metadata": {},
   "source": [
    "## parser"
   ]
  },
  {
   "cell_type": "code",
   "execution_count": 5,
   "id": "c7fe0a82-01b8-4df6-9a3c-a987f1eca6da",
   "metadata": {},
   "outputs": [],
   "source": [
    "from bs4 import BeautifulSoup\n",
    "import lxml"
   ]
  },
  {
   "cell_type": "code",
   "execution_count": 7,
   "id": "1459e9cc-fd2b-4c33-849d-d8856f946613",
   "metadata": {},
   "outputs": [
    {
     "data": {
      "text/plain": [
       "\u001b[1;31mInit signature:\u001b[0m\n",
       "\u001b[0mBeautifulSoup\u001b[0m\u001b[1;33m(\u001b[0m\u001b[1;33m\n",
       "\u001b[0m    \u001b[0mmarkup\u001b[0m\u001b[1;33m=\u001b[0m\u001b[1;34m''\u001b[0m\u001b[1;33m,\u001b[0m\u001b[1;33m\n",
       "\u001b[0m    \u001b[0mfeatures\u001b[0m\u001b[1;33m=\u001b[0m\u001b[1;32mNone\u001b[0m\u001b[1;33m,\u001b[0m\u001b[1;33m\n",
       "\u001b[0m    \u001b[0mbuilder\u001b[0m\u001b[1;33m=\u001b[0m\u001b[1;32mNone\u001b[0m\u001b[1;33m,\u001b[0m\u001b[1;33m\n",
       "\u001b[0m    \u001b[0mparse_only\u001b[0m\u001b[1;33m=\u001b[0m\u001b[1;32mNone\u001b[0m\u001b[1;33m,\u001b[0m\u001b[1;33m\n",
       "\u001b[0m    \u001b[0mfrom_encoding\u001b[0m\u001b[1;33m=\u001b[0m\u001b[1;32mNone\u001b[0m\u001b[1;33m,\u001b[0m\u001b[1;33m\n",
       "\u001b[0m    \u001b[0mexclude_encodings\u001b[0m\u001b[1;33m=\u001b[0m\u001b[1;32mNone\u001b[0m\u001b[1;33m,\u001b[0m\u001b[1;33m\n",
       "\u001b[0m    \u001b[0melement_classes\u001b[0m\u001b[1;33m=\u001b[0m\u001b[1;32mNone\u001b[0m\u001b[1;33m,\u001b[0m\u001b[1;33m\n",
       "\u001b[0m    \u001b[1;33m**\u001b[0m\u001b[0mkwargs\u001b[0m\u001b[1;33m,\u001b[0m\u001b[1;33m\n",
       "\u001b[0m\u001b[1;33m)\u001b[0m\u001b[1;33m\u001b[0m\u001b[1;33m\u001b[0m\u001b[0m\n",
       "\u001b[1;31mDocstring:\u001b[0m     \n",
       "A data structure representing a parsed HTML or XML document.\n",
       "\n",
       "Most of the methods you'll call on a BeautifulSoup object are inherited from\n",
       "PageElement or Tag.\n",
       "\n",
       "Internally, this class defines the basic interface called by the\n",
       "tree builders when converting an HTML/XML document into a data\n",
       "structure. The interface abstracts away the differences between\n",
       "parsers. To write a new tree builder, you'll need to understand\n",
       "these methods as a whole.\n",
       "\n",
       "These methods will be called by the BeautifulSoup constructor:\n",
       "  * reset()\n",
       "  * feed(markup)\n",
       "\n",
       "The tree builder may call these methods from its feed() implementation:\n",
       "  * handle_starttag(name, attrs) # See note about return value\n",
       "  * handle_endtag(name)\n",
       "  * handle_data(data) # Appends to the current data node\n",
       "  * endData(containerClass) # Ends the current data node\n",
       "\n",
       "No matter how complicated the underlying parser is, you should be\n",
       "able to build a tree using 'start tag' events, 'end tag' events,\n",
       "'data' events, and \"done with data\" events.\n",
       "\n",
       "If you encounter an empty-element tag (aka a self-closing tag,\n",
       "like HTML's <br> tag), call handle_starttag and then\n",
       "handle_endtag.\n",
       "\u001b[1;31mInit docstring:\u001b[0m\n",
       "Constructor.\n",
       "\n",
       ":param markup: A string or a file-like object representing\n",
       " markup to be parsed.\n",
       "\n",
       ":param features: Desirable features of the parser to be\n",
       " used. This may be the name of a specific parser (\"lxml\",\n",
       " \"lxml-xml\", \"html.parser\", or \"html5lib\") or it may be the\n",
       " type of markup to be used (\"html\", \"html5\", \"xml\"). It's\n",
       " recommended that you name a specific parser, so that\n",
       " Beautiful Soup gives you the same results across platforms\n",
       " and virtual environments.\n",
       "\n",
       ":param builder: A TreeBuilder subclass to instantiate (or\n",
       " instance to use) instead of looking one up based on\n",
       " `features`. You only need to use this if you've implemented a\n",
       " custom TreeBuilder.\n",
       "\n",
       ":param parse_only: A SoupStrainer. Only parts of the document\n",
       " matching the SoupStrainer will be considered. This is useful\n",
       " when parsing part of a document that would otherwise be too\n",
       " large to fit into memory.\n",
       "\n",
       ":param from_encoding: A string indicating the encoding of the\n",
       " document to be parsed. Pass this in if Beautiful Soup is\n",
       " guessing wrongly about the document's encoding.\n",
       "\n",
       ":param exclude_encodings: A list of strings indicating\n",
       " encodings known to be wrong. Pass this in if you don't know\n",
       " the document's encoding but you know Beautiful Soup's guess is\n",
       " wrong.\n",
       "\n",
       ":param element_classes: A dictionary mapping BeautifulSoup\n",
       " classes like Tag and NavigableString, to other classes you'd\n",
       " like to be instantiated instead as the parse tree is\n",
       " built. This is useful for subclassing Tag or NavigableString\n",
       " to modify default behavior.\n",
       "\n",
       ":param kwargs: For backwards compatibility purposes, the\n",
       " constructor accepts certain keyword arguments used in\n",
       " Beautiful Soup 3. None of these arguments do anything in\n",
       " Beautiful Soup 4; they will result in a warning and then be\n",
       " ignored.\n",
       " \n",
       " Apart from this, any keyword arguments passed into the\n",
       " BeautifulSoup constructor are propagated to the TreeBuilder\n",
       " constructor. This makes it possible to configure a\n",
       " TreeBuilder by passing in arguments, not just by saying which\n",
       " one to use.\n",
       "\u001b[1;31mFile:\u001b[0m           c:\\users\\cyh\\anaconda3\\lib\\site-packages\\bs4\\__init__.py\n",
       "\u001b[1;31mType:\u001b[0m           type\n",
       "\u001b[1;31mSubclasses:\u001b[0m     BeautifulStoneSoup"
      ]
     },
     "metadata": {},
     "output_type": "display_data"
    }
   ],
   "source": [
    "BeautifulSoup?"
   ]
  },
  {
   "cell_type": "code",
   "execution_count": 6,
   "id": "76e026ad-af58-49e3-97d8-fc56820c7021",
   "metadata": {},
   "outputs": [],
   "source": [
    "# sample\n",
    "html = '''\n",
    "<div id=prices >\n",
    "    <table >\n",
    "        <tr class=bb>\n",
    "            <th class=\"bb lm lft\">Date\n",
    "            <th class=\"rgt bb\">Open\n",
    "            <th class=\"rgt bb\">High\n",
    "            <th class=\"rgt bb\">Low\n",
    "            <th class=\"rgt bb\">Close\n",
    "            <th class=\"rgt bb rm\">Volume\n",
    "        <tr>\n",
    "            <td class=\"lm\">Feb 28, 2014\n",
    "            <td class=\"rgt\">100.71\n",
    "            <td class=\"rgt\">100.71\n",
    "            <td class=\"rgt\">100.71\n",
    "            <td class=\"rgt\">100.71\n",
    "            <td class=\"rgt rm\">0\n",
    "     </table>\n",
    "'''"
   ]
  },
  {
   "cell_type": "code",
   "execution_count": 7,
   "id": "95e0c225-5fda-4fbb-a66b-21040579a8d4",
   "metadata": {},
   "outputs": [
    {
     "data": {
      "text/plain": [
       "<html><body><div id=\"prices\">\n",
       "<table>\n",
       "<tr class=\"bb\">\n",
       "<th class=\"bb lm lft\">Date\n",
       "            </th><th class=\"rgt bb\">Open\n",
       "            </th><th class=\"rgt bb\">High\n",
       "            </th><th class=\"rgt bb\">Low\n",
       "            </th><th class=\"rgt bb\">Close\n",
       "            </th><th class=\"rgt bb rm\">Volume\n",
       "        </th></tr><tr>\n",
       "<td class=\"lm\">Feb 28, 2014\n",
       "            </td><td class=\"rgt\">100.71\n",
       "            </td><td class=\"rgt\">100.71\n",
       "            </td><td class=\"rgt\">100.71\n",
       "            </td><td class=\"rgt\">100.71\n",
       "            </td><td class=\"rgt rm\">0\n",
       "     </td></tr></table>\n",
       "</div></body></html>"
      ]
     },
     "execution_count": 7,
     "metadata": {},
     "output_type": "execute_result"
    }
   ],
   "source": [
    "# lxml의 HTML 파서\n",
    "BeautifulSoup(html, 'lxml')"
   ]
  },
  {
   "cell_type": "code",
   "execution_count": 10,
   "id": "4c8e5293-ae5e-4c16-b5a6-c0ccd1eeeda9",
   "metadata": {},
   "outputs": [],
   "source": [
    "# 파이선 표준 html 파서"
   ]
  },
  {
   "cell_type": "code",
   "execution_count": 11,
   "id": "cb042cfa-f053-4439-9cdc-892384f32e1d",
   "metadata": {},
   "outputs": [
    {
     "data": {
      "text/plain": [
       "\n",
       "<div id=\"prices\">\n",
       "<table>\n",
       "<tr class=\"bb\">\n",
       "<th class=\"bb lm lft\">Date\n",
       "            <th class=\"rgt bb\">Open\n",
       "            <th class=\"rgt bb\">High\n",
       "            <th class=\"rgt bb\">Low\n",
       "            <th class=\"rgt bb\">Close\n",
       "            <th class=\"rgt bb rm\">Volume\n",
       "        <tr>\n",
       "<td class=\"lm\">Feb 28, 2014\n",
       "            <td class=\"rgt\">100.71\n",
       "            <td class=\"rgt\">100.71\n",
       "            <td class=\"rgt\">100.71\n",
       "            <td class=\"rgt\">100.71\n",
       "            <td class=\"rgt rm\">0\n",
       "     </td></td></td></td></td></td></tr></th></th></th></th></th></th></tr></table>\n",
       "</div>"
      ]
     },
     "execution_count": 11,
     "metadata": {},
     "output_type": "execute_result"
    }
   ],
   "source": [
    "# 파이선 표준 html 파서\n",
    "BeautifulSoup(html, 'html.parser')"
   ]
  },
  {
   "cell_type": "markdown",
   "id": "d7ddf471-2acd-4b5a-af04-6ed26fbc66e8",
   "metadata": {},
   "source": [
    "## BS4 객체의 속성과 메서드"
   ]
  },
  {
   "cell_type": "code",
   "execution_count": 8,
   "id": "501160cb-b743-45ed-b80e-750b79fc9338",
   "metadata": {},
   "outputs": [
    {
     "data": {
      "text/plain": [
       "'C:\\\\workspace\\\\wassup3\\\\02_Python_collection'"
      ]
     },
     "execution_count": 8,
     "metadata": {},
     "output_type": "execute_result"
    }
   ],
   "source": [
    "pwd"
   ]
  },
  {
   "cell_type": "code",
   "execution_count": 13,
   "id": "9c93ca45-aeb6-4caf-a99e-dd132579cce7",
   "metadata": {},
   "outputs": [],
   "source": [
    "html_file = open('sample/market.html', encoding='utf-8')\n",
    "html_src = html_file.read()\n",
    "html_file.close()"
   ]
  },
  {
   "cell_type": "raw",
   "id": "2f298ea9-a06d-4a31-8479-b001112aeb20",
   "metadata": {},
   "source": [
    "html_src"
   ]
  },
  {
   "cell_type": "code",
   "execution_count": 14,
   "id": "1bd84c0e-bd8a-4924-b9c9-deeedb744b14",
   "metadata": {},
   "outputs": [
    {
     "name": "stdout",
     "output_type": "stream",
     "text": [
      "<html>\n",
      "    <body>\n",
      "        <h1> 과일 목록 </h1>\n",
      "        <div>\n",
      "                <p id='banana' class='fruit' title='바나나'>\n",
      "                      <span class = 'price'> 3000원 </span>\n",
      "                      <span class = 'count'> 10개 </span>\n",
      "                      <span class = 'store'> 바나나가게 </span>\n",
      "                      <a href = 'https://www.banana.com'> banana.com </a>\n",
      "                </p>\n",
      "                <p id='cherry' class='fruit' title='체리'>\n",
      "                    <span class = 'price'> 100원 </span>\n",
      "                    <span class = 'count'> 50개 </span>\n",
      "                    <span class = 'store'> 체리가게</span>\n",
      "                    <a href = 'https://www.cherry.com'> cherry.com </a>\n",
      "                </p>\n",
      "                <p id='orange' class='fruit best' title='오렌지'>\n",
      "                    <span class = 'price'> 500원 </span>\n",
      "                    <span class = 'count'> 20개 </span>\n",
      "                    <span class = 'store'> 오렌지가게</span>\n",
      "                    <a href = 'https://www.orange.com'> orange.com </a>\n",
      "                    <span>\n",
      "                        <a href=\"https://www.orange.blog/\">오렌지 효능</a>\n",
      "                    </span>\n",
      "                </p>\n",
      "        </div>\n",
      "    </body> \n",
      "</html>\n"
     ]
    }
   ],
   "source": [
    "print(html_src)"
   ]
  },
  {
   "cell_type": "code",
   "execution_count": 15,
   "id": "183d20e4-a0b7-49d3-9fe5-8d1a9fac41e5",
   "metadata": {},
   "outputs": [],
   "source": [
    "# DOM구조로 변환(구문 분석)\n",
    "soup = BeautifulSoup(html_src, 'lxml')"
   ]
  },
  {
   "cell_type": "code",
   "execution_count": 16,
   "id": "44299a08-6753-4665-a38f-8cf165b183df",
   "metadata": {},
   "outputs": [
    {
     "data": {
      "text/plain": [
       "bs4.BeautifulSoup"
      ]
     },
     "execution_count": 16,
     "metadata": {},
     "output_type": "execute_result"
    }
   ],
   "source": [
    "type(soup)"
   ]
  },
  {
   "cell_type": "code",
   "execution_count": 17,
   "id": "b840add5-bae5-4e97-ba5c-4dabd650dfb1",
   "metadata": {},
   "outputs": [
    {
     "data": {
      "text/plain": [
       "<html>\n",
       "<body>\n",
       "<h1> 과일 목록 </h1>\n",
       "<div>\n",
       "<p class=\"fruit\" id=\"banana\" title=\"바나나\">\n",
       "<span class=\"price\"> 3000원 </span>\n",
       "<span class=\"count\"> 10개 </span>\n",
       "<span class=\"store\"> 바나나가게 </span>\n",
       "<a href=\"https://www.banana.com\"> banana.com </a>\n",
       "</p>\n",
       "<p class=\"fruit\" id=\"cherry\" title=\"체리\">\n",
       "<span class=\"price\"> 100원 </span>\n",
       "<span class=\"count\"> 50개 </span>\n",
       "<span class=\"store\"> 체리가게</span>\n",
       "<a href=\"https://www.cherry.com\"> cherry.com </a>\n",
       "</p>\n",
       "<p class=\"fruit best\" id=\"orange\" title=\"오렌지\">\n",
       "<span class=\"price\"> 500원 </span>\n",
       "<span class=\"count\"> 20개 </span>\n",
       "<span class=\"store\"> 오렌지가게</span>\n",
       "<a href=\"https://www.orange.com\"> orange.com </a>\n",
       "<span>\n",
       "<a href=\"https://www.orange.blog/\">오렌지 효능</a>\n",
       "</span>\n",
       "</p>\n",
       "</div>\n",
       "</body>\n",
       "</html>"
      ]
     },
     "execution_count": 17,
     "metadata": {},
     "output_type": "execute_result"
    }
   ],
   "source": [
    "soup"
   ]
  },
  {
   "cell_type": "markdown",
   "id": "c67667cb-21e3-464a-8d99-b7f2d7cb296a",
   "metadata": {},
   "source": [
    "## 메서드를 이용한 요소 탐색\n",
    "\n",
    "find\n",
    "soup.find/find_all(태그, id=orange, class_= ‘fruit)\n",
    "# class는 예약어이기 때문에 class_으로 매개변수명을 구분함\n",
    "soup.find(name = \"요소명\") : 첫번째 요소 찾기\n",
    "soup.find(attrs = {\"속성\":\"값\"})\n",
    "soup.find(속성 = \"값\") # 키워드 가변 인수\n",
    "soup.find(string = \"텍스트\")\n",
    "soup.find(recursive = \"True\") # 기본값, 후손 요소 전체에서 검색\n",
    "soup.find(reculsive = \"False\") # 직계 자식 내에서만 검색\n",
    "soup.find_all() : 모든 요소 찾기\n",
    "name, attrs, string, **kwargs, recursive, limit(final_all에서만 가능, limit=2는 2개만 찾기)\n",
    "\n"
   ]
  },
  {
   "cell_type": "code",
   "execution_count": 20,
   "id": "abc50f54-6231-4dd4-af51-edb62099ce88",
   "metadata": {},
   "outputs": [
    {
     "data": {
      "text/plain": [
       "\u001b[1;31mSignature:\u001b[0m \u001b[0msoup\u001b[0m\u001b[1;33m.\u001b[0m\u001b[0mfind\u001b[0m\u001b[1;33m(\u001b[0m\u001b[0mname\u001b[0m\u001b[1;33m=\u001b[0m\u001b[1;32mNone\u001b[0m\u001b[1;33m,\u001b[0m \u001b[0mattrs\u001b[0m\u001b[1;33m=\u001b[0m\u001b[1;33m{\u001b[0m\u001b[1;33m}\u001b[0m\u001b[1;33m,\u001b[0m \u001b[0mrecursive\u001b[0m\u001b[1;33m=\u001b[0m\u001b[1;32mTrue\u001b[0m\u001b[1;33m,\u001b[0m \u001b[0mstring\u001b[0m\u001b[1;33m=\u001b[0m\u001b[1;32mNone\u001b[0m\u001b[1;33m,\u001b[0m \u001b[1;33m**\u001b[0m\u001b[0mkwargs\u001b[0m\u001b[1;33m)\u001b[0m\u001b[1;33m\u001b[0m\u001b[1;33m\u001b[0m\u001b[0m\n",
       "\u001b[1;31mDocstring:\u001b[0m\n",
       "Look in the children of this PageElement and find the first\n",
       "PageElement that matches the given criteria.\n",
       "\n",
       "All find_* methods take a common set of arguments. See the online\n",
       "documentation for detailed explanations.\n",
       "\n",
       ":param name: A filter on tag name.\n",
       ":param attrs: A dictionary of filters on attribute values.\n",
       ":param recursive: If this is True, find() will perform a\n",
       "    recursive search of this PageElement's children. Otherwise,\n",
       "    only the direct children will be considered.\n",
       ":param limit: Stop looking after finding this many results.\n",
       ":kwargs: A dictionary of filters on attribute values.\n",
       ":return: A PageElement.\n",
       ":rtype: bs4.element.Tag | bs4.element.NavigableString\n",
       "\u001b[1;31mFile:\u001b[0m      c:\\users\\cyh\\anaconda3\\lib\\site-packages\\bs4\\element.py\n",
       "\u001b[1;31mType:\u001b[0m      method"
      ]
     },
     "metadata": {},
     "output_type": "display_data"
    }
   ],
   "source": [
    "soup.find?"
   ]
  },
  {
   "cell_type": "code",
   "execution_count": 21,
   "id": "36d976a7-55bc-4c9a-bdb7-9e19cb3e2beb",
   "metadata": {},
   "outputs": [
    {
     "data": {
      "text/plain": [
       "<p class=\"fruit\" id=\"banana\" title=\"바나나\">\n",
       "<span class=\"price\"> 3000원 </span>\n",
       "<span class=\"count\"> 10개 </span>\n",
       "<span class=\"store\"> 바나나가게 </span>\n",
       "<a href=\"https://www.banana.com\"> banana.com </a>\n",
       "</p>"
      ]
     },
     "execution_count": 21,
     "metadata": {},
     "output_type": "execute_result"
    }
   ],
   "source": [
    "soup.find('p')"
   ]
  },
  {
   "cell_type": "code",
   "execution_count": 22,
   "id": "425a137b-ef5d-41be-a82a-c29099ad35f4",
   "metadata": {},
   "outputs": [
    {
     "data": {
      "text/plain": [
       "bs4.element.Tag"
      ]
     },
     "execution_count": 22,
     "metadata": {},
     "output_type": "execute_result"
    }
   ],
   "source": [
    "type(soup.find('p'))"
   ]
  },
  {
   "cell_type": "code",
   "execution_count": 23,
   "id": "ccc430de-902f-419f-9d27-02fa075c1a6b",
   "metadata": {},
   "outputs": [
    {
     "data": {
      "text/plain": [
       "[<p class=\"fruit\" id=\"banana\" title=\"바나나\">\n",
       " <span class=\"price\"> 3000원 </span>\n",
       " <span class=\"count\"> 10개 </span>\n",
       " <span class=\"store\"> 바나나가게 </span>\n",
       " <a href=\"https://www.banana.com\"> banana.com </a>\n",
       " </p>,\n",
       " <p class=\"fruit\" id=\"cherry\" title=\"체리\">\n",
       " <span class=\"price\"> 100원 </span>\n",
       " <span class=\"count\"> 50개 </span>\n",
       " <span class=\"store\"> 체리가게</span>\n",
       " <a href=\"https://www.cherry.com\"> cherry.com </a>\n",
       " </p>,\n",
       " <p class=\"fruit best\" id=\"orange\" title=\"오렌지\">\n",
       " <span class=\"price\"> 500원 </span>\n",
       " <span class=\"count\"> 20개 </span>\n",
       " <span class=\"store\"> 오렌지가게</span>\n",
       " <a href=\"https://www.orange.com\"> orange.com </a>\n",
       " <span>\n",
       " <a href=\"https://www.orange.blog/\">오렌지 효능</a>\n",
       " </span>\n",
       " </p>]"
      ]
     },
     "execution_count": 23,
     "metadata": {},
     "output_type": "execute_result"
    }
   ],
   "source": [
    "soup.find_all('p')"
   ]
  },
  {
   "cell_type": "code",
   "execution_count": 24,
   "id": "bcae402e-7524-4c14-8fe4-f2663341ff04",
   "metadata": {},
   "outputs": [
    {
     "data": {
      "text/plain": [
       "bs4.element.ResultSet"
      ]
     },
     "execution_count": 24,
     "metadata": {},
     "output_type": "execute_result"
    }
   ],
   "source": [
    "type(soup.find_all('p'))"
   ]
  },
  {
   "cell_type": "code",
   "execution_count": 25,
   "id": "c7a918ed-951a-4a7f-ba5a-f0bfde1bc7fe",
   "metadata": {},
   "outputs": [
    {
     "data": {
      "text/plain": [
       "<p class=\"fruit best\" id=\"orange\" title=\"오렌지\">\n",
       "<span class=\"price\"> 500원 </span>\n",
       "<span class=\"count\"> 20개 </span>\n",
       "<span class=\"store\"> 오렌지가게</span>\n",
       "<a href=\"https://www.orange.com\"> orange.com </a>\n",
       "<span>\n",
       "<a href=\"https://www.orange.blog/\">오렌지 효능</a>\n",
       "</span>\n",
       "</p>"
      ]
     },
     "execution_count": 25,
     "metadata": {},
     "output_type": "execute_result"
    }
   ],
   "source": [
    "soup.find('p', id=\"orange\")"
   ]
  },
  {
   "cell_type": "code",
   "execution_count": 26,
   "id": "024bbda8-8e9b-4053-8385-c3b4e9929493",
   "metadata": {},
   "outputs": [
    {
     "data": {
      "text/plain": [
       "[<p class=\"fruit\" id=\"banana\" title=\"바나나\">\n",
       " <span class=\"price\"> 3000원 </span>\n",
       " <span class=\"count\"> 10개 </span>\n",
       " <span class=\"store\"> 바나나가게 </span>\n",
       " <a href=\"https://www.banana.com\"> banana.com </a>\n",
       " </p>,\n",
       " <p class=\"fruit\" id=\"cherry\" title=\"체리\">\n",
       " <span class=\"price\"> 100원 </span>\n",
       " <span class=\"count\"> 50개 </span>\n",
       " <span class=\"store\"> 체리가게</span>\n",
       " <a href=\"https://www.cherry.com\"> cherry.com </a>\n",
       " </p>,\n",
       " <p class=\"fruit best\" id=\"orange\" title=\"오렌지\">\n",
       " <span class=\"price\"> 500원 </span>\n",
       " <span class=\"count\"> 20개 </span>\n",
       " <span class=\"store\"> 오렌지가게</span>\n",
       " <a href=\"https://www.orange.com\"> orange.com </a>\n",
       " <span>\n",
       " <a href=\"https://www.orange.blog/\">오렌지 효능</a>\n",
       " </span>\n",
       " </p>]"
      ]
     },
     "execution_count": 26,
     "metadata": {},
     "output_type": "execute_result"
    }
   ],
   "source": [
    "soup.find_all(class_='fruit')"
   ]
  },
  {
   "cell_type": "markdown",
   "id": "cc806638-8327-4a96-acbe-6ddfd698c72d",
   "metadata": {},
   "source": [
    "### select\n",
    "'''\n",
    "find와 select의 차이, select는 css선택자 사용, 관계 연결 가능\n",
    "find와 select와 조건 방식이 다름\n",
    "find 와 select_one은 단일 태그값 만 반환\n",
    "find_all과 select는 모든 tag를 list로 반환\n",
    "soup.select/select_one(태그, '#orange', '.fruit')\n",
    "soup.select() : 모든 요소 찾기 --> CSS 선택자 * soup.select_one() : 첫번째 요소 찾기\n",
    "'''"
   ]
  },
  {
   "cell_type": "code",
   "execution_count": 28,
   "id": "f6103276-ff45-48b0-88c2-26dd5512448e",
   "metadata": {},
   "outputs": [
    {
     "data": {
      "text/plain": [
       "[<p class=\"fruit\" id=\"banana\" title=\"바나나\">\n",
       " <span class=\"price\"> 3000원 </span>\n",
       " <span class=\"count\"> 10개 </span>\n",
       " <span class=\"store\"> 바나나가게 </span>\n",
       " <a href=\"https://www.banana.com\"> banana.com </a>\n",
       " </p>,\n",
       " <p class=\"fruit\" id=\"cherry\" title=\"체리\">\n",
       " <span class=\"price\"> 100원 </span>\n",
       " <span class=\"count\"> 50개 </span>\n",
       " <span class=\"store\"> 체리가게</span>\n",
       " <a href=\"https://www.cherry.com\"> cherry.com </a>\n",
       " </p>,\n",
       " <p class=\"fruit best\" id=\"orange\" title=\"오렌지\">\n",
       " <span class=\"price\"> 500원 </span>\n",
       " <span class=\"count\"> 20개 </span>\n",
       " <span class=\"store\"> 오렌지가게</span>\n",
       " <a href=\"https://www.orange.com\"> orange.com </a>\n",
       " <span>\n",
       " <a href=\"https://www.orange.blog/\">오렌지 효능</a>\n",
       " </span>\n",
       " </p>]"
      ]
     },
     "execution_count": 28,
     "metadata": {},
     "output_type": "execute_result"
    }
   ],
   "source": [
    "soup.select('p')"
   ]
  },
  {
   "cell_type": "code",
   "execution_count": 31,
   "id": "eb7c71b1-f6b9-4225-80ad-233894f91cb9",
   "metadata": {},
   "outputs": [],
   "source": [
    "# find는 요소를 찾고 select는 관계를 찾는다"
   ]
  },
  {
   "cell_type": "code",
   "execution_count": 30,
   "id": "5fe35fb3-5a25-4ed4-a6d9-c6a5f3d30745",
   "metadata": {},
   "outputs": [
    {
     "data": {
      "text/plain": [
       "<p class=\"fruit\" id=\"banana\" title=\"바나나\">\n",
       "<span class=\"price\"> 3000원 </span>\n",
       "<span class=\"count\"> 10개 </span>\n",
       "<span class=\"store\"> 바나나가게 </span>\n",
       "<a href=\"https://www.banana.com\"> banana.com </a>\n",
       "</p>"
      ]
     },
     "execution_count": 30,
     "metadata": {},
     "output_type": "execute_result"
    }
   ],
   "source": [
    "soup.select_one('p')"
   ]
  },
  {
   "cell_type": "code",
   "execution_count": 32,
   "id": "558ea3b0-e3a5-41ec-b332-b68142b41643",
   "metadata": {},
   "outputs": [
    {
     "data": {
      "text/plain": [
       "[<p class=\"fruit best\" id=\"orange\" title=\"오렌지\">\n",
       " <span class=\"price\"> 500원 </span>\n",
       " <span class=\"count\"> 20개 </span>\n",
       " <span class=\"store\"> 오렌지가게</span>\n",
       " <a href=\"https://www.orange.com\"> orange.com </a>\n",
       " <span>\n",
       " <a href=\"https://www.orange.blog/\">오렌지 효능</a>\n",
       " </span>\n",
       " </p>]"
      ]
     },
     "execution_count": 32,
     "metadata": {},
     "output_type": "execute_result"
    }
   ],
   "source": [
    "# css셀렉터 문법\n",
    "soup.select('#orange') # id 속성"
   ]
  },
  {
   "cell_type": "code",
   "execution_count": 33,
   "id": "88c06808-6f02-4001-ba87-926d17ff9aaf",
   "metadata": {},
   "outputs": [
    {
     "data": {
      "text/plain": [
       "<p class=\"fruit best\" id=\"orange\" title=\"오렌지\">\n",
       "<span class=\"price\"> 500원 </span>\n",
       "<span class=\"count\"> 20개 </span>\n",
       "<span class=\"store\"> 오렌지가게</span>\n",
       "<a href=\"https://www.orange.com\"> orange.com </a>\n",
       "<span>\n",
       "<a href=\"https://www.orange.blog/\">오렌지 효능</a>\n",
       "</span>\n",
       "</p>"
      ]
     },
     "execution_count": 33,
     "metadata": {},
     "output_type": "execute_result"
    }
   ],
   "source": [
    "soup.select_one('#orange')"
   ]
  },
  {
   "cell_type": "code",
   "execution_count": 34,
   "id": "eed0a7b6-9c0c-48af-8bbe-52f5e15c2344",
   "metadata": {},
   "outputs": [
    {
     "data": {
      "text/plain": [
       "[<span class=\"price\"> 3000원 </span>,\n",
       " <span class=\"price\"> 100원 </span>,\n",
       " <span class=\"price\"> 500원 </span>]"
      ]
     },
     "execution_count": 34,
     "metadata": {},
     "output_type": "execute_result"
    }
   ],
   "source": [
    "soup.select('.price') # class 속성"
   ]
  },
  {
   "cell_type": "code",
   "execution_count": 35,
   "id": "5220bdd1-4c1d-4714-942e-74b7fe8e1319",
   "metadata": {},
   "outputs": [
    {
     "data": {
      "text/plain": [
       "[<p class=\"fruit best\" id=\"orange\" title=\"오렌지\">\n",
       " <span class=\"price\"> 500원 </span>\n",
       " <span class=\"count\"> 20개 </span>\n",
       " <span class=\"store\"> 오렌지가게</span>\n",
       " <a href=\"https://www.orange.com\"> orange.com </a>\n",
       " <span>\n",
       " <a href=\"https://www.orange.blog/\">오렌지 효능</a>\n",
       " </span>\n",
       " </p>]"
      ]
     },
     "execution_count": 35,
     "metadata": {},
     "output_type": "execute_result"
    }
   ],
   "source": [
    "soup.select('p#orange') #AND관계"
   ]
  },
  {
   "cell_type": "code",
   "execution_count": 36,
   "id": "02f149c2-1e42-46f6-a742-e5fc20d2fc19",
   "metadata": {},
   "outputs": [
    {
     "data": {
      "text/plain": [
       "[<span class=\"store\"> 바나나가게 </span>,\n",
       " <a href=\"https://www.banana.com\"> banana.com </a>,\n",
       " <span class=\"store\"> 체리가게</span>,\n",
       " <a href=\"https://www.cherry.com\"> cherry.com </a>,\n",
       " <span class=\"store\"> 오렌지가게</span>,\n",
       " <a href=\"https://www.orange.com\"> orange.com </a>,\n",
       " <a href=\"https://www.orange.blog/\">오렌지 효능</a>]"
      ]
     },
     "execution_count": 36,
     "metadata": {},
     "output_type": "execute_result"
    }
   ],
   "source": [
    "# a태그 또는 스토어클래스에 해당하는 요소를 찾아줘\n",
    "soup.select('a, .store')  # , = OR 관계"
   ]
  },
  {
   "cell_type": "code",
   "execution_count": 37,
   "id": "5925499a-528d-4259-857d-5491383a7754",
   "metadata": {},
   "outputs": [
    {
     "data": {
      "text/plain": [
       "[<p class=\"fruit best\" id=\"orange\" title=\"오렌지\">\n",
       " <span class=\"price\"> 500원 </span>\n",
       " <span class=\"count\"> 20개 </span>\n",
       " <span class=\"store\"> 오렌지가게</span>\n",
       " <a href=\"https://www.orange.com\"> orange.com </a>\n",
       " <span>\n",
       " <a href=\"https://www.orange.blog/\">오렌지 효능</a>\n",
       " </span>\n",
       " </p>]"
      ]
     },
     "execution_count": 37,
     "metadata": {},
     "output_type": "execute_result"
    }
   ],
   "source": [
    "soup.select('.fruit.best') # 클래스값이 2개인 태그"
   ]
  },
  {
   "cell_type": "code",
   "execution_count": 38,
   "id": "beb5e3f8-6ab6-4d74-9809-64f04bd7df3f",
   "metadata": {},
   "outputs": [
    {
     "data": {
      "text/plain": [
       "[<a href=\"https://www.orange.com\"> orange.com </a>]"
      ]
     },
     "execution_count": 38,
     "metadata": {},
     "output_type": "execute_result"
    }
   ],
   "source": [
    "soup.select('.fruit.best>a')"
   ]
  },
  {
   "cell_type": "code",
   "execution_count": 39,
   "id": "d27f7ec8-10cc-4848-b9bf-f298fdc0a906",
   "metadata": {},
   "outputs": [
    {
     "data": {
      "text/plain": [
       "[<a href=\"https://www.orange.com\"> orange.com </a>]"
      ]
     },
     "execution_count": 39,
     "metadata": {},
     "output_type": "execute_result"
    }
   ],
   "source": [
    "soup.select('.fruit.best > a') # > 자식관계(공백주의) )"
   ]
  },
  {
   "cell_type": "code",
   "execution_count": 43,
   "id": "db5cfc53-e479-4679-839b-0fab3e34389e",
   "metadata": {},
   "outputs": [
    {
     "data": {
      "text/plain": [
       "[<a href=\"https://www.orange.com\"> orange.com </a>,\n",
       " <a href=\"https://www.orange.blog/\">오렌지 효능</a>]"
      ]
     },
     "execution_count": 43,
     "metadata": {},
     "output_type": "execute_result"
    }
   ],
   "source": [
    "soup.select('.fruit.best a')"
   ]
  },
  {
   "cell_type": "code",
   "execution_count": 63,
   "id": "37d1fd71-0185-4e47-a676-7902f8558507",
   "metadata": {},
   "outputs": [],
   "source": [
    "mylist = soup.select('.fruit.best a')[0]"
   ]
  },
  {
   "cell_type": "code",
   "execution_count": 64,
   "id": "6d38b0ab-b32d-4af2-ae08-b38c89beb196",
   "metadata": {},
   "outputs": [
    {
     "data": {
      "text/plain": [
       "' orange.com '"
      ]
     },
     "execution_count": 64,
     "metadata": {},
     "output_type": "execute_result"
    }
   ],
   "source": [
    "mylist.text"
   ]
  },
  {
   "cell_type": "code",
   "execution_count": 69,
   "id": "8db8fd1c-1023-4179-9960-d36d99ca8ee2",
   "metadata": {},
   "outputs": [],
   "source": [
    "mylist = soup.select('.fruit.best a')"
   ]
  },
  {
   "cell_type": "code",
   "execution_count": 70,
   "id": "e75d25c6-8a59-4970-ad87-bbb211c3d64d",
   "metadata": {},
   "outputs": [
    {
     "name": "stdout",
     "output_type": "stream",
     "text": [
      " orange.com \n",
      "오렌지 효능\n"
     ]
    }
   ],
   "source": [
    "for tagItem in mylist :\n",
    "    print(tagItem.text)"
   ]
  },
  {
   "cell_type": "code",
   "execution_count": 71,
   "id": "11c145bb-439c-4f9d-85d9-820fa8c5eb49",
   "metadata": {},
   "outputs": [
    {
     "data": {
      "text/plain": [
       "'https://www.orange.blog/'"
      ]
     },
     "execution_count": 71,
     "metadata": {},
     "output_type": "execute_result"
    }
   ],
   "source": [
    "tagItem['href']"
   ]
  },
  {
   "cell_type": "code",
   "execution_count": 75,
   "id": "c3038c43-f4c7-4b98-8987-e6aaafe19a34",
   "metadata": {},
   "outputs": [
    {
     "name": "stdout",
     "output_type": "stream",
     "text": [
      "https://www.orange.com\n",
      "https://www.orange.blog/\n"
     ]
    }
   ],
   "source": [
    "for tagItem in mylist :\n",
    "    print(tagItem['href'])"
   ]
  },
  {
   "cell_type": "code",
   "execution_count": 79,
   "id": "db19da08-9c1d-4106-8c0b-4b552a15076a",
   "metadata": {},
   "outputs": [],
   "source": [
    "i = soup.select('.fruit')"
   ]
  },
  {
   "cell_type": "code",
   "execution_count": 80,
   "id": "f2126735-486d-4d8c-963b-27b26fd9be93",
   "metadata": {},
   "outputs": [
    {
     "name": "stdout",
     "output_type": "stream",
     "text": [
      "[<p class=\"fruit\" id=\"banana\" title=\"바나나\">\n",
      "<span class=\"price\"> 3000원 </span>\n",
      "<span class=\"count\"> 10개 </span>\n",
      "<span class=\"store\"> 바나나가게 </span>\n",
      "<a href=\"https://www.banana.com\"> banana.com </a>\n",
      "</p>, <p class=\"fruit\" id=\"cherry\" title=\"체리\">\n",
      "<span class=\"price\"> 100원 </span>\n",
      "<span class=\"count\"> 50개 </span>\n",
      "<span class=\"store\"> 체리가게</span>\n",
      "<a href=\"https://www.cherry.com\"> cherry.com </a>\n",
      "</p>, <p class=\"fruit best\" id=\"orange\" title=\"오렌지\">\n",
      "<span class=\"price\"> 500원 </span>\n",
      "<span class=\"count\"> 20개 </span>\n",
      "<span class=\"store\"> 오렌지가게</span>\n",
      "<a href=\"https://www.orange.com\"> orange.com </a>\n",
      "<span>\n",
      "<a href=\"https://www.orange.blog/\">오렌지 효능</a>\n",
      "</span>\n",
      "</p>]\n"
     ]
    }
   ],
   "source": [
    "print(i)"
   ]
  },
  {
   "cell_type": "code",
   "execution_count": 84,
   "id": "9e680d38-4c72-41c8-9976-4c4b32d9b7d7",
   "metadata": {},
   "outputs": [
    {
     "name": "stdout",
     "output_type": "stream",
     "text": [
      "바나나  3000원   10개   바나나가게 \n",
      "체리  100원   50개   체리가게\n",
      "오렌지  500원   20개   오렌지가게\n"
     ]
    }
   ],
   "source": [
    "for item in items:\n",
    "    print(item['title'], item.find('span','price').text, \n",
    "          item.find('span','count').text, item.find('span', 'store').text)\n"
   ]
  },
  {
   "cell_type": "code",
   "execution_count": 89,
   "id": "a409260e-4c00-437e-a645-9466da818b23",
   "metadata": {},
   "outputs": [
    {
     "name": "stdout",
     "output_type": "stream",
     "text": [
      "<p class=\"fruit\" id=\"banana\" title=\"바나나\">\n",
      "<span class=\"price\"> 3000원 </span>\n",
      "<span class=\"count\"> 10개 </span>\n",
      "<span class=\"store\"> 바나나가게 </span>\n",
      "<a href=\"https://www.banana.com\"> banana.com </a>\n",
      "</p>\n",
      "<p class=\"fruit\" id=\"cherry\" title=\"체리\">\n",
      "<span class=\"price\"> 100원 </span>\n",
      "<span class=\"count\"> 50개 </span>\n",
      "<span class=\"store\"> 체리가게</span>\n",
      "<a href=\"https://www.cherry.com\"> cherry.com </a>\n",
      "</p>\n",
      "<p class=\"fruit best\" id=\"orange\" title=\"오렌지\">\n",
      "<span class=\"price\"> 500원 </span>\n",
      "<span class=\"count\"> 20개 </span>\n",
      "<span class=\"store\"> 오렌지가게</span>\n",
      "<a href=\"https://www.orange.com\"> orange.com </a>\n",
      "<span>\n",
      "<a href=\"https://www.orange.blog/\">오렌지 효능</a>\n",
      "</span>\n",
      "</p>\n"
     ]
    }
   ],
   "source": [
    "for item in soup.select('.fruit'):\n",
    "    print(item)"
   ]
  },
  {
   "cell_type": "markdown",
   "id": "f36aae2f-f74e-4d58-9152-26c651a38397",
   "metadata": {},
   "source": [
    "# 요소의 속성 및 텍스트 반환\n",
    "```\n",
    "e.name : 요소의 이름 얻기\n",
    "e['속성명'] : 요소의 속성 얻기\n",
    "e.attrs : 요소의 속성 목록(dict)\n",
    "e.string : 요소의 텍스트\n",
    "e.strings : 자식과 후손 요소 텍스트 목록(iter)\n",
    "e.text : 자식과 후손 요소의 텍스트를 문자열로 얻기\n",
    "```"
   ]
  },
  {
   "cell_type": "code",
   "execution_count": 92,
   "id": "22e3eabd-6308-4fbc-b4ee-3141dd928f87",
   "metadata": {},
   "outputs": [],
   "source": [
    "e = soup.find('p', id=\"orange\")"
   ]
  },
  {
   "cell_type": "code",
   "execution_count": 93,
   "id": "f703d826-457f-48f3-a44a-548a68c5ed0b",
   "metadata": {},
   "outputs": [
    {
     "data": {
      "text/plain": [
       "bs4.element.Tag"
      ]
     },
     "execution_count": 93,
     "metadata": {},
     "output_type": "execute_result"
    }
   ],
   "source": [
    "type(e)"
   ]
  },
  {
   "cell_type": "code",
   "execution_count": 94,
   "id": "c4ad4df6-3f46-4f9a-91a2-5fb9fc5cc6ab",
   "metadata": {},
   "outputs": [
    {
     "data": {
      "text/plain": [
       "'p'"
      ]
     },
     "execution_count": 94,
     "metadata": {},
     "output_type": "execute_result"
    }
   ],
   "source": [
    "e.name"
   ]
  },
  {
   "cell_type": "code",
   "execution_count": 96,
   "id": "0ff0469a-464f-4b9a-b19b-a3cd774ffaf4",
   "metadata": {},
   "outputs": [
    {
     "data": {
      "text/plain": [
       "{'id': 'orange', 'class': ['fruit', 'best'], 'title': '오렌지'}"
      ]
     },
     "execution_count": 96,
     "metadata": {},
     "output_type": "execute_result"
    }
   ],
   "source": [
    "e.attrs"
   ]
  },
  {
   "cell_type": "code",
   "execution_count": 97,
   "id": "c2b09a10-d917-400d-a6d6-09057e017e04",
   "metadata": {},
   "outputs": [
    {
     "data": {
      "text/plain": [
       "'오렌지'"
      ]
     },
     "execution_count": 97,
     "metadata": {},
     "output_type": "execute_result"
    }
   ],
   "source": [
    "e.attrs['title']"
   ]
  },
  {
   "cell_type": "code",
   "execution_count": 98,
   "id": "379bbb03-c4bd-449d-b3e1-33ee3c1dacb7",
   "metadata": {},
   "outputs": [
    {
     "name": "stdout",
     "output_type": "stream",
     "text": [
      "None\n"
     ]
    }
   ],
   "source": [
    "print(e.string)"
   ]
  },
  {
   "cell_type": "code",
   "execution_count": 99,
   "id": "6975fc3d-d2fa-4ba9-ad9b-caa3581eb158",
   "metadata": {},
   "outputs": [
    {
     "name": "stdout",
     "output_type": "stream",
     "text": [
      "\n",
      " 500원 \n",
      " 20개 \n",
      " 오렌지가게\n",
      " orange.com \n",
      "\n",
      "오렌지 효능\n",
      "\n",
      "\n"
     ]
    }
   ],
   "source": [
    "print(e.text)"
   ]
  },
  {
   "cell_type": "code",
   "execution_count": 100,
   "id": "b2e3bb68-a323-4ce7-9740-5e9c45fb9a97",
   "metadata": {},
   "outputs": [
    {
     "name": "stdout",
     "output_type": "stream",
     "text": [
      "<generator object Tag._all_strings at 0x0000022316665540>\n"
     ]
    }
   ],
   "source": [
    "print(e.strings)"
   ]
  },
  {
   "cell_type": "markdown",
   "id": "97a34fed-98ea-4a89-88d7-4ab3248e6357",
   "metadata": {},
   "source": [
    "## 트리 구조를 활용한 요소 탐색\n",
    "```\n",
    "e.요소명 : e 하위의 첫번째 요소\n",
    "e.parent : 부모 요소\n",
    "e.parents : 모든 조상 요소(iter)\n",
    "e.contents : 모든 자식 요소(list)\n",
    "e.children : 모든 자식 요소(iter)\n",
    "e.descendants : 모든 후손 요소(iter)\n",
    "e.previous_sibling : 바로 앞의 형제 요소\n",
    "e.previous_siblings : 모든 앞의 형제 요소(iter)\n",
    "e.next_sibling : 바로 뒤의 형제 요소\n",
    "e.next_siblings : 모든 뒤의 형제 요소(iter)\n",
    "e.previous_element : 바로 앞의 요소\n",
    "e.previous_elements : 모든 앞에 있는 요소(iter)\n",
    "e.next_element : 바로 뒤의 요소\n",
    "e.next_elements : 모든 뒤에 있는 요소(iter)\n",
    "```"
   ]
  },
  {
   "cell_type": "code",
   "execution_count": 102,
   "id": "e2acb2c2-c38f-465d-b170-38df9fb20050",
   "metadata": {},
   "outputs": [
    {
     "data": {
      "text/plain": [
       "<div>\n",
       "<p class=\"fruit\" id=\"banana\" title=\"바나나\">\n",
       "<span class=\"price\"> 3000원 </span>\n",
       "<span class=\"count\"> 10개 </span>\n",
       "<span class=\"store\"> 바나나가게 </span>\n",
       "<a href=\"https://www.banana.com\"> banana.com </a>\n",
       "</p>\n",
       "<p class=\"fruit\" id=\"cherry\" title=\"체리\">\n",
       "<span class=\"price\"> 100원 </span>\n",
       "<span class=\"count\"> 50개 </span>\n",
       "<span class=\"store\"> 체리가게</span>\n",
       "<a href=\"https://www.cherry.com\"> cherry.com </a>\n",
       "</p>\n",
       "<p class=\"fruit best\" id=\"orange\" title=\"오렌지\">\n",
       "<span class=\"price\"> 500원 </span>\n",
       "<span class=\"count\"> 20개 </span>\n",
       "<span class=\"store\"> 오렌지가게</span>\n",
       "<a href=\"https://www.orange.com\"> orange.com </a>\n",
       "<span>\n",
       "<a href=\"https://www.orange.blog/\">오렌지 효능</a>\n",
       "</span>\n",
       "</p>\n",
       "</div>"
      ]
     },
     "execution_count": 102,
     "metadata": {},
     "output_type": "execute_result"
    }
   ],
   "source": [
    "# 부모 요소\n",
    "e.parent"
   ]
  },
  {
   "cell_type": "code",
   "execution_count": 103,
   "id": "84f6b9b9-aa92-482d-ab52-cf50054c87b9",
   "metadata": {},
   "outputs": [
    {
     "name": "stdout",
     "output_type": "stream",
     "text": [
      "div\n",
      "body\n",
      "html\n",
      "[document]\n"
     ]
    }
   ],
   "source": [
    "for item in e.parents:\n",
    "    print(item.name)"
   ]
  },
  {
   "cell_type": "code",
   "execution_count": 104,
   "id": "96334313-1926-4b36-bd46-1cfa4cbff39a",
   "metadata": {},
   "outputs": [
    {
     "data": {
      "text/plain": [
       "['\\n',\n",
       " <span class=\"price\"> 500원 </span>,\n",
       " '\\n',\n",
       " <span class=\"count\"> 20개 </span>,\n",
       " '\\n',\n",
       " <span class=\"store\"> 오렌지가게</span>,\n",
       " '\\n',\n",
       " <a href=\"https://www.orange.com\"> orange.com </a>,\n",
       " '\\n',\n",
       " <span>\n",
       " <a href=\"https://www.orange.blog/\">오렌지 효능</a>\n",
       " </span>,\n",
       " '\\n']"
      ]
     },
     "execution_count": 104,
     "metadata": {},
     "output_type": "execute_result"
    }
   ],
   "source": [
    "# 모든 자손 요소(list)\n",
    "e.contents"
   ]
  },
  {
   "cell_type": "code",
   "execution_count": 105,
   "id": "980e5bc3-e035-4825-acce-340d9b5acb68",
   "metadata": {},
   "outputs": [
    {
     "name": "stdout",
     "output_type": "stream",
     "text": [
      "None\n",
      "span\n",
      "None\n",
      "span\n",
      "None\n",
      "span\n",
      "None\n",
      "a\n",
      "None\n",
      "span\n",
      "None\n"
     ]
    }
   ],
   "source": [
    "for item in e.children:\n",
    "    print(item.name)"
   ]
  },
  {
   "cell_type": "code",
   "execution_count": null,
   "id": "dd9854a3-0da8-43e6-b429-6205c89d5342",
   "metadata": {},
   "outputs": [],
   "source": []
  },
  {
   "cell_type": "code",
   "execution_count": null,
   "id": "608e1073-f1be-4bf3-9490-8510bc8b9a85",
   "metadata": {},
   "outputs": [],
   "source": []
  },
  {
   "cell_type": "code",
   "execution_count": null,
   "id": "dae4e868-79e8-42d3-96a7-ec64698e1abb",
   "metadata": {},
   "outputs": [],
   "source": []
  },
  {
   "cell_type": "code",
   "execution_count": null,
   "id": "a642ee5c-d3a7-4db3-937c-b37c1eaf798c",
   "metadata": {},
   "outputs": [],
   "source": []
  }
 ],
 "metadata": {
  "kernelspec": {
   "display_name": "Python 3 (ipykernel)",
   "language": "python",
   "name": "python3"
  },
  "language_info": {
   "codemirror_mode": {
    "name": "ipython",
    "version": 3
   },
   "file_extension": ".py",
   "mimetype": "text/x-python",
   "name": "python",
   "nbconvert_exporter": "python",
   "pygments_lexer": "ipython3",
   "version": "3.11.7"
  }
 },
 "nbformat": 4,
 "nbformat_minor": 5
}
