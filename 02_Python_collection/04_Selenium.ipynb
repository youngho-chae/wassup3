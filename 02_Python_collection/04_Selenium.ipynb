{
 "cells": [
  {
   "cell_type": "markdown",
   "id": "fbcd2936-3b91-4a3c-95ab-14464086e9e9",
   "metadata": {},
   "source": [
    "# Selenium 사용하기"
   ]
  },
  {
   "cell_type": "code",
   "execution_count": 3,
   "id": "fcabf8b2-e0fb-4fd9-b200-852181c10f54",
   "metadata": {},
   "outputs": [
    {
     "name": "stdout",
     "output_type": "stream",
     "text": [
      "Collecting selenium\n",
      "  Downloading selenium-4.22.0-py3-none-any.whl.metadata (7.0 kB)\n",
      "Requirement already satisfied: urllib3<3,>=1.26 in c:\\users\\cyh\\anaconda3\\lib\\site-packages (from urllib3[socks]<3,>=1.26->selenium) (2.0.7)\n",
      "Collecting trio~=0.17 (from selenium)\n",
      "  Downloading trio-0.25.1-py3-none-any.whl.metadata (8.7 kB)\n",
      "Collecting trio-websocket~=0.9 (from selenium)\n",
      "  Downloading trio_websocket-0.11.1-py3-none-any.whl.metadata (4.7 kB)\n",
      "Requirement already satisfied: certifi>=2021.10.8 in c:\\users\\cyh\\anaconda3\\lib\\site-packages (from selenium) (2024.2.2)\n",
      "Requirement already satisfied: typing_extensions>=4.9.0 in c:\\users\\cyh\\anaconda3\\lib\\site-packages (from selenium) (4.9.0)\n",
      "Collecting websocket-client>=1.8.0 (from selenium)\n",
      "  Downloading websocket_client-1.8.0-py3-none-any.whl.metadata (8.0 kB)\n",
      "Collecting attrs>=23.2.0 (from trio~=0.17->selenium)\n",
      "  Downloading attrs-23.2.0-py3-none-any.whl.metadata (9.5 kB)\n",
      "Requirement already satisfied: sortedcontainers in c:\\users\\cyh\\anaconda3\\lib\\site-packages (from trio~=0.17->selenium) (2.4.0)\n",
      "Requirement already satisfied: idna in c:\\users\\cyh\\anaconda3\\lib\\site-packages (from trio~=0.17->selenium) (3.4)\n",
      "Collecting outcome (from trio~=0.17->selenium)\n",
      "  Downloading outcome-1.3.0.post0-py2.py3-none-any.whl.metadata (2.6 kB)\n",
      "Requirement already satisfied: sniffio>=1.3.0 in c:\\users\\cyh\\anaconda3\\lib\\site-packages (from trio~=0.17->selenium) (1.3.0)\n",
      "Requirement already satisfied: cffi>=1.14 in c:\\users\\cyh\\anaconda3\\lib\\site-packages (from trio~=0.17->selenium) (1.16.0)\n",
      "Collecting wsproto>=0.14 (from trio-websocket~=0.9->selenium)\n",
      "  Downloading wsproto-1.2.0-py3-none-any.whl.metadata (5.6 kB)\n",
      "Requirement already satisfied: pysocks!=1.5.7,<2.0,>=1.5.6 in c:\\users\\cyh\\anaconda3\\lib\\site-packages (from urllib3[socks]<3,>=1.26->selenium) (1.7.1)\n",
      "Requirement already satisfied: pycparser in c:\\users\\cyh\\anaconda3\\lib\\site-packages (from cffi>=1.14->trio~=0.17->selenium) (2.21)\n",
      "Collecting h11<1,>=0.9.0 (from wsproto>=0.14->trio-websocket~=0.9->selenium)\n",
      "  Downloading h11-0.14.0-py3-none-any.whl.metadata (8.2 kB)\n",
      "Downloading selenium-4.22.0-py3-none-any.whl (9.4 MB)\n",
      "   ---------------------------------------- 0.0/9.4 MB ? eta -:--:--\n",
      "   -- ------------------------------------- 0.5/9.4 MB 11.1 MB/s eta 0:00:01\n",
      "   --- ------------------------------------ 0.9/9.4 MB 11.7 MB/s eta 0:00:01\n",
      "   ------- -------------------------------- 1.7/9.4 MB 12.2 MB/s eta 0:00:01\n",
      "   ---------- ----------------------------- 2.5/9.4 MB 14.6 MB/s eta 0:00:01\n",
      "   ------------- -------------------------- 3.1/9.4 MB 15.4 MB/s eta 0:00:01\n",
      "   ------------- -------------------------- 3.1/9.4 MB 15.4 MB/s eta 0:00:01\n",
      "   ------------- -------------------------- 3.1/9.4 MB 15.4 MB/s eta 0:00:01\n",
      "   ------------- -------------------------- 3.1/9.4 MB 15.4 MB/s eta 0:00:01\n",
      "   ------------- -------------------------- 3.3/9.4 MB 8.0 MB/s eta 0:00:01\n",
      "   ----------------- ---------------------- 4.1/9.4 MB 9.0 MB/s eta 0:00:01\n",
      "   --------------------- ------------------ 5.0/9.4 MB 9.9 MB/s eta 0:00:01\n",
      "   ------------------------ --------------- 5.8/9.4 MB 10.5 MB/s eta 0:00:01\n",
      "   -------------------------- ------------- 6.3/9.4 MB 10.9 MB/s eta 0:00:01\n",
      "   ----------------------------- ---------- 7.0/9.4 MB 11.0 MB/s eta 0:00:01\n",
      "   --------------------------------- ------ 7.9/9.4 MB 11.4 MB/s eta 0:00:01\n",
      "   ------------------------------------ --- 8.6/9.4 MB 12.0 MB/s eta 0:00:01\n",
      "   ------------------------------------- -- 8.8/9.4 MB 12.0 MB/s eta 0:00:01\n",
      "   ---------------------------------------  9.3/9.4 MB 11.4 MB/s eta 0:00:01\n",
      "   ---------------------------------------- 9.4/9.4 MB 11.2 MB/s eta 0:00:00\n",
      "Downloading trio-0.25.1-py3-none-any.whl (467 kB)\n",
      "   ---------------------------------------- 0.0/467.7 kB ? eta -:--:--\n",
      "   ---------------------------------------- 467.7/467.7 kB 9.7 MB/s eta 0:00:00\n",
      "Downloading trio_websocket-0.11.1-py3-none-any.whl (17 kB)\n",
      "Downloading websocket_client-1.8.0-py3-none-any.whl (58 kB)\n",
      "   ---------------------------------------- 0.0/58.8 kB ? eta -:--:--\n",
      "   ---------------------------------------- 58.8/58.8 kB 3.0 MB/s eta 0:00:00\n",
      "Downloading attrs-23.2.0-py3-none-any.whl (60 kB)\n",
      "   ---------------------------------------- 0.0/60.8 kB ? eta -:--:--\n",
      "   ---------------------------------------- 60.8/60.8 kB ? eta 0:00:00\n",
      "Downloading wsproto-1.2.0-py3-none-any.whl (24 kB)\n",
      "Downloading outcome-1.3.0.post0-py2.py3-none-any.whl (10 kB)\n",
      "Downloading h11-0.14.0-py3-none-any.whl (58 kB)\n",
      "   ---------------------------------------- 0.0/58.3 kB ? eta -:--:--\n",
      "   ---------------------------------------- 58.3/58.3 kB ? eta 0:00:00\n",
      "Installing collected packages: websocket-client, h11, attrs, wsproto, outcome, trio, trio-websocket, selenium\n",
      "  Attempting uninstall: websocket-client\n",
      "    Found existing installation: websocket-client 0.58.0\n",
      "    Uninstalling websocket-client-0.58.0:\n",
      "      Successfully uninstalled websocket-client-0.58.0\n",
      "  Attempting uninstall: attrs\n",
      "    Found existing installation: attrs 23.1.0\n",
      "    Uninstalling attrs-23.1.0:\n",
      "      Successfully uninstalled attrs-23.1.0\n",
      "Successfully installed attrs-23.2.0 h11-0.14.0 outcome-1.3.0.post0 selenium-4.22.0 trio-0.25.1 trio-websocket-0.11.1 websocket-client-1.8.0 wsproto-1.2.0\n"
     ]
    }
   ],
   "source": [
    "# 셀레니움 라이브러리 설치\n",
    "!pip install selenium"
   ]
  },
  {
   "cell_type": "code",
   "execution_count": 4,
   "id": "d64b0257-b3c2-4489-8976-394e33aeb51a",
   "metadata": {},
   "outputs": [],
   "source": [
    "from selenium import webdriver\n",
    "from selenium.webdriver.common.by import By\n",
    "from selenium.webdriver.chrome.options import Options\n",
    "import time"
   ]
  },
  {
   "cell_type": "code",
   "execution_count": 6,
   "id": "c1344cdf-5f67-4f5d-b7e5-4fc8f9f1794e",
   "metadata": {},
   "outputs": [],
   "source": [
    "options = Options()\n",
    "# options.add_argument(\"--start-maximized\")\n",
    "# options.add_argument(\"--headless=new\") \n",
    "options.add_experimental_option(\"detach\", True)\n",
    "#특정함수안에서  드라이버 생성시 함수종료될 때 브라우저 같이 종료되는 문제 대응"
   ]
  },
  {
   "cell_type": "markdown",
   "id": "3c460f18-c43e-4852-b5fd-f0e2f2389bb8",
   "metadata": {},
   "source": [
    "## 브라우저 실행 및 페이지 접속"
   ]
  },
  {
   "cell_type": "code",
   "execution_count": 8,
   "id": "387e1dc0-8354-4aff-b498-86f1f59d2af0",
   "metadata": {},
   "outputs": [],
   "source": [
    "url = 'http://naver.com'\n",
    "driver = webdriver.Chrome(options=options) # 객체 생성\n",
    "\n",
    "driver.get(url) # 실행 \n",
    "\n",
    "time.sleep(2) "
   ]
  },
  {
   "cell_type": "markdown",
   "id": "e8ed6463-f9c6-4036-a766-f00677a95ed3",
   "metadata": {},
   "source": [
    "## 상호작용"
   ]
  },
  {
   "cell_type": "code",
   "execution_count": 10,
   "id": "cf84f5ae-4583-4581-bc98-ff7a876a9e54",
   "metadata": {},
   "outputs": [],
   "source": [
    "driver.back()"
   ]
  },
  {
   "cell_type": "code",
   "execution_count": 11,
   "id": "990cd582-bb49-4c83-8c5a-dc7271f9d9d0",
   "metadata": {},
   "outputs": [],
   "source": [
    "driver.forward()"
   ]
  },
  {
   "cell_type": "code",
   "execution_count": 12,
   "id": "5bd3aaf0-7ef9-48cb-9ca2-cae52e86cd22",
   "metadata": {},
   "outputs": [],
   "source": [
    "driver.refresh()"
   ]
  },
  {
   "cell_type": "markdown",
   "id": "bf4c4d19-dbc5-4066-9d2a-29a97cc7d514",
   "metadata": {},
   "source": [
    "## 페이지 정보 가져오기"
   ]
  },
  {
   "cell_type": "code",
   "execution_count": 14,
   "id": "b36275c3-4d29-4221-a3cc-04141f199224",
   "metadata": {},
   "outputs": [
    {
     "name": "stdout",
     "output_type": "stream",
     "text": [
      "NAVER https://www.naver.com/ 9556429E85B6F2F1D80ED7FD89C5EF88\n"
     ]
    }
   ],
   "source": [
    "title = driver.title\n",
    "url = driver.current_url\n",
    "handle = driver.current_window_handle\n",
    "print(title, url, handle)"
   ]
  },
  {
   "cell_type": "markdown",
   "id": "0e76ccb9-79ee-4ca3-a4f0-4d67682ca78c",
   "metadata": {},
   "source": [
    "## html 요소 찾기\n",
    "```\n",
    "네이버 검색창을 핸들링해보자 driver.find_element().send_keys()\n",
    "\n",
    "<input id=\"query\" name=\"query\" type=\"search\" title=\"검색어를 입력해 주세요.\n",
    "\" placeholder=\"검색어를 입력해 주세요.\" maxlength=\"255\" autocomplete=\"off\" class=\"search_input\" data-atcmp-element=\"\">\n",
    "```"
   ]
  },
  {
   "cell_type": "code",
   "execution_count": 18,
   "id": "94930b4a-1571-41c8-a838-9e5d1ae5c41e",
   "metadata": {},
   "outputs": [
    {
     "data": {
      "text/plain": [
       "\u001b[1;31mSignature:\u001b[0m \u001b[0mdriver\u001b[0m\u001b[1;33m.\u001b[0m\u001b[0mfind_element\u001b[0m\u001b[1;33m(\u001b[0m\u001b[0mby\u001b[0m\u001b[1;33m=\u001b[0m\u001b[1;34m'id'\u001b[0m\u001b[1;33m,\u001b[0m \u001b[0mvalue\u001b[0m\u001b[1;33m:\u001b[0m \u001b[0mOptional\u001b[0m\u001b[1;33m[\u001b[0m\u001b[0mstr\u001b[0m\u001b[1;33m]\u001b[0m \u001b[1;33m=\u001b[0m \u001b[1;32mNone\u001b[0m\u001b[1;33m)\u001b[0m \u001b[1;33m->\u001b[0m \u001b[0mselenium\u001b[0m\u001b[1;33m.\u001b[0m\u001b[0mwebdriver\u001b[0m\u001b[1;33m.\u001b[0m\u001b[0mremote\u001b[0m\u001b[1;33m.\u001b[0m\u001b[0mwebelement\u001b[0m\u001b[1;33m.\u001b[0m\u001b[0mWebElement\u001b[0m\u001b[1;33m\u001b[0m\u001b[1;33m\u001b[0m\u001b[0m\n",
       "\u001b[1;31mDocstring:\u001b[0m\n",
       "Find an element given a By strategy and locator.\n",
       "\n",
       ":Usage:\n",
       "    ::\n",
       "\n",
       "        element = driver.find_element(By.ID, 'foo')\n",
       "\n",
       ":rtype: WebElement\n",
       "\u001b[1;31mFile:\u001b[0m      c:\\users\\cyh\\anaconda3\\lib\\site-packages\\selenium\\webdriver\\remote\\webdriver.py\n",
       "\u001b[1;31mType:\u001b[0m      method"
      ]
     },
     "metadata": {},
     "output_type": "display_data"
    }
   ],
   "source": [
    "driver.find_element?"
   ]
  },
  {
   "cell_type": "code",
   "execution_count": 19,
   "id": "49beb10a-4821-4b02-951a-1afa10a4766b",
   "metadata": {},
   "outputs": [
    {
     "data": {
      "text/plain": [
       "<selenium.webdriver.remote.webelement.WebElement (session=\"924cf09c8e8ebbb476be0687ca78b2ef\", element=\"f.9556429E85B6F2F1D80ED7FD89C5EF88.d.DD79218B2DB885FC7B635F9A6FA70049.e.2567\")>"
      ]
     },
     "execution_count": 19,
     "metadata": {},
     "output_type": "execute_result"
    }
   ],
   "source": [
    "driver.find_element(By.ID, \"query\")"
   ]
  },
  {
   "cell_type": "code",
   "execution_count": 20,
   "id": "0d8f0909-5d31-4e83-b431-6a9b97991d30",
   "metadata": {},
   "outputs": [],
   "source": [
    "# 키입력\n",
    "driver.find_element(By.ID, \"query\").send_keys('뉴진스')"
   ]
  },
  {
   "cell_type": "code",
   "execution_count": 21,
   "id": "35740e4e-4507-4fb3-8a96-40a0c864c853",
   "metadata": {},
   "outputs": [],
   "source": [
    "driver.find_element(By.CLASS_NAME, \"search_input\").send_keys('블랙핑크')"
   ]
  },
  {
   "cell_type": "code",
   "execution_count": 22,
   "id": "8ec31217-0eba-42c0-933d-48dbcf927022",
   "metadata": {},
   "outputs": [],
   "source": [
    "driver.find_element(By.NAME, \"query\").send_keys('르세라핌')"
   ]
  },
  {
   "cell_type": "code",
   "execution_count": null,
   "id": "a0fe53da-c667-4c1f-a2fb-7dc272d9da05",
   "metadata": {},
   "outputs": [],
   "source": [
    "driver.find_element(By.CSS_SELECTOR, \".search_input\").send_keys('세븐틴')"
   ]
  },
  {
   "cell_type": "code",
   "execution_count": 23,
   "id": "faa2cd55-c2a0-4085-a3bc-4c29e3754358",
   "metadata": {},
   "outputs": [],
   "source": [
    "driver.find_element(By.CSS_SELECTOR, \"#query\").send_keys('에스파')"
   ]
  },
  {
   "cell_type": "code",
   "execution_count": 24,
   "id": "22fe86e8-dcc4-43f0-a476-bb66754ed096",
   "metadata": {},
   "outputs": [],
   "source": [
    "driver.find_element(By.CSS_SELECTOR, \".search_input\").send_keys('세븐틴')"
   ]
  },
  {
   "cell_type": "code",
   "execution_count": 25,
   "id": "1f810a5d-8a7f-49dc-abf6-efea8f599452",
   "metadata": {},
   "outputs": [],
   "source": [
    "driver.find_element(By.CSS_SELECTOR, \"[title='검색어를 입력해 주세요.']\").send_keys('트와이스')"
   ]
  },
  {
   "cell_type": "code",
   "execution_count": 26,
   "id": "af9fcab0-a4ee-4729-87f7-8cff745f40a8",
   "metadata": {},
   "outputs": [],
   "source": [
    "driver.find_element(By.XPATH,\"//*[@id='query']\").send_keys('BTS')"
   ]
  },
  {
   "cell_type": "markdown",
   "id": "3b209779-8621-499b-a7f8-3f560def24a6",
   "metadata": {},
   "source": [
    "## 클릭\n",
    "네이버 쇼핑 메뉴를 클릭해보자 driver.find_element().click()"
   ]
  },
  {
   "cell_type": "code",
   "execution_count": 28,
   "id": "cb012068-dac8-4ee7-a409-4b681e0d670f",
   "metadata": {},
   "outputs": [
    {
     "data": {
      "text/plain": [
       "<selenium.webdriver.remote.webelement.WebElement (session=\"924cf09c8e8ebbb476be0687ca78b2ef\", element=\"f.9556429E85B6F2F1D80ED7FD89C5EF88.d.DD79218B2DB885FC7B635F9A6FA70049.e.3801\")>"
      ]
     },
     "execution_count": 28,
     "metadata": {},
     "output_type": "execute_result"
    }
   ],
   "source": [
    "driver.find_element(By.LINK_TEXT, '쇼핑')"
   ]
  },
  {
   "cell_type": "code",
   "execution_count": 31,
   "id": "b572006f-c50e-46f2-b36f-d8f03942e1d3",
   "metadata": {},
   "outputs": [],
   "source": [
    "driver.find_element(By.LINK_TEXT, '쇼핑').click()"
   ]
  },
  {
   "cell_type": "code",
   "execution_count": 33,
   "id": "5092be8a-5631-4fab-9921-a31ff1d7dea5",
   "metadata": {},
   "outputs": [],
   "source": [
    "# 일부 매칭\n",
    "driver.find_element(By.PARTIAL_LINK_TEXT, '증').click()"
   ]
  },
  {
   "cell_type": "code",
   "execution_count": 34,
   "id": "a64be8ca-3dc6-456d-a602-2f6022c16b52",
   "metadata": {},
   "outputs": [
    {
     "data": {
      "text/plain": [
       "<selenium.webdriver.remote.webelement.WebElement (session=\"924cf09c8e8ebbb476be0687ca78b2ef\", element=\"f.9556429E85B6F2F1D80ED7FD89C5EF88.d.DD79218B2DB885FC7B635F9A6FA70049.e.2511\")>"
      ]
     },
     "execution_count": 34,
     "metadata": {},
     "output_type": "execute_result"
    }
   ],
   "source": [
    "# 태그는 너무 요소가 많으므로, 정확하게 대상을 찾을 때에는 안씀\n",
    "driver.find_element(By.TAG_NAME, 'div')"
   ]
  },
  {
   "cell_type": "code",
   "execution_count": 37,
   "id": "ba2e01e6-a335-4886-8a04-477bcd1eb991",
   "metadata": {
    "collapsed": true,
    "jupyter": {
     "outputs_hidden": true
    }
   },
   "outputs": [
    {
     "data": {
      "text/plain": [
       "[<selenium.webdriver.remote.webelement.WebElement (session=\"924cf09c8e8ebbb476be0687ca78b2ef\", element=\"f.9556429E85B6F2F1D80ED7FD89C5EF88.d.DD79218B2DB885FC7B635F9A6FA70049.e.3780\")>,\n",
       " <selenium.webdriver.remote.webelement.WebElement (session=\"924cf09c8e8ebbb476be0687ca78b2ef\", element=\"f.9556429E85B6F2F1D80ED7FD89C5EF88.d.DD79218B2DB885FC7B635F9A6FA70049.e.3787\")>,\n",
       " <selenium.webdriver.remote.webelement.WebElement (session=\"924cf09c8e8ebbb476be0687ca78b2ef\", element=\"f.9556429E85B6F2F1D80ED7FD89C5EF88.d.DD79218B2DB885FC7B635F9A6FA70049.e.3794\")>,\n",
       " <selenium.webdriver.remote.webelement.WebElement (session=\"924cf09c8e8ebbb476be0687ca78b2ef\", element=\"f.9556429E85B6F2F1D80ED7FD89C5EF88.d.DD79218B2DB885FC7B635F9A6FA70049.e.3801\")>,\n",
       " <selenium.webdriver.remote.webelement.WebElement (session=\"924cf09c8e8ebbb476be0687ca78b2ef\", element=\"f.9556429E85B6F2F1D80ED7FD89C5EF88.d.DD79218B2DB885FC7B635F9A6FA70049.e.3808\")>,\n",
       " <selenium.webdriver.remote.webelement.WebElement (session=\"924cf09c8e8ebbb476be0687ca78b2ef\", element=\"f.9556429E85B6F2F1D80ED7FD89C5EF88.d.DD79218B2DB885FC7B635F9A6FA70049.e.3815\")>,\n",
       " <selenium.webdriver.remote.webelement.WebElement (session=\"924cf09c8e8ebbb476be0687ca78b2ef\", element=\"f.9556429E85B6F2F1D80ED7FD89C5EF88.d.DD79218B2DB885FC7B635F9A6FA70049.e.3822\")>,\n",
       " <selenium.webdriver.remote.webelement.WebElement (session=\"924cf09c8e8ebbb476be0687ca78b2ef\", element=\"f.9556429E85B6F2F1D80ED7FD89C5EF88.d.DD79218B2DB885FC7B635F9A6FA70049.e.3829\")>,\n",
       " <selenium.webdriver.remote.webelement.WebElement (session=\"924cf09c8e8ebbb476be0687ca78b2ef\", element=\"f.9556429E85B6F2F1D80ED7FD89C5EF88.d.DD79218B2DB885FC7B635F9A6FA70049.e.3836\")>,\n",
       " <selenium.webdriver.remote.webelement.WebElement (session=\"924cf09c8e8ebbb476be0687ca78b2ef\", element=\"f.9556429E85B6F2F1D80ED7FD89C5EF88.d.DD79218B2DB885FC7B635F9A6FA70049.e.3844\")>,\n",
       " <selenium.webdriver.remote.webelement.WebElement (session=\"924cf09c8e8ebbb476be0687ca78b2ef\", element=\"f.9556429E85B6F2F1D80ED7FD89C5EF88.d.DD79218B2DB885FC7B635F9A6FA70049.e.3851\")>,\n",
       " <selenium.webdriver.remote.webelement.WebElement (session=\"924cf09c8e8ebbb476be0687ca78b2ef\", element=\"f.9556429E85B6F2F1D80ED7FD89C5EF88.d.DD79218B2DB885FC7B635F9A6FA70049.e.3862\")>]"
      ]
     },
     "execution_count": 37,
     "metadata": {},
     "output_type": "execute_result"
    }
   ],
   "source": [
    "# 여러개의 요소를찾을 때\n",
    "driver.find_elements(By.CSS_SELECTOR, '.link_service')"
   ]
  },
  {
   "cell_type": "code",
   "execution_count": 39,
   "id": "4b9c36e2-4aec-489e-b3cb-9a51a49aee65",
   "metadata": {},
   "outputs": [
    {
     "data": {
      "text/plain": [
       "'https://mail.naver.com/'"
      ]
     },
     "execution_count": 39,
     "metadata": {},
     "output_type": "execute_result"
    }
   ],
   "source": [
    "driver.find_elements(By.CSS_SELECTOR, '.link_service')[0].get_attribute('href')"
   ]
  },
  {
   "cell_type": "code",
   "execution_count": 40,
   "id": "661857d0-b442-4d89-b0b8-a4c8ad4a5ee0",
   "metadata": {},
   "outputs": [],
   "source": [
    "likes = driver.find_elements(By.CSS_SELECTOR, '.link_service')"
   ]
  },
  {
   "cell_type": "code",
   "execution_count": 42,
   "id": "313a6c08-41cf-47e8-93f2-d348e19eef79",
   "metadata": {},
   "outputs": [
    {
     "name": "stdout",
     "output_type": "stream",
     "text": [
      "<selenium.webdriver.remote.webelement.WebElement (session=\"924cf09c8e8ebbb476be0687ca78b2ef\", element=\"f.9556429E85B6F2F1D80ED7FD89C5EF88.d.DD79218B2DB885FC7B635F9A6FA70049.e.3780\")>\n",
      "<selenium.webdriver.remote.webelement.WebElement (session=\"924cf09c8e8ebbb476be0687ca78b2ef\", element=\"f.9556429E85B6F2F1D80ED7FD89C5EF88.d.DD79218B2DB885FC7B635F9A6FA70049.e.3787\")>\n",
      "<selenium.webdriver.remote.webelement.WebElement (session=\"924cf09c8e8ebbb476be0687ca78b2ef\", element=\"f.9556429E85B6F2F1D80ED7FD89C5EF88.d.DD79218B2DB885FC7B635F9A6FA70049.e.3794\")>\n",
      "<selenium.webdriver.remote.webelement.WebElement (session=\"924cf09c8e8ebbb476be0687ca78b2ef\", element=\"f.9556429E85B6F2F1D80ED7FD89C5EF88.d.DD79218B2DB885FC7B635F9A6FA70049.e.3801\")>\n",
      "<selenium.webdriver.remote.webelement.WebElement (session=\"924cf09c8e8ebbb476be0687ca78b2ef\", element=\"f.9556429E85B6F2F1D80ED7FD89C5EF88.d.DD79218B2DB885FC7B635F9A6FA70049.e.3808\")>\n",
      "<selenium.webdriver.remote.webelement.WebElement (session=\"924cf09c8e8ebbb476be0687ca78b2ef\", element=\"f.9556429E85B6F2F1D80ED7FD89C5EF88.d.DD79218B2DB885FC7B635F9A6FA70049.e.3815\")>\n",
      "<selenium.webdriver.remote.webelement.WebElement (session=\"924cf09c8e8ebbb476be0687ca78b2ef\", element=\"f.9556429E85B6F2F1D80ED7FD89C5EF88.d.DD79218B2DB885FC7B635F9A6FA70049.e.3822\")>\n",
      "<selenium.webdriver.remote.webelement.WebElement (session=\"924cf09c8e8ebbb476be0687ca78b2ef\", element=\"f.9556429E85B6F2F1D80ED7FD89C5EF88.d.DD79218B2DB885FC7B635F9A6FA70049.e.3829\")>\n",
      "<selenium.webdriver.remote.webelement.WebElement (session=\"924cf09c8e8ebbb476be0687ca78b2ef\", element=\"f.9556429E85B6F2F1D80ED7FD89C5EF88.d.DD79218B2DB885FC7B635F9A6FA70049.e.3836\")>\n",
      "<selenium.webdriver.remote.webelement.WebElement (session=\"924cf09c8e8ebbb476be0687ca78b2ef\", element=\"f.9556429E85B6F2F1D80ED7FD89C5EF88.d.DD79218B2DB885FC7B635F9A6FA70049.e.3844\")>\n",
      "<selenium.webdriver.remote.webelement.WebElement (session=\"924cf09c8e8ebbb476be0687ca78b2ef\", element=\"f.9556429E85B6F2F1D80ED7FD89C5EF88.d.DD79218B2DB885FC7B635F9A6FA70049.e.3851\")>\n",
      "<selenium.webdriver.remote.webelement.WebElement (session=\"924cf09c8e8ebbb476be0687ca78b2ef\", element=\"f.9556429E85B6F2F1D80ED7FD89C5EF88.d.DD79218B2DB885FC7B635F9A6FA70049.e.3862\")>\n"
     ]
    }
   ],
   "source": [
    "for link in links:\n",
    "    print(link)"
   ]
  },
  {
   "cell_type": "code",
   "execution_count": 43,
   "id": "61b6d1bb-8d91-4818-87f1-c41008a46cde",
   "metadata": {},
   "outputs": [
    {
     "name": "stdout",
     "output_type": "stream",
     "text": [
      "https://mail.naver.com/\n",
      "\n",
      "https://cafe.naver.com/\n",
      "\n",
      "https://blog.naver.com/\n",
      "\n",
      "https://shopping.naver.com/home\n",
      "\n",
      "https://news.naver.com/\n",
      "\n",
      "https://finance.naver.com/\n",
      "\n",
      "https://land.naver.com/\n",
      "\n",
      "https://map.naver.com/\n",
      "\n",
      "https://comic.naver.com/\n",
      "\n",
      "https://chzzk.naver.com/\n",
      "\n",
      "https://www.naver.com/#\n",
      "\n",
      "https://siape.veta.naver.com/rd?rk=ul5yKTfGje4Bf44pc6Xn8w&eltts=DCLofzx%2FfvetPO%2Byu3l4Ow%3D%3D&elu=5BA297C9C3C09BC2A363AD20A2AF2280AA600BB0F1224856B1E3B0CD8C7D5F6341BB3F4A77A5F39CD5816E901BFB74C92B046500D36C473274A2DF28B9D9C604F0D8675FDAF22A996AAEFDEE92BA1FCD697E5F7ECC82BD74C279AA95D9F31FA9106C54B228F25590EF823CA4768D621930DE9513FAD9CD3EC5D5F708FBFC00BDA1F5B03C00EADE3421C9D4FE1E658652E8C5A37BBB18D79B4D542EF9B859195A8B5F3CB5F7D17DF7D63104BA36F5191223192AE294E03593BF7CA3B054BF55FF7DF70D50D25D1F0D4D87A7831487FDC2AFB8FEA841F79F16EA53276AF68816C7A149514203E223A19FA55EAAC4E98561256439BD31A8DEFDBC8CEF82F716E628B23F8C3BFA407A51086748714615D78698A603B1B20D8157A049045EADF303C7C90C945E9B6678B41330B37AAA80FDCE0589F05E39A2DECC900ED27DE4327494D8CC07C1B67CE038EFBDA44E52E5B715A3EC5A3F07FD7CCDECDFCA955A7B6FCB11DFA46E51BA4203609299CFB488F993296C5387E386A488064288B95F527FA540946C8672D26BA42D643227D77736CF&tr=ndp\n",
      "\n"
     ]
    }
   ],
   "source": [
    "# https://www.browserstack.com/guide/get-html-source-of-web-element-in-selenium-webdriver\n",
    "# 해당 클래스가 속한 요소의 자식 html을 출력\n",
    "for link in links:\n",
    "    print(link.get_attribute(\"href\")) \n",
    "    print()"
   ]
  },
  {
   "cell_type": "code",
   "execution_count": 44,
   "id": "81a92881-c8c8-47a6-9de1-f7d725561352",
   "metadata": {},
   "outputs": [],
   "source": [
    "url = 'file:///C:/workspace/wassup3/02_Python_collection/sample/signin.html'\n",
    "driver = webdriver.Chrome(options=options) # 객체 생성\n",
    "\n",
    "driver.get(url) # 실행 \n",
    "\n",
    "time.sleep(2) "
   ]
  },
  {
   "cell_type": "code",
   "execution_count": 51,
   "id": "ce5aca32-fe53-48a3-b835-8ba95e15a078",
   "metadata": {},
   "outputs": [],
   "source": [
    "username = driver.find_element(By.NAME, \"username\")\n",
    "username.send_keys('korea')"
   ]
  },
  {
   "cell_type": "code",
   "execution_count": 52,
   "id": "5cb4f926-56ed-4201-b9bb-81766067fbe0",
   "metadata": {},
   "outputs": [],
   "source": [
    "password = driver.find_element(By.NAME, \"password\")\n",
    "password.send_keys('1234')"
   ]
  },
  {
   "cell_type": "code",
   "execution_count": 47,
   "id": "7901b172-2b51-436e-bd10-b387c6c5c6e0",
   "metadata": {},
   "outputs": [],
   "source": [
    "login =  driver.find_element(By.XPATH, '//*[@id=\"loginForm\"]/input[3]')\n",
    "login.click()"
   ]
  },
  {
   "cell_type": "code",
   "execution_count": 48,
   "id": "e04e86b5-19fb-4c74-ac69-3b3b49d47e64",
   "metadata": {},
   "outputs": [],
   "source": [
    "driver.back()"
   ]
  },
  {
   "cell_type": "code",
   "execution_count": 49,
   "id": "876cf636-fa09-4f1d-9015-137c85997925",
   "metadata": {},
   "outputs": [],
   "source": [
    "login =  driver.find_element(By.CSS_SELECTOR, \"#loginForm > input[type=submit]:nth-child(5)\")\n",
    "login.click()"
   ]
  },
  {
   "cell_type": "code",
   "execution_count": 50,
   "id": "58a99c07-221c-4845-90c0-294822c93fe2",
   "metadata": {},
   "outputs": [],
   "source": [
    "login =  driver.find_element(By.CSS_SELECTOR, \"[value='Login']\")\n",
    "login.click()"
   ]
  },
  {
   "cell_type": "code",
   "execution_count": 53,
   "id": "788f31bc-1766-4b8b-a6f2-35a94aebfc66",
   "metadata": {},
   "outputs": [],
   "source": [
    "# 입력창 clear 하기\n",
    "# 세션끊기면 다시 접근해야함\n",
    "username = driver.find_element(By.NAME, \"username\")\n",
    "username.clear()"
   ]
  },
  {
   "cell_type": "code",
   "execution_count": 54,
   "id": "162749cf-babe-49ac-b420-00c869e99c1e",
   "metadata": {},
   "outputs": [],
   "source": [
    "username = driver.find_element(By.NAME, \"username\")\n",
    "username.send_keys('korea')\n",
    "password = driver.find_element(By.NAME, \"password\")\n",
    "password.send_keys('1234')\n",
    "username.submit()"
   ]
  },
  {
   "cell_type": "code",
   "execution_count": 56,
   "id": "bc80e5b9-7b6f-4304-8d1a-b68a88b4319a",
   "metadata": {},
   "outputs": [
    {
     "data": {
      "text/plain": [
       "'Are you sure you want to do this?'"
      ]
     },
     "execution_count": 56,
     "metadata": {},
     "output_type": "execute_result"
    }
   ],
   "source": [
    "driver.find_element(By.TAG_NAME, 'p').text"
   ]
  },
  {
   "cell_type": "code",
   "execution_count": 57,
   "id": "2b10ce13-3133-491c-8ac7-ac70a9e8fe51",
   "metadata": {},
   "outputs": [
    {
     "data": {
      "text/plain": [
       "'<html><head></head><body>\\n        <h1> Sign In </h1>\\n        <form action=\"moved.html\" id=\"loginForm\">\\n            ID : <input name=\"username\" type=\"text\"> <br>\\n            Password : <input name=\"password\" type=\"password\"> <br>\\n\\n            <input name=\"continue\" type=\"submit\" value=\"Login\">\\n            <input name=\"continue\" type=\"button\" value=\"Clear\">\\n        \\n        </form>\\n\\n        <p>Are you sure you want to do this?</p>\\n        <a href=\"continue.html\">Continue</a>\\n        <a href=\"cancel.html\">Cancel</a>\\n\\n        <h1>Welcome</h1>\\n        <p>Site content goes here.</p>\\n        <p class=\"content\">Site content goes here.</p>\\n    \\n</body></html>'"
      ]
     },
     "execution_count": 57,
     "metadata": {},
     "output_type": "execute_result"
    }
   ],
   "source": [
    "# html 소스 가져오기\n",
    "driver.page_source"
   ]
  },
  {
   "cell_type": "code",
   "execution_count": 58,
   "id": "9af0d0d1-6d92-4c92-a31f-5b9066312734",
   "metadata": {},
   "outputs": [],
   "source": [
    "driver.close()"
   ]
  },
  {
   "cell_type": "code",
   "execution_count": 1,
   "id": "6afee1f7-5771-494e-9586-00a79e66af50",
   "metadata": {},
   "outputs": [],
   "source": [
    "from selenium import webdriver\n",
    "from selenium.webdriver.common.by import By\n",
    "from selenium.webdriver.chrome.options import Options\n",
    "import time\n",
    "\n",
    "options = Options()\n",
    "options.add_argument(\"--headless=new\") \n",
    "# options.add_argument('--window-size= x, y') #실행되는 브라우저 크기를 지정할 수 있습니다.\n",
    "# options.add_argument('--start-maximized') #브라우저가 최대화된 상태로 실행됩니다.\n",
    "# options.add_argument('--start-fullscreen') #브라우저가 풀스크린 모드(F11)로 실행됩니다.\n",
    "# options.add_argument('--blink-settings=imagesEnabled=false') #브라우저에서 이미지 로딩을 하지 않습니다.\n",
    "# options.add_argument('--mute-audio') #브라우저에 음소거 옵션을 적용합니다.\n",
    "# options.add_argument('incognito') #시크릿 모드의 브라우저가 실행됩니다.\n",
    "options.add_experimental_option(\"detach\", True) #특정함수안에서  드라이버 생성시 함수종료될 때 브라우저 같이 종료되는"
   ]
  },
  {
   "cell_type": "code",
   "execution_count": 2,
   "id": "6299129a-1a74-4660-8b5a-57a0a1b4f4f1",
   "metadata": {},
   "outputs": [],
   "source": [
    "url = 'http://naver.com'\n",
    "driver = webdriver.Chrome(options=options)\n",
    "driver.get(url)\n",
    "time.sleep(2)"
   ]
  },
  {
   "cell_type": "code",
   "execution_count": 3,
   "id": "cc36a265-0525-4eb9-8fbc-cabad5d0c806",
   "metadata": {},
   "outputs": [
    {
     "name": "stdout",
     "output_type": "stream",
     "text": [
      "NAVER\n"
     ]
    }
   ],
   "source": [
    "print(driver.title)"
   ]
  },
  {
   "cell_type": "code",
   "execution_count": 4,
   "id": "00177e51-d5d8-457a-85ff-ed43c3eae3cd",
   "metadata": {},
   "outputs": [],
   "source": [
    "driver.quit() # 탭 닫기"
   ]
  },
  {
   "cell_type": "code",
   "execution_count": 5,
   "id": "ee770e33-fbbc-480e-a3ca-48f76b822449",
   "metadata": {},
   "outputs": [],
   "source": [
    "from selenium import webdriver\n",
    "from selenium.webdriver.common.by import By\n",
    "from selenium.webdriver.chrome.options import Options\n",
    "import time\n",
    "\n",
    "options = Options()\n",
    "# options.add_argument(\"--start-maximized\")\n",
    "# options.add_argument(\"--headless=new\") \n",
    "options.add_experimental_option(\"detach\", True) #\n",
    "\n",
    "url = 'http://naver.com'\n",
    "driver = webdriver.Chrome(options=options)\n",
    "driver.get(url)\n",
    "time.sleep(2)"
   ]
  },
  {
   "cell_type": "code",
   "execution_count": 6,
   "id": "2e445620-feff-4cf3-b481-b0e06b745113",
   "metadata": {},
   "outputs": [
    {
     "name": "stdout",
     "output_type": "stream",
     "text": [
      "945px 1012px\n"
     ]
    }
   ],
   "source": [
    "# 창의 너비/높이 구하기\n",
    "size = driver.get_window_size()\n",
    "width = size.get(\"width\")\n",
    "height = size.get(\"height\")\n",
    "\n",
    "print(str(width)+\"px\"+\" \"+str(height)+\"px\") "
   ]
  },
  {
   "cell_type": "code",
   "execution_count": 7,
   "id": "450d58cf-3cc1-4109-9345-206f49929eb5",
   "metadata": {},
   "outputs": [],
   "source": [
    "driver.set_window_size(800, 600)"
   ]
  },
  {
   "cell_type": "code",
   "execution_count": 8,
   "id": "d43399c0-d4b6-4836-a605-35dd9bfb1198",
   "metadata": {},
   "outputs": [
    {
     "name": "stdout",
     "output_type": "stream",
     "text": [
      "x : 10 y : 10\n"
     ]
    }
   ],
   "source": [
    "# 스크린 상에서의 창 좌표\n",
    "position = driver.get_window_position()\n",
    "x = position.get('x')\n",
    "y = position.get('y')\n",
    "\n",
    "print(\"x : \"+str(x)+\" \"+\"y : \"+str(y))"
   ]
  },
  {
   "cell_type": "code",
   "execution_count": 9,
   "id": "f2f299f8-9bee-4f84-b48c-ea5136d2808b",
   "metadata": {},
   "outputs": [
    {
     "data": {
      "text/plain": [
       "{'height': 600, 'width': 800, 'x': 200, 'y': 200}"
      ]
     },
     "execution_count": 9,
     "metadata": {},
     "output_type": "execute_result"
    }
   ],
   "source": [
    "driver.set_window_position(200,200)"
   ]
  },
  {
   "cell_type": "code",
   "execution_count": 10,
   "id": "793db0e8-db86-4e71-8282-cc252450ca42",
   "metadata": {},
   "outputs": [],
   "source": [
    "# 창 크기 최대화\n",
    "driver.maximize_window()"
   ]
  },
  {
   "cell_type": "code",
   "execution_count": 11,
   "id": "e4c82440-c48d-4af0-9186-660bba206a9a",
   "metadata": {},
   "outputs": [],
   "source": [
    "# 창 크기 최소화\n",
    "driver.minimize_window()"
   ]
  },
  {
   "cell_type": "code",
   "execution_count": 12,
   "id": "80ea998c-11e9-4f87-b6b0-67afc3a04c8d",
   "metadata": {},
   "outputs": [
    {
     "data": {
      "text/plain": [
       "True"
      ]
     },
     "execution_count": 12,
     "metadata": {},
     "output_type": "execute_result"
    }
   ],
   "source": [
    "# 스크린 샷\n",
    "driver.save_screenshot('./image.png')"
   ]
  },
  {
   "cell_type": "code",
   "execution_count": 13,
   "id": "02056cd7-0605-414e-8713-4033f40020b4",
   "metadata": {},
   "outputs": [],
   "source": [
    "driver.close()"
   ]
  },
  {
   "cell_type": "markdown",
   "id": "b055a4d2-3aef-4ef4-a8f4-ccb850ee5921",
   "metadata": {},
   "source": [
    "## 예제) 네이버 블로그"
   ]
  },
  {
   "cell_type": "code",
   "execution_count": 15,
   "id": "0ef5608a-1ba4-4086-b041-6b9cdd3fb0ff",
   "metadata": {},
   "outputs": [],
   "source": [
    "from selenium import webdriver\n",
    "from selenium.webdriver.common.by import By\n",
    "from selenium.webdriver.chrome.options import Options\n",
    "import time, random, pandas as pd\n",
    "\n",
    "options = Options()\n",
    "options.add_argument('--window-size=974,1047')\n",
    "options.add_argument('--window-position=-7,0')\n",
    "options.add_experimental_option(\"detach\", True)"
   ]
  },
  {
   "cell_type": "code",
   "execution_count": 16,
   "id": "68830096-d81b-48b6-8ce6-70db0651adcd",
   "metadata": {},
   "outputs": [],
   "source": [
    "# 웹드라이버 로드\n",
    "driver = webdriver.Chrome( options = options)"
   ]
  },
  {
   "cell_type": "code",
   "execution_count": 17,
   "id": "708b53b1-8a54-46e1-b39f-e6e64d99f38a",
   "metadata": {},
   "outputs": [],
   "source": [
    "# 조건 설정\n",
    "where = 'blog'\n",
    "query = '인공지능'\n",
    "dateform = '20240101to20240625'\n",
    "url = f'https://m.search.naver.com/search.naver?ssc=tab.{where}.all&query={query}&sm=tab_opt&nso=so%3Ar%2Cp%3Afrom{dateform}'\n",
    "# url = f'https://search.naver.com/search.naver?where={where}&query={query}&sm=tab_op&nso=so:r,p:from{dateform}'\n",
    "fname = f'{where}_{query}_{dateform}'"
   ]
  },
  {
   "cell_type": "code",
   "execution_count": 18,
   "id": "4d7c5db5-9a64-47ce-a3fb-32e19d4b4e2d",
   "metadata": {},
   "outputs": [],
   "source": [
    "# url 접속\n",
    "driver.get(url)\n",
    "time.sleep(random.randint(2,3))"
   ]
  },
  {
   "cell_type": "code",
   "execution_count": 19,
   "id": "5a636716-9ade-4846-8444-366293394bfc",
   "metadata": {},
   "outputs": [],
   "source": [
    "#네이버 뷰는 최대 1050까지만 노출\n",
    "# 스크롤 10번\n",
    "for i in range(10):\n",
    "    driver.execute_script('window.scrollTo(0, document.body.scrollHeight);')\n",
    "    time.sleep(random.randint(2, 3))"
   ]
  },
  {
   "cell_type": "code",
   "execution_count": 31,
   "id": "a3619ee0-690a-4888-8788-c987f7f90c93",
   "metadata": {},
   "outputs": [
    {
     "name": "stdout",
     "output_type": "stream",
     "text": [
      "완료\n"
     ]
    }
   ],
   "source": [
    "views = driver.find_elements(By.CSS_SELECTOR, '.lst_view .view_wrap')\n",
    "result = []\n",
    "\n",
    "for view in views:\n",
    "    con_dict = {}\n",
    "    con_dict['title'] = view.find_element(By.CSS_SELECTOR, '.title_link').text.strip()\n",
    "    con_dict['text'] = view.find_element(By.CSS_SELECTOR, '.dsc_link').text.strip()\n",
    "    con_dict['date'] = view.find_element(By.CSS_SELECTOR, '.sub').text.strip()\n",
    "    result.append(con_dict)\n",
    "    print(con_dict)\n",
    "\n",
    "print('완료')"
   ]
  },
  {
   "cell_type": "code",
   "execution_count": 30,
   "id": "0f8e92f5-4da4-4f78-8790-f03cd8e81b71",
   "metadata": {},
   "outputs": [
    {
     "data": {
      "text/html": [
       "<div>\n",
       "<style scoped>\n",
       "    .dataframe tbody tr th:only-of-type {\n",
       "        vertical-align: middle;\n",
       "    }\n",
       "\n",
       "    .dataframe tbody tr th {\n",
       "        vertical-align: top;\n",
       "    }\n",
       "\n",
       "    .dataframe thead th {\n",
       "        text-align: right;\n",
       "    }\n",
       "</style>\n",
       "<table border=\"1\" class=\"dataframe\">\n",
       "  <thead>\n",
       "    <tr style=\"text-align: right;\">\n",
       "      <th></th>\n",
       "    </tr>\n",
       "  </thead>\n",
       "  <tbody>\n",
       "  </tbody>\n",
       "</table>\n",
       "</div>"
      ],
      "text/plain": [
       "Empty DataFrame\n",
       "Columns: []\n",
       "Index: []"
      ]
     },
     "execution_count": 30,
     "metadata": {},
     "output_type": "execute_result"
    }
   ],
   "source": [
    "#저장된 게시물 리스트를 데이터프레임으로 변환후 csv로 저장\n",
    "df = pd.DataFrame(result)\n",
    "df"
   ]
  },
  {
   "cell_type": "code",
   "execution_count": 32,
   "id": "64f12f37-e250-4676-bb16-b164190824f9",
   "metadata": {},
   "outputs": [],
   "source": [
    "## 예제) 구글 플레이 스토어 리뷰\n",
    "from selenium import webdriver\n",
    "from selenium.webdriver.common.by import By\n",
    "from selenium.webdriver.chrome.options import Options\n",
    "import time, random, pandas as pd\n",
    "\n",
    "options = Options()\n",
    "options.add_argument('--window-size=974,1047')\n",
    "options.add_argument('--window-position=-7,0')\n",
    "options.add_experimental_option(\"detach\", True)\n",
    "\n",
    "driver = webdriver.Chrome( options = options)\n",
    "url = 'https://play.google.com/store/apps/details?id=com.estsoft.picnic'\n",
    "driver.get(url)\n",
    "time.sleep(random.randint(2,3))"
   ]
  },
  {
   "cell_type": "code",
   "execution_count": 41,
   "id": "de66914e-427d-456d-9b12-7b6038dde900",
   "metadata": {},
   "outputs": [],
   "source": [
    "# 리뷰 더보기 클릭\n",
    "xpath = '//*[@id=\"ow76\"]/section/div/div[2]/div[5]/div/div/button/span'\n",
    "driver.find_element(By.XPATH, xpath).click()\n",
    "time.sleep(random.randint(2, 3))"
   ]
  },
  {
   "cell_type": "code",
   "execution_count": 42,
   "id": "52ad6fb1-2092-472f-aa85-b6a04ac5ba57",
   "metadata": {},
   "outputs": [],
   "source": [
    "# 스크롤\n",
    "for i in range(10):\n",
    "    review_box = driver.find_element(By.CSS_SELECTOR, 'div.fysCi')\n",
    "    driver.execute_script('arguments[0].scrollTop = arguments[0].scrollHeight', review_box )\n",
    "    time.sleep(random.randint(2, 3))"
   ]
  },
  {
   "cell_type": "code",
   "execution_count": 43,
   "id": "daf16f06-d3be-4c25-98a5-9b5783647126",
   "metadata": {
    "collapsed": true,
    "jupyter": {
     "outputs_hidden": true
    }
   },
   "outputs": [
    {
     "data": {
      "text/plain": [
       "[<selenium.webdriver.remote.webelement.WebElement (session=\"cef15fa12723a14e490b53f06ab8a8d9\", element=\"f.2B641AA2BF147239536F8FD8597BE1C7.d.343BD8D0D324BE214949089F4352D926.e.23134\")>,\n",
       " <selenium.webdriver.remote.webelement.WebElement (session=\"cef15fa12723a14e490b53f06ab8a8d9\", element=\"f.2B641AA2BF147239536F8FD8597BE1C7.d.343BD8D0D324BE214949089F4352D926.e.23209\")>,\n",
       " <selenium.webdriver.remote.webelement.WebElement (session=\"cef15fa12723a14e490b53f06ab8a8d9\", element=\"f.2B641AA2BF147239536F8FD8597BE1C7.d.343BD8D0D324BE214949089F4352D926.e.23284\")>,\n",
       " <selenium.webdriver.remote.webelement.WebElement (session=\"cef15fa12723a14e490b53f06ab8a8d9\", element=\"f.2B641AA2BF147239536F8FD8597BE1C7.d.343BD8D0D324BE214949089F4352D926.e.23361\")>,\n",
       " <selenium.webdriver.remote.webelement.WebElement (session=\"cef15fa12723a14e490b53f06ab8a8d9\", element=\"f.2B641AA2BF147239536F8FD8597BE1C7.d.343BD8D0D324BE214949089F4352D926.e.23438\")>,\n",
       " <selenium.webdriver.remote.webelement.WebElement (session=\"cef15fa12723a14e490b53f06ab8a8d9\", element=\"f.2B641AA2BF147239536F8FD8597BE1C7.d.343BD8D0D324BE214949089F4352D926.e.23515\")>,\n",
       " <selenium.webdriver.remote.webelement.WebElement (session=\"cef15fa12723a14e490b53f06ab8a8d9\", element=\"f.2B641AA2BF147239536F8FD8597BE1C7.d.343BD8D0D324BE214949089F4352D926.e.23596\")>,\n",
       " <selenium.webdriver.remote.webelement.WebElement (session=\"cef15fa12723a14e490b53f06ab8a8d9\", element=\"f.2B641AA2BF147239536F8FD8597BE1C7.d.343BD8D0D324BE214949089F4352D926.e.23673\")>,\n",
       " <selenium.webdriver.remote.webelement.WebElement (session=\"cef15fa12723a14e490b53f06ab8a8d9\", element=\"f.2B641AA2BF147239536F8FD8597BE1C7.d.343BD8D0D324BE214949089F4352D926.e.23750\")>,\n",
       " <selenium.webdriver.remote.webelement.WebElement (session=\"cef15fa12723a14e490b53f06ab8a8d9\", element=\"f.2B641AA2BF147239536F8FD8597BE1C7.d.343BD8D0D324BE214949089F4352D926.e.23830\")>,\n",
       " <selenium.webdriver.remote.webelement.WebElement (session=\"cef15fa12723a14e490b53f06ab8a8d9\", element=\"f.2B641AA2BF147239536F8FD8597BE1C7.d.343BD8D0D324BE214949089F4352D926.e.23907\")>,\n",
       " <selenium.webdriver.remote.webelement.WebElement (session=\"cef15fa12723a14e490b53f06ab8a8d9\", element=\"f.2B641AA2BF147239536F8FD8597BE1C7.d.343BD8D0D324BE214949089F4352D926.e.23978\")>,\n",
       " <selenium.webdriver.remote.webelement.WebElement (session=\"cef15fa12723a14e490b53f06ab8a8d9\", element=\"f.2B641AA2BF147239536F8FD8597BE1C7.d.343BD8D0D324BE214949089F4352D926.e.24055\")>,\n",
       " <selenium.webdriver.remote.webelement.WebElement (session=\"cef15fa12723a14e490b53f06ab8a8d9\", element=\"f.2B641AA2BF147239536F8FD8597BE1C7.d.343BD8D0D324BE214949089F4352D926.e.24132\")>,\n",
       " <selenium.webdriver.remote.webelement.WebElement (session=\"cef15fa12723a14e490b53f06ab8a8d9\", element=\"f.2B641AA2BF147239536F8FD8597BE1C7.d.343BD8D0D324BE214949089F4352D926.e.24203\")>,\n",
       " <selenium.webdriver.remote.webelement.WebElement (session=\"cef15fa12723a14e490b53f06ab8a8d9\", element=\"f.2B641AA2BF147239536F8FD8597BE1C7.d.343BD8D0D324BE214949089F4352D926.e.24280\")>,\n",
       " <selenium.webdriver.remote.webelement.WebElement (session=\"cef15fa12723a14e490b53f06ab8a8d9\", element=\"f.2B641AA2BF147239536F8FD8597BE1C7.d.343BD8D0D324BE214949089F4352D926.e.24351\")>,\n",
       " <selenium.webdriver.remote.webelement.WebElement (session=\"cef15fa12723a14e490b53f06ab8a8d9\", element=\"f.2B641AA2BF147239536F8FD8597BE1C7.d.343BD8D0D324BE214949089F4352D926.e.24428\")>,\n",
       " <selenium.webdriver.remote.webelement.WebElement (session=\"cef15fa12723a14e490b53f06ab8a8d9\", element=\"f.2B641AA2BF147239536F8FD8597BE1C7.d.343BD8D0D324BE214949089F4352D926.e.24505\")>,\n",
       " <selenium.webdriver.remote.webelement.WebElement (session=\"cef15fa12723a14e490b53f06ab8a8d9\", element=\"f.2B641AA2BF147239536F8FD8597BE1C7.d.343BD8D0D324BE214949089F4352D926.e.24585\")>,\n",
       " <selenium.webdriver.remote.webelement.WebElement (session=\"cef15fa12723a14e490b53f06ab8a8d9\", element=\"f.2B641AA2BF147239536F8FD8597BE1C7.d.343BD8D0D324BE214949089F4352D926.e.26881\")>,\n",
       " <selenium.webdriver.remote.webelement.WebElement (session=\"cef15fa12723a14e490b53f06ab8a8d9\", element=\"f.2B641AA2BF147239536F8FD8597BE1C7.d.343BD8D0D324BE214949089F4352D926.e.26798\")>,\n",
       " <selenium.webdriver.remote.webelement.WebElement (session=\"cef15fa12723a14e490b53f06ab8a8d9\", element=\"f.2B641AA2BF147239536F8FD8597BE1C7.d.343BD8D0D324BE214949089F4352D926.e.26711\")>,\n",
       " <selenium.webdriver.remote.webelement.WebElement (session=\"cef15fa12723a14e490b53f06ab8a8d9\", element=\"f.2B641AA2BF147239536F8FD8597BE1C7.d.343BD8D0D324BE214949089F4352D926.e.26637\")>,\n",
       " <selenium.webdriver.remote.webelement.WebElement (session=\"cef15fa12723a14e490b53f06ab8a8d9\", element=\"f.2B641AA2BF147239536F8FD8597BE1C7.d.343BD8D0D324BE214949089F4352D926.e.26550\")>,\n",
       " <selenium.webdriver.remote.webelement.WebElement (session=\"cef15fa12723a14e490b53f06ab8a8d9\", element=\"f.2B641AA2BF147239536F8FD8597BE1C7.d.343BD8D0D324BE214949089F4352D926.e.26472\")>,\n",
       " <selenium.webdriver.remote.webelement.WebElement (session=\"cef15fa12723a14e490b53f06ab8a8d9\", element=\"f.2B641AA2BF147239536F8FD8597BE1C7.d.343BD8D0D324BE214949089F4352D926.e.26394\")>,\n",
       " <selenium.webdriver.remote.webelement.WebElement (session=\"cef15fa12723a14e490b53f06ab8a8d9\", element=\"f.2B641AA2BF147239536F8FD8597BE1C7.d.343BD8D0D324BE214949089F4352D926.e.26307\")>,\n",
       " <selenium.webdriver.remote.webelement.WebElement (session=\"cef15fa12723a14e490b53f06ab8a8d9\", element=\"f.2B641AA2BF147239536F8FD8597BE1C7.d.343BD8D0D324BE214949089F4352D926.e.26222\")>,\n",
       " <selenium.webdriver.remote.webelement.WebElement (session=\"cef15fa12723a14e490b53f06ab8a8d9\", element=\"f.2B641AA2BF147239536F8FD8597BE1C7.d.343BD8D0D324BE214949089F4352D926.e.26139\")>,\n",
       " <selenium.webdriver.remote.webelement.WebElement (session=\"cef15fa12723a14e490b53f06ab8a8d9\", element=\"f.2B641AA2BF147239536F8FD8597BE1C7.d.343BD8D0D324BE214949089F4352D926.e.26054\")>,\n",
       " <selenium.webdriver.remote.webelement.WebElement (session=\"cef15fa12723a14e490b53f06ab8a8d9\", element=\"f.2B641AA2BF147239536F8FD8597BE1C7.d.343BD8D0D324BE214949089F4352D926.e.25967\")>,\n",
       " <selenium.webdriver.remote.webelement.WebElement (session=\"cef15fa12723a14e490b53f06ab8a8d9\", element=\"f.2B641AA2BF147239536F8FD8597BE1C7.d.343BD8D0D324BE214949089F4352D926.e.25884\")>,\n",
       " <selenium.webdriver.remote.webelement.WebElement (session=\"cef15fa12723a14e490b53f06ab8a8d9\", element=\"f.2B641AA2BF147239536F8FD8597BE1C7.d.343BD8D0D324BE214949089F4352D926.e.25801\")>,\n",
       " <selenium.webdriver.remote.webelement.WebElement (session=\"cef15fa12723a14e490b53f06ab8a8d9\", element=\"f.2B641AA2BF147239536F8FD8597BE1C7.d.343BD8D0D324BE214949089F4352D926.e.25718\")>,\n",
       " <selenium.webdriver.remote.webelement.WebElement (session=\"cef15fa12723a14e490b53f06ab8a8d9\", element=\"f.2B641AA2BF147239536F8FD8597BE1C7.d.343BD8D0D324BE214949089F4352D926.e.25640\")>,\n",
       " <selenium.webdriver.remote.webelement.WebElement (session=\"cef15fa12723a14e490b53f06ab8a8d9\", element=\"f.2B641AA2BF147239536F8FD8597BE1C7.d.343BD8D0D324BE214949089F4352D926.e.25555\")>,\n",
       " <selenium.webdriver.remote.webelement.WebElement (session=\"cef15fa12723a14e490b53f06ab8a8d9\", element=\"f.2B641AA2BF147239536F8FD8597BE1C7.d.343BD8D0D324BE214949089F4352D926.e.25468\")>,\n",
       " <selenium.webdriver.remote.webelement.WebElement (session=\"cef15fa12723a14e490b53f06ab8a8d9\", element=\"f.2B641AA2BF147239536F8FD8597BE1C7.d.343BD8D0D324BE214949089F4352D926.e.25385\")>,\n",
       " <selenium.webdriver.remote.webelement.WebElement (session=\"cef15fa12723a14e490b53f06ab8a8d9\", element=\"f.2B641AA2BF147239536F8FD8597BE1C7.d.343BD8D0D324BE214949089F4352D926.e.25311\")>,\n",
       " <selenium.webdriver.remote.webelement.WebElement (session=\"cef15fa12723a14e490b53f06ab8a8d9\", element=\"f.2B641AA2BF147239536F8FD8597BE1C7.d.343BD8D0D324BE214949089F4352D926.e.28787\")>,\n",
       " <selenium.webdriver.remote.webelement.WebElement (session=\"cef15fa12723a14e490b53f06ab8a8d9\", element=\"f.2B641AA2BF147239536F8FD8597BE1C7.d.343BD8D0D324BE214949089F4352D926.e.28704\")>,\n",
       " <selenium.webdriver.remote.webelement.WebElement (session=\"cef15fa12723a14e490b53f06ab8a8d9\", element=\"f.2B641AA2BF147239536F8FD8597BE1C7.d.343BD8D0D324BE214949089F4352D926.e.28621\")>,\n",
       " <selenium.webdriver.remote.webelement.WebElement (session=\"cef15fa12723a14e490b53f06ab8a8d9\", element=\"f.2B641AA2BF147239536F8FD8597BE1C7.d.343BD8D0D324BE214949089F4352D926.e.28543\")>,\n",
       " <selenium.webdriver.remote.webelement.WebElement (session=\"cef15fa12723a14e490b53f06ab8a8d9\", element=\"f.2B641AA2BF147239536F8FD8597BE1C7.d.343BD8D0D324BE214949089F4352D926.e.28460\")>,\n",
       " <selenium.webdriver.remote.webelement.WebElement (session=\"cef15fa12723a14e490b53f06ab8a8d9\", element=\"f.2B641AA2BF147239536F8FD8597BE1C7.d.343BD8D0D324BE214949089F4352D926.e.28382\")>,\n",
       " <selenium.webdriver.remote.webelement.WebElement (session=\"cef15fa12723a14e490b53f06ab8a8d9\", element=\"f.2B641AA2BF147239536F8FD8597BE1C7.d.343BD8D0D324BE214949089F4352D926.e.28295\")>,\n",
       " <selenium.webdriver.remote.webelement.WebElement (session=\"cef15fa12723a14e490b53f06ab8a8d9\", element=\"f.2B641AA2BF147239536F8FD8597BE1C7.d.343BD8D0D324BE214949089F4352D926.e.28208\")>,\n",
       " <selenium.webdriver.remote.webelement.WebElement (session=\"cef15fa12723a14e490b53f06ab8a8d9\", element=\"f.2B641AA2BF147239536F8FD8597BE1C7.d.343BD8D0D324BE214949089F4352D926.e.28130\")>,\n",
       " <selenium.webdriver.remote.webelement.WebElement (session=\"cef15fa12723a14e490b53f06ab8a8d9\", element=\"f.2B641AA2BF147239536F8FD8597BE1C7.d.343BD8D0D324BE214949089F4352D926.e.28043\")>,\n",
       " <selenium.webdriver.remote.webelement.WebElement (session=\"cef15fa12723a14e490b53f06ab8a8d9\", element=\"f.2B641AA2BF147239536F8FD8597BE1C7.d.343BD8D0D324BE214949089F4352D926.e.27956\")>,\n",
       " <selenium.webdriver.remote.webelement.WebElement (session=\"cef15fa12723a14e490b53f06ab8a8d9\", element=\"f.2B641AA2BF147239536F8FD8597BE1C7.d.343BD8D0D324BE214949089F4352D926.e.27869\")>,\n",
       " <selenium.webdriver.remote.webelement.WebElement (session=\"cef15fa12723a14e490b53f06ab8a8d9\", element=\"f.2B641AA2BF147239536F8FD8597BE1C7.d.343BD8D0D324BE214949089F4352D926.e.27784\")>,\n",
       " <selenium.webdriver.remote.webelement.WebElement (session=\"cef15fa12723a14e490b53f06ab8a8d9\", element=\"f.2B641AA2BF147239536F8FD8597BE1C7.d.343BD8D0D324BE214949089F4352D926.e.27706\")>,\n",
       " <selenium.webdriver.remote.webelement.WebElement (session=\"cef15fa12723a14e490b53f06ab8a8d9\", element=\"f.2B641AA2BF147239536F8FD8597BE1C7.d.343BD8D0D324BE214949089F4352D926.e.27628\")>,\n",
       " <selenium.webdriver.remote.webelement.WebElement (session=\"cef15fa12723a14e490b53f06ab8a8d9\", element=\"f.2B641AA2BF147239536F8FD8597BE1C7.d.343BD8D0D324BE214949089F4352D926.e.27541\")>,\n",
       " <selenium.webdriver.remote.webelement.WebElement (session=\"cef15fa12723a14e490b53f06ab8a8d9\", element=\"f.2B641AA2BF147239536F8FD8597BE1C7.d.343BD8D0D324BE214949089F4352D926.e.27465\")>,\n",
       " <selenium.webdriver.remote.webelement.WebElement (session=\"cef15fa12723a14e490b53f06ab8a8d9\", element=\"f.2B641AA2BF147239536F8FD8597BE1C7.d.343BD8D0D324BE214949089F4352D926.e.27391\")>,\n",
       " <selenium.webdriver.remote.webelement.WebElement (session=\"cef15fa12723a14e490b53f06ab8a8d9\", element=\"f.2B641AA2BF147239536F8FD8597BE1C7.d.343BD8D0D324BE214949089F4352D926.e.27315\")>,\n",
       " <selenium.webdriver.remote.webelement.WebElement (session=\"cef15fa12723a14e490b53f06ab8a8d9\", element=\"f.2B641AA2BF147239536F8FD8597BE1C7.d.343BD8D0D324BE214949089F4352D926.e.27228\")>,\n",
       " <selenium.webdriver.remote.webelement.WebElement (session=\"cef15fa12723a14e490b53f06ab8a8d9\", element=\"f.2B641AA2BF147239536F8FD8597BE1C7.d.343BD8D0D324BE214949089F4352D926.e.30660\")>,\n",
       " <selenium.webdriver.remote.webelement.WebElement (session=\"cef15fa12723a14e490b53f06ab8a8d9\", element=\"f.2B641AA2BF147239536F8FD8597BE1C7.d.343BD8D0D324BE214949089F4352D926.e.30573\")>,\n",
       " <selenium.webdriver.remote.webelement.WebElement (session=\"cef15fa12723a14e490b53f06ab8a8d9\", element=\"f.2B641AA2BF147239536F8FD8597BE1C7.d.343BD8D0D324BE214949089F4352D926.e.30486\")>,\n",
       " <selenium.webdriver.remote.webelement.WebElement (session=\"cef15fa12723a14e490b53f06ab8a8d9\", element=\"f.2B641AA2BF147239536F8FD8597BE1C7.d.343BD8D0D324BE214949089F4352D926.e.30412\")>,\n",
       " <selenium.webdriver.remote.webelement.WebElement (session=\"cef15fa12723a14e490b53f06ab8a8d9\", element=\"f.2B641AA2BF147239536F8FD8597BE1C7.d.343BD8D0D324BE214949089F4352D926.e.30325\")>,\n",
       " <selenium.webdriver.remote.webelement.WebElement (session=\"cef15fa12723a14e490b53f06ab8a8d9\", element=\"f.2B641AA2BF147239536F8FD8597BE1C7.d.343BD8D0D324BE214949089F4352D926.e.30238\")>,\n",
       " <selenium.webdriver.remote.webelement.WebElement (session=\"cef15fa12723a14e490b53f06ab8a8d9\", element=\"f.2B641AA2BF147239536F8FD8597BE1C7.d.343BD8D0D324BE214949089F4352D926.e.30151\")>,\n",
       " <selenium.webdriver.remote.webelement.WebElement (session=\"cef15fa12723a14e490b53f06ab8a8d9\", element=\"f.2B641AA2BF147239536F8FD8597BE1C7.d.343BD8D0D324BE214949089F4352D926.e.30064\")>,\n",
       " <selenium.webdriver.remote.webelement.WebElement (session=\"cef15fa12723a14e490b53f06ab8a8d9\", element=\"f.2B641AA2BF147239536F8FD8597BE1C7.d.343BD8D0D324BE214949089F4352D926.e.29986\")>,\n",
       " <selenium.webdriver.remote.webelement.WebElement (session=\"cef15fa12723a14e490b53f06ab8a8d9\", element=\"f.2B641AA2BF147239536F8FD8597BE1C7.d.343BD8D0D324BE214949089F4352D926.e.29912\")>,\n",
       " <selenium.webdriver.remote.webelement.WebElement (session=\"cef15fa12723a14e490b53f06ab8a8d9\", element=\"f.2B641AA2BF147239536F8FD8597BE1C7.d.343BD8D0D324BE214949089F4352D926.e.29825\")>,\n",
       " <selenium.webdriver.remote.webelement.WebElement (session=\"cef15fa12723a14e490b53f06ab8a8d9\", element=\"f.2B641AA2BF147239536F8FD8597BE1C7.d.343BD8D0D324BE214949089F4352D926.e.29747\")>,\n",
       " <selenium.webdriver.remote.webelement.WebElement (session=\"cef15fa12723a14e490b53f06ab8a8d9\", element=\"f.2B641AA2BF147239536F8FD8597BE1C7.d.343BD8D0D324BE214949089F4352D926.e.29669\")>,\n",
       " <selenium.webdriver.remote.webelement.WebElement (session=\"cef15fa12723a14e490b53f06ab8a8d9\", element=\"f.2B641AA2BF147239536F8FD8597BE1C7.d.343BD8D0D324BE214949089F4352D926.e.29591\")>,\n",
       " <selenium.webdriver.remote.webelement.WebElement (session=\"cef15fa12723a14e490b53f06ab8a8d9\", element=\"f.2B641AA2BF147239536F8FD8597BE1C7.d.343BD8D0D324BE214949089F4352D926.e.29508\")>,\n",
       " <selenium.webdriver.remote.webelement.WebElement (session=\"cef15fa12723a14e490b53f06ab8a8d9\", element=\"f.2B641AA2BF147239536F8FD8597BE1C7.d.343BD8D0D324BE214949089F4352D926.e.29421\")>,\n",
       " <selenium.webdriver.remote.webelement.WebElement (session=\"cef15fa12723a14e490b53f06ab8a8d9\", element=\"f.2B641AA2BF147239536F8FD8597BE1C7.d.343BD8D0D324BE214949089F4352D926.e.29343\")>,\n",
       " <selenium.webdriver.remote.webelement.WebElement (session=\"cef15fa12723a14e490b53f06ab8a8d9\", element=\"f.2B641AA2BF147239536F8FD8597BE1C7.d.343BD8D0D324BE214949089F4352D926.e.29269\")>,\n",
       " <selenium.webdriver.remote.webelement.WebElement (session=\"cef15fa12723a14e490b53f06ab8a8d9\", element=\"f.2B641AA2BF147239536F8FD8597BE1C7.d.343BD8D0D324BE214949089F4352D926.e.29182\")>,\n",
       " <selenium.webdriver.remote.webelement.WebElement (session=\"cef15fa12723a14e490b53f06ab8a8d9\", element=\"f.2B641AA2BF147239536F8FD8597BE1C7.d.343BD8D0D324BE214949089F4352D926.e.29095\")>,\n",
       " <selenium.webdriver.remote.webelement.WebElement (session=\"cef15fa12723a14e490b53f06ab8a8d9\", element=\"f.2B641AA2BF147239536F8FD8597BE1C7.d.343BD8D0D324BE214949089F4352D926.e.32547\")>,\n",
       " <selenium.webdriver.remote.webelement.WebElement (session=\"cef15fa12723a14e490b53f06ab8a8d9\", element=\"f.2B641AA2BF147239536F8FD8597BE1C7.d.343BD8D0D324BE214949089F4352D926.e.32462\")>,\n",
       " <selenium.webdriver.remote.webelement.WebElement (session=\"cef15fa12723a14e490b53f06ab8a8d9\", element=\"f.2B641AA2BF147239536F8FD8597BE1C7.d.343BD8D0D324BE214949089F4352D926.e.32377\")>,\n",
       " <selenium.webdriver.remote.webelement.WebElement (session=\"cef15fa12723a14e490b53f06ab8a8d9\", element=\"f.2B641AA2BF147239536F8FD8597BE1C7.d.343BD8D0D324BE214949089F4352D926.e.32290\")>,\n",
       " <selenium.webdriver.remote.webelement.WebElement (session=\"cef15fa12723a14e490b53f06ab8a8d9\", element=\"f.2B641AA2BF147239536F8FD8597BE1C7.d.343BD8D0D324BE214949089F4352D926.e.32207\")>,\n",
       " <selenium.webdriver.remote.webelement.WebElement (session=\"cef15fa12723a14e490b53f06ab8a8d9\", element=\"f.2B641AA2BF147239536F8FD8597BE1C7.d.343BD8D0D324BE214949089F4352D926.e.32129\")>,\n",
       " <selenium.webdriver.remote.webelement.WebElement (session=\"cef15fa12723a14e490b53f06ab8a8d9\", element=\"f.2B641AA2BF147239536F8FD8597BE1C7.d.343BD8D0D324BE214949089F4352D926.e.32051\")>,\n",
       " <selenium.webdriver.remote.webelement.WebElement (session=\"cef15fa12723a14e490b53f06ab8a8d9\", element=\"f.2B641AA2BF147239536F8FD8597BE1C7.d.343BD8D0D324BE214949089F4352D926.e.31973\")>,\n",
       " <selenium.webdriver.remote.webelement.WebElement (session=\"cef15fa12723a14e490b53f06ab8a8d9\", element=\"f.2B641AA2BF147239536F8FD8597BE1C7.d.343BD8D0D324BE214949089F4352D926.e.31888\")>,\n",
       " <selenium.webdriver.remote.webelement.WebElement (session=\"cef15fa12723a14e490b53f06ab8a8d9\", element=\"f.2B641AA2BF147239536F8FD8597BE1C7.d.343BD8D0D324BE214949089F4352D926.e.31801\")>,\n",
       " <selenium.webdriver.remote.webelement.WebElement (session=\"cef15fa12723a14e490b53f06ab8a8d9\", element=\"f.2B641AA2BF147239536F8FD8597BE1C7.d.343BD8D0D324BE214949089F4352D926.e.31723\")>,\n",
       " <selenium.webdriver.remote.webelement.WebElement (session=\"cef15fa12723a14e490b53f06ab8a8d9\", element=\"f.2B641AA2BF147239536F8FD8597BE1C7.d.343BD8D0D324BE214949089F4352D926.e.31640\")>,\n",
       " <selenium.webdriver.remote.webelement.WebElement (session=\"cef15fa12723a14e490b53f06ab8a8d9\", element=\"f.2B641AA2BF147239536F8FD8597BE1C7.d.343BD8D0D324BE214949089F4352D926.e.31566\")>,\n",
       " <selenium.webdriver.remote.webelement.WebElement (session=\"cef15fa12723a14e490b53f06ab8a8d9\", element=\"f.2B641AA2BF147239536F8FD8597BE1C7.d.343BD8D0D324BE214949089F4352D926.e.31479\")>,\n",
       " <selenium.webdriver.remote.webelement.WebElement (session=\"cef15fa12723a14e490b53f06ab8a8d9\", element=\"f.2B641AA2BF147239536F8FD8597BE1C7.d.343BD8D0D324BE214949089F4352D926.e.31396\")>,\n",
       " <selenium.webdriver.remote.webelement.WebElement (session=\"cef15fa12723a14e490b53f06ab8a8d9\", element=\"f.2B641AA2BF147239536F8FD8597BE1C7.d.343BD8D0D324BE214949089F4352D926.e.31322\")>,\n",
       " <selenium.webdriver.remote.webelement.WebElement (session=\"cef15fa12723a14e490b53f06ab8a8d9\", element=\"f.2B641AA2BF147239536F8FD8597BE1C7.d.343BD8D0D324BE214949089F4352D926.e.31239\")>,\n",
       " <selenium.webdriver.remote.webelement.WebElement (session=\"cef15fa12723a14e490b53f06ab8a8d9\", element=\"f.2B641AA2BF147239536F8FD8597BE1C7.d.343BD8D0D324BE214949089F4352D926.e.31165\")>,\n",
       " <selenium.webdriver.remote.webelement.WebElement (session=\"cef15fa12723a14e490b53f06ab8a8d9\", element=\"f.2B641AA2BF147239536F8FD8597BE1C7.d.343BD8D0D324BE214949089F4352D926.e.31082\")>,\n",
       " <selenium.webdriver.remote.webelement.WebElement (session=\"cef15fa12723a14e490b53f06ab8a8d9\", element=\"f.2B641AA2BF147239536F8FD8597BE1C7.d.343BD8D0D324BE214949089F4352D926.e.30999\")>,\n",
       " <selenium.webdriver.remote.webelement.WebElement (session=\"cef15fa12723a14e490b53f06ab8a8d9\", element=\"f.2B641AA2BF147239536F8FD8597BE1C7.d.343BD8D0D324BE214949089F4352D926.e.34404\")>,\n",
       " <selenium.webdriver.remote.webelement.WebElement (session=\"cef15fa12723a14e490b53f06ab8a8d9\", element=\"f.2B641AA2BF147239536F8FD8597BE1C7.d.343BD8D0D324BE214949089F4352D926.e.34317\")>,\n",
       " <selenium.webdriver.remote.webelement.WebElement (session=\"cef15fa12723a14e490b53f06ab8a8d9\", element=\"f.2B641AA2BF147239536F8FD8597BE1C7.d.343BD8D0D324BE214949089F4352D926.e.34241\")>,\n",
       " <selenium.webdriver.remote.webelement.WebElement (session=\"cef15fa12723a14e490b53f06ab8a8d9\", element=\"f.2B641AA2BF147239536F8FD8597BE1C7.d.343BD8D0D324BE214949089F4352D926.e.34167\")>,\n",
       " <selenium.webdriver.remote.webelement.WebElement (session=\"cef15fa12723a14e490b53f06ab8a8d9\", element=\"f.2B641AA2BF147239536F8FD8597BE1C7.d.343BD8D0D324BE214949089F4352D926.e.34080\")>,\n",
       " <selenium.webdriver.remote.webelement.WebElement (session=\"cef15fa12723a14e490b53f06ab8a8d9\", element=\"f.2B641AA2BF147239536F8FD8597BE1C7.d.343BD8D0D324BE214949089F4352D926.e.34002\")>,\n",
       " <selenium.webdriver.remote.webelement.WebElement (session=\"cef15fa12723a14e490b53f06ab8a8d9\", element=\"f.2B641AA2BF147239536F8FD8597BE1C7.d.343BD8D0D324BE214949089F4352D926.e.33924\")>,\n",
       " <selenium.webdriver.remote.webelement.WebElement (session=\"cef15fa12723a14e490b53f06ab8a8d9\", element=\"f.2B641AA2BF147239536F8FD8597BE1C7.d.343BD8D0D324BE214949089F4352D926.e.33841\")>,\n",
       " <selenium.webdriver.remote.webelement.WebElement (session=\"cef15fa12723a14e490b53f06ab8a8d9\", element=\"f.2B641AA2BF147239536F8FD8597BE1C7.d.343BD8D0D324BE214949089F4352D926.e.33754\")>,\n",
       " <selenium.webdriver.remote.webelement.WebElement (session=\"cef15fa12723a14e490b53f06ab8a8d9\", element=\"f.2B641AA2BF147239536F8FD8597BE1C7.d.343BD8D0D324BE214949089F4352D926.e.33676\")>,\n",
       " <selenium.webdriver.remote.webelement.WebElement (session=\"cef15fa12723a14e490b53f06ab8a8d9\", element=\"f.2B641AA2BF147239536F8FD8597BE1C7.d.343BD8D0D324BE214949089F4352D926.e.33598\")>,\n",
       " <selenium.webdriver.remote.webelement.WebElement (session=\"cef15fa12723a14e490b53f06ab8a8d9\", element=\"f.2B641AA2BF147239536F8FD8597BE1C7.d.343BD8D0D324BE214949089F4352D926.e.33524\")>,\n",
       " <selenium.webdriver.remote.webelement.WebElement (session=\"cef15fa12723a14e490b53f06ab8a8d9\", element=\"f.2B641AA2BF147239536F8FD8597BE1C7.d.343BD8D0D324BE214949089F4352D926.e.33441\")>,\n",
       " <selenium.webdriver.remote.webelement.WebElement (session=\"cef15fa12723a14e490b53f06ab8a8d9\", element=\"f.2B641AA2BF147239536F8FD8597BE1C7.d.343BD8D0D324BE214949089F4352D926.e.33356\")>,\n",
       " <selenium.webdriver.remote.webelement.WebElement (session=\"cef15fa12723a14e490b53f06ab8a8d9\", element=\"f.2B641AA2BF147239536F8FD8597BE1C7.d.343BD8D0D324BE214949089F4352D926.e.33269\")>,\n",
       " <selenium.webdriver.remote.webelement.WebElement (session=\"cef15fa12723a14e490b53f06ab8a8d9\", element=\"f.2B641AA2BF147239536F8FD8597BE1C7.d.343BD8D0D324BE214949089F4352D926.e.33193\")>,\n",
       " <selenium.webdriver.remote.webelement.WebElement (session=\"cef15fa12723a14e490b53f06ab8a8d9\", element=\"f.2B641AA2BF147239536F8FD8597BE1C7.d.343BD8D0D324BE214949089F4352D926.e.33119\")>,\n",
       " <selenium.webdriver.remote.webelement.WebElement (session=\"cef15fa12723a14e490b53f06ab8a8d9\", element=\"f.2B641AA2BF147239536F8FD8597BE1C7.d.343BD8D0D324BE214949089F4352D926.e.33043\")>,\n",
       " <selenium.webdriver.remote.webelement.WebElement (session=\"cef15fa12723a14e490b53f06ab8a8d9\", element=\"f.2B641AA2BF147239536F8FD8597BE1C7.d.343BD8D0D324BE214949089F4352D926.e.32969\")>,\n",
       " <selenium.webdriver.remote.webelement.WebElement (session=\"cef15fa12723a14e490b53f06ab8a8d9\", element=\"f.2B641AA2BF147239536F8FD8597BE1C7.d.343BD8D0D324BE214949089F4352D926.e.32895\")>,\n",
       " <selenium.webdriver.remote.webelement.WebElement (session=\"cef15fa12723a14e490b53f06ab8a8d9\", element=\"f.2B641AA2BF147239536F8FD8597BE1C7.d.343BD8D0D324BE214949089F4352D926.e.36206\")>,\n",
       " <selenium.webdriver.remote.webelement.WebElement (session=\"cef15fa12723a14e490b53f06ab8a8d9\", element=\"f.2B641AA2BF147239536F8FD8597BE1C7.d.343BD8D0D324BE214949089F4352D926.e.36132\")>,\n",
       " <selenium.webdriver.remote.webelement.WebElement (session=\"cef15fa12723a14e490b53f06ab8a8d9\", element=\"f.2B641AA2BF147239536F8FD8597BE1C7.d.343BD8D0D324BE214949089F4352D926.e.36049\")>,\n",
       " <selenium.webdriver.remote.webelement.WebElement (session=\"cef15fa12723a14e490b53f06ab8a8d9\", element=\"f.2B641AA2BF147239536F8FD8597BE1C7.d.343BD8D0D324BE214949089F4352D926.e.35975\")>,\n",
       " <selenium.webdriver.remote.webelement.WebElement (session=\"cef15fa12723a14e490b53f06ab8a8d9\", element=\"f.2B641AA2BF147239536F8FD8597BE1C7.d.343BD8D0D324BE214949089F4352D926.e.35892\")>,\n",
       " <selenium.webdriver.remote.webelement.WebElement (session=\"cef15fa12723a14e490b53f06ab8a8d9\", element=\"f.2B641AA2BF147239536F8FD8597BE1C7.d.343BD8D0D324BE214949089F4352D926.e.35814\")>,\n",
       " <selenium.webdriver.remote.webelement.WebElement (session=\"cef15fa12723a14e490b53f06ab8a8d9\", element=\"f.2B641AA2BF147239536F8FD8597BE1C7.d.343BD8D0D324BE214949089F4352D926.e.35729\")>,\n",
       " <selenium.webdriver.remote.webelement.WebElement (session=\"cef15fa12723a14e490b53f06ab8a8d9\", element=\"f.2B641AA2BF147239536F8FD8597BE1C7.d.343BD8D0D324BE214949089F4352D926.e.35651\")>,\n",
       " <selenium.webdriver.remote.webelement.WebElement (session=\"cef15fa12723a14e490b53f06ab8a8d9\", element=\"f.2B641AA2BF147239536F8FD8597BE1C7.d.343BD8D0D324BE214949089F4352D926.e.35575\")>,\n",
       " <selenium.webdriver.remote.webelement.WebElement (session=\"cef15fa12723a14e490b53f06ab8a8d9\", element=\"f.2B641AA2BF147239536F8FD8597BE1C7.d.343BD8D0D324BE214949089F4352D926.e.35497\")>,\n",
       " <selenium.webdriver.remote.webelement.WebElement (session=\"cef15fa12723a14e490b53f06ab8a8d9\", element=\"f.2B641AA2BF147239536F8FD8597BE1C7.d.343BD8D0D324BE214949089F4352D926.e.35423\")>,\n",
       " <selenium.webdriver.remote.webelement.WebElement (session=\"cef15fa12723a14e490b53f06ab8a8d9\", element=\"f.2B641AA2BF147239536F8FD8597BE1C7.d.343BD8D0D324BE214949089F4352D926.e.35349\")>,\n",
       " <selenium.webdriver.remote.webelement.WebElement (session=\"cef15fa12723a14e490b53f06ab8a8d9\", element=\"f.2B641AA2BF147239536F8FD8597BE1C7.d.343BD8D0D324BE214949089F4352D926.e.35273\")>,\n",
       " <selenium.webdriver.remote.webelement.WebElement (session=\"cef15fa12723a14e490b53f06ab8a8d9\", element=\"f.2B641AA2BF147239536F8FD8597BE1C7.d.343BD8D0D324BE214949089F4352D926.e.35190\")>,\n",
       " <selenium.webdriver.remote.webelement.WebElement (session=\"cef15fa12723a14e490b53f06ab8a8d9\", element=\"f.2B641AA2BF147239536F8FD8597BE1C7.d.343BD8D0D324BE214949089F4352D926.e.35116\")>,\n",
       " <selenium.webdriver.remote.webelement.WebElement (session=\"cef15fa12723a14e490b53f06ab8a8d9\", element=\"f.2B641AA2BF147239536F8FD8597BE1C7.d.343BD8D0D324BE214949089F4352D926.e.35033\")>,\n",
       " <selenium.webdriver.remote.webelement.WebElement (session=\"cef15fa12723a14e490b53f06ab8a8d9\", element=\"f.2B641AA2BF147239536F8FD8597BE1C7.d.343BD8D0D324BE214949089F4352D926.e.34950\")>,\n",
       " <selenium.webdriver.remote.webelement.WebElement (session=\"cef15fa12723a14e490b53f06ab8a8d9\", element=\"f.2B641AA2BF147239536F8FD8597BE1C7.d.343BD8D0D324BE214949089F4352D926.e.34867\")>,\n",
       " <selenium.webdriver.remote.webelement.WebElement (session=\"cef15fa12723a14e490b53f06ab8a8d9\", element=\"f.2B641AA2BF147239536F8FD8597BE1C7.d.343BD8D0D324BE214949089F4352D926.e.34793\")>,\n",
       " <selenium.webdriver.remote.webelement.WebElement (session=\"cef15fa12723a14e490b53f06ab8a8d9\", element=\"f.2B641AA2BF147239536F8FD8597BE1C7.d.343BD8D0D324BE214949089F4352D926.e.34717\")>,\n",
       " <selenium.webdriver.remote.webelement.WebElement (session=\"cef15fa12723a14e490b53f06ab8a8d9\", element=\"f.2B641AA2BF147239536F8FD8597BE1C7.d.343BD8D0D324BE214949089F4352D926.e.38107\")>,\n",
       " <selenium.webdriver.remote.webelement.WebElement (session=\"cef15fa12723a14e490b53f06ab8a8d9\", element=\"f.2B641AA2BF147239536F8FD8597BE1C7.d.343BD8D0D324BE214949089F4352D926.e.38024\")>,\n",
       " <selenium.webdriver.remote.webelement.WebElement (session=\"cef15fa12723a14e490b53f06ab8a8d9\", element=\"f.2B641AA2BF147239536F8FD8597BE1C7.d.343BD8D0D324BE214949089F4352D926.e.37950\")>,\n",
       " <selenium.webdriver.remote.webelement.WebElement (session=\"cef15fa12723a14e490b53f06ab8a8d9\", element=\"f.2B641AA2BF147239536F8FD8597BE1C7.d.343BD8D0D324BE214949089F4352D926.e.37865\")>,\n",
       " <selenium.webdriver.remote.webelement.WebElement (session=\"cef15fa12723a14e490b53f06ab8a8d9\", element=\"f.2B641AA2BF147239536F8FD8597BE1C7.d.343BD8D0D324BE214949089F4352D926.e.37789\")>,\n",
       " <selenium.webdriver.remote.webelement.WebElement (session=\"cef15fa12723a14e490b53f06ab8a8d9\", element=\"f.2B641AA2BF147239536F8FD8597BE1C7.d.343BD8D0D324BE214949089F4352D926.e.37706\")>,\n",
       " <selenium.webdriver.remote.webelement.WebElement (session=\"cef15fa12723a14e490b53f06ab8a8d9\", element=\"f.2B641AA2BF147239536F8FD8597BE1C7.d.343BD8D0D324BE214949089F4352D926.e.37621\")>,\n",
       " <selenium.webdriver.remote.webelement.WebElement (session=\"cef15fa12723a14e490b53f06ab8a8d9\", element=\"f.2B641AA2BF147239536F8FD8597BE1C7.d.343BD8D0D324BE214949089F4352D926.e.37543\")>,\n",
       " <selenium.webdriver.remote.webelement.WebElement (session=\"cef15fa12723a14e490b53f06ab8a8d9\", element=\"f.2B641AA2BF147239536F8FD8597BE1C7.d.343BD8D0D324BE214949089F4352D926.e.37465\")>,\n",
       " <selenium.webdriver.remote.webelement.WebElement (session=\"cef15fa12723a14e490b53f06ab8a8d9\", element=\"f.2B641AA2BF147239536F8FD8597BE1C7.d.343BD8D0D324BE214949089F4352D926.e.37378\")>,\n",
       " <selenium.webdriver.remote.webelement.WebElement (session=\"cef15fa12723a14e490b53f06ab8a8d9\", element=\"f.2B641AA2BF147239536F8FD8597BE1C7.d.343BD8D0D324BE214949089F4352D926.e.37295\")>,\n",
       " <selenium.webdriver.remote.webelement.WebElement (session=\"cef15fa12723a14e490b53f06ab8a8d9\", element=\"f.2B641AA2BF147239536F8FD8597BE1C7.d.343BD8D0D324BE214949089F4352D926.e.37219\")>,\n",
       " <selenium.webdriver.remote.webelement.WebElement (session=\"cef15fa12723a14e490b53f06ab8a8d9\", element=\"f.2B641AA2BF147239536F8FD8597BE1C7.d.343BD8D0D324BE214949089F4352D926.e.37141\")>,\n",
       " <selenium.webdriver.remote.webelement.WebElement (session=\"cef15fa12723a14e490b53f06ab8a8d9\", element=\"f.2B641AA2BF147239536F8FD8597BE1C7.d.343BD8D0D324BE214949089F4352D926.e.37054\")>,\n",
       " <selenium.webdriver.remote.webelement.WebElement (session=\"cef15fa12723a14e490b53f06ab8a8d9\", element=\"f.2B641AA2BF147239536F8FD8597BE1C7.d.343BD8D0D324BE214949089F4352D926.e.36971\")>,\n",
       " <selenium.webdriver.remote.webelement.WebElement (session=\"cef15fa12723a14e490b53f06ab8a8d9\", element=\"f.2B641AA2BF147239536F8FD8597BE1C7.d.343BD8D0D324BE214949089F4352D926.e.36884\")>,\n",
       " <selenium.webdriver.remote.webelement.WebElement (session=\"cef15fa12723a14e490b53f06ab8a8d9\", element=\"f.2B641AA2BF147239536F8FD8597BE1C7.d.343BD8D0D324BE214949089F4352D926.e.36801\")>,\n",
       " <selenium.webdriver.remote.webelement.WebElement (session=\"cef15fa12723a14e490b53f06ab8a8d9\", element=\"f.2B641AA2BF147239536F8FD8597BE1C7.d.343BD8D0D324BE214949089F4352D926.e.36725\")>,\n",
       " <selenium.webdriver.remote.webelement.WebElement (session=\"cef15fa12723a14e490b53f06ab8a8d9\", element=\"f.2B641AA2BF147239536F8FD8597BE1C7.d.343BD8D0D324BE214949089F4352D926.e.36642\")>,\n",
       " <selenium.webdriver.remote.webelement.WebElement (session=\"cef15fa12723a14e490b53f06ab8a8d9\", element=\"f.2B641AA2BF147239536F8FD8597BE1C7.d.343BD8D0D324BE214949089F4352D926.e.36568\")>,\n",
       " <selenium.webdriver.remote.webelement.WebElement (session=\"cef15fa12723a14e490b53f06ab8a8d9\", element=\"f.2B641AA2BF147239536F8FD8597BE1C7.d.343BD8D0D324BE214949089F4352D926.e.39934\")>,\n",
       " <selenium.webdriver.remote.webelement.WebElement (session=\"cef15fa12723a14e490b53f06ab8a8d9\", element=\"f.2B641AA2BF147239536F8FD8597BE1C7.d.343BD8D0D324BE214949089F4352D926.e.39860\")>,\n",
       " <selenium.webdriver.remote.webelement.WebElement (session=\"cef15fa12723a14e490b53f06ab8a8d9\", element=\"f.2B641AA2BF147239536F8FD8597BE1C7.d.343BD8D0D324BE214949089F4352D926.e.39777\")>,\n",
       " <selenium.webdriver.remote.webelement.WebElement (session=\"cef15fa12723a14e490b53f06ab8a8d9\", element=\"f.2B641AA2BF147239536F8FD8597BE1C7.d.343BD8D0D324BE214949089F4352D926.e.39703\")>,\n",
       " <selenium.webdriver.remote.webelement.WebElement (session=\"cef15fa12723a14e490b53f06ab8a8d9\", element=\"f.2B641AA2BF147239536F8FD8597BE1C7.d.343BD8D0D324BE214949089F4352D926.e.39627\")>,\n",
       " <selenium.webdriver.remote.webelement.WebElement (session=\"cef15fa12723a14e490b53f06ab8a8d9\", element=\"f.2B641AA2BF147239536F8FD8597BE1C7.d.343BD8D0D324BE214949089F4352D926.e.39553\")>,\n",
       " <selenium.webdriver.remote.webelement.WebElement (session=\"cef15fa12723a14e490b53f06ab8a8d9\", element=\"f.2B641AA2BF147239536F8FD8597BE1C7.d.343BD8D0D324BE214949089F4352D926.e.39470\")>,\n",
       " <selenium.webdriver.remote.webelement.WebElement (session=\"cef15fa12723a14e490b53f06ab8a8d9\", element=\"f.2B641AA2BF147239536F8FD8597BE1C7.d.343BD8D0D324BE214949089F4352D926.e.39387\")>,\n",
       " <selenium.webdriver.remote.webelement.WebElement (session=\"cef15fa12723a14e490b53f06ab8a8d9\", element=\"f.2B641AA2BF147239536F8FD8597BE1C7.d.343BD8D0D324BE214949089F4352D926.e.39313\")>,\n",
       " <selenium.webdriver.remote.webelement.WebElement (session=\"cef15fa12723a14e490b53f06ab8a8d9\", element=\"f.2B641AA2BF147239536F8FD8597BE1C7.d.343BD8D0D324BE214949089F4352D926.e.39237\")>,\n",
       " <selenium.webdriver.remote.webelement.WebElement (session=\"cef15fa12723a14e490b53f06ab8a8d9\", element=\"f.2B641AA2BF147239536F8FD8597BE1C7.d.343BD8D0D324BE214949089F4352D926.e.39154\")>,\n",
       " <selenium.webdriver.remote.webelement.WebElement (session=\"cef15fa12723a14e490b53f06ab8a8d9\", element=\"f.2B641AA2BF147239536F8FD8597BE1C7.d.343BD8D0D324BE214949089F4352D926.e.39080\")>,\n",
       " <selenium.webdriver.remote.webelement.WebElement (session=\"cef15fa12723a14e490b53f06ab8a8d9\", element=\"f.2B641AA2BF147239536F8FD8597BE1C7.d.343BD8D0D324BE214949089F4352D926.e.39006\")>,\n",
       " <selenium.webdriver.remote.webelement.WebElement (session=\"cef15fa12723a14e490b53f06ab8a8d9\", element=\"f.2B641AA2BF147239536F8FD8597BE1C7.d.343BD8D0D324BE214949089F4352D926.e.38928\")>,\n",
       " <selenium.webdriver.remote.webelement.WebElement (session=\"cef15fa12723a14e490b53f06ab8a8d9\", element=\"f.2B641AA2BF147239536F8FD8597BE1C7.d.343BD8D0D324BE214949089F4352D926.e.38845\")>,\n",
       " <selenium.webdriver.remote.webelement.WebElement (session=\"cef15fa12723a14e490b53f06ab8a8d9\", element=\"f.2B641AA2BF147239536F8FD8597BE1C7.d.343BD8D0D324BE214949089F4352D926.e.38769\")>,\n",
       " <selenium.webdriver.remote.webelement.WebElement (session=\"cef15fa12723a14e490b53f06ab8a8d9\", element=\"f.2B641AA2BF147239536F8FD8597BE1C7.d.343BD8D0D324BE214949089F4352D926.e.38693\")>,\n",
       " <selenium.webdriver.remote.webelement.WebElement (session=\"cef15fa12723a14e490b53f06ab8a8d9\", element=\"f.2B641AA2BF147239536F8FD8597BE1C7.d.343BD8D0D324BE214949089F4352D926.e.38606\")>,\n",
       " <selenium.webdriver.remote.webelement.WebElement (session=\"cef15fa12723a14e490b53f06ab8a8d9\", element=\"f.2B641AA2BF147239536F8FD8597BE1C7.d.343BD8D0D324BE214949089F4352D926.e.38532\")>,\n",
       " <selenium.webdriver.remote.webelement.WebElement (session=\"cef15fa12723a14e490b53f06ab8a8d9\", element=\"f.2B641AA2BF147239536F8FD8597BE1C7.d.343BD8D0D324BE214949089F4352D926.e.38445\")>,\n",
       " <selenium.webdriver.remote.webelement.WebElement (session=\"cef15fa12723a14e490b53f06ab8a8d9\", element=\"f.2B641AA2BF147239536F8FD8597BE1C7.d.343BD8D0D324BE214949089F4352D926.e.41851\")>,\n",
       " <selenium.webdriver.remote.webelement.WebElement (session=\"cef15fa12723a14e490b53f06ab8a8d9\", element=\"f.2B641AA2BF147239536F8FD8597BE1C7.d.343BD8D0D324BE214949089F4352D926.e.41768\")>,\n",
       " <selenium.webdriver.remote.webelement.WebElement (session=\"cef15fa12723a14e490b53f06ab8a8d9\", element=\"f.2B641AA2BF147239536F8FD8597BE1C7.d.343BD8D0D324BE214949089F4352D926.e.41685\")>,\n",
       " <selenium.webdriver.remote.webelement.WebElement (session=\"cef15fa12723a14e490b53f06ab8a8d9\", element=\"f.2B641AA2BF147239536F8FD8597BE1C7.d.343BD8D0D324BE214949089F4352D926.e.41611\")>,\n",
       " <selenium.webdriver.remote.webelement.WebElement (session=\"cef15fa12723a14e490b53f06ab8a8d9\", element=\"f.2B641AA2BF147239536F8FD8597BE1C7.d.343BD8D0D324BE214949089F4352D926.e.41533\")>,\n",
       " <selenium.webdriver.remote.webelement.WebElement (session=\"cef15fa12723a14e490b53f06ab8a8d9\", element=\"f.2B641AA2BF147239536F8FD8597BE1C7.d.343BD8D0D324BE214949089F4352D926.e.41448\")>,\n",
       " <selenium.webdriver.remote.webelement.WebElement (session=\"cef15fa12723a14e490b53f06ab8a8d9\", element=\"f.2B641AA2BF147239536F8FD8597BE1C7.d.343BD8D0D324BE214949089F4352D926.e.41361\")>,\n",
       " <selenium.webdriver.remote.webelement.WebElement (session=\"cef15fa12723a14e490b53f06ab8a8d9\", element=\"f.2B641AA2BF147239536F8FD8597BE1C7.d.343BD8D0D324BE214949089F4352D926.e.41278\")>,\n",
       " <selenium.webdriver.remote.webelement.WebElement (session=\"cef15fa12723a14e490b53f06ab8a8d9\", element=\"f.2B641AA2BF147239536F8FD8597BE1C7.d.343BD8D0D324BE214949089F4352D926.e.41200\")>,\n",
       " <selenium.webdriver.remote.webelement.WebElement (session=\"cef15fa12723a14e490b53f06ab8a8d9\", element=\"f.2B641AA2BF147239536F8FD8597BE1C7.d.343BD8D0D324BE214949089F4352D926.e.41117\")>,\n",
       " <selenium.webdriver.remote.webelement.WebElement (session=\"cef15fa12723a14e490b53f06ab8a8d9\", element=\"f.2B641AA2BF147239536F8FD8597BE1C7.d.343BD8D0D324BE214949089F4352D926.e.41030\")>,\n",
       " <selenium.webdriver.remote.webelement.WebElement (session=\"cef15fa12723a14e490b53f06ab8a8d9\", element=\"f.2B641AA2BF147239536F8FD8597BE1C7.d.343BD8D0D324BE214949089F4352D926.e.40945\")>,\n",
       " <selenium.webdriver.remote.webelement.WebElement (session=\"cef15fa12723a14e490b53f06ab8a8d9\", element=\"f.2B641AA2BF147239536F8FD8597BE1C7.d.343BD8D0D324BE214949089F4352D926.e.40862\")>,\n",
       " <selenium.webdriver.remote.webelement.WebElement (session=\"cef15fa12723a14e490b53f06ab8a8d9\", element=\"f.2B641AA2BF147239536F8FD8597BE1C7.d.343BD8D0D324BE214949089F4352D926.e.40779\")>,\n",
       " <selenium.webdriver.remote.webelement.WebElement (session=\"cef15fa12723a14e490b53f06ab8a8d9\", element=\"f.2B641AA2BF147239536F8FD8597BE1C7.d.343BD8D0D324BE214949089F4352D926.e.40701\")>,\n",
       " <selenium.webdriver.remote.webelement.WebElement (session=\"cef15fa12723a14e490b53f06ab8a8d9\", element=\"f.2B641AA2BF147239536F8FD8597BE1C7.d.343BD8D0D324BE214949089F4352D926.e.40618\")>,\n",
       " <selenium.webdriver.remote.webelement.WebElement (session=\"cef15fa12723a14e490b53f06ab8a8d9\", element=\"f.2B641AA2BF147239536F8FD8597BE1C7.d.343BD8D0D324BE214949089F4352D926.e.40533\")>,\n",
       " <selenium.webdriver.remote.webelement.WebElement (session=\"cef15fa12723a14e490b53f06ab8a8d9\", element=\"f.2B641AA2BF147239536F8FD8597BE1C7.d.343BD8D0D324BE214949089F4352D926.e.40450\")>,\n",
       " <selenium.webdriver.remote.webelement.WebElement (session=\"cef15fa12723a14e490b53f06ab8a8d9\", element=\"f.2B641AA2BF147239536F8FD8597BE1C7.d.343BD8D0D324BE214949089F4352D926.e.40367\")>,\n",
       " <selenium.webdriver.remote.webelement.WebElement (session=\"cef15fa12723a14e490b53f06ab8a8d9\", element=\"f.2B641AA2BF147239536F8FD8597BE1C7.d.343BD8D0D324BE214949089F4352D926.e.40284\")>,\n",
       " <selenium.webdriver.remote.webelement.WebElement (session=\"cef15fa12723a14e490b53f06ab8a8d9\", element=\"f.2B641AA2BF147239536F8FD8597BE1C7.d.343BD8D0D324BE214949089F4352D926.e.43712\")>,\n",
       " <selenium.webdriver.remote.webelement.WebElement (session=\"cef15fa12723a14e490b53f06ab8a8d9\", element=\"f.2B641AA2BF147239536F8FD8597BE1C7.d.343BD8D0D324BE214949089F4352D926.e.43625\")>,\n",
       " <selenium.webdriver.remote.webelement.WebElement (session=\"cef15fa12723a14e490b53f06ab8a8d9\", element=\"f.2B641AA2BF147239536F8FD8597BE1C7.d.343BD8D0D324BE214949089F4352D926.e.43551\")>,\n",
       " <selenium.webdriver.remote.webelement.WebElement (session=\"cef15fa12723a14e490b53f06ab8a8d9\", element=\"f.2B641AA2BF147239536F8FD8597BE1C7.d.343BD8D0D324BE214949089F4352D926.e.43477\")>,\n",
       " <selenium.webdriver.remote.webelement.WebElement (session=\"cef15fa12723a14e490b53f06ab8a8d9\", element=\"f.2B641AA2BF147239536F8FD8597BE1C7.d.343BD8D0D324BE214949089F4352D926.e.43403\")>,\n",
       " <selenium.webdriver.remote.webelement.WebElement (session=\"cef15fa12723a14e490b53f06ab8a8d9\", element=\"f.2B641AA2BF147239536F8FD8597BE1C7.d.343BD8D0D324BE214949089F4352D926.e.43320\")>,\n",
       " <selenium.webdriver.remote.webelement.WebElement (session=\"cef15fa12723a14e490b53f06ab8a8d9\", element=\"f.2B641AA2BF147239536F8FD8597BE1C7.d.343BD8D0D324BE214949089F4352D926.e.43242\")>,\n",
       " <selenium.webdriver.remote.webelement.WebElement (session=\"cef15fa12723a14e490b53f06ab8a8d9\", element=\"f.2B641AA2BF147239536F8FD8597BE1C7.d.343BD8D0D324BE214949089F4352D926.e.43159\")>,\n",
       " <selenium.webdriver.remote.webelement.WebElement (session=\"cef15fa12723a14e490b53f06ab8a8d9\", element=\"f.2B641AA2BF147239536F8FD8597BE1C7.d.343BD8D0D324BE214949089F4352D926.e.43074\")>,\n",
       " <selenium.webdriver.remote.webelement.WebElement (session=\"cef15fa12723a14e490b53f06ab8a8d9\", element=\"f.2B641AA2BF147239536F8FD8597BE1C7.d.343BD8D0D324BE214949089F4352D926.e.42991\")>,\n",
       " <selenium.webdriver.remote.webelement.WebElement (session=\"cef15fa12723a14e490b53f06ab8a8d9\", element=\"f.2B641AA2BF147239536F8FD8597BE1C7.d.343BD8D0D324BE214949089F4352D926.e.42904\")>,\n",
       " <selenium.webdriver.remote.webelement.WebElement (session=\"cef15fa12723a14e490b53f06ab8a8d9\", element=\"f.2B641AA2BF147239536F8FD8597BE1C7.d.343BD8D0D324BE214949089F4352D926.e.42817\")>,\n",
       " <selenium.webdriver.remote.webelement.WebElement (session=\"cef15fa12723a14e490b53f06ab8a8d9\", element=\"f.2B641AA2BF147239536F8FD8597BE1C7.d.343BD8D0D324BE214949089F4352D926.e.42734\")>,\n",
       " <selenium.webdriver.remote.webelement.WebElement (session=\"cef15fa12723a14e490b53f06ab8a8d9\", element=\"f.2B641AA2BF147239536F8FD8597BE1C7.d.343BD8D0D324BE214949089F4352D926.e.42647\")>,\n",
       " <selenium.webdriver.remote.webelement.WebElement (session=\"cef15fa12723a14e490b53f06ab8a8d9\", element=\"f.2B641AA2BF147239536F8FD8597BE1C7.d.343BD8D0D324BE214949089F4352D926.e.42571\")>,\n",
       " <selenium.webdriver.remote.webelement.WebElement (session=\"cef15fa12723a14e490b53f06ab8a8d9\", element=\"f.2B641AA2BF147239536F8FD8597BE1C7.d.343BD8D0D324BE214949089F4352D926.e.42493\")>,\n",
       " <selenium.webdriver.remote.webelement.WebElement (session=\"cef15fa12723a14e490b53f06ab8a8d9\", element=\"f.2B641AA2BF147239536F8FD8597BE1C7.d.343BD8D0D324BE214949089F4352D926.e.42419\")>,\n",
       " <selenium.webdriver.remote.webelement.WebElement (session=\"cef15fa12723a14e490b53f06ab8a8d9\", element=\"f.2B641AA2BF147239536F8FD8597BE1C7.d.343BD8D0D324BE214949089F4352D926.e.42332\")>,\n",
       " <selenium.webdriver.remote.webelement.WebElement (session=\"cef15fa12723a14e490b53f06ab8a8d9\", element=\"f.2B641AA2BF147239536F8FD8597BE1C7.d.343BD8D0D324BE214949089F4352D926.e.42258\")>,\n",
       " <selenium.webdriver.remote.webelement.WebElement (session=\"cef15fa12723a14e490b53f06ab8a8d9\", element=\"f.2B641AA2BF147239536F8FD8597BE1C7.d.343BD8D0D324BE214949089F4352D926.e.42184\")>]"
      ]
     },
     "execution_count": 43,
     "metadata": {},
     "output_type": "execute_result"
    }
   ],
   "source": [
    "reviews = driver.find_elements(By.CSS_SELECTOR, 'div.RHo1pe')\n",
    "reviews"
   ]
  },
  {
   "cell_type": "code",
   "execution_count": 44,
   "id": "5668a9bf-7002-46db-a572-99f5a818dd0f",
   "metadata": {},
   "outputs": [
    {
     "data": {
      "text/plain": [
       "220"
      ]
     },
     "execution_count": 44,
     "metadata": {},
     "output_type": "execute_result"
    }
   ],
   "source": [
    "len(reviews)"
   ]
  },
  {
   "cell_type": "code",
   "execution_count": 47,
   "id": "987ab8b2-e3ba-4fed-88f6-145b2bf672d8",
   "metadata": {},
   "outputs": [],
   "source": [
    "# 요소별 추출\n",
    "def get_content(review):\n",
    "    condic = {}\n",
    "    condic['text'] = review.find_element(By.CSS_SELECTOR, 'div.h3YV2d').text\n",
    "    condic['rat'] = len(review.find_elements(By.CSS_SELECTOR, 'span.Z1Dz7b'))\n",
    "    condic['date'] = review.find_element(By.CSS_SELECTOR, 'span.bp9Aid').text\n",
    "    return condic"
   ]
  },
  {
   "cell_type": "code",
   "execution_count": 48,
   "id": "50008b4e-5cb2-4a79-a1eb-cef5022c95ea",
   "metadata": {},
   "outputs": [],
   "source": [
    "result = [get_content(review) for review in reviews]"
   ]
  },
  {
   "cell_type": "code",
   "execution_count": 49,
   "id": "ba3ff3b1-a7b2-4d12-8203-22723dd0ac79",
   "metadata": {},
   "outputs": [
    {
     "data": {
      "text/html": [
       "<div>\n",
       "<style scoped>\n",
       "    .dataframe tbody tr th:only-of-type {\n",
       "        vertical-align: middle;\n",
       "    }\n",
       "\n",
       "    .dataframe tbody tr th {\n",
       "        vertical-align: top;\n",
       "    }\n",
       "\n",
       "    .dataframe thead th {\n",
       "        text-align: right;\n",
       "    }\n",
       "</style>\n",
       "<table border=\"1\" class=\"dataframe\">\n",
       "  <thead>\n",
       "    <tr style=\"text-align: right;\">\n",
       "      <th></th>\n",
       "      <th>text</th>\n",
       "      <th>rat</th>\n",
       "      <th>date</th>\n",
       "    </tr>\n",
       "  </thead>\n",
       "  <tbody>\n",
       "    <tr>\n",
       "      <th>0</th>\n",
       "      <td>많고 많은 필터어플들이 개성은 별로 없는편인데 피크닉은 독보적인 필터들이 많아서 계...</td>\n",
       "      <td>5</td>\n",
       "      <td>2019년 4월 14일</td>\n",
       "    </tr>\n",
       "    <tr>\n",
       "      <th>1</th>\n",
       "      <td>진짜 이 앱은 남이 알까 무서울 정도로 좋은 앱이네요ㅠㅜㅜ 사진이 세상 예쁘게 되고...</td>\n",
       "      <td>4</td>\n",
       "      <td>2019년 6월 1일</td>\n",
       "    </tr>\n",
       "    <tr>\n",
       "      <th>2</th>\n",
       "      <td>일단 정말 잘 사용하고 있구요!감사합니다! 다만 최근 AI기능 on off가 있어서...</td>\n",
       "      <td>4</td>\n",
       "      <td>2019년 2월 26일</td>\n",
       "    </tr>\n",
       "    <tr>\n",
       "      <th>3</th>\n",
       "      <td>사진 화질도 아주좋고 쓸만하네요 하지만 사람들이 더 다양하게 커스텀 할수있는 기능을...</td>\n",
       "      <td>5</td>\n",
       "      <td>2024년 1월 8일</td>\n",
       "    </tr>\n",
       "    <tr>\n",
       "      <th>4</th>\n",
       "      <td>배경이 자연스럽게 들어가 흐린날에도 사진찍기 좋고 필터 하나하나 색감도 너무 마음에...</td>\n",
       "      <td>5</td>\n",
       "      <td>2019년 2월 4일</td>\n",
       "    </tr>\n",
       "    <tr>\n",
       "      <th>...</th>\n",
       "      <td>...</td>\n",
       "      <td>...</td>\n",
       "      <td>...</td>\n",
       "    </tr>\n",
       "    <tr>\n",
       "      <th>215</th>\n",
       "      <td>아름답고 이쁜 필터들이 많아서 좋은데요 약간 오류가 있나보네요 옷 색깔이 흰옷이나 ...</td>\n",
       "      <td>4</td>\n",
       "      <td>2019년 2월 9일</td>\n",
       "    </tr>\n",
       "    <tr>\n",
       "      <th>216</th>\n",
       "      <td>너무 좋아요 🌙 이상하게 찍은 망친 풍경사진도 이 앱만 있으면 완벽해요💕 요즘 미세...</td>\n",
       "      <td>5</td>\n",
       "      <td>2019년 3월 16일</td>\n",
       "    </tr>\n",
       "    <tr>\n",
       "      <th>217</th>\n",
       "      <td>필터를 바꿀때 전혀 어색하지않고 넘 이뻐서 맘에들어요!! 부탁한가지만 한다면 필터를...</td>\n",
       "      <td>5</td>\n",
       "      <td>2019년 1월 19일</td>\n",
       "    </tr>\n",
       "    <tr>\n",
       "      <th>218</th>\n",
       "      <td>너무너무 조은듯.. 진짜 필터 보정 같은거 할때 진짜 유용해용.. 이런앱을 만들어 ...</td>\n",
       "      <td>5</td>\n",
       "      <td>2019년 5월 17일</td>\n",
       "    </tr>\n",
       "    <tr>\n",
       "      <th>219</th>\n",
       "      <td>필터가 너무 예뻐요! 다른 앱은 필터가 예쁜게 별로 없어서 아쉬운데, 이 앱은 필터...</td>\n",
       "      <td>5</td>\n",
       "      <td>2020년 5월 6일</td>\n",
       "    </tr>\n",
       "  </tbody>\n",
       "</table>\n",
       "<p>220 rows × 3 columns</p>\n",
       "</div>"
      ],
      "text/plain": [
       "                                                  text  rat          date\n",
       "0    많고 많은 필터어플들이 개성은 별로 없는편인데 피크닉은 독보적인 필터들이 많아서 계...    5  2019년 4월 14일\n",
       "1    진짜 이 앱은 남이 알까 무서울 정도로 좋은 앱이네요ㅠㅜㅜ 사진이 세상 예쁘게 되고...    4   2019년 6월 1일\n",
       "2    일단 정말 잘 사용하고 있구요!감사합니다! 다만 최근 AI기능 on off가 있어서...    4  2019년 2월 26일\n",
       "3    사진 화질도 아주좋고 쓸만하네요 하지만 사람들이 더 다양하게 커스텀 할수있는 기능을...    5   2024년 1월 8일\n",
       "4    배경이 자연스럽게 들어가 흐린날에도 사진찍기 좋고 필터 하나하나 색감도 너무 마음에...    5   2019년 2월 4일\n",
       "..                                                 ...  ...           ...\n",
       "215  아름답고 이쁜 필터들이 많아서 좋은데요 약간 오류가 있나보네요 옷 색깔이 흰옷이나 ...    4   2019년 2월 9일\n",
       "216  너무 좋아요 🌙 이상하게 찍은 망친 풍경사진도 이 앱만 있으면 완벽해요💕 요즘 미세...    5  2019년 3월 16일\n",
       "217  필터를 바꿀때 전혀 어색하지않고 넘 이뻐서 맘에들어요!! 부탁한가지만 한다면 필터를...    5  2019년 1월 19일\n",
       "218  너무너무 조은듯.. 진짜 필터 보정 같은거 할때 진짜 유용해용.. 이런앱을 만들어 ...    5  2019년 5월 17일\n",
       "219  필터가 너무 예뻐요! 다른 앱은 필터가 예쁜게 별로 없어서 아쉬운데, 이 앱은 필터...    5   2020년 5월 6일\n",
       "\n",
       "[220 rows x 3 columns]"
      ]
     },
     "execution_count": 49,
     "metadata": {},
     "output_type": "execute_result"
    }
   ],
   "source": [
    "df = pd.DataFrame(result)\n",
    "df"
   ]
  },
  {
   "cell_type": "code",
   "execution_count": 53,
   "id": "798e8912-0f3a-4ae0-9361-414f179cd6ff",
   "metadata": {},
   "outputs": [],
   "source": [
    "from selenium import webdriver\n",
    "from selenium.webdriver.common.by import By\n",
    "from selenium.webdriver.chrome.options import Options\n",
    "import math, time\n",
    "\n",
    "options = Options()\n",
    "options.add_argument('--window-size=974,1047')\n",
    "options.add_argument('--window-position=-7,0')\n",
    "options.add_experimental_option(\"detach\", True)"
   ]
  },
  {
   "cell_type": "code",
   "execution_count": 55,
   "id": "d2ade230-8424-409a-9ebf-7019dd0a2383",
   "metadata": {},
   "outputs": [
    {
     "name": "stdin",
     "output_type": "stream",
     "text": [
      "검색어를 입력하세요. 제주도\n"
     ]
    }
   ],
   "source": [
    "search = input('검색어를 입력하세요.')"
   ]
  },
  {
   "cell_type": "code",
   "execution_count": 56,
   "id": "44c13aba-f5a5-4fb1-acd4-c0af533f96c3",
   "metadata": {},
   "outputs": [],
   "source": [
    "URL = 'https://korean.visitkorea.or.kr/search/search_list.do?keyword='+search\n",
    "\n",
    "driver = webdriver.Chrome(options=options)\n",
    "driver.get(URL)\n",
    "time.sleep(3)"
   ]
  },
  {
   "cell_type": "code",
   "execution_count": 58,
   "id": "68824b55-7d08-48c4-8d94-609634e8eb7c",
   "metadata": {},
   "outputs": [],
   "source": [
    "# 여행기사 더보기 클릭\n",
    "# driver.find_element(By.CSS_SELECTOR, \".more_view > a\").click()\n",
    "driver.find_element(By.XPATH, \"/html/body/div[3]/div/div[1]/div[11]/div[3]/div[2]/a\").click()"
   ]
  },
  {
   "cell_type": "code",
   "execution_count": 61,
   "id": "81d06d27-8503-411b-983e-9632d7e6ccea",
   "metadata": {},
   "outputs": [
    {
     "data": {
      "text/plain": [
       "''"
      ]
     },
     "execution_count": 61,
     "metadata": {},
     "output_type": "execute_result"
    }
   ],
   "source": [
    "title = driver.find_elements(By.CSS_SELECTOR, '.tit a')\n",
    "title[0].text"
   ]
  },
  {
   "cell_type": "code",
   "execution_count": 62,
   "id": "efd432cd-f992-4fb3-9ca6-f0b627e18cdd",
   "metadata": {},
   "outputs": [
    {
     "name": "stdout",
     "output_type": "stream",
     "text": [
      "\n",
      "\n",
      "\n",
      "\n",
      "\n",
      "\n",
      "\n",
      "\n",
      "\n",
      "\n",
      "\n",
      "\n",
      "\n",
      "\n",
      "\n",
      "\n",
      "\n",
      "\n",
      "\n",
      "\n",
      "\n",
      "\n",
      "\n",
      "\n",
      "해변산책부터 레이싱까지, 제주 반려동물 동반여행 추천 코스\n",
      "제주도가 품은 신비의 화산 숲, 환상숲곶자왈공원\n",
      "한국관광공사 추천 2월 걷기여행길, 이른 봄을 맞이하는 제주도 걷기길\n",
      "제주도의 숨겨진 재미를 찾는\n",
      "<놀멍, 배우멍 제주마을체험 - 1일형 체험학습>\n",
      "제주도 조천읍 버킷리스트 여행지 작성하기\n",
      "김창열의 회귀 철학을 건축으로 표현한 미술관, 제주도립김창열미술관\n",
      "[국내 트레킹 추천]\n",
      "제주 올레길 걷기 여행,\n",
      "준비부터 코스 선택까지 꿀팁 총정리!\n",
      "4월 제주도 가볼 만한, 가파도 청보리 축제\n",
      "제주도 유채꽃 명소 추천, 봄에 떠나는 인생샷 여행\n",
      "소소한 '제주여행' 꿀팁! 〈겨울편〉\n"
     ]
    }
   ],
   "source": [
    "result = driver.find_elements(By.CSS_SELECTOR, '.tit a')\n",
    "for i in range(len(result)):\n",
    "    print(result[i].text)"
   ]
  },
  {
   "cell_type": "code",
   "execution_count": 65,
   "id": "bddcdab0-7887-47c5-93bd-77295038ee95",
   "metadata": {},
   "outputs": [
    {
     "data": {
      "text/plain": [
       "'해변산책부터 레이싱까지, 제주 반려동물 동반여행 추천 코스'"
      ]
     },
     "execution_count": 65,
     "metadata": {},
     "output_type": "execute_result"
    }
   ],
   "source": [
    "a = driver.find_element(By.XPATH, '/html/body/div[3]/div/div[1]/div[13]/ul/li[1]/div[1]/div[1]/a')\n",
    "a.text"
   ]
  },
  {
   "cell_type": "code",
   "execution_count": 66,
   "id": "05f9da1d-7672-4dd5-8bfa-4385d63308fd",
   "metadata": {},
   "outputs": [
    {
     "data": {
      "text/plain": [
       "'제주도가 품은 신비의 화산 숲, 환상숲곶자왈공원'"
      ]
     },
     "execution_count": 66,
     "metadata": {},
     "output_type": "execute_result"
    }
   ],
   "source": [
    "a = driver.find_element(By.XPATH, '/html/body/div[3]/div/div[1]/div[13]/ul/li[2]/div[1]/div[1]/a')\n",
    "a.text"
   ]
  },
  {
   "cell_type": "code",
   "execution_count": 74,
   "id": "fa9da7c0-08f0-4550-b191-02ea6f46649d",
   "metadata": {},
   "outputs": [
    {
     "data": {
      "text/plain": [
       "(10, '해변산책부터 레이싱까지, 제주 반려동물 동반여행 추천 코스', '제주도가 품은 신비의 화산 숲, 환상숲곶자왈공원')"
      ]
     },
     "execution_count": 74,
     "metadata": {},
     "output_type": "execute_result"
    }
   ],
   "source": [
    "tit_xpath = '//*[@id=\"search_result\"]/ul/li[*]/div[1]/div[1]/a'\n",
    "result = driver.find_elements(By.XPATH, tit_xpath)\n",
    "len(result), result[0].text, result[1].text"
   ]
  },
  {
   "cell_type": "code",
   "execution_count": 75,
   "id": "11687a1e-fd11-443c-8436-7c241fee8183",
   "metadata": {},
   "outputs": [
    {
     "name": "stdout",
     "output_type": "stream",
     "text": [
      "1 해변산책부터 레이싱까지, 제주 반려동물 동반여행 추천 코스\n",
      "2 제주도가 품은 신비의 화산 숲, 환상숲곶자왈공원\n",
      "3 한국관광공사 추천 2월 걷기여행길, 이른 봄을 맞이하는 제주도 걷기길\n",
      "4 제주도의 숨겨진 재미를 찾는\n",
      "<놀멍, 배우멍 제주마을체험 - 1일형 체험학습>\n",
      "5 제주도 조천읍 버킷리스트 여행지 작성하기\n",
      "6 김창열의 회귀 철학을 건축으로 표현한 미술관, 제주도립김창열미술관\n",
      "7 [국내 트레킹 추천]\n",
      "제주 올레길 걷기 여행,\n",
      "준비부터 코스 선택까지 꿀팁 총정리!\n",
      "8 4월 제주도 가볼 만한, 가파도 청보리 축제\n",
      "9 제주도 유채꽃 명소 추천, 봄에 떠나는 인생샷 여행\n",
      "10 소소한 '제주여행' 꿀팁! 〈겨울편〉\n"
     ]
    }
   ],
   "source": [
    "for i, title in enumerate(result, 1):\n",
    "#     print(i, title.text)\n",
    "    print(i, title.text)"
   ]
  },
  {
   "cell_type": "markdown",
   "id": "6a8dd56d-0441-4cb4-a0e5-58ec0df86f96",
   "metadata": {},
   "source": [
    "## 페이지 이동\n",
    "```\n",
    "1 : 수집 갯수를 입력받는다.\n",
    "2 : 수집 갯수에 따라 페이지를 이동한다.\n",
    "3 : 각 페이지별 데이터를 수집한다. (타이틀 텍스트)\n",
    "4 : 출력\n",
    "```"
   ]
  },
  {
   "cell_type": "code",
   "execution_count": 79,
   "id": "e9bcb905-6f00-4557-ae91-cacdb832ece6",
   "metadata": {},
   "outputs": [],
   "source": [
    "# 페이지 버튼 클릭\n",
    "driver.find_element(By.XPATH, '/html/body/div[3]/div/div[1]/div[14]/a[2]').click()"
   ]
  },
  {
   "cell_type": "code",
   "execution_count": 83,
   "id": "0ffd0ce3-c7e7-448e-8c2b-6b253ce9b6b3",
   "metadata": {},
   "outputs": [
    {
     "name": "stdin",
     "output_type": "stream",
     "text": [
      "크롤링 할 건수는 몇건입니까?:  40\n"
     ]
    },
    {
     "data": {
      "text/plain": [
       "40"
      ]
     },
     "execution_count": 83,
     "metadata": {},
     "output_type": "execute_result"
    }
   ],
   "source": [
    "cnt = int(input('크롤링 할 건수는 몇건입니까?: '))\n",
    "cnt"
   ]
  },
  {
   "cell_type": "code",
   "execution_count": 84,
   "id": "9460b85f-ede6-4091-9cd8-4150e219f3f1",
   "metadata": {},
   "outputs": [
    {
     "name": "stdout",
     "output_type": "stream",
     "text": [
      "4\n"
     ]
    }
   ],
   "source": [
    "page_cnt = math.ceil(cnt / 10) # 크롤링 할 전체 페이지 수 (올림)\n",
    "print(page_cnt)"
   ]
  },
  {
   "cell_type": "code",
   "execution_count": 85,
   "id": "c8124c1f-5dad-4bf7-b67e-f2fb80002ed6",
   "metadata": {},
   "outputs": [
    {
     "name": "stdin",
     "output_type": "stream",
     "text": [
      "크롤링 할 건수는 몇건입니까?:  40\n"
     ]
    },
    {
     "name": "stdout",
     "output_type": "stream",
     "text": [
      "4\n",
      "========= 1 페이지 작업 =========\n",
      "1 연말연시 제주도 여행 추천 코스,\n",
      "가족여행 가볼 만한 곳\n",
      "2 새하얀 눈으로 덮인 제주도 설경 명소 4\n",
      "3 제주 6월 걷기 좋은 길, 성안올레 1코스 원도심 투어\n",
      "4 사계절 자연의 아름다움을 간직한 제주시 댕댕이 추천코스\n",
      "5 제주도 '한정'여행지,\n",
      "제주도의 이색 공간을 찾아서\n",
      "6 멈춤과 완보로 만나는 제주 생각하는정원\n",
      "7 2월 놓치지 말아야 할 제주 관광 10선\n",
      "<2월 제주, 먼저 온 봄기운에 마음 돌랑돌랑>\n",
      "8 제주의 아크로폴리스를 아시나요? - 제주 원도심 (제주목관아 중심)\n",
      "9 맛있는 음식에 여행의 기쁨은 두 배! <제주 식도락 여행>\n",
      "10 제주 여행, 은빛 물결이 일렁이는 제주도 억새 명소 모음\n",
      "========= 2 페이지 작업 =========\n",
      "11 연말연시 제주도 여행 추천 코스,\n",
      "가족여행 가볼 만한 곳\n",
      "12 새하얀 눈으로 덮인 제주도 설경 명소 4\n",
      "13 제주 6월 걷기 좋은 길, 성안올레 1코스 원도심 투어\n",
      "14 사계절 자연의 아름다움을 간직한 제주시 댕댕이 추천코스\n",
      "15 제주도 '한정'여행지,\n",
      "제주도의 이색 공간을 찾아서\n",
      "16 멈춤과 완보로 만나는 제주 생각하는정원\n",
      "17 2월 놓치지 말아야 할 제주 관광 10선\n",
      "<2월 제주, 먼저 온 봄기운에 마음 돌랑돌랑>\n",
      "18 제주의 아크로폴리스를 아시나요? - 제주 원도심 (제주목관아 중심)\n",
      "19 맛있는 음식에 여행의 기쁨은 두 배! <제주 식도락 여행>\n",
      "20 제주 여행, 은빛 물결이 일렁이는 제주도 억새 명소 모음\n",
      "========= 3 페이지 작업 =========\n",
      "21 반려견과 떠나는 여행 <제주 반려견 숙소&카페>\n",
      "22 설렘과 여유가 가득한 제주 여행\n",
      "23 빛으로 물든 '로맨틱 제주' <제주 야간 관광지>\n",
      "24 12월 놓치지 말아야 할 제주 관광 10선\n",
      "<올해도 애쓴 당신과 나, 12월의 제주에서 쉬멍쉬멍>\n",
      "25 마음까지 화사해지는\n",
      "제주도 봄꽃 여행\n",
      "26 제주도 서쪽에서 즐기는 꽉 찬 여행 코스\n",
      "27 [팜스테이션] 제주공항과 아름다운 해안이 인접한 워케이션 공간\n",
      "28 제주의 숨겨진 구석구석을 살펴보자, 제주도 박물관 여행\n",
      "29 안심관광에 알맞은 최고의 야외 공연과 체험 - 제주 더마(馬)파크\n",
      "30 [질그랭이 거점 센터] 조용한 제주 해안마을에서 즐기는 워케이션\n",
      "========= 4 페이지 작업 =========\n",
      "31 [제주] 푸른 밤의 따뜻한 꿈\n",
      "32 1월 놓치지 말아야 할 제주 관광 10선\n",
      "<멋진 새날을 희망하며, 엄블랑한 1월 제주>\n",
      "33 섬 속의 섬 그리고 가장 제주다운 섬, 제주 우도\n",
      "34 제주 해녀들의 “호오이 호오이” 숨비소리 찾는 여행 – 제주해녀박물관과 숨비소리길\n",
      "35 제주도 서귀포 가볼 만한 곳,\n",
      "초록이 가득한 남쪽 여행 코스\n",
      "36 돌이 나에게 말을 걸어오는 시적(詩的)인 곳– 제주돌문화공원\n",
      "37 [디어먼데이 제주] 월요병이 없는 세상을 꿈꾸는 이들의 제주 워케이션\n",
      "38 비움과 채움의 조화로 완성한 웰니스 라이프, 제주901\n",
      "39 제주의 자연과 제주인의 삶을 최단시간에 알 수 있는 곳! - 제주민속자연사박물관\n",
      "40 환경생태가 살아있는 진짜 제주의 숲을 만나다 – 제주절물자연휴양림과 장생의 숲길\n",
      "========= 작업 완료 =========\n"
     ]
    }
   ],
   "source": [
    "driver.find_element(By.XPATH, '/html/body/div[3]/div/div[1]/div[14]/a[2]').click()\n",
    "\n",
    "cnt = int(input('크롤링 할 건수는 몇건입니까?: '))\n",
    "cnt\n",
    "\n",
    "page_cnt = math.ceil(cnt / 10) # 크롤링 할 전체 페이지 수 (올림)\n",
    "print(page_cnt)\n",
    "\n",
    "tit_xpath = '//*[@id=\"search_result\"]/ul/li[*]/div[1]/div[1]/a'\n",
    "no = 0\n",
    "\n",
    "for x in range(1, page_cnt+1):\n",
    "    print(f'========= {x} 페이지 작업 =========')\n",
    "    mylist = driver.find_elements(By.XPATH, tit_xpath)\n",
    "    \n",
    "    for item in mylist:\n",
    "        no += 1\n",
    "        if no > cnt:\n",
    "            break\n",
    "        print(no, item.text)\n",
    "    \n",
    "    if no <= cnt:\n",
    "        a = f'/html/body/div[3]/div/div[1]/div[14]/a[{x+1}]'\n",
    "        driver.find_element(By.XPATH, a).click()\n",
    "#         next_button = driver.find_element(By.CSS_SELECTOR, f\"a[id='{x+1}']\")\n",
    "#         driver.execute_script(\"arguments[0].click();\", next_button)\n",
    "        time.sleep(2)\n",
    "    \n",
    "print('========= 작업 완료 =========')\n",
    "# driver.close()"
   ]
  },
  {
   "cell_type": "code",
   "execution_count": null,
   "id": "49ae3c68-fd2c-4fcf-aac7-4f3aa7b43057",
   "metadata": {},
   "outputs": [],
   "source": []
  },
  {
   "cell_type": "code",
   "execution_count": null,
   "id": "d22b2388-b975-4a2d-bd93-b6963aa095ea",
   "metadata": {},
   "outputs": [],
   "source": []
  },
  {
   "cell_type": "code",
   "execution_count": null,
   "id": "710948c1-88aa-49fc-91fd-48f82a2b6d32",
   "metadata": {},
   "outputs": [],
   "source": []
  },
  {
   "cell_type": "code",
   "execution_count": null,
   "id": "c496c936-1ae4-4817-9f2c-857be8ca9982",
   "metadata": {},
   "outputs": [],
   "source": []
  },
  {
   "cell_type": "code",
   "execution_count": null,
   "id": "89dcfd2e-f378-49c2-9c7f-fb8ddf1ace18",
   "metadata": {},
   "outputs": [],
   "source": []
  },
  {
   "cell_type": "code",
   "execution_count": null,
   "id": "57c27685-3fa5-4937-b3b6-403f3cca9195",
   "metadata": {},
   "outputs": [],
   "source": []
  },
  {
   "cell_type": "code",
   "execution_count": null,
   "id": "0bf5ed5c-224a-4394-a7e5-c970ee171612",
   "metadata": {},
   "outputs": [],
   "source": []
  },
  {
   "cell_type": "code",
   "execution_count": null,
   "id": "0af8f398-6bfe-4665-9ec9-bd60fe489f97",
   "metadata": {},
   "outputs": [],
   "source": []
  },
  {
   "cell_type": "code",
   "execution_count": null,
   "id": "a2bb97d8-2a77-44ba-9239-53136b27a25c",
   "metadata": {},
   "outputs": [],
   "source": []
  },
  {
   "cell_type": "code",
   "execution_count": null,
   "id": "1650d24b-883c-4779-be96-7f1a59208062",
   "metadata": {},
   "outputs": [],
   "source": []
  },
  {
   "cell_type": "code",
   "execution_count": null,
   "id": "7b8cea74-af58-4a01-93b7-a53dba27edc6",
   "metadata": {},
   "outputs": [],
   "source": []
  },
  {
   "cell_type": "code",
   "execution_count": null,
   "id": "03e598c0-c30d-49b3-ac9f-e53e03400e7e",
   "metadata": {},
   "outputs": [],
   "source": []
  },
  {
   "cell_type": "code",
   "execution_count": null,
   "id": "b9ee17ba-37fb-4ade-a8a6-155cb0408a3b",
   "metadata": {},
   "outputs": [],
   "source": []
  },
  {
   "cell_type": "code",
   "execution_count": null,
   "id": "67b6b51a-7d18-4b9d-b421-c5f3a334b496",
   "metadata": {},
   "outputs": [],
   "source": []
  }
 ],
 "metadata": {
  "kernelspec": {
   "display_name": "Python 3 (ipykernel)",
   "language": "python",
   "name": "python3"
  },
  "language_info": {
   "codemirror_mode": {
    "name": "ipython",
    "version": 3
   },
   "file_extension": ".py",
   "mimetype": "text/x-python",
   "name": "python",
   "nbconvert_exporter": "python",
   "pygments_lexer": "ipython3",
   "version": "3.11.7"
  }
 },
 "nbformat": 4,
 "nbformat_minor": 5
}
