{
 "cells": [
  {
   "cell_type": "markdown",
   "id": "fbcd2936-3b91-4a3c-95ab-14464086e9e9",
   "metadata": {},
   "source": [
    "# Selenium 사용하기"
   ]
  },
  {
   "cell_type": "code",
   "execution_count": 3,
   "id": "fcabf8b2-e0fb-4fd9-b200-852181c10f54",
   "metadata": {},
   "outputs": [
    {
     "name": "stdout",
     "output_type": "stream",
     "text": [
      "Collecting selenium\n",
      "  Downloading selenium-4.22.0-py3-none-any.whl.metadata (7.0 kB)\n",
      "Requirement already satisfied: urllib3<3,>=1.26 in c:\\users\\cyh\\anaconda3\\lib\\site-packages (from urllib3[socks]<3,>=1.26->selenium) (2.0.7)\n",
      "Collecting trio~=0.17 (from selenium)\n",
      "  Downloading trio-0.25.1-py3-none-any.whl.metadata (8.7 kB)\n",
      "Collecting trio-websocket~=0.9 (from selenium)\n",
      "  Downloading trio_websocket-0.11.1-py3-none-any.whl.metadata (4.7 kB)\n",
      "Requirement already satisfied: certifi>=2021.10.8 in c:\\users\\cyh\\anaconda3\\lib\\site-packages (from selenium) (2024.2.2)\n",
      "Requirement already satisfied: typing_extensions>=4.9.0 in c:\\users\\cyh\\anaconda3\\lib\\site-packages (from selenium) (4.9.0)\n",
      "Collecting websocket-client>=1.8.0 (from selenium)\n",
      "  Downloading websocket_client-1.8.0-py3-none-any.whl.metadata (8.0 kB)\n",
      "Collecting attrs>=23.2.0 (from trio~=0.17->selenium)\n",
      "  Downloading attrs-23.2.0-py3-none-any.whl.metadata (9.5 kB)\n",
      "Requirement already satisfied: sortedcontainers in c:\\users\\cyh\\anaconda3\\lib\\site-packages (from trio~=0.17->selenium) (2.4.0)\n",
      "Requirement already satisfied: idna in c:\\users\\cyh\\anaconda3\\lib\\site-packages (from trio~=0.17->selenium) (3.4)\n",
      "Collecting outcome (from trio~=0.17->selenium)\n",
      "  Downloading outcome-1.3.0.post0-py2.py3-none-any.whl.metadata (2.6 kB)\n",
      "Requirement already satisfied: sniffio>=1.3.0 in c:\\users\\cyh\\anaconda3\\lib\\site-packages (from trio~=0.17->selenium) (1.3.0)\n",
      "Requirement already satisfied: cffi>=1.14 in c:\\users\\cyh\\anaconda3\\lib\\site-packages (from trio~=0.17->selenium) (1.16.0)\n",
      "Collecting wsproto>=0.14 (from trio-websocket~=0.9->selenium)\n",
      "  Downloading wsproto-1.2.0-py3-none-any.whl.metadata (5.6 kB)\n",
      "Requirement already satisfied: pysocks!=1.5.7,<2.0,>=1.5.6 in c:\\users\\cyh\\anaconda3\\lib\\site-packages (from urllib3[socks]<3,>=1.26->selenium) (1.7.1)\n",
      "Requirement already satisfied: pycparser in c:\\users\\cyh\\anaconda3\\lib\\site-packages (from cffi>=1.14->trio~=0.17->selenium) (2.21)\n",
      "Collecting h11<1,>=0.9.0 (from wsproto>=0.14->trio-websocket~=0.9->selenium)\n",
      "  Downloading h11-0.14.0-py3-none-any.whl.metadata (8.2 kB)\n",
      "Downloading selenium-4.22.0-py3-none-any.whl (9.4 MB)\n",
      "   ---------------------------------------- 0.0/9.4 MB ? eta -:--:--\n",
      "   -- ------------------------------------- 0.5/9.4 MB 11.1 MB/s eta 0:00:01\n",
      "   --- ------------------------------------ 0.9/9.4 MB 11.7 MB/s eta 0:00:01\n",
      "   ------- -------------------------------- 1.7/9.4 MB 12.2 MB/s eta 0:00:01\n",
      "   ---------- ----------------------------- 2.5/9.4 MB 14.6 MB/s eta 0:00:01\n",
      "   ------------- -------------------------- 3.1/9.4 MB 15.4 MB/s eta 0:00:01\n",
      "   ------------- -------------------------- 3.1/9.4 MB 15.4 MB/s eta 0:00:01\n",
      "   ------------- -------------------------- 3.1/9.4 MB 15.4 MB/s eta 0:00:01\n",
      "   ------------- -------------------------- 3.1/9.4 MB 15.4 MB/s eta 0:00:01\n",
      "   ------------- -------------------------- 3.3/9.4 MB 8.0 MB/s eta 0:00:01\n",
      "   ----------------- ---------------------- 4.1/9.4 MB 9.0 MB/s eta 0:00:01\n",
      "   --------------------- ------------------ 5.0/9.4 MB 9.9 MB/s eta 0:00:01\n",
      "   ------------------------ --------------- 5.8/9.4 MB 10.5 MB/s eta 0:00:01\n",
      "   -------------------------- ------------- 6.3/9.4 MB 10.9 MB/s eta 0:00:01\n",
      "   ----------------------------- ---------- 7.0/9.4 MB 11.0 MB/s eta 0:00:01\n",
      "   --------------------------------- ------ 7.9/9.4 MB 11.4 MB/s eta 0:00:01\n",
      "   ------------------------------------ --- 8.6/9.4 MB 12.0 MB/s eta 0:00:01\n",
      "   ------------------------------------- -- 8.8/9.4 MB 12.0 MB/s eta 0:00:01\n",
      "   ---------------------------------------  9.3/9.4 MB 11.4 MB/s eta 0:00:01\n",
      "   ---------------------------------------- 9.4/9.4 MB 11.2 MB/s eta 0:00:00\n",
      "Downloading trio-0.25.1-py3-none-any.whl (467 kB)\n",
      "   ---------------------------------------- 0.0/467.7 kB ? eta -:--:--\n",
      "   ---------------------------------------- 467.7/467.7 kB 9.7 MB/s eta 0:00:00\n",
      "Downloading trio_websocket-0.11.1-py3-none-any.whl (17 kB)\n",
      "Downloading websocket_client-1.8.0-py3-none-any.whl (58 kB)\n",
      "   ---------------------------------------- 0.0/58.8 kB ? eta -:--:--\n",
      "   ---------------------------------------- 58.8/58.8 kB 3.0 MB/s eta 0:00:00\n",
      "Downloading attrs-23.2.0-py3-none-any.whl (60 kB)\n",
      "   ---------------------------------------- 0.0/60.8 kB ? eta -:--:--\n",
      "   ---------------------------------------- 60.8/60.8 kB ? eta 0:00:00\n",
      "Downloading wsproto-1.2.0-py3-none-any.whl (24 kB)\n",
      "Downloading outcome-1.3.0.post0-py2.py3-none-any.whl (10 kB)\n",
      "Downloading h11-0.14.0-py3-none-any.whl (58 kB)\n",
      "   ---------------------------------------- 0.0/58.3 kB ? eta -:--:--\n",
      "   ---------------------------------------- 58.3/58.3 kB ? eta 0:00:00\n",
      "Installing collected packages: websocket-client, h11, attrs, wsproto, outcome, trio, trio-websocket, selenium\n",
      "  Attempting uninstall: websocket-client\n",
      "    Found existing installation: websocket-client 0.58.0\n",
      "    Uninstalling websocket-client-0.58.0:\n",
      "      Successfully uninstalled websocket-client-0.58.0\n",
      "  Attempting uninstall: attrs\n",
      "    Found existing installation: attrs 23.1.0\n",
      "    Uninstalling attrs-23.1.0:\n",
      "      Successfully uninstalled attrs-23.1.0\n",
      "Successfully installed attrs-23.2.0 h11-0.14.0 outcome-1.3.0.post0 selenium-4.22.0 trio-0.25.1 trio-websocket-0.11.1 websocket-client-1.8.0 wsproto-1.2.0\n"
     ]
    }
   ],
   "source": [
    "# 셀레니움 라이브러리 설치\n",
    "!pip install selenium"
   ]
  },
  {
   "cell_type": "code",
   "execution_count": 4,
   "id": "d64b0257-b3c2-4489-8976-394e33aeb51a",
   "metadata": {},
   "outputs": [],
   "source": [
    "from selenium import webdriver\n",
    "from selenium.webdriver.common.by import By\n",
    "from selenium.webdriver.chrome.options import Options\n",
    "import time"
   ]
  },
  {
   "cell_type": "code",
   "execution_count": 6,
   "id": "c1344cdf-5f67-4f5d-b7e5-4fc8f9f1794e",
   "metadata": {},
   "outputs": [],
   "source": [
    "options = Options()\n",
    "# options.add_argument(\"--start-maximized\")\n",
    "# options.add_argument(\"--headless=new\") \n",
    "options.add_experimental_option(\"detach\", True)\n",
    "#특정함수안에서  드라이버 생성시 함수종료될 때 브라우저 같이 종료되는 문제 대응"
   ]
  },
  {
   "cell_type": "markdown",
   "id": "3c460f18-c43e-4852-b5fd-f0e2f2389bb8",
   "metadata": {},
   "source": [
    "## 브라우저 실행 및 페이지 접속"
   ]
  },
  {
   "cell_type": "code",
   "execution_count": 8,
   "id": "387e1dc0-8354-4aff-b498-86f1f59d2af0",
   "metadata": {},
   "outputs": [],
   "source": [
    "url = 'http://naver.com'\n",
    "driver = webdriver.Chrome(options=options) # 객체 생성\n",
    "\n",
    "driver.get(url) # 실행 \n",
    "\n",
    "time.sleep(2) "
   ]
  },
  {
   "cell_type": "markdown",
   "id": "e8ed6463-f9c6-4036-a766-f00677a95ed3",
   "metadata": {},
   "source": [
    "## 상호작용"
   ]
  },
  {
   "cell_type": "code",
   "execution_count": 10,
   "id": "cf84f5ae-4583-4581-bc98-ff7a876a9e54",
   "metadata": {},
   "outputs": [],
   "source": [
    "driver.back()"
   ]
  },
  {
   "cell_type": "code",
   "execution_count": 11,
   "id": "990cd582-bb49-4c83-8c5a-dc7271f9d9d0",
   "metadata": {},
   "outputs": [],
   "source": [
    "driver.forward()"
   ]
  },
  {
   "cell_type": "code",
   "execution_count": 12,
   "id": "5bd3aaf0-7ef9-48cb-9ca2-cae52e86cd22",
   "metadata": {},
   "outputs": [],
   "source": [
    "driver.refresh()"
   ]
  },
  {
   "cell_type": "markdown",
   "id": "bf4c4d19-dbc5-4066-9d2a-29a97cc7d514",
   "metadata": {},
   "source": [
    "## 페이지 정보 가져오기"
   ]
  },
  {
   "cell_type": "code",
   "execution_count": 14,
   "id": "b36275c3-4d29-4221-a3cc-04141f199224",
   "metadata": {},
   "outputs": [
    {
     "name": "stdout",
     "output_type": "stream",
     "text": [
      "NAVER https://www.naver.com/ 9556429E85B6F2F1D80ED7FD89C5EF88\n"
     ]
    }
   ],
   "source": [
    "title = driver.title\n",
    "url = driver.current_url\n",
    "handle = driver.current_window_handle\n",
    "print(title, url, handle)"
   ]
  },
  {
   "cell_type": "markdown",
   "id": "0e76ccb9-79ee-4ca3-a4f0-4d67682ca78c",
   "metadata": {},
   "source": [
    "## html 요소 찾기\n",
    "```\n",
    "네이버 검색창을 핸들링해보자 driver.find_element().send_keys()\n",
    "\n",
    "<input id=\"query\" name=\"query\" type=\"search\" title=\"검색어를 입력해 주세요.\n",
    "\" placeholder=\"검색어를 입력해 주세요.\" maxlength=\"255\" autocomplete=\"off\" class=\"search_input\" data-atcmp-element=\"\">\n",
    "```"
   ]
  },
  {
   "cell_type": "code",
   "execution_count": 18,
   "id": "94930b4a-1571-41c8-a838-9e5d1ae5c41e",
   "metadata": {},
   "outputs": [
    {
     "data": {
      "text/plain": [
       "\u001b[1;31mSignature:\u001b[0m \u001b[0mdriver\u001b[0m\u001b[1;33m.\u001b[0m\u001b[0mfind_element\u001b[0m\u001b[1;33m(\u001b[0m\u001b[0mby\u001b[0m\u001b[1;33m=\u001b[0m\u001b[1;34m'id'\u001b[0m\u001b[1;33m,\u001b[0m \u001b[0mvalue\u001b[0m\u001b[1;33m:\u001b[0m \u001b[0mOptional\u001b[0m\u001b[1;33m[\u001b[0m\u001b[0mstr\u001b[0m\u001b[1;33m]\u001b[0m \u001b[1;33m=\u001b[0m \u001b[1;32mNone\u001b[0m\u001b[1;33m)\u001b[0m \u001b[1;33m->\u001b[0m \u001b[0mselenium\u001b[0m\u001b[1;33m.\u001b[0m\u001b[0mwebdriver\u001b[0m\u001b[1;33m.\u001b[0m\u001b[0mremote\u001b[0m\u001b[1;33m.\u001b[0m\u001b[0mwebelement\u001b[0m\u001b[1;33m.\u001b[0m\u001b[0mWebElement\u001b[0m\u001b[1;33m\u001b[0m\u001b[1;33m\u001b[0m\u001b[0m\n",
       "\u001b[1;31mDocstring:\u001b[0m\n",
       "Find an element given a By strategy and locator.\n",
       "\n",
       ":Usage:\n",
       "    ::\n",
       "\n",
       "        element = driver.find_element(By.ID, 'foo')\n",
       "\n",
       ":rtype: WebElement\n",
       "\u001b[1;31mFile:\u001b[0m      c:\\users\\cyh\\anaconda3\\lib\\site-packages\\selenium\\webdriver\\remote\\webdriver.py\n",
       "\u001b[1;31mType:\u001b[0m      method"
      ]
     },
     "metadata": {},
     "output_type": "display_data"
    }
   ],
   "source": [
    "driver.find_element?"
   ]
  },
  {
   "cell_type": "code",
   "execution_count": 19,
   "id": "49beb10a-4821-4b02-951a-1afa10a4766b",
   "metadata": {},
   "outputs": [
    {
     "data": {
      "text/plain": [
       "<selenium.webdriver.remote.webelement.WebElement (session=\"924cf09c8e8ebbb476be0687ca78b2ef\", element=\"f.9556429E85B6F2F1D80ED7FD89C5EF88.d.DD79218B2DB885FC7B635F9A6FA70049.e.2567\")>"
      ]
     },
     "execution_count": 19,
     "metadata": {},
     "output_type": "execute_result"
    }
   ],
   "source": [
    "driver.find_element(By.ID, \"query\")"
   ]
  },
  {
   "cell_type": "code",
   "execution_count": 20,
   "id": "0d8f0909-5d31-4e83-b431-6a9b97991d30",
   "metadata": {},
   "outputs": [],
   "source": [
    "# 키입력\n",
    "driver.find_element(By.ID, \"query\").send_keys('뉴진스')"
   ]
  },
  {
   "cell_type": "code",
   "execution_count": 21,
   "id": "35740e4e-4507-4fb3-8a96-40a0c864c853",
   "metadata": {},
   "outputs": [],
   "source": [
    "driver.find_element(By.CLASS_NAME, \"search_input\").send_keys('블랙핑크')"
   ]
  },
  {
   "cell_type": "code",
   "execution_count": 22,
   "id": "8ec31217-0eba-42c0-933d-48dbcf927022",
   "metadata": {},
   "outputs": [],
   "source": [
    "driver.find_element(By.NAME, \"query\").send_keys('르세라핌')"
   ]
  },
  {
   "cell_type": "code",
   "execution_count": null,
   "id": "a0fe53da-c667-4c1f-a2fb-7dc272d9da05",
   "metadata": {},
   "outputs": [],
   "source": [
    "driver.find_element(By.CSS_SELECTOR, \".search_input\").send_keys('세븐틴')"
   ]
  },
  {
   "cell_type": "code",
   "execution_count": 23,
   "id": "faa2cd55-c2a0-4085-a3bc-4c29e3754358",
   "metadata": {},
   "outputs": [],
   "source": [
    "driver.find_element(By.CSS_SELECTOR, \"#query\").send_keys('에스파')"
   ]
  },
  {
   "cell_type": "code",
   "execution_count": 24,
   "id": "22fe86e8-dcc4-43f0-a476-bb66754ed096",
   "metadata": {},
   "outputs": [],
   "source": [
    "driver.find_element(By.CSS_SELECTOR, \".search_input\").send_keys('세븐틴')"
   ]
  },
  {
   "cell_type": "code",
   "execution_count": 25,
   "id": "1f810a5d-8a7f-49dc-abf6-efea8f599452",
   "metadata": {},
   "outputs": [],
   "source": [
    "driver.find_element(By.CSS_SELECTOR, \"[title='검색어를 입력해 주세요.']\").send_keys('트와이스')"
   ]
  },
  {
   "cell_type": "code",
   "execution_count": 26,
   "id": "af9fcab0-a4ee-4729-87f7-8cff745f40a8",
   "metadata": {},
   "outputs": [],
   "source": [
    "driver.find_element(By.XPATH,\"//*[@id='query']\").send_keys('BTS')"
   ]
  },
  {
   "cell_type": "markdown",
   "id": "3b209779-8621-499b-a7f8-3f560def24a6",
   "metadata": {},
   "source": [
    "## 클릭\n",
    "네이버 쇼핑 메뉴를 클릭해보자 driver.find_element().click()"
   ]
  },
  {
   "cell_type": "code",
   "execution_count": 28,
   "id": "cb012068-dac8-4ee7-a409-4b681e0d670f",
   "metadata": {},
   "outputs": [
    {
     "data": {
      "text/plain": [
       "<selenium.webdriver.remote.webelement.WebElement (session=\"924cf09c8e8ebbb476be0687ca78b2ef\", element=\"f.9556429E85B6F2F1D80ED7FD89C5EF88.d.DD79218B2DB885FC7B635F9A6FA70049.e.3801\")>"
      ]
     },
     "execution_count": 28,
     "metadata": {},
     "output_type": "execute_result"
    }
   ],
   "source": [
    "driver.find_element(By.LINK_TEXT, '쇼핑')"
   ]
  },
  {
   "cell_type": "code",
   "execution_count": 31,
   "id": "b572006f-c50e-46f2-b36f-d8f03942e1d3",
   "metadata": {},
   "outputs": [],
   "source": [
    "driver.find_element(By.LINK_TEXT, '쇼핑').click()"
   ]
  },
  {
   "cell_type": "code",
   "execution_count": 33,
   "id": "5092be8a-5631-4fab-9921-a31ff1d7dea5",
   "metadata": {},
   "outputs": [],
   "source": [
    "# 일부 매칭\n",
    "driver.find_element(By.PARTIAL_LINK_TEXT, '증').click()"
   ]
  },
  {
   "cell_type": "code",
   "execution_count": 34,
   "id": "a64be8ca-3dc6-456d-a602-2f6022c16b52",
   "metadata": {},
   "outputs": [
    {
     "data": {
      "text/plain": [
       "<selenium.webdriver.remote.webelement.WebElement (session=\"924cf09c8e8ebbb476be0687ca78b2ef\", element=\"f.9556429E85B6F2F1D80ED7FD89C5EF88.d.DD79218B2DB885FC7B635F9A6FA70049.e.2511\")>"
      ]
     },
     "execution_count": 34,
     "metadata": {},
     "output_type": "execute_result"
    }
   ],
   "source": [
    "# 태그는 너무 요소가 많으므로, 정확하게 대상을 찾을 때에는 안씀\n",
    "driver.find_element(By.TAG_NAME, 'div')"
   ]
  },
  {
   "cell_type": "code",
   "execution_count": 37,
   "id": "ba2e01e6-a335-4886-8a04-477bcd1eb991",
   "metadata": {
    "collapsed": true,
    "jupyter": {
     "outputs_hidden": true
    }
   },
   "outputs": [
    {
     "data": {
      "text/plain": [
       "[<selenium.webdriver.remote.webelement.WebElement (session=\"924cf09c8e8ebbb476be0687ca78b2ef\", element=\"f.9556429E85B6F2F1D80ED7FD89C5EF88.d.DD79218B2DB885FC7B635F9A6FA70049.e.3780\")>,\n",
       " <selenium.webdriver.remote.webelement.WebElement (session=\"924cf09c8e8ebbb476be0687ca78b2ef\", element=\"f.9556429E85B6F2F1D80ED7FD89C5EF88.d.DD79218B2DB885FC7B635F9A6FA70049.e.3787\")>,\n",
       " <selenium.webdriver.remote.webelement.WebElement (session=\"924cf09c8e8ebbb476be0687ca78b2ef\", element=\"f.9556429E85B6F2F1D80ED7FD89C5EF88.d.DD79218B2DB885FC7B635F9A6FA70049.e.3794\")>,\n",
       " <selenium.webdriver.remote.webelement.WebElement (session=\"924cf09c8e8ebbb476be0687ca78b2ef\", element=\"f.9556429E85B6F2F1D80ED7FD89C5EF88.d.DD79218B2DB885FC7B635F9A6FA70049.e.3801\")>,\n",
       " <selenium.webdriver.remote.webelement.WebElement (session=\"924cf09c8e8ebbb476be0687ca78b2ef\", element=\"f.9556429E85B6F2F1D80ED7FD89C5EF88.d.DD79218B2DB885FC7B635F9A6FA70049.e.3808\")>,\n",
       " <selenium.webdriver.remote.webelement.WebElement (session=\"924cf09c8e8ebbb476be0687ca78b2ef\", element=\"f.9556429E85B6F2F1D80ED7FD89C5EF88.d.DD79218B2DB885FC7B635F9A6FA70049.e.3815\")>,\n",
       " <selenium.webdriver.remote.webelement.WebElement (session=\"924cf09c8e8ebbb476be0687ca78b2ef\", element=\"f.9556429E85B6F2F1D80ED7FD89C5EF88.d.DD79218B2DB885FC7B635F9A6FA70049.e.3822\")>,\n",
       " <selenium.webdriver.remote.webelement.WebElement (session=\"924cf09c8e8ebbb476be0687ca78b2ef\", element=\"f.9556429E85B6F2F1D80ED7FD89C5EF88.d.DD79218B2DB885FC7B635F9A6FA70049.e.3829\")>,\n",
       " <selenium.webdriver.remote.webelement.WebElement (session=\"924cf09c8e8ebbb476be0687ca78b2ef\", element=\"f.9556429E85B6F2F1D80ED7FD89C5EF88.d.DD79218B2DB885FC7B635F9A6FA70049.e.3836\")>,\n",
       " <selenium.webdriver.remote.webelement.WebElement (session=\"924cf09c8e8ebbb476be0687ca78b2ef\", element=\"f.9556429E85B6F2F1D80ED7FD89C5EF88.d.DD79218B2DB885FC7B635F9A6FA70049.e.3844\")>,\n",
       " <selenium.webdriver.remote.webelement.WebElement (session=\"924cf09c8e8ebbb476be0687ca78b2ef\", element=\"f.9556429E85B6F2F1D80ED7FD89C5EF88.d.DD79218B2DB885FC7B635F9A6FA70049.e.3851\")>,\n",
       " <selenium.webdriver.remote.webelement.WebElement (session=\"924cf09c8e8ebbb476be0687ca78b2ef\", element=\"f.9556429E85B6F2F1D80ED7FD89C5EF88.d.DD79218B2DB885FC7B635F9A6FA70049.e.3862\")>]"
      ]
     },
     "execution_count": 37,
     "metadata": {},
     "output_type": "execute_result"
    }
   ],
   "source": [
    "# 여러개의 요소를찾을 때\n",
    "driver.find_elements(By.CSS_SELECTOR, '.link_service')"
   ]
  },
  {
   "cell_type": "code",
   "execution_count": 39,
   "id": "4b9c36e2-4aec-489e-b3cb-9a51a49aee65",
   "metadata": {},
   "outputs": [
    {
     "data": {
      "text/plain": [
       "'https://mail.naver.com/'"
      ]
     },
     "execution_count": 39,
     "metadata": {},
     "output_type": "execute_result"
    }
   ],
   "source": [
    "driver.find_elements(By.CSS_SELECTOR, '.link_service')[0].get_attribute('href')"
   ]
  },
  {
   "cell_type": "code",
   "execution_count": 40,
   "id": "661857d0-b442-4d89-b0b8-a4c8ad4a5ee0",
   "metadata": {},
   "outputs": [],
   "source": [
    "likes = driver.find_elements(By.CSS_SELECTOR, '.link_service')"
   ]
  },
  {
   "cell_type": "code",
   "execution_count": 42,
   "id": "313a6c08-41cf-47e8-93f2-d348e19eef79",
   "metadata": {},
   "outputs": [
    {
     "name": "stdout",
     "output_type": "stream",
     "text": [
      "<selenium.webdriver.remote.webelement.WebElement (session=\"924cf09c8e8ebbb476be0687ca78b2ef\", element=\"f.9556429E85B6F2F1D80ED7FD89C5EF88.d.DD79218B2DB885FC7B635F9A6FA70049.e.3780\")>\n",
      "<selenium.webdriver.remote.webelement.WebElement (session=\"924cf09c8e8ebbb476be0687ca78b2ef\", element=\"f.9556429E85B6F2F1D80ED7FD89C5EF88.d.DD79218B2DB885FC7B635F9A6FA70049.e.3787\")>\n",
      "<selenium.webdriver.remote.webelement.WebElement (session=\"924cf09c8e8ebbb476be0687ca78b2ef\", element=\"f.9556429E85B6F2F1D80ED7FD89C5EF88.d.DD79218B2DB885FC7B635F9A6FA70049.e.3794\")>\n",
      "<selenium.webdriver.remote.webelement.WebElement (session=\"924cf09c8e8ebbb476be0687ca78b2ef\", element=\"f.9556429E85B6F2F1D80ED7FD89C5EF88.d.DD79218B2DB885FC7B635F9A6FA70049.e.3801\")>\n",
      "<selenium.webdriver.remote.webelement.WebElement (session=\"924cf09c8e8ebbb476be0687ca78b2ef\", element=\"f.9556429E85B6F2F1D80ED7FD89C5EF88.d.DD79218B2DB885FC7B635F9A6FA70049.e.3808\")>\n",
      "<selenium.webdriver.remote.webelement.WebElement (session=\"924cf09c8e8ebbb476be0687ca78b2ef\", element=\"f.9556429E85B6F2F1D80ED7FD89C5EF88.d.DD79218B2DB885FC7B635F9A6FA70049.e.3815\")>\n",
      "<selenium.webdriver.remote.webelement.WebElement (session=\"924cf09c8e8ebbb476be0687ca78b2ef\", element=\"f.9556429E85B6F2F1D80ED7FD89C5EF88.d.DD79218B2DB885FC7B635F9A6FA70049.e.3822\")>\n",
      "<selenium.webdriver.remote.webelement.WebElement (session=\"924cf09c8e8ebbb476be0687ca78b2ef\", element=\"f.9556429E85B6F2F1D80ED7FD89C5EF88.d.DD79218B2DB885FC7B635F9A6FA70049.e.3829\")>\n",
      "<selenium.webdriver.remote.webelement.WebElement (session=\"924cf09c8e8ebbb476be0687ca78b2ef\", element=\"f.9556429E85B6F2F1D80ED7FD89C5EF88.d.DD79218B2DB885FC7B635F9A6FA70049.e.3836\")>\n",
      "<selenium.webdriver.remote.webelement.WebElement (session=\"924cf09c8e8ebbb476be0687ca78b2ef\", element=\"f.9556429E85B6F2F1D80ED7FD89C5EF88.d.DD79218B2DB885FC7B635F9A6FA70049.e.3844\")>\n",
      "<selenium.webdriver.remote.webelement.WebElement (session=\"924cf09c8e8ebbb476be0687ca78b2ef\", element=\"f.9556429E85B6F2F1D80ED7FD89C5EF88.d.DD79218B2DB885FC7B635F9A6FA70049.e.3851\")>\n",
      "<selenium.webdriver.remote.webelement.WebElement (session=\"924cf09c8e8ebbb476be0687ca78b2ef\", element=\"f.9556429E85B6F2F1D80ED7FD89C5EF88.d.DD79218B2DB885FC7B635F9A6FA70049.e.3862\")>\n"
     ]
    }
   ],
   "source": [
    "for link in links:\n",
    "    print(link)"
   ]
  },
  {
   "cell_type": "code",
   "execution_count": 43,
   "id": "61b6d1bb-8d91-4818-87f1-c41008a46cde",
   "metadata": {},
   "outputs": [
    {
     "name": "stdout",
     "output_type": "stream",
     "text": [
      "https://mail.naver.com/\n",
      "\n",
      "https://cafe.naver.com/\n",
      "\n",
      "https://blog.naver.com/\n",
      "\n",
      "https://shopping.naver.com/home\n",
      "\n",
      "https://news.naver.com/\n",
      "\n",
      "https://finance.naver.com/\n",
      "\n",
      "https://land.naver.com/\n",
      "\n",
      "https://map.naver.com/\n",
      "\n",
      "https://comic.naver.com/\n",
      "\n",
      "https://chzzk.naver.com/\n",
      "\n",
      "https://www.naver.com/#\n",
      "\n",
      "https://siape.veta.naver.com/rd?rk=ul5yKTfGje4Bf44pc6Xn8w&eltts=DCLofzx%2FfvetPO%2Byu3l4Ow%3D%3D&elu=5BA297C9C3C09BC2A363AD20A2AF2280AA600BB0F1224856B1E3B0CD8C7D5F6341BB3F4A77A5F39CD5816E901BFB74C92B046500D36C473274A2DF28B9D9C604F0D8675FDAF22A996AAEFDEE92BA1FCD697E5F7ECC82BD74C279AA95D9F31FA9106C54B228F25590EF823CA4768D621930DE9513FAD9CD3EC5D5F708FBFC00BDA1F5B03C00EADE3421C9D4FE1E658652E8C5A37BBB18D79B4D542EF9B859195A8B5F3CB5F7D17DF7D63104BA36F5191223192AE294E03593BF7CA3B054BF55FF7DF70D50D25D1F0D4D87A7831487FDC2AFB8FEA841F79F16EA53276AF68816C7A149514203E223A19FA55EAAC4E98561256439BD31A8DEFDBC8CEF82F716E628B23F8C3BFA407A51086748714615D78698A603B1B20D8157A049045EADF303C7C90C945E9B6678B41330B37AAA80FDCE0589F05E39A2DECC900ED27DE4327494D8CC07C1B67CE038EFBDA44E52E5B715A3EC5A3F07FD7CCDECDFCA955A7B6FCB11DFA46E51BA4203609299CFB488F993296C5387E386A488064288B95F527FA540946C8672D26BA42D643227D77736CF&tr=ndp\n",
      "\n"
     ]
    }
   ],
   "source": [
    "# https://www.browserstack.com/guide/get-html-source-of-web-element-in-selenium-webdriver\n",
    "# 해당 클래스가 속한 요소의 자식 html을 출력\n",
    "for link in links:\n",
    "    print(link.get_attribute(\"href\")) \n",
    "    print()"
   ]
  },
  {
   "cell_type": "code",
   "execution_count": 44,
   "id": "81a92881-c8c8-47a6-9de1-f7d725561352",
   "metadata": {},
   "outputs": [],
   "source": [
    "url = 'file:///C:/workspace/wassup3/02_Python_collection/sample/signin.html'\n",
    "driver = webdriver.Chrome(options=options) # 객체 생성\n",
    "\n",
    "driver.get(url) # 실행 \n",
    "\n",
    "time.sleep(2) "
   ]
  },
  {
   "cell_type": "code",
   "execution_count": 51,
   "id": "ce5aca32-fe53-48a3-b835-8ba95e15a078",
   "metadata": {},
   "outputs": [],
   "source": [
    "username = driver.find_element(By.NAME, \"username\")\n",
    "username.send_keys('korea')"
   ]
  },
  {
   "cell_type": "code",
   "execution_count": 52,
   "id": "5cb4f926-56ed-4201-b9bb-81766067fbe0",
   "metadata": {},
   "outputs": [],
   "source": [
    "password = driver.find_element(By.NAME, \"password\")\n",
    "password.send_keys('1234')"
   ]
  },
  {
   "cell_type": "code",
   "execution_count": 47,
   "id": "7901b172-2b51-436e-bd10-b387c6c5c6e0",
   "metadata": {},
   "outputs": [],
   "source": [
    "login =  driver.find_element(By.XPATH, '//*[@id=\"loginForm\"]/input[3]')\n",
    "login.click()"
   ]
  },
  {
   "cell_type": "code",
   "execution_count": 48,
   "id": "e04e86b5-19fb-4c74-ac69-3b3b49d47e64",
   "metadata": {},
   "outputs": [],
   "source": [
    "driver.back()"
   ]
  },
  {
   "cell_type": "code",
   "execution_count": 49,
   "id": "876cf636-fa09-4f1d-9015-137c85997925",
   "metadata": {},
   "outputs": [],
   "source": [
    "login =  driver.find_element(By.CSS_SELECTOR, \"#loginForm > input[type=submit]:nth-child(5)\")\n",
    "login.click()"
   ]
  },
  {
   "cell_type": "code",
   "execution_count": 50,
   "id": "58a99c07-221c-4845-90c0-294822c93fe2",
   "metadata": {},
   "outputs": [],
   "source": [
    "login =  driver.find_element(By.CSS_SELECTOR, \"[value='Login']\")\n",
    "login.click()"
   ]
  },
  {
   "cell_type": "code",
   "execution_count": 53,
   "id": "788f31bc-1766-4b8b-a6f2-35a94aebfc66",
   "metadata": {},
   "outputs": [],
   "source": [
    "# 입력창 clear 하기\n",
    "# 세션끊기면 다시 접근해야함\n",
    "username = driver.find_element(By.NAME, \"username\")\n",
    "username.clear()"
   ]
  },
  {
   "cell_type": "code",
   "execution_count": 54,
   "id": "162749cf-babe-49ac-b420-00c869e99c1e",
   "metadata": {},
   "outputs": [],
   "source": [
    "username = driver.find_element(By.NAME, \"username\")\n",
    "username.send_keys('korea')\n",
    "password = driver.find_element(By.NAME, \"password\")\n",
    "password.send_keys('1234')\n",
    "username.submit()"
   ]
  },
  {
   "cell_type": "code",
   "execution_count": 56,
   "id": "bc80e5b9-7b6f-4304-8d1a-b68a88b4319a",
   "metadata": {},
   "outputs": [
    {
     "data": {
      "text/plain": [
       "'Are you sure you want to do this?'"
      ]
     },
     "execution_count": 56,
     "metadata": {},
     "output_type": "execute_result"
    }
   ],
   "source": [
    "driver.find_element(By.TAG_NAME, 'p').text"
   ]
  },
  {
   "cell_type": "code",
   "execution_count": 57,
   "id": "2b10ce13-3133-491c-8ac7-ac70a9e8fe51",
   "metadata": {},
   "outputs": [
    {
     "data": {
      "text/plain": [
       "'<html><head></head><body>\\n        <h1> Sign In </h1>\\n        <form action=\"moved.html\" id=\"loginForm\">\\n            ID : <input name=\"username\" type=\"text\"> <br>\\n            Password : <input name=\"password\" type=\"password\"> <br>\\n\\n            <input name=\"continue\" type=\"submit\" value=\"Login\">\\n            <input name=\"continue\" type=\"button\" value=\"Clear\">\\n        \\n        </form>\\n\\n        <p>Are you sure you want to do this?</p>\\n        <a href=\"continue.html\">Continue</a>\\n        <a href=\"cancel.html\">Cancel</a>\\n\\n        <h1>Welcome</h1>\\n        <p>Site content goes here.</p>\\n        <p class=\"content\">Site content goes here.</p>\\n    \\n</body></html>'"
      ]
     },
     "execution_count": 57,
     "metadata": {},
     "output_type": "execute_result"
    }
   ],
   "source": [
    "# html 소스 가져오기\n",
    "driver.page_source"
   ]
  },
  {
   "cell_type": "code",
   "execution_count": 58,
   "id": "9af0d0d1-6d92-4c92-a31f-5b9066312734",
   "metadata": {},
   "outputs": [],
   "source": [
    "driver.close()"
   ]
  },
  {
   "cell_type": "code",
   "execution_count": null,
   "id": "6afee1f7-5771-494e-9586-00a79e66af50",
   "metadata": {},
   "outputs": [],
   "source": []
  },
  {
   "cell_type": "code",
   "execution_count": null,
   "id": "6299129a-1a74-4660-8b5a-57a0a1b4f4f1",
   "metadata": {},
   "outputs": [],
   "source": []
  },
  {
   "cell_type": "code",
   "execution_count": null,
   "id": "cc36a265-0525-4eb9-8fbc-cabad5d0c806",
   "metadata": {},
   "outputs": [],
   "source": []
  },
  {
   "cell_type": "code",
   "execution_count": null,
   "id": "00177e51-d5d8-457a-85ff-ed43c3eae3cd",
   "metadata": {},
   "outputs": [],
   "source": []
  },
  {
   "cell_type": "code",
   "execution_count": null,
   "id": "ee770e33-fbbc-480e-a3ca-48f76b822449",
   "metadata": {},
   "outputs": [],
   "source": []
  },
  {
   "cell_type": "code",
   "execution_count": null,
   "id": "2e445620-feff-4cf3-b481-b0e06b745113",
   "metadata": {},
   "outputs": [],
   "source": []
  },
  {
   "cell_type": "code",
   "execution_count": null,
   "id": "450d58cf-3cc1-4109-9345-206f49929eb5",
   "metadata": {},
   "outputs": [],
   "source": []
  }
 ],
 "metadata": {
  "kernelspec": {
   "display_name": "Python 3 (ipykernel)",
   "language": "python",
   "name": "python3"
  },
  "language_info": {
   "codemirror_mode": {
    "name": "ipython",
    "version": 3
   },
   "file_extension": ".py",
   "mimetype": "text/x-python",
   "name": "python",
   "nbconvert_exporter": "python",
   "pygments_lexer": "ipython3",
   "version": "3.11.7"
  }
 },
 "nbformat": 4,
 "nbformat_minor": 5
}
