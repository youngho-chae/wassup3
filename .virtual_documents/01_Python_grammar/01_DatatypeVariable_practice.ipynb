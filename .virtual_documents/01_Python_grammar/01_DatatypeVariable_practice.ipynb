


average= (80+75+55) / 3
print(average)





a = 13
if a % 2 == 0:
    print("짝수")
else :
    print("홀수")





pin = '881120-1068234'
yyyymmdd = 881120
num =  1068234
print(yyyymmdd) 
print(num) 





pin = "881120-1068234"
print(pin[7])





a = "a:b:c:d"
b = a.replace(':', '#')
print(b)





a = [1, 3, 5, 4, 2]
a.sort()
a.reverse()
print(a)





a = ['Life', 'is', 'too', 'short']
result = " " .join(a)
print(result)





a = (1, 2, 3)
a = a + (4, )
print(a)





a[[1]] = 'python'
리스트는 키값으로 쓸 수 없다.





a = {'A':90, 'B':80, 'C':70}
result = a.pop('B')
print(a)
print(result)





a = [1, 1, 1, 2, 2, 3, 3, 3, 4, 4, 5]
aSet = set(a)
b = list(aSet)
print(b)





a = b = [1, 2, 3]
a[1] = 4
print(b)
id(a), id(b)



