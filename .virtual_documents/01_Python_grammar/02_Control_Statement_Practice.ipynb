


a = 'Life is too short, you need python'
if 'wife' in a: print('wife')
elif 'python' in a and 'you' not in a : print('python')
elif 'shirt' not in a : print('shirt')
elif 'need' in a: print('need')
else: print('none')

'''
shirt 에서 이미 true가 나왔기 때문에 shirt
'''





result = 0
i = 1
while i <= 1000:
    if i %3 == 0:  # 3으로 나누어 떨어지는 수는 3의 배수
        result += i
    i += 1
print(result) # 166833 출력






i = 1
while i <= 5:
    print('*' * i)
    i += 1





for i in range(1, 101):
    print(i)





A = [70, 60, 55, 75, 95, 90, 80, 80, 85, 100]
total = 0
for score in A:
    total += score # A학급의 점수를 모두 더한다.
average = total / len(A) # 평균을 구하기 위해 총 점수를 총 학생수로 나눈다.
print(average)





numbers = [1, 2, 3, 4, 5]
result = [n * 2 for n in numbers if n % 2 == 1]
print(result)



