


## 요구사항 분석 및 설계
'''
1. I/O, 데이터타입 : 문자열, 딕셔너리 : K:V
2. 데이터: 사용자 입력 input()
3. 구조 : 프로그램 : while 반복문, 기능 : if 분기문
4. 기능 + 인터페이스 정책
- 1번 연락처 추가 : dict[key] = value
- 2번 연락처 전체보기 : print(dict)
- 3번 검색 : get메서드, dict[key]
- 4번 수정 : update 메서드, dict[key] = value
- 5번 삭제 : del
- 9번 종료 : break
'''


contacr = {}

while True:
    print('-----전화번호부 프로그램-----')
    print('1.추가 2.보기 3.검색 4.수정 5.삭제 9.종료')
    menu = int(input('메뉴를 선택해주세요.(숫자only): '))

    if menu == 1:
        print('연락처를 추가합니다.')
        new_name = input('이름: ')
        new_tel = input('전화번호: ')
        contact[new_name] = new_tel
        
    elif menu == 2:
        print('연락처를 조회합니다.')
                
    elif menu == 3:
        print('연락처를 검색합니다.')
        search_name = input('검색 이름: ')
        print(contact.get(seach_name, '없는 이름입니다.'))
            
    elif menu == 4:
        print('연락처를 수정합니다.')
        mod_name = input('수정 이름: ')
             

        if mod_name in contact:
            mod_tel = input('새 전화번호')
            contact[mod_name] = mod_tel
        else :
            print('등록되지 않은 이름입니다.')
    
    elif menu == 5:
        print('연락처를 삭제합니다.')
        del_name = input('삭제 이름: ')
        del contact[del_name]
    elif menu == 9:
        print('연락처를 종료합니다.')
        break
    else :    
        print('잘못된 입력합니다.')


contacts = {}

while True:
    print("\n기능을 선택하세요:")
    print("1: 연락처 추가")
    print("2: 연락처 전체 보기")
    print("3: 검색")
    print("4: 수정")
    print("5: 삭제")
    print("6: 프로그램 종료")
    choice = input("선택: ")

    if choice == '1':
        name = input("이름: ")
        num = input("전화번호: ")
        contacts[name] = num
        print(f'연락처 추가: {name} : {num}')
    
    elif choice == '2':
        if contacts:
            for name, num in contacts.items():
                print(f'이름: {name}, 전화번호: {num}')
        else:
            print('연락처가 없습니다.')
    
    elif choice == '3':
        name = input('이름: ')
        num = contacts.get(name)
        if num:
            print(f'{name}의 전화번호는 {num}입니다.')
        else:
            print(f'{name}의 전화번호가 없습니다.')
    
    elif choice == '4':
        name = input('이름: ')
        if name in contacts:
            num = input(f'{name}의 수정할 번호: ')
            contacts.update({name: num})
            print(f'{name}의 연락처가 수정되었습니다.')
        else:
            print(f'{name}의 전화번호가 없습니다.')
    
    elif choice == '5':
        name = input('이름: ')
        if name in contacts:
            del contacts[name]
            print(f'{name}의 연락처가 삭제되었습니다.')
        else:
            print(f'{name}의 전화번호가 없습니다.')
    
    elif choice == '6':
        print("프로그램을 종료합니다.")
        break
    
    else:
        print("다시 입력하세요.")




