


a = 123


a


a = -178
a


a = 0
a


a = -3.45
a


a = 0o177
a


a = 0x8ff
b = 0xABC
a, b





a = 3
b = 4
a+b


a*b





a**b





7 % 3


3 % 7





7 // 4


7/4





"Hello World"


'hello world'


""" Hello World """


'''
Hello World
'''


## 문자열 안에 작은 따옴표나 큰 따옴표를 포함 시키고 싶을 때

```
Python's favorite food is perl
```


"Python's favorite food is perl"


'"Python is very easy." he says.'


'Python\'s favorite food is perl'


"Life is too short \n You need python"


multiline = "Life is too short \n You need python"
multiline


print(multiline)


multiline = '''
Life is too short
You need python
'''


print(multiline)





head = "Python"
tail = " is fun!"
head + tail


a = 'Python'
a * 5


print('='*50)


a = "Life is too short"
len(a)





a = "Life is too short, You need python"


len(a)


a[3]


a[12]


a[13]


a[-1]


a[-7]


a[-0]





a = "Life is too short, You need python"
a[0]+a[1]+a[2]+a[3]


a[0:4]


a[-15:]


a[:]


a


a[19:-7]





a = "20240610Sunny"


a[0:8], a[8:]


year = a[:4]
day = a[4:8]
weather = a[8:]
year, day, weather





a = 'pithon'
a[1] = 'y'
a


a[0]+'y'+a[2:]





# 숫자 바로 대입
"I eat %d apples"%3


# 문자열 바로 대입
"I eat %s apples"%"five"


"I eat %d apples"%"삼"


# 숫자 값을 나타내는 변수로 대입
num = 3
"I eat %d apples"%num


# 2개 이상 값 넣기
num = 10
day = 'three'
"I ate %d apples. so i was sick for %s days. "%(num, day)


# 2개 이상 값 넣기
num = 10
day = 'three'
"I ate %d apples. so i was sick for %s days. "%(day, num)


"I have %s apples"%3


"rate is %s"%3.14


'오늘의 습도는 %d%% 입니다.'%70





"%0.2f"%3.141592





"I eat {} apples".format(3)


"I eat {} apples".format('five')


num = 10
"I eat {} apples".format(num)


# 2개 이상 값 넣기
num = 10
day = 'three'
"I ate {} apples. so i was sick for {} days. ".format(num, day)


# 2개 이상 값 넣기
num = 10
day = 'three'
"I ate {} apples. so i was sick for {} days. ".format(day, num)


"I ate {0} apples. so i was sick for {1} days. ".format(num, day)


"I ate {number} apples. so i was sick for {int} days. ".format(num, day)


"I ate {num} apples. so i was sick for {int} days. ".format(num, day)


"I ate {num} apples. so i was sick for {day} days. ".format(num=10, day=3)


"I ate {num} apples. so i was sick for {day} days. ".format(day=10, num=3)


"I ate {num} apples. so i was sick for {day} days. ".format(day=3, 10)


"I ate {num} apples. so i was sick for {day} days. ".format(num=3, 10)


"I ate {num} apples. so i was sick for {} days. ".format(num=3, 10)


"I ate {} apples. so i was sick for {num} days. ".format(num=3, 10)


"I ate {} apples. so i was sick for {num} days. ".format(10, num=3)


y = 3.141414
"{0:0.4f}".format(y)





name = '홍길동'
age = 30
f'나의 이름은 {name}입니다. 나이는 {age}입니다.'


f'나는 내년이면 {age+1}살이 됩니다.'


d = {'name' : '홍길동', 'age': 30}
f'나의 이름은 {d["name"]}입니다. 나이는 {d["age"]}입니다.'






