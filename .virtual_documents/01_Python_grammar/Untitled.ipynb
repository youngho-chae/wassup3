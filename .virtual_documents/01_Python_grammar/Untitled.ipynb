


# 전형적인 for 문

test_list = ['one', 'two', 'three'] 
for i in test_list: 
    print(i)


# 다양한 for 문의 사용

a = [(1,2), (3,4), (5,6)]
for (first, last) in a:
    print(first + last)


'''
for 문의 쓰임새를 알기 위해 다음과 같은 문제를 생각해 보자.

총 5명의 학생이 시험을 보았는데 시험 점수가 60점 이상이면 합격이고 
그렇지 않으면 불합격이다. 합격인지, 불합격인지 결과를 보여 주시오.
'''
marks = [90, 25, 67, 45, 80]
i = 0
for j in marks:
    i = i + 1
    if j >= 60:
        print(f'{i}번 학생 합격.')
    else:
        print(f'{i}번 학생 불합격.')






marks = [90, 25, 67, 45, 80]
i = 0
for j in marks:
    i = i + 1
    if j >= 60:
        print(f'{i}번 학생 합격.')
    else:
        pass


marks = [90, 25, 67, 45, 80]
i = 0
for j in marks:
    i = i + 1
    if j < 60:
        continue
    print(f'{i}번 학생 합격.')





range?


range(10)


for i in range(10):
    print(i)


for i in range(1, 10):
    print(i)





sum = 0
for i in range(1, 11):
    sum += i
    print(sum)
# print(sum)


# marks3.py
marks = [90, 25, 67, 45, 80]
for number in range(len(marks)):
    if marks[number] < 60: 
        continue
    print("%d번 학생 축하합니다. 합격입니다." % (number+1))






for i in range(2,10):
    for j in range(1,10):
        print(i*j)
    print()


for i in range(2, 10):
    for j in range(1, 10):
        print(f"{i} X {j} = {i*j}")
    print("")





import time

start = time.time() 
numbers = [i for i in range(1000000)] 
end = time.time() 
print('List Comprehension Time:', end-start)

start = time.time() 
numbers = []
for i in range(1000000):
    numbers.append(i)
end = time.time() 
print('For loop Time:', end-start)






















































































































































