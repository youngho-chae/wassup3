


money = True
if money:
     print("택시를 타고 가라")
else:
     print("걸어 가라")


money = True
if money:
    print("택시를")
    print("타고")
        print("가라")





# 비교연산자
x = 2
y = 3
x > y


#만약 3000원 이상의 돈을 가지고 있으면 택시를 타고 가고, 그렇지 않으면 걸어가라.

money = 3000
if money >= 3000:
    print("택시를 타고 가라")
else:
    print("걸어가라")


#돈이 3000원 이상 있거나 카드가 있다면 택시를 타고 가고, 그렇지 않으면 걸어가라.





money = 100
card = True
if money >= 3000 or card:
    print("택시를 타고 가라")
else:
    print("걸어가라")





# 만약 주머니에 돈이 있으면 택시를 타고 가고, 없으면 걸어가라.


>>> pocket = ['paper', 'cellphone', 'money']
>>> if 'money' in pocket:
...     print("택시를 타고 가라")
... else:
...     print("걸어가라")





# 주머니에 돈이 있으면 가만히 있고, 주머니에 돈이 없으면 카드를 꺼내라.


pocket = ['paper', 'money', 'cellphone']
if 'money' in pocket:
    pass 
else:
    print("카드를 꺼내라")





'''주머니에 돈이 있으면 택시를 타고 가고, 
주머니에 돈은 없지만 카드가 있으면 택시를 타고 가고, 
돈도 없고 카드도 없으면 걸어가라.'''

p = ['money', 'wallet']
card = False
if 'money' in p:
    print('택시를 타고 가라')
else:
    if card:
        print('택시를 타고 가라')
    else:
        print('걸어가라')


>>> pocket = ['paper', 'cellphone']
>>> card = True
>>> if 'money' in pocket:
...      print("택시를 타고가라")
... elif card: 
...      print("택시를 타고가라")
... else:
...      print("걸어가라")


>>> pocket = ['paper', 'mone', 'cellphone']
>>> if 'money' in pocket: pass
... else: print("카드를 꺼내라")





score=80
if score >= 60:
    message = "success"
else:
    message = "failure"
print(message)


message = "success" if score >= 60 else "failure"
print(message)


treeHit = 0
while treeHit < 10:
    treeHit = treeHit +1
    print("나무를 %d번 찍었습니다." % treeHit)
    if treeHit == 10:
        print("나무가 넘어갑니다.")





prompt = '''
1. Add
2. Del
3. List
4. Quit

Enter number : '''
print(prompt)


number = 0
while number != 4:
    print(prompt)
    number = int(input())





coffee = 10
money = 300

while money :
    print('돈을 받았으니 커피를 줍니다.')
    coffee = coffee - 1
    print(f'남은 커피의 양은 {coffee}입니다.')
    if coffee == 0:
        print('커피가 다 떨어져서 판매를 중지합니다.')
        break


'''
money는 사용자가 입력하게 하고, 커피 가격은 300원 입니다.
커피 가격이 일치하지 않으면 잔돈을 거슬러줍니다.
커피 재고가 떨어지면 종료합니다.
'''

coffee = 10
money = 300

while True :
    money = int(input("돈"))
    if money == 300:
        print('돈을 받았으니 커피를 줍니다.')
        coffee = coffee -1
    elif money > 300:
        print(f"거스름돈 {money -300}를 주고 커피를 줍니다.")
        coffee = coffee - 1
    elif money < 300:
        print('돈을 더 넣어 주세요.')
        coffee = coffee
    print(f'남은 커피의 양은 {coffee}입니다.')
    if coffee == 0:
        print('커피가 다 떨어져서 판매를 중지합니다.')
        break


coffee = 10
money = 300

while True :
    money = int(input("돈을 주세요"))
    if money == 300:
        print('돈을 받았으니 커피를 줍니다.')
        coffee = coffee -1
    elif money > 300:
        print(f"거스름돈 {money -300}를 주고 커피를 줍니다.")
        coffee = coffee - 1
    elif money < 300:
        print('돈을 더 주세요')
        coffee = coffee
    print(f'남은 커피의 양은 {coffee}입니다.')
    if coffee == 0:
        print('커피가 다 떨어져서 판매를 중지합니다.')
        break


coffee=300
stock=10

while stock > 0:
    money=int(input('돈'))
    if money < coffee:
        print(f'금액이 부족합니다.')
    elif money == coffee:
        stock -= 1
        print('커피를 줍니다.')
    else:
        stock -= 1
        change = money - coffee
        print(f"커피를 줍니다. 잔돈 {change}원.")
        break


'''
input / output 정의

데이터: 커피가격 300원, 커피 재고(상수로 입력), 사용자 입력 커피금액(input())
coffee=10

조건
1. 커피값==300
커피를 제공하고 프린트
커피 재고를 차감하고 coffee-userinput
재고를 안내해주자. 커피 프린트

2. 커피값 > 300
커피를 제공하고 거스름돈을 준다. 유저인풋- 300
커피 재고 차감하고 안내한다.

3. 커피값 <300
안준다 프린트
남은 재고 알려준다 프린트

4. 커피 재고 == 0
재고 소진을 안내하고
마감을 안내한다 프린트
브레이크
'''
ㄴ


coffee=10
while True:
    money=int(input('돈을 넣어라:'))
    if money == 300:
        print('300원을 줬군. 커피를 주겠다.')
        coffee = coffee -1
        print(f'남은 커피 수량은 {coffee} 입니다.')
        
    elif money > 300:
        print(f'거스름돈 {money-300}원과 커피를 주겠다.')
        coffee = coffee -1
        print(f'남은 커피 수량은 {coffee} 입니다.')
        
    else : # money < 300
        print('돈이 부족하다. 커피 안준다.')
        print(f'남은 커피 수량은 {coffee} 입니다.')
        
    if coffee == 0:
        print('커피가 다 떨어다. 영업종료한다.')


































































































































































