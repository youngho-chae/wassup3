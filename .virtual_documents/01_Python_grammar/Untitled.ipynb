# 화면에 Hello World 문자열을 출력하세요.
' hello world'


# 화면에 Mary's cosmetics을 출력하세요. (중간에 '가 있음에 주의하세요)
"Mary's cosmetics"


# 화면에 아래 문장을 출력하세요. (중간에 "가 있음에 주의하세요.)
# 신씨가 소리질렀다. "도둑이야".
' 신씨가 소리질렀다. "도둑이야".'


# 화면에 C:\Windows를 출력하세요.
print('C:\Windows')


# 다음 코드를 실행해보고 \t와 \n의 역할을 설명해보세요.

print("안녕하세요.\n만나서\t\t반갑습니다.")
# /n 줄바꿈 /t 탭


#print 함수에 두 개의 단어를 입력한 예제입니다. 아래 코드의 출력 결과를 예상해봅시다.

print ("오늘은", "일요일")


# print() 함수를 사용하여 다음과 같이 출력하세요.
# naver;kakao;sk;samsung

print('naver','kakao','sk','samsumg', sep=';')


#print() 함수를 사용하여 다음과 같이 출력하세요.

#naver/kakao/sk/samsung

print('naver','kakao','sk','samsumg', sep='/')


#다음 코드를 수정하여 줄바꿈이 없이 출력하세요. (힌트: end='') print 함수는 두 번 사용합니다. 세미콜론 (;)은 한줄에 여러 개의 명령을 작성하기 위해 사용합니다.

print("first","second")


# 5/3의 결과를 화면에 출력하세요.

5/3


# 삼성전자라는 변수로 50,000원을 바인딩해보세요. 삼성전자 주식 10주를 보유하고 있을 때 총 평가금액을 출력하세요.
삼성전자=50000
총평가금액 =삼성전자*10
총평가금액


# 다음 표는 삼성전자의 일부 투자정보입니다. 변수를 사용해서 시가총액, 현재가, PER 등을 바인딩해보세요.

#항목	값
#시가총액	298조
#현재가	50,000원
#PER	15.79

시가총액 = '298조'
현재가 = '50,000원'
PER = '15.79'

print(시가총액)
print(현재가)
print(PER)


#변수 s와 t에는 각각 문자열이 바인딩 되어있습니다.

s = "hello"
t = "python"
#두 변수를 이용하여 아래와 같이 출력해보세요.

#실행 예:
#hello! python

print(s+'!', t)


#아래 코드의 실행 결과를 예상해보세요.

2 + 2 * 3 


'''
type() 함수는 데이터 타입을 판별합니다. 변수 a에는 128 숫자가 바인딩돼 있어 type 함수가 int (정수)형임을 알려줍니다.

>> a = 128
>> print (type(a))
<class 'int'>
아래 변수에 바인딩된 값의 타입을 판별해보세요.

>> a = "132"
'''
a = "132"

print(a, type(a))


type(a)


'''
문자열 '720'를 정수형으로 변환해보세요.

>> num_str = "720"
'''
num_str = "720"
num_str = [720]
type(num_str)


num_str = "720"  #형변환
num_int = int(num_str)
print(num_int, type(num_int))


'''
017 정수를 문자열 100으로 변환
정수 100을 문자열 '100'으로 변환해보세요.
'''

num='100'
print(num, type(num))


'''
문자열 "15.79"를 실수(float) 타입으로 변환해보세요.'''

data = "15.79"
data = float(data)
print(data, type(data))


'''
year라는 변수가 문자열 타입의 연도를 바인딩하고 있습니다. 이를 정수로 변환한 후 최근 3년의 연도를 화면에 출력해보세요.

year = "2020"
'''
year = "2020"
print(int(year)-3)  
print(int(year)-2)  
print(int(year)-1)  



'''
에이컨이 월 48,584원에 무이자 36개월의 조건으로 홈쇼핑에서 판매되고 있습니다. 총 금액은 계산한 후 이를 화면에 출력해보세요. (변수사용하기)
'''

월금액=48584
무이자=36
총금액=(월금액*무이자)
총금액


'''
letters가 바인딩하는 문자열에서 첫번째와 세번째 문자를 출력하세요.

>> letters = 'python'
실행 예
p t
'''

letters = 'python'
print(letters[0], letters[2])



'''
자동차 번호가 다음과 같을 때 뒤에 4자리만 출력하세요.

>> license_plate = "24가 2210"
실행 예: 2210
'''
license_plate = "24가 2210"
print(license_plate[4:])


'''
아래의 문자열에서 '홀' 만 출력하세요.

>> string = "홀짝홀짝홀짝"
실행 예:
홀홀홀
'''
string = "홀짝홀짝홀짝"
print(string[::2])


'''
문자열을 거꾸로 뒤집어 출력하세요.

>> string = "PYTHON"
실행 예:
NOHTYP
'''

string = "PYTHON"
print(string[::-1])


'''
아래의 전화번호에서 하이푼 ('-')을 제거하고 출력하세요.

>> phone_number = "010-1111-2222"
실행 예
010 1111 2222
'''
phone_number = "010-1111-2222"
phone_number.replace("-", " ")



'''
25번 문제의 전화번호를 아래와 같이 모두 붙여 출력하세요.

실행 예
01011112222
'''

phone_number = "010-1111-2222"
phone_number.replace("-", "")


'''
url 에 저장된 웹 페이지 주소에서 도메인을 출력하세요.

>> url = "http://sharebook.kr"
실행 예:
kr
'''
url = "http://sharebook.kr"
len(url)



print(url[17:])


'''
아래 코드의 실행 결과를 예상해보세요.

>> lang = 'python'
>> lang[0] = 'P'
>> print(lang)
'''
lang = 'python'
lang[0] = 'P'
print(lang)


'''
아래 문자열에서 소문자 'a'를 대문자 'A'로 변경하세요.

>> string = 'abcdfe2a354a32a'
실행 예:
Abcdfe2A354A32A
'''
string = 'abcdfe2a354a32a'
string.replace('a','A')


'''
아래 코드의 실행 결과를 예상해보세요.

>> string = 'abcd'
>> string.replace('b', 'B')
>> print(string)
'''
string = 'abcd'
string.replace('b', 'B')
print(string)


'''
아래 코드의 실행 결과를 예상해보세요.

>> a = "3"
>> b = "4"
>> print(a + b)
'''
a = "3"
b = "4"
print(a + b)



'''
아래 코드의 실행 결과를 예상해보세요.

>> print("Hi" * 3)
'''
print("Hi" * 3)



'''
화면에 '-'를 80개 출력하세요.
'''
print("-" * 80)


'''
변수에 다음과 같은 문자열이 바인딩되어 있습니다.

>>> t1 = 'python'
>>> t2 = 'java'

변수에 문자열 더하기와 문자열 곱하기를 사용해서 아래와 같이 출력해보세요.

실행 예:
python java python java python java python java
'''
t1 = 'python'
t2 = 'java'
print((t1 +" "+t2+" ")*5)


'''
변수에 다음과 같이 문자열과 정수가 바인딩되어 있을 때 % formatting을 사용해서 다음과 같이 출력해보세요.

name1 = "김민수" 
age1 = 10
name2 = "이철희"
age2 = 13
이름: 김민수 나이: 10
이름: 이철희 나이: 13
'''
name1 = "김민수" 
age1 = 10
name2 = "이철희"
age2 = 13
print("이름: %s 나이: %d" % (name1, age1))
print("이름: %s 나이: %d" % (name2, age2))


'''
문자열의 format( ) 메서드를 사용해서 035번 문제를 다시 풀어보세요.
'''
print("이름: {} 나이: {}".format(name1, age1))
print("이름: {} 나이: {}".format(name2, age2))


'''
파이썬 3.6부터 지원하는 f-string을 사용해서 035번 문제를 다시 풀어보세요.
'''
print(f"이름: {name1} 나이: {age1}")
print(f"이름: {name2} 나이: {age2}")


'''
삼성전자의 상장주식수가 다음과 같습니다. 컴마를 제거한 후 이를 정수 타입으로 변환해보세요.

상장주식수 = "5,969,782,550"
'''
상장주식수 = "5,969,782,550"
숫자 = 상장주식수.replace(",", "")
결과 = int(숫자)
print(결과, type(결과))



'''
다음과 같은 문자열에서 '2020/03'만 출력하세요.

분기 = "2020/03(E) (IFRS연결)"
'''
분기 = "2020/03(E) (IFRS연결)"
print(분기[:7])


'''
문자열의 좌우의 공백이 있을 때 이를 제거해보세요.

data = "   삼성전자    "
'''
data = "   삼성전자    "
data.strip()


'''
다음과 같은 문자열이 있을 때 이를 대문자 BTC_KRW로 변경하세요.

ticker = "btc_krw"
'''
ticker = "btc_krw"
ticker.upper()


'''
다음과 같은 문자열이 있을 때 이를 소문자 btc_krw로 변경하세요.

ticker = "BTC_KRW"
'''
ticker = "BTC_KRW"
ticker.lower()


'''
문자열 'hello'가 있을 때 이를 'Hello'로 변경해보세요.
'''
a='hello'
a.replace('h','H')


'''안배운거
파일 이름이 문자열로 저장되어 있을 때 endswith 메서드를 사용해서 파일 이름이 'xlsx'로 끝나는지 확인해보세요.

file_name = "보고서.xlsx"
'''
file_name = "보고서.xlsx"
file_name.endswith(("xlsx", "xls"))



# 안배운거
file_name = "2020_보고서.xlsx"
file_name.startswith("2020")


'''
다음과 같은 문자열이 있을 때 공백을 기준으로 문자열을 나눠보세요.

a = "hello world"
'''
a = "hello world"
a.split()


'''
다음과 같이 문자열이 있을 때 btc와 krw로 나눠보세요.

ticker = "btc_krw"
'''
ticker = "btc_krw"
ticker.split('_')


'''
다음과 같이 날짜를 표현하는 문자열이 있을 때 연도, 월, 일로 나눠보세요.

date = "2020-05-01"
'''
date = "2020-05-01"
date.split('-')


'''
문자열의 오른쪽에 공백이 있을 때 이를 제거해보세요.

data = "039490     "
'''
data = "039490     "
data.rstrip()



