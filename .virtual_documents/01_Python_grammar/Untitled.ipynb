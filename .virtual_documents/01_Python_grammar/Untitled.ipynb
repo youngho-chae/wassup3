'''
for문의 실행결과를 예측하라.

과일 = ["사과", "귤", "수박"]
for 변수 in 과일:
    print(변수)
    '''
과일 = ["사과", "귤", "수박"]
for 변수 in 과일:
    print(변수)
'''
사과
귤
수박
'''


'''
for문의 실행결과를 예측하라.

과일 = ["사과", "귤", "수박"]
for 변수 in 과일:
  print("#####")
  '''
과일 = ["사과", "귤", "수박"]
for 변수 in 과일:
  print("#####")


'''
다음 for 문과 동일한 기능을 수행하는 코드를 작성하세요.

for 변수 in ["A", "B", "C"]:
  print(변수)
  '''
for 변수 in ["A", "B", "C"]:
  print(변수)

변수 = "A"
print(변수)
변수 = "B"
print(변수)
변수 = "C"
print(변수)


'''
for문을 풀어서 동일한 동작을하는 코드를 작성하라.

for 변수 in ["A", "B", "C"]:
  print("출력:", 변수)
  '''
for 변수 in ["A", "B", "C"]:
  print("출력:", 변수)

변수 = "A"
print("출력:", 변수)
변수 = "B"
print("출력:", 변수)
변수 = "C"
print("출력:", 변수)


# for문을 풀어서 동일한 동작을 하는 코드를 작성하라.

for 변수 in ["A", "B", "C"]:
  b = 변수.lower()
  print("변환:", b)

변수 = "A"
b = 변수.lower()
print("변환:", b)
변수 = "B"
b = 변수.lower()
print("변환:", b)
변수 = "C"
b = 변수.lower()
print("변환:", b)


#다음 코드를 for문으로 작성하라.

변수 = 10
print(변수)
변수 = 20
print(변수)
변수 = 30
print(변수)

for 변수 in [10,20,30]:
    print(변수)


#다음 코드를 for문으로 작성하라.

print(10)
print(20)
print(30)

for 변수 in [10,20,30]:
    print(변수)


#다음 코드를 for문으로 작성하라.

print(10)
print("-------")
print(20)
print("-------")
print(30)
print("-------")

for 변수 in [10,20,30]:
    print(변수)
    print("-------")


#다음 코드를 for문으로 작성하라.

print("++++")
print(10)
print(20)
print(30)

print("++++")
for 변수 in [10,20,30]:
    print(변수)


# 다음 코드를 for문으로 작성하라.

print("-------")
print("-------")
print("-------")
print("-------")

for 변수 in ["가", "나", "다", "라"]:
  print("-------")


#다음과 같이 판매가가 저장된 리스트가 있을 때 부가세가 포함된 가격을 for 문을 사용해서 화면에 출력하라. 단 부가세는 10원으로 가정한다.

for 리스트 in [100, 200, 300]:
    print(리스트 + 10)
 



