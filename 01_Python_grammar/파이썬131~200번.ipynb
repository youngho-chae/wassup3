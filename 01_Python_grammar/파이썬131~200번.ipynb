{
 "cells": [
  {
   "cell_type": "code",
   "execution_count": 4,
   "id": "fdba1520-ace9-40bf-858a-b9ee8c638b5d",
   "metadata": {},
   "outputs": [
    {
     "name": "stdout",
     "output_type": "stream",
     "text": [
      "사과\n",
      "귤\n",
      "수박\n"
     ]
    },
    {
     "data": {
      "text/plain": [
       "'\\n사과\\n귤\\n수박\\n'"
      ]
     },
     "execution_count": 4,
     "metadata": {},
     "output_type": "execute_result"
    }
   ],
   "source": [
    "'''\n",
    "for문의 실행결과를 예측하라.\n",
    "\n",
    "과일 = [\"사과\", \"귤\", \"수박\"]\n",
    "for 변수 in 과일:\n",
    "    print(변수)\n",
    "    '''\n",
    "과일 = [\"사과\", \"귤\", \"수박\"]\n",
    "for 변수 in 과일:\n",
    "    print(변수)\n",
    "'''\n",
    "사과\n",
    "귤\n",
    "수박\n",
    "'''"
   ]
  },
  {
   "cell_type": "code",
   "execution_count": 5,
   "id": "862ca6f4-d2fd-405b-9bf2-be87da13e8fe",
   "metadata": {},
   "outputs": [
    {
     "name": "stdout",
     "output_type": "stream",
     "text": [
      "#####\n",
      "#####\n",
      "#####\n"
     ]
    }
   ],
   "source": [
    "'''\n",
    "for문의 실행결과를 예측하라.\n",
    "\n",
    "과일 = [\"사과\", \"귤\", \"수박\"]\n",
    "for 변수 in 과일:\n",
    "  print(\"#####\")\n",
    "  '''\n",
    "과일 = [\"사과\", \"귤\", \"수박\"]\n",
    "for 변수 in 과일:\n",
    "  print(\"#####\")"
   ]
  },
  {
   "cell_type": "code",
   "execution_count": 8,
   "id": "8f82b25d-cf0e-40d9-9ac7-2d760a701510",
   "metadata": {},
   "outputs": [
    {
     "name": "stdout",
     "output_type": "stream",
     "text": [
      "A\n",
      "B\n",
      "C\n",
      "A\n",
      "B\n",
      "C\n"
     ]
    }
   ],
   "source": [
    "'''\n",
    "다음 for 문과 동일한 기능을 수행하는 코드를 작성하세요.\n",
    "\n",
    "for 변수 in [\"A\", \"B\", \"C\"]:\n",
    "  print(변수)\n",
    "  '''\n",
    "for 변수 in [\"A\", \"B\", \"C\"]:\n",
    "  print(변수)\n",
    "\n",
    "변수 = \"A\"\n",
    "print(변수)\n",
    "변수 = \"B\"\n",
    "print(변수)\n",
    "변수 = \"C\"\n",
    "print(변수)"
   ]
  },
  {
   "cell_type": "code",
   "execution_count": 11,
   "id": "e0f94747-5ec8-43d5-98e6-492a85ec9c1c",
   "metadata": {},
   "outputs": [
    {
     "name": "stdout",
     "output_type": "stream",
     "text": [
      "출력: A\n",
      "출력: B\n",
      "출력: C\n",
      "출력: A\n",
      "출력: B\n",
      "출력: C\n"
     ]
    }
   ],
   "source": [
    "'''\n",
    "for문을 풀어서 동일한 동작을하는 코드를 작성하라.\n",
    "\n",
    "for 변수 in [\"A\", \"B\", \"C\"]:\n",
    "  print(\"출력:\", 변수)\n",
    "  '''\n",
    "for 변수 in [\"A\", \"B\", \"C\"]:\n",
    "  print(\"출력:\", 변수)\n",
    "\n",
    "변수 = \"A\"\n",
    "print(\"출력:\", 변수)\n",
    "변수 = \"B\"\n",
    "print(\"출력:\", 변수)\n",
    "변수 = \"C\"\n",
    "print(\"출력:\", 변수)"
   ]
  },
  {
   "cell_type": "code",
   "execution_count": 14,
   "id": "49b400a8-d04b-4aaf-b81d-abc86ed032c4",
   "metadata": {},
   "outputs": [
    {
     "name": "stdout",
     "output_type": "stream",
     "text": [
      "변환: a\n",
      "변환: b\n",
      "변환: c\n",
      "변환: a\n",
      "변환: b\n",
      "변환: c\n"
     ]
    }
   ],
   "source": [
    "# for문을 풀어서 동일한 동작을 하는 코드를 작성하라.\n",
    "\n",
    "for 변수 in [\"A\", \"B\", \"C\"]:\n",
    "  b = 변수.lower()\n",
    "  print(\"변환:\", b)\n",
    "\n",
    "변수 = \"A\"\n",
    "b = 변수.lower()\n",
    "print(\"변환:\", b)\n",
    "변수 = \"B\"\n",
    "b = 변수.lower()\n",
    "print(\"변환:\", b)\n",
    "변수 = \"C\"\n",
    "b = 변수.lower()\n",
    "print(\"변환:\", b)"
   ]
  },
  {
   "cell_type": "code",
   "execution_count": 17,
   "id": "1b3be154-9be2-4c82-8e82-2eefc4036350",
   "metadata": {},
   "outputs": [
    {
     "name": "stdout",
     "output_type": "stream",
     "text": [
      "10\n",
      "20\n",
      "30\n",
      "10\n",
      "20\n",
      "30\n"
     ]
    }
   ],
   "source": [
    "#다음 코드를 for문으로 작성하라.\n",
    "\n",
    "변수 = 10\n",
    "print(변수)\n",
    "변수 = 20\n",
    "print(변수)\n",
    "변수 = 30\n",
    "print(변수)\n",
    "\n",
    "for 변수 in [10,20,30]:\n",
    "    print(변수)"
   ]
  },
  {
   "cell_type": "code",
   "execution_count": 18,
   "id": "5f58fdf6-47ac-4801-be01-dbc873b4b844",
   "metadata": {},
   "outputs": [
    {
     "name": "stdout",
     "output_type": "stream",
     "text": [
      "10\n",
      "20\n",
      "30\n",
      "10\n",
      "20\n",
      "30\n"
     ]
    }
   ],
   "source": [
    "#다음 코드를 for문으로 작성하라.\n",
    "\n",
    "print(10)\n",
    "print(20)\n",
    "print(30)\n",
    "\n",
    "for 변수 in [10,20,30]:\n",
    "    print(변수)"
   ]
  },
  {
   "cell_type": "code",
   "execution_count": 22,
   "id": "4a124740-e956-4f51-86c8-f229eaba233f",
   "metadata": {},
   "outputs": [
    {
     "name": "stdout",
     "output_type": "stream",
     "text": [
      "10\n",
      "-------\n",
      "20\n",
      "-------\n",
      "30\n",
      "-------\n",
      "10\n",
      "-------\n",
      "20\n",
      "-------\n",
      "30\n",
      "-------\n"
     ]
    }
   ],
   "source": [
    "#다음 코드를 for문으로 작성하라.\n",
    "\n",
    "print(10)\n",
    "print(\"-------\")\n",
    "print(20)\n",
    "print(\"-------\")\n",
    "print(30)\n",
    "print(\"-------\")\n",
    "\n",
    "for 변수 in [10,20,30]:\n",
    "    print(변수)\n",
    "    print(\"-------\")"
   ]
  },
  {
   "cell_type": "code",
   "execution_count": 23,
   "id": "5371bc96-34da-4894-b103-f4d6a95567ae",
   "metadata": {},
   "outputs": [
    {
     "name": "stdout",
     "output_type": "stream",
     "text": [
      "++++\n",
      "10\n",
      "20\n",
      "30\n",
      "++++\n",
      "10\n",
      "20\n",
      "30\n"
     ]
    }
   ],
   "source": [
    "#다음 코드를 for문으로 작성하라.\n",
    "\n",
    "print(\"++++\")\n",
    "print(10)\n",
    "print(20)\n",
    "print(30)\n",
    "\n",
    "print(\"++++\")\n",
    "for 변수 in [10,20,30]:\n",
    "    print(변수)"
   ]
  },
  {
   "cell_type": "code",
   "execution_count": 24,
   "id": "10b5ad58-928c-497b-81be-74449ab03b7b",
   "metadata": {},
   "outputs": [
    {
     "name": "stdout",
     "output_type": "stream",
     "text": [
      "-------\n",
      "-------\n",
      "-------\n",
      "-------\n",
      "-------\n",
      "-------\n",
      "-------\n",
      "-------\n"
     ]
    }
   ],
   "source": [
    "# 다음 코드를 for문으로 작성하라.\n",
    "\n",
    "print(\"-------\")\n",
    "print(\"-------\")\n",
    "print(\"-------\")\n",
    "print(\"-------\")\n",
    "\n",
    "for 변수 in [\"가\", \"나\", \"다\", \"라\"]:\n",
    "  print(\"-------\")"
   ]
  },
  {
   "cell_type": "code",
   "execution_count": 26,
   "id": "820e941b-06f6-4687-97d2-6d8c829a715a",
   "metadata": {},
   "outputs": [
    {
     "name": "stdout",
     "output_type": "stream",
     "text": [
      "110\n",
      "210\n",
      "310\n"
     ]
    }
   ],
   "source": [
    "#다음과 같이 판매가가 저장된 리스트가 있을 때 부가세가 포함된 가격을 for 문을 사용해서 화면에 출력하라. 단 부가세는 10원으로 가정한다.\n",
    "\n",
    "for 리스트 in [100, 200, 300]:\n",
    "    print(리스트 + 10)\n",
    " "
   ]
  },
  {
   "cell_type": "code",
   "execution_count": 4,
   "id": "e6e5ba00-40b7-4ebc-b0c2-0057341f3909",
   "metadata": {},
   "outputs": [
    {
     "name": "stdout",
     "output_type": "stream",
     "text": [
      "오늘의 메뉴:  김밥\n",
      "오늘의 메뉴:  라면\n",
      "오늘의 메뉴:  튀김\n"
     ]
    }
   ],
   "source": [
    "'''\n",
    "for 문을 사용해서 리스트에 저장된 값을 다음과 같이 출력하라.\n",
    "\n",
    "리스트 = [\"김밥\", \"라면\", \"튀김\"]\n",
    "'''\n",
    "리스트 = [\"김밥\", \"라면\", \"튀김\"]\n",
    "for 메뉴 in 리스트 :\n",
    "    print(\"오늘의 메뉴: \", 메뉴)"
   ]
  },
  {
   "cell_type": "code",
   "execution_count": 8,
   "id": "b4b8980e-0eb9-4c5e-ac44-c511e460cf05",
   "metadata": {},
   "outputs": [
    {
     "name": "stdout",
     "output_type": "stream",
     "text": [
      "6\n",
      "4\n",
      "4\n"
     ]
    }
   ],
   "source": [
    "#리스트에 주식 종목이름이 저장돼 있다.\n",
    "\n",
    "리스트 = [\"SK하이닉스\", \"삼성전자\", \"LG전자\"]\n",
    "\n",
    "for 길이 in 리스트:\n",
    "    print(len(길이))"
   ]
  },
  {
   "cell_type": "code",
   "execution_count": 13,
   "id": "4adc8c0f-877c-40d8-9576-40daca0749d6",
   "metadata": {},
   "outputs": [
    {
     "name": "stdout",
     "output_type": "stream",
     "text": [
      "dog 3\n",
      "cat 3\n",
      "parrot 6\n"
     ]
    }
   ],
   "source": [
    "'''\n",
    "리스트에는 동물이름이 문자열로 저장돼 있다.\n",
    "\n",
    "리스트 = ['dog', 'cat', 'parrot']\n",
    "동물 이름과 글자수를 다음과 같이 출력하라.\n",
    "\n",
    "dog 3\n",
    "cat 3\n",
    "parrot 6\n",
    "'''\n",
    "리스트 = ['dog', 'cat', 'parrot']\n",
    "for 이름 in 리스트:\n",
    "    print(이름, len(이름))"
   ]
  },
  {
   "cell_type": "code",
   "execution_count": 15,
   "id": "75d01d08-dea7-4f29-ba27-267fca477db7",
   "metadata": {},
   "outputs": [
    {
     "name": "stdout",
     "output_type": "stream",
     "text": [
      "d\n",
      "c\n",
      "p\n"
     ]
    }
   ],
   "source": [
    "'''\n",
    "리스트에 동물 이름 저장돼 있다.\n",
    "\n",
    "리스트 = ['dog', 'cat', 'parrot']\n",
    "for문을 사용해서 동물 이름의 첫 글자만 출력하라.\n",
    "\n",
    "d\n",
    "c\n",
    "p\n",
    "'''\n",
    "리스트 = ['dog', 'cat', 'parrot']\n",
    "for 이름 in 리스트:\n",
    "    print(이름[0])"
   ]
  },
  {
   "cell_type": "code",
   "execution_count": 17,
   "id": "a2f512a4-eeda-4ffb-a4fc-41011dd76d74",
   "metadata": {},
   "outputs": [
    {
     "name": "stdout",
     "output_type": "stream",
     "text": [
      "3 X 1\n",
      "3 X 2\n",
      "3 X 3\n"
     ]
    }
   ],
   "source": [
    "'''\n",
    "리스트에는 세 개의 숫자가 바인딩돼 있다.\n",
    "\n",
    "리스트 = [1, 2, 3]\n",
    "for문을 사용해서 다음과 같이 출력하라.\n",
    "\n",
    "3 x 1\n",
    "3 x 2\n",
    "3 x 3\n",
    "'''\n",
    "리스트 = [1, 2, 3]\n",
    "for 곱 in 리스트:\n",
    "    print('3 X',곱)"
   ]
  },
  {
   "cell_type": "code",
   "execution_count": 20,
   "id": "5df3d558-a55e-4602-b611-1c0dc66acdb1",
   "metadata": {},
   "outputs": [
    {
     "name": "stdout",
     "output_type": "stream",
     "text": [
      "3 x 1 = 3\n",
      "3 x 2 = 6\n",
      "3 x 3 = 9\n"
     ]
    }
   ],
   "source": [
    "'''\n",
    "리스트에는 세 개의 숫자가 바인딩돼 있다.\n",
    "\n",
    "리스트 = [1, 2, 3]\n",
    "for문을 사용해서 다음과 같이 출력하라.\n",
    "\n",
    "3 x 1 = 3\n",
    "3 x 2 = 6\n",
    "3 x 3 = 9\n",
    "'''\n",
    "리스트 = [1, 2, 3]\n",
    "for 변수 in 리스트:\n",
    "  print(\"3 x {} = {}\".format(변수, 3 * 변수))"
   ]
  },
  {
   "cell_type": "code",
   "execution_count": 26,
   "id": "c54a74a0-9bb0-425b-ad42-4a3f2c7773ad",
   "metadata": {},
   "outputs": [
    {
     "name": "stdout",
     "output_type": "stream",
     "text": [
      "나\n",
      "다\n",
      "라\n"
     ]
    }
   ],
   "source": [
    "'''\n",
    "리스트에는 네 개의 문자열이 바인딩돼 있다.\n",
    "\n",
    "리스트 = [\"가\", \"나\", \"다\", \"라\"]\n",
    "for문을 사용해서 다음과 같이 출력하라.\n",
    "\n",
    "나\n",
    "다\n",
    "라\n",
    "'''\n",
    "리스트 = [\"가\", \"나\", \"다\", \"라\"]\n",
    "for 출력 in 리스트[1:]:\n",
    "    print(출력)"
   ]
  },
  {
   "cell_type": "code",
   "execution_count": 28,
   "id": "f366716f-de35-4a5e-bcd0-d9a1d3c47331",
   "metadata": {},
   "outputs": [
    {
     "name": "stdout",
     "output_type": "stream",
     "text": [
      "가\n",
      "다\n"
     ]
    }
   ],
   "source": [
    "'''\n",
    "리스트에는 네 개의 문자열이 바인딩돼 있다.\n",
    "\n",
    "리스트 = [\"가\", \"나\", \"다\", \"라\"]\n",
    "for문을 사용해서 다음과 같이 출력하라.\n",
    "\n",
    "가\n",
    "다\n",
    "'''\n",
    "리스트 = [\"가\", \"나\", \"다\", \"라\"]\n",
    "for 출력 in 리스트[: :2]:\n",
    "    print(출력)"
   ]
  },
  {
   "cell_type": "code",
   "execution_count": 30,
   "id": "229308ce-e360-4c3f-9c71-d1fb1c80fcc1",
   "metadata": {},
   "outputs": [
    {
     "name": "stdout",
     "output_type": "stream",
     "text": [
      "라\n",
      "다\n",
      "나\n",
      "가\n"
     ]
    }
   ],
   "source": [
    "'''\n",
    "리스트에는 네 개의 문자열이 바인딩돼 있다.\n",
    "\n",
    "리스트 = [\"가\", \"나\", \"다\", \"라\"]\n",
    "for문을 사용해서 다음과 같이 출력하라.\n",
    "\n",
    "라\n",
    "다\n",
    "나\n",
    "가\n",
    "'''\n",
    "리스트 = [\"가\", \"나\", \"다\", \"라\"]\n",
    "for 출력 in 리스트[::-1]:\n",
    "    print(출력)"
   ]
  },
  {
   "cell_type": "code",
   "execution_count": 38,
   "id": "31c7ab46-9e64-482a-8689-457128bb611a",
   "metadata": {},
   "outputs": [
    {
     "name": "stdout",
     "output_type": "stream",
     "text": [
      "-20\n",
      "-3\n"
     ]
    }
   ],
   "source": [
    "'''\n",
    "리스트에는 네 개의 정수가 저장돼 있다.\n",
    "\n",
    "리스트 = [3, -20, -3, 44]\n",
    "for문을 사용해서 리스트의 음수를 출력하라.\n",
    "\n",
    "-20\n",
    "-3\n",
    "'''\n",
    "리스트 = [3, -20, -3, 44]\n",
    "for 변수 in 리스트:\n",
    "    if 변수 < 0:\n",
    "        print(변수)\n"
   ]
  },
  {
   "cell_type": "code",
   "execution_count": 39,
   "id": "b616d348-7840-4a05-98de-4c6a10e1f263",
   "metadata": {},
   "outputs": [
    {
     "name": "stdout",
     "output_type": "stream",
     "text": [
      "3\n"
     ]
    }
   ],
   "source": [
    "'''\n",
    "for문을 사용해서 3의 배수만을 출력하라.\n",
    "\n",
    "리스트 = [3, 100, 23, 44]\n",
    "3\n",
    "'''\n",
    "리스트 = [3, 100, 23, 44]\n",
    "for 변수 in 리스트:\n",
    "    if 변수 %3 == 0:\n",
    "        print(변수)"
   ]
  },
  {
   "cell_type": "code",
   "execution_count": 47,
   "id": "f7a573e1-8a9b-49d7-897d-646cf17739f3",
   "metadata": {},
   "outputs": [
    {
     "name": "stdout",
     "output_type": "stream",
     "text": [
      "12\n",
      "18\n"
     ]
    }
   ],
   "source": [
    "'''\n",
    "리스트에서 20 보다 작은 3의 배수를 출력하라\n",
    "\n",
    "리스트 = [13, 21, 12, 14, 30, 18]\n",
    "12\n",
    "18\n",
    "'''\n",
    "리스트 = [13, 21, 12, 14, 30, 18]\n",
    "for 변수 in 리스트:\n",
    "    if (변수 %3 == 0) and (변수 < 20):\n",
    "        print(변수)"
   ]
  },
  {
   "cell_type": "code",
   "execution_count": 49,
   "id": "62cc69f4-bced-415d-ad77-ff3b4c38812f",
   "metadata": {},
   "outputs": [
    {
     "name": "stdout",
     "output_type": "stream",
     "text": [
      "study\n",
      "python\n",
      "language\n"
     ]
    }
   ],
   "source": [
    "'''\n",
    "리스트에서 세 글자 이상의 문자를 화면에 출력하라\n",
    "\n",
    "리스트 = [\"I\", \"study\", \"python\", \"language\", \"!\"]\n",
    "study\n",
    "python\n",
    "language\n",
    "'''\n",
    "리스트 = [\"I\", \"study\", \"python\", \"language\", \"!\"]\n",
    "for 변수 in 리스트:\n",
    "    if len(변수) > 3:\n",
    "        print(변수)"
   ]
  },
  {
   "cell_type": "code",
   "execution_count": 50,
   "id": "1880b925-fcc5-4776-9f39-c37d6ccae0fb",
   "metadata": {},
   "outputs": [
    {
     "name": "stdout",
     "output_type": "stream",
     "text": [
      "A\n",
      "D\n"
     ]
    }
   ],
   "source": [
    "'''\n",
    "리스트에서 대문자만 화면에 출력하라.\n",
    "\n",
    "리스트 = [\"A\", \"b\", \"c\", \"D\"]\n",
    "A\n",
    "D\n",
    "(참고) isupper() 메서드는 대문자 여부를 판별합니다.\n",
    "\n",
    ">> 변수 = \"A\"\n",
    ">> 변수.isupper()\n",
    "True\n",
    ">> 변수 = \"a\"\n",
    ">> 변수.isupper()\n",
    "False\n",
    "'''\n",
    "리스트 = [\"A\", \"b\", \"c\", \"D\"]\n",
    "for 변수 in 리스트:\n",
    "  if 변수.isupper():\n",
    "    print(변수)\n"
   ]
  },
  {
   "cell_type": "code",
   "execution_count": 51,
   "id": "3b738b2b-7942-4439-93bb-bf2624a67114",
   "metadata": {},
   "outputs": [
    {
     "name": "stdout",
     "output_type": "stream",
     "text": [
      "b\n",
      "c\n"
     ]
    }
   ],
   "source": [
    "'''\n",
    "리스트에서 소문자만 화면에 출력하라.\n",
    "\n",
    "리스트 = [\"A\", \"b\", \"c\", \"D\"]\n",
    "b\n",
    "c\n",
    "'''\n",
    "리스트 = [\"A\", \"b\", \"c\", \"D\"]\n",
    "for 변수 in 리스트:\n",
    "  if not 변수.isupper():\n",
    "    print(변수)\n"
   ]
  },
  {
   "cell_type": "code",
   "execution_count": 53,
   "id": "403cd85a-90c5-46c0-b4c5-e9e38cba0dfe",
   "metadata": {},
   "outputs": [
    {
     "name": "stdout",
     "output_type": "stream",
     "text": [
      "Dog\n",
      "Cat\n",
      "Parrot\n"
     ]
    }
   ],
   "source": [
    "'''\n",
    "이름의 첫 글자를 대문자로 변경해서 출력하라.\n",
    "\n",
    "리스트 = ['dog', 'cat', 'parrot']\n",
    "Dog\n",
    "Cat\n",
    "Parrot\n",
    "'''\n",
    "리스트 = ['dog', 'cat', 'parrot']\n",
    "for 변수 in 리스트:\n",
    "  print(변수[0].upper() + 변수[1:])\n"
   ]
  },
  {
   "cell_type": "code",
   "execution_count": 54,
   "id": "90b635de-8eee-4e27-9e2e-c720a50718b3",
   "metadata": {},
   "outputs": [
    {
     "name": "stdout",
     "output_type": "stream",
     "text": [
      "hello\n",
      "ex01\n",
      "intro\n"
     ]
    }
   ],
   "source": [
    "'''\n",
    "파일 이름이 저장된 리스트에서 확장자를 제거하고 파일 이름만 화면에 출력하라. (힌트: split() 메서드)\n",
    "\n",
    "리스트 = ['hello.py', 'ex01.py', 'intro.hwp']\n",
    "hello\n",
    "ex01\n",
    "intro\n",
    "'''\n",
    "리스트 = ['hello.py', 'ex01.py', 'intro.hwp']\n",
    "for 변수 in 리스트:\n",
    "  split = 변수.split(\".\")\n",
    "  print(split[0])  \n"
   ]
  },
  {
   "cell_type": "code",
   "execution_count": 55,
   "id": "c459ff0b-66bf-4219-b9cc-fec1b5c71361",
   "metadata": {},
   "outputs": [
    {
     "name": "stdout",
     "output_type": "stream",
     "text": [
      "intra.h\n",
      "define.h\n"
     ]
    }
   ],
   "source": [
    "'''\n",
    "159\n",
    "파일 이름이 저장된 리스트에서 확장자가 .h인 파일 이름을 출력하라.\n",
    "\n",
    "리스트 = ['intra.h', 'intra.c', 'define.h', 'run.py']\n",
    "intra.h\n",
    "define.h\n",
    "'''\n",
    "리스트 = ['intra.h', 'intra.c', 'define.h', 'run.py']\n",
    "for 변수 in 리스트:\n",
    "  split = 변수.split(\".\")\n",
    "  if split[1] == \"h\":\n",
    "    print(변수)"
   ]
  },
  {
   "cell_type": "code",
   "execution_count": 57,
   "id": "cda0c5d8-45aa-4b95-ace2-d7428b05cb1a",
   "metadata": {},
   "outputs": [
    {
     "name": "stdout",
     "output_type": "stream",
     "text": [
      "intra.h\n",
      "intra.c\n",
      "define.h\n"
     ]
    }
   ],
   "source": [
    "'''\n",
    "160\n",
    "파일 이름이 저장된 리스트에서 확장자가 .h나 .c인 파일을 화면에 출력하라.\n",
    "\n",
    "리스트 = ['intra.h', 'intra.c', 'define.h', 'run.py']\n",
    "intra.h\n",
    "intra.c\n",
    "define.h\n",
    "'''\n",
    "리스트 = ['intra.h', 'intra.c', 'define.h', 'run.py']\n",
    "for 변수 in 리스트:\n",
    "  split = 변수.split(\".\")\n",
    "  if (split[1] == \"h\") or (split[1] == \"c\"):\n",
    "    print(변수)\n"
   ]
  },
  {
   "cell_type": "code",
   "execution_count": 58,
   "id": "7c381a19-cb85-40e7-8cf2-68e2e3a3aa8f",
   "metadata": {},
   "outputs": [
    {
     "name": "stdout",
     "output_type": "stream",
     "text": [
      "0\n",
      "1\n",
      "2\n",
      "3\n",
      "4\n",
      "5\n",
      "6\n",
      "7\n",
      "8\n",
      "9\n",
      "10\n",
      "11\n",
      "12\n",
      "13\n",
      "14\n",
      "15\n",
      "16\n",
      "17\n",
      "18\n",
      "19\n",
      "20\n",
      "21\n",
      "22\n",
      "23\n",
      "24\n",
      "25\n",
      "26\n",
      "27\n",
      "28\n",
      "29\n",
      "30\n",
      "31\n",
      "32\n",
      "33\n",
      "34\n",
      "35\n",
      "36\n",
      "37\n",
      "38\n",
      "39\n",
      "40\n",
      "41\n",
      "42\n",
      "43\n",
      "44\n",
      "45\n",
      "46\n",
      "47\n",
      "48\n",
      "49\n",
      "50\n",
      "51\n",
      "52\n",
      "53\n",
      "54\n",
      "55\n",
      "56\n",
      "57\n",
      "58\n",
      "59\n",
      "60\n",
      "61\n",
      "62\n",
      "63\n",
      "64\n",
      "65\n",
      "66\n",
      "67\n",
      "68\n",
      "69\n",
      "70\n",
      "71\n",
      "72\n",
      "73\n",
      "74\n",
      "75\n",
      "76\n",
      "77\n",
      "78\n",
      "79\n",
      "80\n",
      "81\n",
      "82\n",
      "83\n",
      "84\n",
      "85\n",
      "86\n",
      "87\n",
      "88\n",
      "89\n",
      "90\n",
      "91\n",
      "92\n",
      "93\n",
      "94\n",
      "95\n",
      "96\n",
      "97\n",
      "98\n",
      "99\n"
     ]
    }
   ],
   "source": [
    "'''\n",
    "161\n",
    "for문과 range 구문을 사용해서 0~99까지 한 라인에 하나씩 순차적으로 출력하는 프로그램을 작성하라.\n",
    "'''\n",
    "for i in range(100):\n",
    "    print(i)\n"
   ]
  },
  {
   "cell_type": "code",
   "execution_count": 59,
   "id": "b4275aed-81b2-4bea-ac64-0365c8ce213e",
   "metadata": {},
   "outputs": [
    {
     "name": "stdout",
     "output_type": "stream",
     "text": [
      "2002\n",
      "2006\n",
      "2010\n",
      "2014\n",
      "2018\n",
      "2022\n",
      "2026\n",
      "2030\n",
      "2034\n",
      "2038\n",
      "2042\n",
      "2046\n",
      "2050\n"
     ]
    }
   ],
   "source": [
    "'''\n",
    "162\n",
    "월드컵은 4년에 한 번 개최된다. range()를 사용하여 2002~2050년까지 중 월드컵이 개최되는 연도를 출력하라.\n",
    "\n",
    "2002\n",
    "2006\n",
    "2010\n",
    "...\n",
    "2042\n",
    "2046\n",
    "2050\n",
    "참고) range의 세번 째 파라미터는 증감폭을 결정합니다.\n",
    "\n",
    ">> print(list(range(0, 10, 2)))\n",
    "[0, 2, 4, 6, 8]\n",
    "'''\n",
    "for x in range(2002, 2051, 4) :\n",
    "    print (x)\n"
   ]
  },
  {
   "cell_type": "code",
   "execution_count": 60,
   "id": "b60502d0-f3d4-47d0-851b-f817e600b9ac",
   "metadata": {},
   "outputs": [
    {
     "name": "stdout",
     "output_type": "stream",
     "text": [
      "3\n",
      "6\n",
      "9\n",
      "12\n",
      "15\n",
      "18\n",
      "21\n",
      "24\n",
      "27\n",
      "30\n"
     ]
    }
   ],
   "source": [
    "'''\n",
    "163\n",
    "1부터 30까지의 숫자 중 3의 배수를 출력하라.\n",
    "\n",
    "3 \n",
    "6 \n",
    "9 \n",
    "12 \n",
    "15 \n",
    "18 \n",
    "21 \n",
    "24 \n",
    "27 \n",
    "30\n",
    "'''\n",
    "for num in range(3, 31, 3):\n",
    "    print (num)\n"
   ]
  },
  {
   "cell_type": "code",
   "execution_count": 61,
   "id": "9207c477-d3cc-4456-80c8-fd17261f3a57",
   "metadata": {},
   "outputs": [
    {
     "name": "stdout",
     "output_type": "stream",
     "text": [
      "99\n",
      "98\n",
      "97\n",
      "96\n",
      "95\n",
      "94\n",
      "93\n",
      "92\n",
      "91\n",
      "90\n",
      "89\n",
      "88\n",
      "87\n",
      "86\n",
      "85\n",
      "84\n",
      "83\n",
      "82\n",
      "81\n",
      "80\n",
      "79\n",
      "78\n",
      "77\n",
      "76\n",
      "75\n",
      "74\n",
      "73\n",
      "72\n",
      "71\n",
      "70\n",
      "69\n",
      "68\n",
      "67\n",
      "66\n",
      "65\n",
      "64\n",
      "63\n",
      "62\n",
      "61\n",
      "60\n",
      "59\n",
      "58\n",
      "57\n",
      "56\n",
      "55\n",
      "54\n",
      "53\n",
      "52\n",
      "51\n",
      "50\n",
      "49\n",
      "48\n",
      "47\n",
      "46\n",
      "45\n",
      "44\n",
      "43\n",
      "42\n",
      "41\n",
      "40\n",
      "39\n",
      "38\n",
      "37\n",
      "36\n",
      "35\n",
      "34\n",
      "33\n",
      "32\n",
      "31\n",
      "30\n",
      "29\n",
      "28\n",
      "27\n",
      "26\n",
      "25\n",
      "24\n",
      "23\n",
      "22\n",
      "21\n",
      "20\n",
      "19\n",
      "18\n",
      "17\n",
      "16\n",
      "15\n",
      "14\n",
      "13\n",
      "12\n",
      "11\n",
      "10\n",
      "9\n",
      "8\n",
      "7\n",
      "6\n",
      "5\n",
      "4\n",
      "3\n",
      "2\n",
      "1\n",
      "0\n"
     ]
    }
   ],
   "source": [
    "'''\n",
    "164\n",
    "99부터 0까지 1씩 감소하는 숫자들을, 한 라인에 하나씩 출력하라.\n",
    "'''\n",
    "for i in range(100):\n",
    "    print(99 - i)\n"
   ]
  },
  {
   "cell_type": "code",
   "execution_count": 62,
   "id": "e18f5d7a-c511-408a-a8f7-51a46741c2e7",
   "metadata": {},
   "outputs": [
    {
     "name": "stdout",
     "output_type": "stream",
     "text": [
      "0.0\n",
      "0.1\n",
      "0.2\n",
      "0.3\n",
      "0.4\n",
      "0.5\n",
      "0.6\n",
      "0.7\n",
      "0.8\n",
      "0.9\n"
     ]
    }
   ],
   "source": [
    "'''\n",
    "165\n",
    "for문을 사용해서 아래와 같이 출력하라.\n",
    "\n",
    "0.0\n",
    "0.1\n",
    "0.2\n",
    "0.3\n",
    "0.4\n",
    "0.5\n",
    "...\n",
    "0.9\n",
    "'''\n",
    "for num in range(10) :\n",
    "    print(num / 10)\n"
   ]
  },
  {
   "cell_type": "code",
   "execution_count": 63,
   "id": "7e749806-501f-4c86-98ea-b14f009cfaa3",
   "metadata": {},
   "outputs": [
    {
     "name": "stdout",
     "output_type": "stream",
     "text": [
      "3 x 1  =  3\n",
      "3 x 2  =  6\n",
      "3 x 3  =  9\n",
      "3 x 4  =  12\n",
      "3 x 5  =  15\n",
      "3 x 6  =  18\n",
      "3 x 7  =  21\n",
      "3 x 8  =  24\n",
      "3 x 9  =  27\n"
     ]
    }
   ],
   "source": [
    "'''\n",
    "166\n",
    "구구단 3단을 출력하라.\n",
    "\n",
    "3x1 = 3\n",
    "3x2 = 6\n",
    "3x3 = 9\n",
    "3x4 = 12\n",
    "3x5 = 15\n",
    "3x6 = 18\n",
    "3x7 = 21\n",
    "3x8 = 24\n",
    "3x9 = 27'''\n",
    "for i in range(1, 10) :\n",
    "    print (3, \"x\", i, \" = \", 3 * i)\n"
   ]
  },
  {
   "cell_type": "code",
   "execution_count": 64,
   "id": "d847e3ae-7339-4461-9e6d-a5962e5a6036",
   "metadata": {},
   "outputs": [
    {
     "name": "stdout",
     "output_type": "stream",
     "text": [
      "3 x 1  =  3\n",
      "3 x 3  =  9\n",
      "3 x 5  =  15\n",
      "3 x 7  =  21\n",
      "3 x 9  =  27\n"
     ]
    }
   ],
   "source": [
    "'''\n",
    "167\n",
    "구구단 3단을 출력하라. 단 홀수 번째만 출력한다.\n",
    "\n",
    "3x1 = 3\n",
    "3x3 = 9\n",
    "3x5 = 15\n",
    "3x7 = 21\n",
    "3x9 = 27\n",
    "'''\n",
    "num = 3\n",
    "for i in range(1, 10) :\n",
    "    if i % 2 == 1 :\n",
    "        print (num, \"x\", i, \" = \", num * i)\n"
   ]
  },
  {
   "cell_type": "code",
   "execution_count": 65,
   "id": "37c032be-fdb4-4951-8977-d02323fca08d",
   "metadata": {},
   "outputs": [
    {
     "name": "stdout",
     "output_type": "stream",
     "text": [
      "합 : 55\n"
     ]
    }
   ],
   "source": [
    "'''\n",
    "168\n",
    "1~10까지의 숫자에 대해 모두 더한 값을 출력하는 프로그램을 for 문을 사용하여 작성하라.\n",
    "\n",
    "합 : 55\n",
    "'''\n",
    "hab = 0\n",
    "for i in range(1, 11):\n",
    "    hab += i\n",
    "print (\"합 :\", hab)\n"
   ]
  },
  {
   "cell_type": "code",
   "execution_count": 66,
   "id": "a3a372bb-46bb-4045-8a28-313e8f43112b",
   "metadata": {},
   "outputs": [
    {
     "name": "stdout",
     "output_type": "stream",
     "text": [
      "합 : 25\n"
     ]
    }
   ],
   "source": [
    "'''\n",
    "169\n",
    "1~10까지의 숫자 중 모든 홀수의 합을 출력하는 프로그램을 for 문을 사용하여 작성하라.\n",
    "\n",
    "합: 25\n",
    "'''\n",
    "hab = 0\n",
    "for i in range(1, 11, 2):\n",
    "    hab += i\n",
    "print (\"합 :\", hab)\n"
   ]
  },
  {
   "cell_type": "code",
   "execution_count": 68,
   "id": "1b0fb764-60eb-4c56-80d3-fc4a086ca932",
   "metadata": {},
   "outputs": [
    {
     "name": "stdout",
     "output_type": "stream",
     "text": [
      "3628800\n"
     ]
    }
   ],
   "source": [
    "'''\n",
    "170\n",
    "1~10까지의 숫자를 모두 곱한 값을 출력하는 프로그램을 for 문을 사용하여 작성하라.\n",
    "'''\n",
    "result = 1\n",
    "for i in range(1, 11) :\n",
    "    result *= i\n",
    "print(result)"
   ]
  },
  {
   "cell_type": "code",
   "execution_count": 69,
   "id": "74fc500a-f38b-49be-951d-cf89535f9596",
   "metadata": {},
   "outputs": [
    {
     "name": "stdout",
     "output_type": "stream",
     "text": [
      "32100\n",
      "32150\n",
      "32000\n",
      "32500\n"
     ]
    }
   ],
   "source": [
    "'''\n",
    "171\n",
    "아래와 같이 리스트의 데이터를 출력하라. 단, for문과 range문을 사용하라.\n",
    "\n",
    "price_list = [32100, 32150, 32000, 32500]\n",
    "32100\n",
    "32150\n",
    "32000\n",
    "32500\n",
    "'''\n",
    "price_list = [32100, 32150, 32000, 32500]\n",
    "for i in range(len(price_list)):\n",
    "    print(price_list[i])\n"
   ]
  },
  {
   "cell_type": "code",
   "execution_count": 70,
   "id": "a7f41e17-66cb-4ea3-89ec-1a28e1b477e8",
   "metadata": {},
   "outputs": [
    {
     "name": "stdout",
     "output_type": "stream",
     "text": [
      "0 32100\n",
      "1 32150\n",
      "2 32000\n",
      "3 32500\n"
     ]
    }
   ],
   "source": [
    "'''\n",
    "172\n",
    "아래와 같이 리스트의 데이터를 출력하라. 단, for문과 range문을 사용하라.\n",
    "\n",
    "price_list = [32100, 32150, 32000, 32500]\n",
    "0 32100\n",
    "1 32150\n",
    "2 32000\n",
    "3 32500\n",
    "'''\n",
    "price_list = [32100, 32150, 32000, 32500]\n",
    "for i, data in enumerate(price_list):\n",
    "    print(i, data)\n"
   ]
  },
  {
   "cell_type": "code",
   "execution_count": 71,
   "id": "004fa093-23f9-48e3-8211-a59e9cf3e54e",
   "metadata": {},
   "outputs": [
    {
     "name": "stdout",
     "output_type": "stream",
     "text": [
      "3 32100\n",
      "2 32150\n",
      "1 32000\n",
      "0 32500\n"
     ]
    }
   ],
   "source": [
    "'''\n",
    "173\n",
    "아래와 같이 리스트의 데이터를 출력하라. 단, for문과 range문을 사용하라.\n",
    "\n",
    "price_list = [32100, 32150, 32000, 32500]\n",
    "3 32100\n",
    "2 32150\n",
    "1 32000\n",
    "0 32500\n",
    "'''\n",
    "for i in range(len(price_list)):\n",
    "    print((len(price_list) - 1) - i, price_list[i])\n"
   ]
  },
  {
   "cell_type": "code",
   "execution_count": 72,
   "id": "4a5d0454-177f-443b-9c16-9262bf1cf0f6",
   "metadata": {},
   "outputs": [
    {
     "name": "stdout",
     "output_type": "stream",
     "text": [
      "100 32150\n",
      "110 32000\n",
      "120 32500\n"
     ]
    }
   ],
   "source": [
    "'''\n",
    "174\n",
    "아래와 같이 리스트의 데이터를 출력하라. 단, for문과 range문을 사용하라.\n",
    "\n",
    "price_list = [32100, 32150, 32000, 32500]\n",
    "100 32150\n",
    "110 32000\n",
    "120 32500\n",
    "'''\n",
    "for i in range(1, 4):\n",
    "    print(90 + 10 * i, price_list[i])\n"
   ]
  },
  {
   "cell_type": "code",
   "execution_count": 74,
   "id": "864a6a59-bcfd-4c08-9bf3-05d0b0600a48",
   "metadata": {},
   "outputs": [
    {
     "name": "stdout",
     "output_type": "stream",
     "text": [
      "가 나\n",
      "나 다\n",
      "다 라\n"
     ]
    }
   ],
   "source": [
    "'''\n",
    "175\n",
    "my_list를 아래와 같이 출력하라.\n",
    "\n",
    "my_list = [\"가\", \"나\", \"다\", \"라\"]\n",
    "가 나\n",
    "나 다\n",
    "다 라\n",
    "'''\n",
    "my_list = [\"가\", \"나\", \"다\", \"라\"]\n",
    "for i in range( 1, len(my_list) ) :\n",
    "  print(my_list[i-1], my_list[i])\n"
   ]
  },
  {
   "cell_type": "code",
   "execution_count": 76,
   "id": "0f9e92ec-31d8-4a7d-9ea0-0da7c57c4363",
   "metadata": {},
   "outputs": [
    {
     "name": "stdout",
     "output_type": "stream",
     "text": [
      "가 나 다\n",
      "나 다 라\n",
      "다 라 마\n"
     ]
    }
   ],
   "source": [
    "'''\n",
    "176\n",
    "리스트를 아래와 같이 출력하라.\n",
    "\n",
    "my_list = [\"가\", \"나\", \"다\", \"라\", \"마\"]\n",
    "가 나 다\n",
    "나 다 라\n",
    "다 라 마\n",
    "'''\n",
    "my_list = [\"가\", \"나\", \"다\", \"라\", \"마\"]\n",
    "for i in [0, 1, 2]:\n",
    "    print(my_list[i], my_list[i+1], my_list[i+2])\n",
    "\n"
   ]
  },
  {
   "cell_type": "code",
   "execution_count": 77,
   "id": "4fff09e0-43ab-4d4b-bd64-c8c5dcd7e0ff",
   "metadata": {},
   "outputs": [
    {
     "name": "stdout",
     "output_type": "stream",
     "text": [
      "라 다\n",
      "다 나\n",
      "나 가\n"
     ]
    }
   ],
   "source": [
    "'''\n",
    "177\n",
    "반복문과 range 함수를 사용해서 my_list를 아래와 같이 출력하라.\n",
    "\n",
    "my_list = [\"가\", \"나\", \"다\", \"라\"]\n",
    "라 다\n",
    "다 나\n",
    "나 가\n",
    "'''\n",
    "for i in [3, 2, 1] :\n",
    "    print(my_list[i], my_list[i-1])\n"
   ]
  },
  {
   "cell_type": "code",
   "execution_count": 78,
   "id": "746d11e5-ae54-44b8-9ccb-d53f5e987aa1",
   "metadata": {},
   "outputs": [
    {
     "name": "stdout",
     "output_type": "stream",
     "text": [
      "100\n",
      "200\n",
      "400\n"
     ]
    }
   ],
   "source": [
    "'''\n",
    "178\n",
    "리스트에는 네 개의 정수가 저장되어 있다. 각각의 데이터에 대해서 자신과 우측값과의 차분값을 화면에 출력하라.\n",
    "\n",
    "my_list = [100, 200, 400, 800]\n",
    "예를들어 100을 기준으로 우측에 위치한 200과의 차분 값를 화면에 출력하고, 200을 기준으로 우측에 위치한 400과의 차분값을 화면에 출력한다. 이어서 400을 기준으로 우측에 위치한 800과의 차분값을 화면에 출력한다.\n",
    "\n",
    "100\n",
    "200\n",
    "400\n",
    "'''\n",
    "my_list = [100, 200, 400, 800]\n",
    "for i in [0, 1, 2]:\n",
    "    print(abs(my_list[i+1] - my_list[i]))\n"
   ]
  },
  {
   "cell_type": "code",
   "execution_count": 80,
   "id": "7a644a17-d3dc-4a92-b0b9-c42d91c8c21f",
   "metadata": {},
   "outputs": [
    {
     "name": "stdout",
     "output_type": "stream",
     "text": [
      "233.33333333333334\n",
      "466.6666666666667\n",
      "733.3333333333334\n",
      "1033.3333333333333\n"
     ]
    }
   ],
   "source": [
    "'''\n",
    "179\n",
    "리스트에는 6일 간의 종가 데이터가 저장되어 있다. 종가 데이터의 3일 이동 평균을 계산하고 이를 화면에 출력하라.\n",
    "\n",
    "my_list = [100, 200, 400, 800, 1000, 1300]\n",
    "첫 번째 줄에는 100, 200, 400의 평균값이 출력된다. 두 번째 줄에는 200, 400, 800의 평균값이 출력된다. 같은 방식으로 나머지 데이터의 평균을 출력한다.\n",
    "\n",
    "233.33333333333334\n",
    "466.6666666666667\n",
    "733.3333333333334\n",
    "1033.3333333333333\n",
    "'''\n",
    "my_list = [100, 200, 400, 800, 1000, 1300]\n",
    "for i in [1, 2, 3, 4]:\n",
    "    print(abs(my_list[i-1] + my_list[i] + my_list[i+1]) / 3)\n"
   ]
  },
  {
   "cell_type": "code",
   "execution_count": 84,
   "id": "a880c7be-9a69-422a-9f00-bf9129a15795",
   "metadata": {},
   "outputs": [
    {
     "name": "stdout",
     "output_type": "stream",
     "text": [
      "[50, 100, 30, 80, 0]\n"
     ]
    }
   ],
   "source": [
    "'''\n",
    "180\n",
    "리스트에 5일간의 저가, 고가 정보가 저장돼 있다. 고가와 저가의 차를 변동폭이라고 정의할 때, low, high 두 개의 리스트를 사용해서 5일간의 변동폭을 volatility 리스트에 저장하라.\n",
    "\n",
    "low_prices  = [100, 200, 400, 800, 1000]\n",
    "high_prices = [150, 300, 430, 880, 1000]\n",
    "'''\n",
    "volatility = []\n",
    "low_prices  = [100, 200, 400, 800, 1000]\n",
    "high_prices = [150, 300, 430, 880, 1000]\n",
    "for i in range(len(low_prices)) :\n",
    "    volatility.append(high_prices[i] - low_prices[i])\n",
    "print(volatility)"
   ]
  },
  {
   "cell_type": "code",
   "execution_count": 87,
   "id": "272574fd-1540-451c-a624-565e704b81aa",
   "metadata": {},
   "outputs": [
    {
     "name": "stdout",
     "output_type": "stream",
     "text": [
      "[['101호', '102호'], ['201호', '202호'], ['301호', '302호']]\n"
     ]
    }
   ],
   "source": [
    "'''\n",
    "181\n",
    "아래 표에서 하나의 행을 하나의 리스트로, 총 3개의 리스트를 갖는 이차원 리스트 apart를 정의하라.\n",
    "\n",
    "101호\t102호\n",
    "201호\t202호\n",
    "301호\t302호\n",
    "'''\n",
    "apart = [ [\"101호\", \"102호\"], [\"201호\", \"202호\"], [\"301호\", \"302호\"] ]\n",
    "print(apart)"
   ]
  },
  {
   "cell_type": "code",
   "execution_count": 88,
   "id": "e00f620d-09ed-43eb-b53a-5417d9ae2e92",
   "metadata": {},
   "outputs": [
    {
     "name": "stdout",
     "output_type": "stream",
     "text": [
      "[['시가', 100, 200, 300], ['종가', 80, 210, 330]]\n"
     ]
    }
   ],
   "source": [
    "'''\n",
    "182\n",
    "아래 표에서 하나의 열을 하나의 리스트로, 총 2개의 리스트를 갖는 이차원 리스트 stock을 정의하라.\n",
    "\n",
    "시가\t종가\n",
    "100\t80\n",
    "200\t210\n",
    "300\t330\n",
    "'''\n",
    "stock = [ [\"시가\", 100, 200, 300], [\"종가\", 80, 210, 330] ]\n",
    "print(stock)"
   ]
  },
  {
   "cell_type": "code",
   "execution_count": 89,
   "id": "0305f5f9-d972-482d-a611-0dcd23f64f45",
   "metadata": {},
   "outputs": [
    {
     "name": "stdout",
     "output_type": "stream",
     "text": [
      "{'시가': [100, 200, 300], '종가': [80, 210, 330]}\n"
     ]
    }
   ],
   "source": [
    "'''\n",
    "183\n",
    "아래 표를 stock 이름의 딕셔너리로 표현하라.시가를 key로 저장하고, 나머지 같은 열의 데이터를 리스트로 저장해서 value로 저장한다. 종가 역시 key로 저장하고 나머지 같은 열의 데이터를 리스트로 저장해서 value로 저장한다.\n",
    "\n",
    "시가\t종가\n",
    "100\t80\n",
    "200\t210\n",
    "300\t330\n",
    "'''\n",
    "stock = {\"시가\": [100, 200, 300], \"종가\": [80, 210, 330] }\n",
    "print(stock)"
   ]
  },
  {
   "cell_type": "code",
   "execution_count": 90,
   "id": "5c15c143-01e6-4753-abf3-618ce95cb1a2",
   "metadata": {},
   "outputs": [
    {
     "name": "stdout",
     "output_type": "stream",
     "text": [
      "{'10/10': [80, 110, 70, 90], '10/11': [210, 230, 190, 200]}\n"
     ]
    }
   ],
   "source": [
    "'''\n",
    "184\n",
    "아래 표를 stock 이라는 이름의 딕셔너리로 표현하라. 날짜를 key로 저장하고, 나머지 같은 행의 데이터를 리스트로 저장해서 value로 저장한다. 첫 열이 날짜이다.\n",
    "\n",
    "10/10\t80\t110\t70\t90\n",
    "10/11\t210\t230\t190\t200\n",
    "'''\n",
    "stock = {\"10/10\": [80, 110, 70, 90], \"10/11\": [210, 230, 190, 200] }\n",
    "print(stock)"
   ]
  },
  {
   "cell_type": "code",
   "execution_count": 91,
   "id": "b21c0c04-ec04-4da8-a075-8b473c32a761",
   "metadata": {},
   "outputs": [
    {
     "name": "stdout",
     "output_type": "stream",
     "text": [
      "101호 호\n",
      "102호 호\n",
      "201호 호\n",
      "202호 호\n",
      "301호 호\n",
      "302호 호\n"
     ]
    }
   ],
   "source": [
    "'''\n",
    "185\n",
    "리스트에 저장된 데이터를 아래와 같이 출력하라.\n",
    "\n",
    "apart = [ [101, 102], [201, 202], [301, 302] ]\n",
    "101 호\n",
    "102 호\n",
    "201 호\n",
    "202 호\n",
    "301 호\n",
    "302 호\n",
    "'''\n",
    "for row in apart:\n",
    "    for col in row:\n",
    "        print(col, \"호\")\n"
   ]
  },
  {
   "cell_type": "code",
   "execution_count": 93,
   "id": "24ec5c91-1192-430d-b711-206a750d1525",
   "metadata": {},
   "outputs": [
    {
     "name": "stdout",
     "output_type": "stream",
     "text": [
      "301호 호\n",
      "302호 호\n",
      "201호 호\n",
      "202호 호\n",
      "101호 호\n",
      "102호 호\n"
     ]
    }
   ],
   "source": [
    "'''\n",
    "186\n",
    "리스트에 저장된 데이터를 아래와 같이 출력하라.\n",
    "\n",
    "apart = [ [101, 102], [201, 202], [301, 302] ]\n",
    "301 호\n",
    "302 호\n",
    "201 호\n",
    "202 호\n",
    "101 호\n",
    "102 호\n",
    "'''\n",
    "for row in apart[::-1]:\n",
    "    for col in row:\n",
    "        print(col, \"호\")\n"
   ]
  },
  {
   "cell_type": "code",
   "execution_count": 94,
   "id": "b1431d64-4a12-4c36-b50a-5a5bdcd4241f",
   "metadata": {},
   "outputs": [
    {
     "name": "stdout",
     "output_type": "stream",
     "text": [
      "302호 호\n",
      "301호 호\n",
      "202호 호\n",
      "201호 호\n",
      "102호 호\n",
      "101호 호\n"
     ]
    }
   ],
   "source": [
    "'''\n",
    "187\n",
    "리스트에 저장된 데이터를 아래와 같이 출력하라.\n",
    "\n",
    "apart = [ [101, 102], [201, 202], [301, 302] ]\n",
    "302 호\n",
    "301 호\n",
    "202 호\n",
    "201 호\n",
    "102 호\n",
    "101 호\n",
    "'''\n",
    "for row in apart[::-1]:\n",
    "    for col in row[::-1]:\n",
    "        print(col, \"호\")\n"
   ]
  },
  {
   "cell_type": "code",
   "execution_count": 95,
   "id": "94c01881-5209-4a6f-bac4-f5a04376f33e",
   "metadata": {},
   "outputs": [
    {
     "name": "stdout",
     "output_type": "stream",
     "text": [
      "101호 호\n",
      "-----\n",
      "102호 호\n",
      "-----\n",
      "201호 호\n",
      "-----\n",
      "202호 호\n",
      "-----\n",
      "301호 호\n",
      "-----\n",
      "302호 호\n",
      "-----\n"
     ]
    }
   ],
   "source": [
    "'''\n",
    "188\n",
    "리스트에 저장된 데이터를 아래와 같이 출력하라.\n",
    "\n",
    "apart = [ [101, 102], [201, 202], [301, 302] ]\n",
    "101 호\n",
    "-----\n",
    "102 호\n",
    "-----\n",
    "201 호\n",
    "-----\n",
    "202 호\n",
    "-----\n",
    "301 호\n",
    "-----\n",
    "302 호\n",
    "-----\n",
    "'''\n",
    "for row in apart:\n",
    "    for col in row:\n",
    "        print(col, \"호\")\n",
    "        print(\"-\" * 5)\n"
   ]
  },
  {
   "cell_type": "code",
   "execution_count": 96,
   "id": "e4e1e94f-bfcc-41da-8087-63e18152f8cc",
   "metadata": {},
   "outputs": [
    {
     "name": "stdout",
     "output_type": "stream",
     "text": [
      "101호 호\n",
      "102호 호\n",
      "-----\n",
      "201호 호\n",
      "202호 호\n",
      "-----\n",
      "301호 호\n",
      "302호 호\n",
      "-----\n"
     ]
    }
   ],
   "source": [
    "'''\n",
    "189\n",
    "리스트에 저장된 데이터를 아래와 같이 출력하라.\n",
    "\n",
    "apart = [ [101, 102], [201, 202], [301, 302] ]\n",
    "101 호\n",
    "102 호\n",
    "-----\n",
    "201 호\n",
    "202 호\n",
    "-----\n",
    "301 호\n",
    "302 호\n",
    "-----\n",
    "'''\n",
    "for row in apart:\n",
    "    for col in row:\n",
    "        print(col, \"호\")\n",
    "    print(\"-----\")\n"
   ]
  },
  {
   "cell_type": "code",
   "execution_count": 97,
   "id": "d156ea59-2353-4e83-a0d8-d7830355c881",
   "metadata": {},
   "outputs": [
    {
     "name": "stdout",
     "output_type": "stream",
     "text": [
      "101호 호\n",
      "102호 호\n",
      "201호 호\n",
      "202호 호\n",
      "301호 호\n",
      "302호 호\n",
      "-----\n"
     ]
    }
   ],
   "source": [
    "'''\n",
    "190\n",
    "리스트에 저장된 데이터를 아래와 같이 출력하라.\n",
    "\n",
    "apart = [ [101, 102], [201, 202], [301, 302] ]\n",
    "101 호\n",
    "102 호\n",
    "201 호\n",
    "202 호\n",
    "301 호\n",
    "302 호\n",
    "-----\n",
    "'''\n",
    "for row in apart:\n",
    "    for col in row:\n",
    "        print(col, \"호\")\n",
    "print(\"-\" * 5)\n"
   ]
  },
  {
   "cell_type": "code",
   "execution_count": 99,
   "id": "68d9b9c5-8438-40c0-a12f-83e5609caea8",
   "metadata": {},
   "outputs": [
    {
     "name": "stdout",
     "output_type": "stream",
     "text": [
      "2000.28\n",
      "3050.427\n",
      "2050.2870000000003\n",
      "1980.2772\n",
      "7501.05\n",
      "2050.2870000000003\n",
      "2050.2870000000003\n",
      "1980.2772\n",
      "15452.163\n",
      "15052.107\n",
      "15552.177\n",
      "14902.086000000001\n"
     ]
    }
   ],
   "source": [
    "'''\n",
    "191\n",
    "data에는 매수한 종목들의 OHLC (open/high/low/close) 가격 정보가 바인딩 되어있다.\n",
    "\n",
    "data = [\n",
    "    [ 2000,  3050,  2050,  1980],\n",
    "    [ 7500,  2050,  2050,  1980],\n",
    "    [15450, 15050, 15550, 14900]\n",
    "]\n",
    "'''\n",
    "data = [\n",
    "    [ 2000,  3050,  2050,  1980],\n",
    "    [ 7500,  2050,  2050,  1980],\n",
    "    [15450, 15050, 15550, 14900]\n",
    "]\n",
    "for line in data:\n",
    "    for column in line:\n",
    "        print(column * 1.00014)\n"
   ]
  },
  {
   "cell_type": "code",
   "execution_count": 101,
   "id": "db30445c-31fa-4585-b067-c4ac072d715e",
   "metadata": {},
   "outputs": [
    {
     "name": "stdout",
     "output_type": "stream",
     "text": [
      "2000.28\n",
      "3050.427\n",
      "2050.2870000000003\n",
      "1980.2772\n",
      "----\n",
      "7501.05\n",
      "2050.2870000000003\n",
      "2050.2870000000003\n",
      "1980.2772\n",
      "----\n",
      "15452.163\n",
      "15052.107\n",
      "15552.177\n",
      "14902.086000000001\n",
      "----\n"
     ]
    }
   ],
   "source": [
    "'''\n",
    "192\n",
    "191번의 출력 결과에 행단위로 \"----\" 구분자를 추가하라.\n",
    "\n",
    "2000.28\n",
    "3050.427\n",
    "2050.2870000000003\n",
    "1980.2772\n",
    "----\n",
    "7501.05\n",
    "2050.2870000000003\n",
    "2050.2870000000003\n",
    "1980.2772\n",
    "----\n",
    "15452.163\n",
    "15052.107\n",
    "15552.177\n",
    "14902.086000000001\n",
    "----\n",
    "'''\n",
    "for line in data:\n",
    "    for column in line:\n",
    "        print(column * 1.00014)\n",
    "    print(\"----\")\n"
   ]
  },
  {
   "cell_type": "code",
   "execution_count": 102,
   "id": "d950b89a-1fc6-4a67-b748-df97d70d073c",
   "metadata": {},
   "outputs": [
    {
     "name": "stdout",
     "output_type": "stream",
     "text": [
      "[2000.28, 3050.427, 2050.2870000000003, 1980.2772, 7501.05, 2050.2870000000003, 2050.2870000000003, 1980.2772, 15452.163, 15052.107, 15552.177, 14902.086000000001]\n"
     ]
    }
   ],
   "source": [
    "'''\n",
    "193\n",
    "192 번 문제의 결괏값을 result 이름의 리스트에 1차원 배열로 저장하라.\n",
    "\n",
    ">> print(result)\n",
    "[2000.28, 3050.427, 2050.2870000000003, 1980.2772, 7501.05, 2050.2870000000003, 2050.2870000000003, ...]\n",
    "'''\n",
    "result = []\n",
    "for line in data:\n",
    "    for column in line:\n",
    "        result.append(column * 1.00014)\n",
    "print(result)\n"
   ]
  },
  {
   "cell_type": "code",
   "execution_count": 103,
   "id": "b100d180-3007-4f50-a698-100ee674bc27",
   "metadata": {},
   "outputs": [
    {
     "name": "stdout",
     "output_type": "stream",
     "text": [
      "[[2000.28, 3050.427, 2050.2870000000003, 1980.2772], [7501.05, 2050.2870000000003, 2050.2870000000003, 1980.2772], [15452.163, 15052.107, 15552.177, 14902.086000000001]]\n"
     ]
    }
   ],
   "source": [
    "'''\n",
    "194\n",
    "191번 문제의 결괏값을 result 이름의 리스트에 2차원 배열로 저장하라. 저장 포맷은 아래와 같다. 각 행에 대한 데이터끼리 리스트에 저장되어야 한다.\n",
    "\n",
    ">> print(result)\n",
    "[\n",
    " [2000.28, 3050.427, 2050.2870000000003, 1980.2772],\n",
    " [7501.05, 2050.2870000000003, 2050.2870000000003, 1980.2772],\n",
    " [15452.163, 15052.107, 15552.177, 14902.086000000001]\n",
    "]\n",
    "'''\n",
    "result = []\n",
    "for line in data:\n",
    "    sub = []\n",
    "    for column in line:\n",
    "        sub.append(column * 1.00014)\n",
    "    result.append(sub)\n",
    "print(result)\n"
   ]
  },
  {
   "cell_type": "code",
   "execution_count": 105,
   "id": "94b46eef-cd3b-4471-b238-867572790b09",
   "metadata": {},
   "outputs": [
    {
     "name": "stdout",
     "output_type": "stream",
     "text": [
      "100\n",
      "190\n",
      "310\n"
     ]
    }
   ],
   "source": [
    "'''\n",
    "195\n",
    "ohlc 리스트에는 시가(open), 고가 (high), 저가 (low) , 종가(close)가 날짜별로 저장돼 있다. 화면에 종가데이터를 출력하라.\n",
    "\n",
    "ohlc = [[\"open\", \"high\", \"low\", \"close\"],\n",
    "        [100, 110, 70, 100],\n",
    "        [200, 210, 180, 190],\n",
    "        [300, 310, 300, 310]]\n",
    "        '''\n",
    "ohlc = [[\"open\", \"high\", \"low\", \"close\"],\n",
    "        [100, 110, 70, 100],\n",
    "        [200, 210, 180, 190],\n",
    "        [300, 310, 300, 310]]\n",
    "for row in ohlc[1:]:\n",
    "    print(row[3])\n"
   ]
  },
  {
   "cell_type": "code",
   "execution_count": 106,
   "id": "dda5c889-f652-4f64-a4b5-f59425df5a9e",
   "metadata": {},
   "outputs": [
    {
     "name": "stdout",
     "output_type": "stream",
     "text": [
      "190\n",
      "310\n"
     ]
    }
   ],
   "source": [
    "'''\n",
    "196\n",
    "ohlc 리스트에는 시가(open), 고가 (high), 저가 (low) , 종가(close)가 날짜별로 저장돼 있다. 종가가 150원보다 큰경우에만 종가를 출력하라.\n",
    "\n",
    "ohlc = [[\"open\", \"high\", \"low\", \"close\"],\n",
    "        [100, 110, 70, 100],\n",
    "        [200, 210, 180, 190],\n",
    "        [300, 310, 300, 310]]\n",
    "        '''\n",
    "ohlc = [[\"open\", \"high\", \"low\", \"close\"],\n",
    "        [100, 110, 70, 100],\n",
    "        [200, 210, 180, 190],\n",
    "        [300, 310, 300, 310]]\n",
    "for row in ohlc[1:]:\n",
    "    if (row[3] > 150):\n",
    "        print(row[3])\n"
   ]
  },
  {
   "cell_type": "code",
   "execution_count": 107,
   "id": "41916997-18c6-455b-a9e7-4bdb6dd6ee81",
   "metadata": {},
   "outputs": [
    {
     "name": "stdout",
     "output_type": "stream",
     "text": [
      "100\n",
      "310\n"
     ]
    }
   ],
   "source": [
    "'''\n",
    "197\n",
    "ohlc 리스트에는 시가(open), 고가 (high), 저가 (low) , 종가(close)가 날짜별로 저장돼 있다. 종가가 시가 보다 크거나 같은 경우에만 종가를 출력하라.\n",
    "\n",
    "ohlc = [[\"open\", \"high\", \"low\", \"close\"],\n",
    "        [100, 110, 70, 100],\n",
    "        [200, 210, 180, 190],\n",
    "        [300, 310, 300, 310]]\n",
    "        '''\n",
    "for row in ohlc[1:]:\n",
    "    if (row[3] >= row[0]):\n",
    "        print(row[3])\n"
   ]
  },
  {
   "cell_type": "code",
   "execution_count": 111,
   "id": "a504930b-94c6-468d-a6d1-0608da74213a",
   "metadata": {},
   "outputs": [
    {
     "name": "stdout",
     "output_type": "stream",
     "text": [
      "[40, 30, 10]\n"
     ]
    }
   ],
   "source": [
    "'''\n",
    "198\n",
    "ohlc 리스트에는 시가(open), 고가 (high), 저가 (low) , 종가(close)가 날짜별로 저장돼 있다. 고가와 저가의 차이를 변동폭으로 정의할 때 변동폭을 volatility 이름의 리스트에 저장하라.\n",
    "\n",
    "ohlc = [[\"open\", \"high\", \"low\", \"close\"],\n",
    "        [100, 110, 70, 100],\n",
    "        [200, 210, 180, 190],\n",
    "        [300, 310, 300, 310]]\n",
    "        '''\n",
    "volatility = []\n",
    "for row in ohlc[1:]:\n",
    "    volatility.append(row[1]-row[2])\n",
    "print(volatility)"
   ]
  },
  {
   "cell_type": "code",
   "execution_count": 112,
   "id": "9f93580f-7843-43eb-8551-0df0302c5b7c",
   "metadata": {},
   "outputs": [
    {
     "name": "stdout",
     "output_type": "stream",
     "text": [
      "10\n"
     ]
    }
   ],
   "source": [
    "'''\n",
    "199\n",
    "리스트에는 3일 간의 ohlc 데이터가 저장돼 있다. 종가가 시가보다 높은 날의 변동성 (고가 - 저가)을 화면에 출력하라.\n",
    "\n",
    "ohlc = [[\"open\", \"high\", \"low\", \"close\"],\n",
    "        [100, 110, 70, 100],\n",
    "        [200, 210, 180, 190],\n",
    "        [300, 310, 300, 310]]\n",
    "        '''\n",
    "for row in ohlc[1:]:\n",
    "    if row[3] > row[0]:\n",
    "        print(row[1]-row[2])\n"
   ]
  },
  {
   "cell_type": "code",
   "execution_count": 115,
   "id": "48e2e502-84c2-46e1-bd7f-22c97dee920c",
   "metadata": {},
   "outputs": [
    {
     "name": "stdout",
     "output_type": "stream",
     "text": [
      "0\n"
     ]
    }
   ],
   "source": [
    "'''\n",
    "200\n",
    "리스트에는 3일 간의 ohlc 데이터가 저장돼 있다. 시가에 매수해서 종가에 매도 했을 경우 총 수익금을 계산하라.\n",
    "\n",
    "ohlc = [[\"open\", \"high\", \"low\", \"close\"],\n",
    "        [100, 110, 70, 100],\n",
    "        [200, 210, 180, 190],\n",
    "        [300, 310, 300, 310]]\n",
    "        '''\n",
    "profit = 0\n",
    "for row in ohlc[1:]:\n",
    "    profit += (row[3] - row[0])\n",
    "print(profit)"
   ]
  },
  {
   "cell_type": "code",
   "execution_count": null,
   "id": "fa97c13e-309b-4b4e-a6d8-9f9a7001f9c3",
   "metadata": {},
   "outputs": [],
   "source": []
  }
 ],
 "metadata": {
  "kernelspec": {
   "display_name": "Python 3 (ipykernel)",
   "language": "python",
   "name": "python3"
  },
  "language_info": {
   "codemirror_mode": {
    "name": "ipython",
    "version": 3
   },
   "file_extension": ".py",
   "mimetype": "text/x-python",
   "name": "python",
   "nbconvert_exporter": "python",
   "pygments_lexer": "ipython3",
   "version": "3.11.7"
  }
 },
 "nbformat": 4,
 "nbformat_minor": 5
}
