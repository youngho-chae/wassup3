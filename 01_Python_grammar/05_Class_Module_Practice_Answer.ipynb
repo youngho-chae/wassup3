{
 "cells": [
  {
   "cell_type": "markdown",
   "id": "f1fdca32",
   "metadata": {},
   "source": [
    "# Q1. 다음은 Calculator 클래스이다.\n",
    "```python\n",
    "class Calculator:\n",
    "    def __init__(self):\n",
    "        self.value = 0\n",
    "    def add(self, val):\n",
    "        self.value += val\n",
    "```\n",
    "위 클래스를 상속하는 UpgradeCalculator를 만들고 값을 뺄 수 잇는 minus 메서드를 추가해보자.   \n",
    "즉 다음과 같이 동작하는 클래스를 만들어야 한다.\n",
    "```python\n",
    "cal = UpgradeCalculator()\n",
    "cal.add(10)\n",
    "cal.minus(7)\n",
    "print(cal.calue) # 10에서 7을 뺀 3을 출력\n",
    "```"
   ]
  },
  {
   "cell_type": "code",
   "execution_count": 1,
   "id": "b2e21697",
   "metadata": {
    "ExecuteTime": {
     "end_time": "2023-10-12T08:44:32.457107Z",
     "start_time": "2023-10-12T08:44:32.453408Z"
    }
   },
   "outputs": [],
   "source": [
    "class Calculator:\n",
    "    def __init__(self):\n",
    "        self.value = 0\n",
    "    def add(self, val):\n",
    "        self.value += val"
   ]
  },
  {
   "cell_type": "code",
   "execution_count": 2,
   "id": "69a28287",
   "metadata": {
    "ExecuteTime": {
     "end_time": "2023-10-12T08:45:48.183726Z",
     "start_time": "2023-10-12T08:45:48.180686Z"
    }
   },
   "outputs": [],
   "source": [
    "class UpgradeCalculator(Calculator):\n",
    "    def minus(self, val):\n",
    "        self.value -= val   "
   ]
  },
  {
   "cell_type": "code",
   "execution_count": 4,
   "id": "1bc57692",
   "metadata": {
    "ExecuteTime": {
     "end_time": "2023-10-12T08:46:13.529021Z",
     "start_time": "2023-10-12T08:46:13.525471Z"
    }
   },
   "outputs": [
    {
     "name": "stdout",
     "output_type": "stream",
     "text": [
      "3\n"
     ]
    }
   ],
   "source": [
    "cal = UpgradeCalculator()\n",
    "cal.add(10)\n",
    "cal.minus(7)\n",
    "print(cal.value)"
   ]
  },
  {
   "cell_type": "markdown",
   "id": "75806738",
   "metadata": {},
   "source": [
    "# Q2. 객체 변수 value가 100 이상의 값은 가질 수 없도록 제한하는 MaxLimitCalculator 클래스를 만들어 보자. 즉 다음과 같이 동작해야 한다.\n",
    "```python\n",
    "cal = MaxLimitCalculator()\n",
    "cal.add(50) # 50 더하기\n",
    "cal.add(60) # 60 더하기\n",
    "\n",
    "print(cal.value) # 100 출력\n",
    "```\n",
    "\n",
    "단 반드시 다음과 같은 calculator 클래스를 상속해서 만들어야 한다.\n",
    "```python\n",
    "class Calculator:\n",
    "    def __init__(self):\n",
    "        self.value = 0\n",
    "    def add(self, val):\n",
    "        self.value += val\n",
    "```"
   ]
  },
  {
   "cell_type": "code",
   "execution_count": 7,
   "id": "f81e1029",
   "metadata": {
    "ExecuteTime": {
     "end_time": "2023-10-12T08:50:28.352214Z",
     "start_time": "2023-10-12T08:50:28.348746Z"
    }
   },
   "outputs": [],
   "source": [
    "class MaxLimitCalculator(Calculator):\n",
    "    def add(self, val):\n",
    "        self.value += val\n",
    "        if self.value > 100:\n",
    "            self.value = 100"
   ]
  },
  {
   "cell_type": "code",
   "execution_count": 8,
   "id": "c056ce07",
   "metadata": {
    "ExecuteTime": {
     "end_time": "2023-10-12T08:50:29.192203Z",
     "start_time": "2023-10-12T08:50:29.188707Z"
    }
   },
   "outputs": [
    {
     "name": "stdout",
     "output_type": "stream",
     "text": [
      "100\n"
     ]
    }
   ],
   "source": [
    "cal = MaxLimitCalculator()\n",
    "cal.add(50) # 50 더하기\n",
    "cal.add(60) # 60 더하기\n",
    "\n",
    "print(cal.value) # 100 출력"
   ]
  },
  {
   "cell_type": "markdown",
   "id": "7286e434",
   "metadata": {},
   "source": [
    "# Q3. 다음 결과를 예측해 보자.\n",
    "```python\n",
    "# 1.\n",
    ">>> all({1, 2, abs(-3)-3})\n",
    "\n",
    "# 2.\n",
    ">>> chr(ord('a')) == 'a'\n",
    "```"
   ]
  },
  {
   "cell_type": "code",
   "execution_count": 11,
   "id": "5e8e73b5",
   "metadata": {
    "ExecuteTime": {
     "end_time": "2023-10-12T08:51:22.824819Z",
     "start_time": "2023-10-12T08:51:22.820802Z"
    }
   },
   "outputs": [
    {
     "name": "stdout",
     "output_type": "stream",
     "text": [
      "False\n",
      "True\n"
     ]
    }
   ],
   "source": [
    "# 1. False\n",
    "print(all({1, 2, abs(-3)-3}))\n",
    "# 2. True\n",
    "print(chr(ord('a')) == 'a')"
   ]
  },
  {
   "cell_type": "markdown",
   "id": "ff058604",
   "metadata": {},
   "source": [
    "# Q4. filter와 lambda를 사용하여 리스트 [1, -2, 3, -5, 8, -3]에서 음수를 모두 제거해 보자."
   ]
  },
  {
   "cell_type": "code",
   "execution_count": 14,
   "id": "511273d5",
   "metadata": {
    "ExecuteTime": {
     "end_time": "2023-10-12T08:54:43.786402Z",
     "start_time": "2023-10-12T08:54:43.780813Z"
    }
   },
   "outputs": [
    {
     "data": {
      "text/plain": [
       "[1, 3, 8]"
      ]
     },
     "execution_count": 14,
     "metadata": {},
     "output_type": "execute_result"
    }
   ],
   "source": [
    "list(filter(lambda x : x > 0, [1, -2, 3, -5, 8, -3]))"
   ]
  },
  {
   "cell_type": "markdown",
   "id": "3810c0b8",
   "metadata": {},
   "source": [
    "# Q5. 234라는 10진수의 16진수는 다음과 같이 구할 수 있다.\n",
    "```python\n",
    ">>> hex(234)\n",
    "'0xea'\n",
    "```\n",
    "이번에는 반대로 16진수 문자열 0xea를 10진수로 변경해 보자."
   ]
  },
  {
   "cell_type": "code",
   "execution_count": 15,
   "id": "4cc1665c",
   "metadata": {
    "ExecuteTime": {
     "end_time": "2023-10-12T08:55:22.537403Z",
     "start_time": "2023-10-12T08:55:22.532887Z"
    }
   },
   "outputs": [
    {
     "data": {
      "text/plain": [
       "234"
      ]
     },
     "execution_count": 15,
     "metadata": {},
     "output_type": "execute_result"
    }
   ],
   "source": [
    "int('0xea', 16)"
   ]
  },
  {
   "cell_type": "markdown",
   "id": "6c563fc7",
   "metadata": {},
   "source": [
    "# Q6. map과 lambda를 사용하여 [1, 2, 3, 4] 리스트의 각 요솟값에 3이 곱해진 리스트 [3, 6, 9, 12]를 만들어 보자."
   ]
  },
  {
   "cell_type": "code",
   "execution_count": 19,
   "id": "3cd619a1",
   "metadata": {
    "ExecuteTime": {
     "end_time": "2023-10-12T08:58:05.714874Z",
     "start_time": "2023-10-12T08:58:05.708881Z"
    }
   },
   "outputs": [
    {
     "data": {
      "text/plain": [
       "[3, 6, 9, 12]"
      ]
     },
     "execution_count": 19,
     "metadata": {},
     "output_type": "execute_result"
    }
   ],
   "source": [
    "list(map(lambda x : x * 3, [1, 2, 3, 4]))"
   ]
  },
  {
   "cell_type": "markdown",
   "id": "5abd78a0",
   "metadata": {},
   "source": [
    "# Q7. 다음 리스트의 최댓값과 최솟값의 합을 구해 보자.\n",
    "[-8, 2, 7, 5, -3, 5, 0, 1]"
   ]
  },
  {
   "cell_type": "code",
   "execution_count": 20,
   "id": "24a3aafe",
   "metadata": {
    "ExecuteTime": {
     "end_time": "2023-10-12T08:59:46.881942Z",
     "start_time": "2023-10-12T08:59:46.876755Z"
    }
   },
   "outputs": [
    {
     "data": {
      "text/plain": [
       "-1"
      ]
     },
     "execution_count": 20,
     "metadata": {},
     "output_type": "execute_result"
    }
   ],
   "source": [
    "a = [-8, 2, 7, 5, -3, 5, 0, 1]\n",
    "max(a) + min(a)"
   ]
  },
  {
   "cell_type": "markdown",
   "id": "b64ed240",
   "metadata": {},
   "source": [
    "# Q8. 17 / 3의 결과는 다음과 같다.\n",
    "```python\n",
    ">>> 17 / 3\n",
    "5.666666666667\n",
    "```\n",
    "위와 같은 결괏값 5.6666666666667을 소숫점 4자리까지만 반올림하여 표시해 보자."
   ]
  },
  {
   "cell_type": "code",
   "execution_count": 21,
   "id": "0513c9f9",
   "metadata": {
    "ExecuteTime": {
     "end_time": "2023-10-12T09:00:05.755321Z",
     "start_time": "2023-10-12T09:00:05.749909Z"
    }
   },
   "outputs": [
    {
     "data": {
      "text/plain": [
       "5.6667"
      ]
     },
     "execution_count": 21,
     "metadata": {},
     "output_type": "execute_result"
    }
   ],
   "source": [
    "round(17/3, 4)"
   ]
  },
  {
   "cell_type": "markdown",
   "id": "6ae88f19",
   "metadata": {},
   "source": [
    "# Q9. 다음과 같이 실행할 때 입력값을 모두 더하여 출력하는 스크립트(C:\\doit\\myargv.py)를 작성해 보자.\n",
    "```\n",
    "C:\\> cd doit\n",
    "C:\\dodit> python myargv.py 1 2 3 4 5 6 7 8 9 10\n",
    "```"
   ]
  },
  {
   "cell_type": "code",
   "execution_count": null,
   "id": "bfd9ae79",
   "metadata": {},
   "outputs": [],
   "source": [
    "import sys\n",
    "args = sys.argv[1:]\n",
    "number = 0\n",
    "for i in args:\n",
    "    number += int(i)\n",
    "print(number)"
   ]
  },
  {
   "cell_type": "markdown",
   "id": "ac41096a",
   "metadata": {},
   "source": [
    "# Q10. OS 모듈을 사용하여 다음과 같이 동작하도록 코드를 작성해 보자.\n",
    "1. C:\\doit 디렉터리로 이동한다.\n",
    "2. dir 명령을 실행하고 그 결과를 변수에 담는다.\n",
    "3. dir 명령의 결과를 출력한다."
   ]
  },
  {
   "cell_type": "code",
   "execution_count": 22,
   "id": "b2595d2d",
   "metadata": {
    "ExecuteTime": {
     "end_time": "2023-10-12T09:03:05.832719Z",
     "start_time": "2023-10-12T09:03:05.830051Z"
    }
   },
   "outputs": [],
   "source": [
    "import os"
   ]
  },
  {
   "cell_type": "code",
   "execution_count": 23,
   "id": "318d3245",
   "metadata": {
    "ExecuteTime": {
     "end_time": "2023-10-12T09:03:22.546032Z",
     "start_time": "2023-10-12T09:03:22.541371Z"
    }
   },
   "outputs": [
    {
     "data": {
      "text/plain": [
       "'C:\\\\workspace\\\\python'"
      ]
     },
     "execution_count": 23,
     "metadata": {},
     "output_type": "execute_result"
    }
   ],
   "source": [
    "os.getcwd()"
   ]
  },
  {
   "cell_type": "code",
   "execution_count": 24,
   "id": "983ee630",
   "metadata": {
    "ExecuteTime": {
     "end_time": "2023-10-12T09:03:47.188589Z",
     "start_time": "2023-10-12T09:03:47.148922Z"
    }
   },
   "outputs": [
    {
     "data": {
      "text/plain": [
       "0"
      ]
     },
     "execution_count": 24,
     "metadata": {},
     "output_type": "execute_result"
    }
   ],
   "source": [
    "os.system('dir')"
   ]
  },
  {
   "cell_type": "code",
   "execution_count": 27,
   "id": "9f31c8c9",
   "metadata": {
    "ExecuteTime": {
     "end_time": "2023-10-12T09:04:40.214826Z",
     "start_time": "2023-10-12T09:04:40.189889Z"
    }
   },
   "outputs": [
    {
     "name": "stdout",
     "output_type": "stream",
     "text": [
      " C 드라이브의 볼륨에는 이름이 없습니다.\n",
      " 볼륨 일련 번호: FED4-E376\n",
      "\n",
      " C:\\workspace\\python 디렉터리\n",
      "\n",
      "2023-10-12  오후 06:04    <DIR>          .\n",
      "2023-10-12  오후 06:04    <DIR>          ..\n",
      "2023-10-12  오후 05:04    <DIR>          .ipynb_checkpoints\n",
      "2023-10-12  오후 04:20            22,919 00_마크다운_실습용.ipynb\n",
      "2023-10-04  오후 03:29           103,801 01_자료형&변수_강사용.ipynb\n",
      "2023-10-03  오후 11:44            16,417 01_자료형&변수_연습문제_강사용.ipynb\n",
      "2023-10-06  오후 02:58             7,415 01_자료형&변수_연습문제_실습용.ipynb\n",
      "2023-10-06  오후 03:30        12,459,815 02_제어문_강사용.ipynb\n",
      "2023-10-03  오후 11:44             9,198 02_제어문_연습문제_강사용.ipynb\n",
      "2023-10-06  오후 02:58             5,007 02_제어문_연습문제_실습용.ipynb\n",
      "2023-10-06  오후 09:28             5,658 03_코딩연습_전화번호프로그램_강사용.ipynb\n",
      "2023-10-06  오후 09:28             1,987 03_코딩연습_전화번호프로그램_실습용.ipynb\n",
      "2023-10-08  오후 09:43            60,351 04_함수&입출력_강사용.ipynb\n",
      "2023-10-06  오후 10:26             9,725 04_함수&입출력_연습문제_강사용.ipynb\n",
      "2023-10-06  오후 10:28             7,012 04_함수&입출력_연습문제_실습용.ipynb\n",
      "2023-10-11  오후 04:36           100,741 05_클래스&모듈패키지_강사용.ipynb\n",
      "2023-10-12  오후 05:52        25,381,841 06_예외처리&내장함수&라이브러리_강사용.ipynb\n",
      "2023-10-12  오후 06:04            16,909 06_클래스&내장함수_연습문제_실습용.ipynb\n",
      "2023-10-11  오후 04:41    <DIR>          game\n",
      "2023-10-11  오후 04:35    <DIR>          mymod\n",
      "2023-10-11  오후 04:32    <DIR>          __pycache__\n",
      "              15개 파일          38,208,796 바이트\n",
      "               6개 디렉터리  388,325,208,064 바이트 남음\n",
      "\n"
     ]
    }
   ],
   "source": [
    "f = os.popen(\"dir\")\n",
    "print(f.read())"
   ]
  },
  {
   "cell_type": "markdown",
   "id": "e1df445d",
   "metadata": {},
   "source": [
    "# Q11. glob 모듈을 사용하여 C:\\doit 디렉터리의 파일 중 확장자가 .ipynb인 파일만 출력하는 프로그램을 작성해 보자."
   ]
  },
  {
   "cell_type": "code",
   "execution_count": 29,
   "id": "e29d6ff3",
   "metadata": {
    "ExecuteTime": {
     "end_time": "2023-10-12T09:05:26.720869Z",
     "start_time": "2023-10-12T09:05:26.718246Z"
    }
   },
   "outputs": [],
   "source": [
    "import glob"
   ]
  },
  {
   "cell_type": "code",
   "execution_count": 30,
   "id": "ca9e7174",
   "metadata": {
    "ExecuteTime": {
     "end_time": "2023-10-12T09:05:30.009855Z",
     "start_time": "2023-10-12T09:05:30.005522Z"
    }
   },
   "outputs": [],
   "source": [
    "glob?"
   ]
  },
  {
   "cell_type": "code",
   "execution_count": 34,
   "id": "02f54e6b",
   "metadata": {
    "ExecuteTime": {
     "end_time": "2023-10-12T09:06:38.506897Z",
     "start_time": "2023-10-12T09:06:38.501431Z"
    }
   },
   "outputs": [
    {
     "data": {
      "text/plain": [
       "['C:\\\\workspace\\\\python\\\\00_마크다운_실습용.ipynb',\n",
       " 'C:\\\\workspace\\\\python\\\\01_자료형&변수_강사용.ipynb',\n",
       " 'C:\\\\workspace\\\\python\\\\01_자료형&변수_연습문제_강사용.ipynb',\n",
       " 'C:\\\\workspace\\\\python\\\\01_자료형&변수_연습문제_실습용.ipynb',\n",
       " 'C:\\\\workspace\\\\python\\\\02_제어문_강사용.ipynb',\n",
       " 'C:\\\\workspace\\\\python\\\\02_제어문_연습문제_강사용.ipynb',\n",
       " 'C:\\\\workspace\\\\python\\\\02_제어문_연습문제_실습용.ipynb',\n",
       " 'C:\\\\workspace\\\\python\\\\03_코딩연습_전화번호프로그램_강사용.ipynb',\n",
       " 'C:\\\\workspace\\\\python\\\\03_코딩연습_전화번호프로그램_실습용.ipynb',\n",
       " 'C:\\\\workspace\\\\python\\\\04_함수&입출력_강사용.ipynb',\n",
       " 'C:\\\\workspace\\\\python\\\\04_함수&입출력_연습문제_강사용.ipynb',\n",
       " 'C:\\\\workspace\\\\python\\\\04_함수&입출력_연습문제_실습용.ipynb',\n",
       " 'C:\\\\workspace\\\\python\\\\05_클래스&모듈패키지_강사용.ipynb',\n",
       " 'C:\\\\workspace\\\\python\\\\06_예외처리&내장함수&라이브러리_강사용.ipynb',\n",
       " 'C:\\\\workspace\\\\python\\\\06_클래스&내장함수_연습문제_실습용.ipynb']"
      ]
     },
     "execution_count": 34,
     "metadata": {},
     "output_type": "execute_result"
    }
   ],
   "source": [
    "glob.glob(os.getcwd()+'/*.ipynb')"
   ]
  },
  {
   "cell_type": "markdown",
   "id": "d7b91fea",
   "metadata": {},
   "source": [
    "# Q12. time 모듈을 사용하여 현재 날짜와 시간을 다음과 같은 형식으로 출력해 보자.\n",
    "2018/04/03 17:20:32"
   ]
  },
  {
   "cell_type": "code",
   "execution_count": 42,
   "id": "2ad27cec",
   "metadata": {
    "ExecuteTime": {
     "end_time": "2023-10-12T09:25:44.203984Z",
     "start_time": "2023-10-12T09:25:44.199487Z"
    }
   },
   "outputs": [
    {
     "data": {
      "text/plain": [
       "'2023/10/12 18:25:44'"
      ]
     },
     "execution_count": 42,
     "metadata": {},
     "output_type": "execute_result"
    }
   ],
   "source": [
    "import time\n",
    "time.strftime('%Y/%m/%d %H:%M:%S', time.localtime(time.time()))"
   ]
  },
  {
   "cell_type": "markdown",
   "id": "393cd834",
   "metadata": {},
   "source": [
    "# Q13. random 모듈을 사용하여 로또 번호 (1~45 사이의 숫자 6개)를 생성해보자(단 중복된 숫자가 있으면 안됨)."
   ]
  },
  {
   "cell_type": "code",
   "execution_count": 45,
   "id": "d43d4cdd",
   "metadata": {
    "ExecuteTime": {
     "end_time": "2023-10-12T09:27:24.371275Z",
     "start_time": "2023-10-12T09:27:24.366304Z"
    }
   },
   "outputs": [
    {
     "name": "stdout",
     "output_type": "stream",
     "text": [
      "[36, 20, 30, 28, 10, 2]\n"
     ]
    }
   ],
   "source": [
    "import random\n",
    "result = []\n",
    "while len(result) < 6:\n",
    "    num = random.randint(1, 45)\n",
    "    if num not in result:\n",
    "        result.append(num)\n",
    "print(result)"
   ]
  },
  {
   "cell_type": "markdown",
   "id": "ee89ff74",
   "metadata": {},
   "source": [
    "\"성공은 매일 반복한 작은 노력들의 합이다.\"\n",
    "- 로버트 콜리어"
   ]
  }
 ],
 "metadata": {
  "kernelspec": {
   "display_name": "Python 3 (ipykernel)",
   "language": "python",
   "name": "python3"
  },
  "language_info": {
   "codemirror_mode": {
    "name": "ipython",
    "version": 3
   },
   "file_extension": ".py",
   "mimetype": "text/x-python",
   "name": "python",
   "nbconvert_exporter": "python",
   "pygments_lexer": "ipython3",
   "version": "3.11.7"
  },
  "toc": {
   "base_numbering": 1,
   "nav_menu": {},
   "number_sections": true,
   "sideBar": true,
   "skip_h1_title": false,
   "title_cell": "Table of Contents",
   "title_sidebar": "Contents",
   "toc_cell": false,
   "toc_position": {},
   "toc_section_display": true,
   "toc_window_display": false
  },
  "varInspector": {
   "cols": {
    "lenName": 16,
    "lenType": 16,
    "lenVar": 40
   },
   "kernels_config": {
    "python": {
     "delete_cmd_postfix": "",
     "delete_cmd_prefix": "del ",
     "library": "var_list.py",
     "varRefreshCmd": "print(var_dic_list())"
    },
    "r": {
     "delete_cmd_postfix": ") ",
     "delete_cmd_prefix": "rm(",
     "library": "var_list.r",
     "varRefreshCmd": "cat(var_dic_list()) "
    }
   },
   "types_to_exclude": [
    "module",
    "function",
    "builtin_function_or_method",
    "instance",
    "_Feature"
   ],
   "window_display": false
  }
 },
 "nbformat": 4,
 "nbformat_minor": 5
}
