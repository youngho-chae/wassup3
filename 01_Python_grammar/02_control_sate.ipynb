{
 "cells": [
  {
   "cell_type": "markdown",
   "id": "4da91ec4-8ec4-42f2-afd3-7c547bd414c1",
   "metadata": {},
   "source": [
    "# if 분기문"
   ]
  },
  {
   "cell_type": "code",
   "execution_count": 3,
   "id": "1ea99aa4-418e-46c1-9018-af76d78fd666",
   "metadata": {},
   "outputs": [
    {
     "name": "stdout",
     "output_type": "stream",
     "text": [
      "택시를 타고 가라\n"
     ]
    }
   ],
   "source": [
    "money = True\n",
    "if money:\n",
    "     print(\"택시를 타고 가라\")\n",
    "else:\n",
    "     print(\"걸어 가라\")"
   ]
  },
  {
   "cell_type": "code",
   "execution_count": 4,
   "id": "3e0fbb11-1338-4827-aa36-5a715c918e27",
   "metadata": {},
   "outputs": [
    {
     "ename": "IndentationError",
     "evalue": "unexpected indent (73570325.py, line 5)",
     "output_type": "error",
     "traceback": [
      "\u001b[1;36m  Cell \u001b[1;32mIn[4], line 5\u001b[1;36m\u001b[0m\n\u001b[1;33m    print(\"가라\")\u001b[0m\n\u001b[1;37m    ^\u001b[0m\n\u001b[1;31mIndentationError\u001b[0m\u001b[1;31m:\u001b[0m unexpected indent\n"
     ]
    }
   ],
   "source": [
    "money = True\n",
    "if money:\n",
    "    print(\"택시를\")\n",
    "    print(\"타고\")\n",
    "        print(\"가라\")"
   ]
  },
  {
   "cell_type": "markdown",
   "id": "b48723c3-35c7-4f6d-a54c-d991f7d65cf4",
   "metadata": {},
   "source": [
    "## 조건문이란?\n",
    "참과 거짓을 판단하는 문장"
   ]
  },
  {
   "cell_type": "code",
   "execution_count": 6,
   "id": "0c393c97-c049-4e92-8c30-a81e7412fad1",
   "metadata": {},
   "outputs": [
    {
     "data": {
      "text/plain": [
       "False"
      ]
     },
     "execution_count": 6,
     "metadata": {},
     "output_type": "execute_result"
    }
   ],
   "source": [
    "# 비교연산자\n",
    "x = 2\n",
    "y = 3\n",
    "x > y"
   ]
  },
  {
   "cell_type": "code",
   "execution_count": 9,
   "id": "13dfc8f7-dd86-4c22-8e2f-a746c4a59089",
   "metadata": {},
   "outputs": [
    {
     "name": "stdout",
     "output_type": "stream",
     "text": [
      "택시를 타고 가라\n"
     ]
    }
   ],
   "source": [
    "#만약 3000원 이상의 돈을 가지고 있으면 택시를 타고 가고, 그렇지 않으면 걸어가라.\n",
    "\n",
    "money = 3000\n",
    "if money >= 3000:\n",
    "    print(\"택시를 타고 가라\")\n",
    "else:\n",
    "    print(\"걸어가라\")"
   ]
  },
  {
   "cell_type": "code",
   "execution_count": 13,
   "id": "3a4c1055-783c-4164-953e-9ea3e7fc8beb",
   "metadata": {},
   "outputs": [],
   "source": [
    "#돈이 3000원 이상 있거나 카드가 있다면 택시를 타고 가고, 그렇지 않으면 걸어가라."
   ]
  },
  {
   "cell_type": "markdown",
   "id": "7ff0a7a2-387b-4359-8cb2-6f043f644cd9",
   "metadata": {},
   "source": [
    "## and, or, not"
   ]
  },
  {
   "cell_type": "code",
   "execution_count": 12,
   "id": "a795f422-45cb-4a3e-9fa5-7eb1afdabf1a",
   "metadata": {},
   "outputs": [
    {
     "name": "stdout",
     "output_type": "stream",
     "text": [
      "택시를 타고 가라\n"
     ]
    }
   ],
   "source": [
    "money = 100\n",
    "card = True\n",
    "if money >= 3000 or card:\n",
    "    print(\"택시를 타고 가라\")\n",
    "else:\n",
    "    print(\"걸어가라\")"
   ]
  },
  {
   "cell_type": "markdown",
   "id": "c5b9255b-f36a-40a7-993d-5278f8f37a96",
   "metadata": {},
   "source": [
    "## in, not in"
   ]
  },
  {
   "cell_type": "code",
   "execution_count": 16,
   "id": "82bd8bd5-a4c5-47e4-8dae-12a64de6e9e6",
   "metadata": {},
   "outputs": [],
   "source": [
    "# 만약 주머니에 돈이 있으면 택시를 타고 가고, 없으면 걸어가라."
   ]
  },
  {
   "cell_type": "code",
   "execution_count": 17,
   "id": "afe39996-6e3c-44f3-961c-ff78da379019",
   "metadata": {},
   "outputs": [
    {
     "name": "stdout",
     "output_type": "stream",
     "text": [
      "택시를 타고 가라\n"
     ]
    }
   ],
   "source": [
    ">>> pocket = ['paper', 'cellphone', 'money']\n",
    ">>> if 'money' in pocket:\n",
    "...     print(\"택시를 타고 가라\")\n",
    "... else:\n",
    "...     print(\"걸어가라\")"
   ]
  },
  {
   "cell_type": "markdown",
   "id": "0ea91549-cd56-4c26-ab29-b43dbbc945dc",
   "metadata": {},
   "source": [
    "## 조건문에서 아무일도 하지 않게 설정하려면"
   ]
  },
  {
   "cell_type": "code",
   "execution_count": 19,
   "id": "3f47f6a6-4ddc-4e4c-a9b7-aca5be35c5df",
   "metadata": {},
   "outputs": [],
   "source": [
    "# 주머니에 돈이 있으면 가만히 있고, 주머니에 돈이 없으면 카드를 꺼내라."
   ]
  },
  {
   "cell_type": "code",
   "execution_count": 22,
   "id": "28c30324-9ade-47d9-87d8-81eb365c3c5a",
   "metadata": {},
   "outputs": [],
   "source": [
    "pocket = ['paper', 'money', 'cellphone']\n",
    "if 'money' in pocket:\n",
    "    pass \n",
    "else:\n",
    "    print(\"카드를 꺼내라\")"
   ]
  },
  {
   "cell_type": "markdown",
   "id": "4902a378-273a-4909-a216-79519bd0ab1d",
   "metadata": {},
   "source": [
    "## 다양한 조건을 판단하는 elif"
   ]
  },
  {
   "cell_type": "code",
   "execution_count": 26,
   "id": "23f70681-b339-47e8-a1ac-14f37fd4d997",
   "metadata": {},
   "outputs": [
    {
     "name": "stdout",
     "output_type": "stream",
     "text": [
      "택시를 타고 가라\n"
     ]
    }
   ],
   "source": [
    "'''주머니에 돈이 있으면 택시를 타고 가고, \n",
    "주머니에 돈은 없지만 카드가 있으면 택시를 타고 가고, \n",
    "돈도 없고 카드도 없으면 걸어가라.'''\n",
    "\n",
    "p = ['money', 'wallet']\n",
    "card = False\n",
    "if 'money' in p:\n",
    "    print('택시를 타고 가라')\n",
    "else:\n",
    "    if card:\n",
    "        print('택시를 타고 가라')\n",
    "    else:\n",
    "        print('걸어가라')"
   ]
  },
  {
   "cell_type": "code",
   "execution_count": 27,
   "id": "0f02624e-13bd-41af-94c7-e0d41d41236f",
   "metadata": {},
   "outputs": [
    {
     "name": "stdout",
     "output_type": "stream",
     "text": [
      "택시를 타고가라\n"
     ]
    }
   ],
   "source": [
    ">>> pocket = ['paper', 'cellphone']\n",
    ">>> card = True\n",
    ">>> if 'money' in pocket:\n",
    "...      print(\"택시를 타고가라\")\n",
    "... elif card: \n",
    "...      print(\"택시를 타고가라\")\n",
    "... else:\n",
    "...      print(\"걸어가라\")"
   ]
  },
  {
   "cell_type": "code",
   "execution_count": 29,
   "id": "88ae27f7-99f5-491d-b5b4-36136bce8010",
   "metadata": {},
   "outputs": [
    {
     "name": "stdout",
     "output_type": "stream",
     "text": [
      "카드를 꺼내라\n"
     ]
    }
   ],
   "source": [
    ">>> pocket = ['paper', 'mone', 'cellphone']\n",
    ">>> if 'money' in pocket: pass\n",
    "... else: print(\"카드를 꺼내라\")"
   ]
  },
  {
   "cell_type": "markdown",
   "id": "e7acf3d3-d57b-4752-b881-2b388b73b3e7",
   "metadata": {},
   "source": [
    "## 조건부 표현식"
   ]
  },
  {
   "cell_type": "code",
   "execution_count": 39,
   "id": "3e44a3b5-a9a7-457b-b43f-814004849254",
   "metadata": {},
   "outputs": [
    {
     "name": "stdout",
     "output_type": "stream",
     "text": [
      "success\n"
     ]
    }
   ],
   "source": [
    "score=80\n",
    "if score >= 60:\n",
    "    message = \"success\"\n",
    "else:\n",
    "    message = \"failure\"\n",
    "print(message)"
   ]
  },
  {
   "cell_type": "code",
   "execution_count": 40,
   "id": "4dc5258a-031d-4dd6-8a42-4a7e8fd179da",
   "metadata": {},
   "outputs": [
    {
     "name": "stdout",
     "output_type": "stream",
     "text": [
      "success\n"
     ]
    }
   ],
   "source": [
    "message = \"success\" if score >= 60 else \"failure\"\n",
    "print(message)"
   ]
  },
  {
   "cell_type": "code",
   "execution_count": 43,
   "id": "b993a083-004e-47e8-ab83-e510a6030c72",
   "metadata": {},
   "outputs": [
    {
     "name": "stdout",
     "output_type": "stream",
     "text": [
      "나무를 1번 찍었습니다.\n",
      "나무를 2번 찍었습니다.\n",
      "나무를 3번 찍었습니다.\n",
      "나무를 4번 찍었습니다.\n",
      "나무를 5번 찍었습니다.\n",
      "나무를 6번 찍었습니다.\n",
      "나무를 7번 찍었습니다.\n",
      "나무를 8번 찍었습니다.\n",
      "나무를 9번 찍었습니다.\n",
      "나무를 10번 찍었습니다.\n",
      "나무가 넘어갑니다.\n"
     ]
    }
   ],
   "source": [
    "treeHit = 0\n",
    "while treeHit < 10:\n",
    "    treeHit = treeHit +1\n",
    "    print(\"나무를 %d번 찍었습니다.\" % treeHit)\n",
    "    if treeHit == 10:\n",
    "        print(\"나무가 넘어갑니다.\")"
   ]
  },
  {
   "cell_type": "markdown",
   "id": "4b62a8ae-9dce-412f-8999-ce5964293f53",
   "metadata": {},
   "source": [
    "# while문 만들기"
   ]
  },
  {
   "cell_type": "code",
   "execution_count": 46,
   "id": "7c96ac92-95e9-4592-af6d-79de5bbec657",
   "metadata": {},
   "outputs": [
    {
     "name": "stdout",
     "output_type": "stream",
     "text": [
      "\n",
      "1. Add\n",
      "2. Del\n",
      "3. List\n",
      "4. Quit\n",
      "\n",
      "Enter number : \n"
     ]
    }
   ],
   "source": [
    "prompt = '''\n",
    "1. Add\n",
    "2. Del\n",
    "3. List\n",
    "4. Quit\n",
    "\n",
    "Enter number : '''\n",
    "print(prompt)"
   ]
  },
  {
   "cell_type": "code",
   "execution_count": 47,
   "id": "dff97ae7-04bc-4c71-8b5f-643053b281ff",
   "metadata": {},
   "outputs": [
    {
     "name": "stdout",
     "output_type": "stream",
     "text": [
      "\n",
      "1. Add\n",
      "2. Del\n",
      "3. List\n",
      "4. Quit\n",
      "\n",
      "Enter number : \n"
     ]
    },
    {
     "name": "stdin",
     "output_type": "stream",
     "text": [
      " 1\n"
     ]
    },
    {
     "name": "stdout",
     "output_type": "stream",
     "text": [
      "\n",
      "1. Add\n",
      "2. Del\n",
      "3. List\n",
      "4. Quit\n",
      "\n",
      "Enter number : \n"
     ]
    },
    {
     "name": "stdin",
     "output_type": "stream",
     "text": [
      " 2\n"
     ]
    },
    {
     "name": "stdout",
     "output_type": "stream",
     "text": [
      "\n",
      "1. Add\n",
      "2. Del\n",
      "3. List\n",
      "4. Quit\n",
      "\n",
      "Enter number : \n"
     ]
    },
    {
     "name": "stdin",
     "output_type": "stream",
     "text": [
      " 4\n"
     ]
    }
   ],
   "source": [
    "number = 0\n",
    "while number != 4:\n",
    "    print(prompt)\n",
    "    number = int(input())"
   ]
  },
  {
   "cell_type": "markdown",
   "id": "70203e0a-efe5-4e2f-b369-f49a03e06794",
   "metadata": {},
   "source": [
    "## while문 강제로 빠져나가기"
   ]
  },
  {
   "cell_type": "code",
   "execution_count": 52,
   "id": "04bdcb04-faf3-4b1e-8b0d-15b79984a6b9",
   "metadata": {},
   "outputs": [
    {
     "name": "stdout",
     "output_type": "stream",
     "text": [
      "돈을 받았으니 커피를 줍니다.\n",
      "남은 커피의 양은 9입니다.\n",
      "돈을 받았으니 커피를 줍니다.\n",
      "남은 커피의 양은 8입니다.\n",
      "돈을 받았으니 커피를 줍니다.\n",
      "남은 커피의 양은 7입니다.\n",
      "돈을 받았으니 커피를 줍니다.\n",
      "남은 커피의 양은 6입니다.\n",
      "돈을 받았으니 커피를 줍니다.\n",
      "남은 커피의 양은 5입니다.\n",
      "돈을 받았으니 커피를 줍니다.\n",
      "남은 커피의 양은 4입니다.\n",
      "돈을 받았으니 커피를 줍니다.\n",
      "남은 커피의 양은 3입니다.\n",
      "돈을 받았으니 커피를 줍니다.\n",
      "남은 커피의 양은 2입니다.\n",
      "돈을 받았으니 커피를 줍니다.\n",
      "남은 커피의 양은 1입니다.\n",
      "돈을 받았으니 커피를 줍니다.\n",
      "남은 커피의 양은 0입니다.\n",
      "커피가 다 떨어져서 판매를 중지합니다.\n"
     ]
    }
   ],
   "source": [
    "coffee = 10\n",
    "money = 300\n",
    "\n",
    "while money :\n",
    "    print('돈을 받았으니 커피를 줍니다.')\n",
    "    coffee = coffee - 1\n",
    "    print(f'남은 커피의 양은 {coffee}입니다.')\n",
    "    if coffee == 0:\n",
    "        print('커피가 다 떨어져서 판매를 중지합니다.')\n",
    "        break"
   ]
  },
  {
   "cell_type": "code",
   "execution_count": 56,
   "id": "36cf89d1-ae73-4eb8-b06a-22e462f76aae",
   "metadata": {},
   "outputs": [
    {
     "name": "stdin",
     "output_type": "stream",
     "text": [
      "돈 300\n"
     ]
    },
    {
     "name": "stdout",
     "output_type": "stream",
     "text": [
      "돈을 받았으니 커피를 줍니다.\n",
      "남은 커피의 양은 9입니다.\n"
     ]
    },
    {
     "name": "stdin",
     "output_type": "stream",
     "text": [
      "돈 290\n"
     ]
    },
    {
     "name": "stdout",
     "output_type": "stream",
     "text": [
      "남은 커피의 양은 9입니다.\n"
     ]
    },
    {
     "name": "stdin",
     "output_type": "stream",
     "text": [
      "돈 300\n"
     ]
    },
    {
     "name": "stdout",
     "output_type": "stream",
     "text": [
      "돈을 받았으니 커피를 줍니다.\n",
      "남은 커피의 양은 8입니다.\n"
     ]
    },
    {
     "name": "stdin",
     "output_type": "stream",
     "text": [
      "돈 300\n"
     ]
    },
    {
     "name": "stdout",
     "output_type": "stream",
     "text": [
      "돈을 받았으니 커피를 줍니다.\n",
      "남은 커피의 양은 7입니다.\n"
     ]
    },
    {
     "name": "stdin",
     "output_type": "stream",
     "text": [
      "돈 300\n"
     ]
    },
    {
     "name": "stdout",
     "output_type": "stream",
     "text": [
      "돈을 받았으니 커피를 줍니다.\n",
      "남은 커피의 양은 6입니다.\n"
     ]
    },
    {
     "name": "stdin",
     "output_type": "stream",
     "text": [
      "돈 300\n"
     ]
    },
    {
     "name": "stdout",
     "output_type": "stream",
     "text": [
      "돈을 받았으니 커피를 줍니다.\n",
      "남은 커피의 양은 5입니다.\n"
     ]
    },
    {
     "name": "stdin",
     "output_type": "stream",
     "text": [
      "돈 300\n"
     ]
    },
    {
     "name": "stdout",
     "output_type": "stream",
     "text": [
      "돈을 받았으니 커피를 줍니다.\n",
      "남은 커피의 양은 4입니다.\n"
     ]
    },
    {
     "name": "stdin",
     "output_type": "stream",
     "text": [
      "돈 300\n"
     ]
    },
    {
     "name": "stdout",
     "output_type": "stream",
     "text": [
      "돈을 받았으니 커피를 줍니다.\n",
      "남은 커피의 양은 3입니다.\n"
     ]
    },
    {
     "name": "stdin",
     "output_type": "stream",
     "text": [
      "돈 300\n"
     ]
    },
    {
     "name": "stdout",
     "output_type": "stream",
     "text": [
      "돈을 받았으니 커피를 줍니다.\n",
      "남은 커피의 양은 2입니다.\n"
     ]
    },
    {
     "name": "stdin",
     "output_type": "stream",
     "text": [
      "돈 300\n"
     ]
    },
    {
     "name": "stdout",
     "output_type": "stream",
     "text": [
      "돈을 받았으니 커피를 줍니다.\n",
      "남은 커피의 양은 1입니다.\n"
     ]
    },
    {
     "name": "stdin",
     "output_type": "stream",
     "text": [
      "돈 300\n"
     ]
    },
    {
     "name": "stdout",
     "output_type": "stream",
     "text": [
      "돈을 받았으니 커피를 줍니다.\n",
      "남은 커피의 양은 0입니다.\n",
      "커피가 다 떨어져서 판매를 중지합니다.\n"
     ]
    }
   ],
   "source": [
    "'''\n",
    "money는 사용자가 입력하게 하고, 커피 가격은 300원 입니다.\n",
    "커피 가격이 일치하지 않으면 잔돈을 거슬러줍니다.\n",
    "커피 재고가 떨어지면 종료합니다.\n",
    "'''\n",
    "\n",
    "coffee = 10\n",
    "money = 300\n",
    "\n",
    "while True :\n",
    "    money = int(input(\"돈\"))\n",
    "    if money == 300:\n",
    "        print('돈을 받았으니 커피를 줍니다.')\n",
    "        coffee = coffee -1\n",
    "    elif money > 300:\n",
    "        print(f\"거스름돈 {money -300}를 주고 커피를 줍니다.\")\n",
    "        coffee = coffee - 1\n",
    "    elif money < 300:\n",
    "        print('돈을 더 넣어 주세요.')\n",
    "        coffee = coffee\n",
    "    print(f'남은 커피의 양은 {coffee}입니다.')\n",
    "    if coffee == 0:\n",
    "        print('커피가 다 떨어져서 판매를 중지합니다.')\n",
    "        break"
   ]
  },
  {
   "cell_type": "code",
   "execution_count": 57,
   "id": "a2d274f4-bd89-4552-8ea8-29e8812697e9",
   "metadata": {},
   "outputs": [
    {
     "name": "stdin",
     "output_type": "stream",
     "text": [
      "돈 290\n"
     ]
    },
    {
     "name": "stdout",
     "output_type": "stream",
     "text": [
      "돈을 더 넣어 주세요.\n",
      "남은 커피의 양은 10입니다.\n"
     ]
    },
    {
     "name": "stdin",
     "output_type": "stream",
     "text": [
      "돈 1000\n"
     ]
    },
    {
     "name": "stdout",
     "output_type": "stream",
     "text": [
      "거스름돈 700를 주고 커피를 줍니다.\n",
      "남은 커피의 양은 9입니다.\n"
     ]
    },
    {
     "name": "stdin",
     "output_type": "stream",
     "text": [
      "돈 100\n"
     ]
    },
    {
     "name": "stdout",
     "output_type": "stream",
     "text": [
      "돈을 더 넣어 주세요.\n",
      "남은 커피의 양은 9입니다.\n"
     ]
    },
    {
     "name": "stdin",
     "output_type": "stream",
     "text": [
      "돈 1000\n"
     ]
    },
    {
     "name": "stdout",
     "output_type": "stream",
     "text": [
      "거스름돈 700를 주고 커피를 줍니다.\n",
      "남은 커피의 양은 8입니다.\n"
     ]
    },
    {
     "name": "stdin",
     "output_type": "stream",
     "text": [
      "돈 300\n"
     ]
    },
    {
     "name": "stdout",
     "output_type": "stream",
     "text": [
      "돈을 받았으니 커피를 줍니다.\n",
      "남은 커피의 양은 7입니다.\n"
     ]
    },
    {
     "name": "stdin",
     "output_type": "stream",
     "text": [
      "돈 290\n"
     ]
    },
    {
     "name": "stdout",
     "output_type": "stream",
     "text": [
      "돈을 더 넣어 주세요.\n",
      "남은 커피의 양은 7입니다.\n"
     ]
    },
    {
     "name": "stdin",
     "output_type": "stream",
     "text": [
      "돈 300\n"
     ]
    },
    {
     "name": "stdout",
     "output_type": "stream",
     "text": [
      "돈을 받았으니 커피를 줍니다.\n",
      "남은 커피의 양은 6입니다.\n"
     ]
    },
    {
     "name": "stdin",
     "output_type": "stream",
     "text": [
      "돈 300\n"
     ]
    },
    {
     "name": "stdout",
     "output_type": "stream",
     "text": [
      "돈을 받았으니 커피를 줍니다.\n",
      "남은 커피의 양은 5입니다.\n"
     ]
    },
    {
     "name": "stdin",
     "output_type": "stream",
     "text": [
      "돈 300\n"
     ]
    },
    {
     "name": "stdout",
     "output_type": "stream",
     "text": [
      "돈을 받았으니 커피를 줍니다.\n",
      "남은 커피의 양은 4입니다.\n"
     ]
    },
    {
     "name": "stdin",
     "output_type": "stream",
     "text": [
      "돈 300\n"
     ]
    },
    {
     "name": "stdout",
     "output_type": "stream",
     "text": [
      "돈을 받았으니 커피를 줍니다.\n",
      "남은 커피의 양은 3입니다.\n"
     ]
    },
    {
     "name": "stdin",
     "output_type": "stream",
     "text": [
      "돈 300\n"
     ]
    },
    {
     "name": "stdout",
     "output_type": "stream",
     "text": [
      "돈을 받았으니 커피를 줍니다.\n",
      "남은 커피의 양은 2입니다.\n"
     ]
    },
    {
     "name": "stdin",
     "output_type": "stream",
     "text": [
      "돈 300\n"
     ]
    },
    {
     "name": "stdout",
     "output_type": "stream",
     "text": [
      "돈을 받았으니 커피를 줍니다.\n",
      "남은 커피의 양은 1입니다.\n"
     ]
    },
    {
     "name": "stdin",
     "output_type": "stream",
     "text": [
      "돈 300\n"
     ]
    },
    {
     "name": "stdout",
     "output_type": "stream",
     "text": [
      "돈을 받았으니 커피를 줍니다.\n",
      "남은 커피의 양은 0입니다.\n",
      "커피가 다 떨어져서 판매를 중지합니다.\n"
     ]
    }
   ],
   "source": [
    "coffee = 10\n",
    "money = 300\n",
    "\n",
    "while True :\n",
    "    money = int(input(\"돈을 주세요\"))\n",
    "    if money == 300:\n",
    "        print('돈을 받았으니 커피를 줍니다.')\n",
    "        coffee = coffee -1\n",
    "    elif money > 300:\n",
    "        print(f\"거스름돈 {money -300}를 주고 커피를 줍니다.\")\n",
    "        coffee = coffee - 1\n",
    "    elif money < 300:\n",
    "        print('돈을 더 주세요')\n",
    "        coffee = coffee\n",
    "    print(f'남은 커피의 양은 {coffee}입니다.')\n",
    "    if coffee == 0:\n",
    "        print('커피가 다 떨어져서 판매를 중지합니다.')\n",
    "        break"
   ]
  },
  {
   "cell_type": "code",
   "execution_count": 58,
   "id": "3d0f4f9c-0d9a-45f6-a74c-091ff0639614",
   "metadata": {},
   "outputs": [
    {
     "name": "stdin",
     "output_type": "stream",
     "text": [
      "돈 100\n"
     ]
    },
    {
     "name": "stdout",
     "output_type": "stream",
     "text": [
      "금액이 부족합니다.\n"
     ]
    },
    {
     "name": "stdin",
     "output_type": "stream",
     "text": [
      "돈 300\n"
     ]
    },
    {
     "name": "stdout",
     "output_type": "stream",
     "text": [
      "커피를 줍니다.\n"
     ]
    },
    {
     "name": "stdin",
     "output_type": "stream",
     "text": [
      "돈 400\n"
     ]
    },
    {
     "name": "stdout",
     "output_type": "stream",
     "text": [
      "커피를 줍니다. 잔돈 100원.\n"
     ]
    }
   ],
   "source": [
    "coffee=300\n",
    "stock=10\n",
    "\n",
    "while stock > 0:\n",
    "    money=int(input('돈'))\n",
    "    if money < coffee:\n",
    "        print(f'금액이 부족합니다.')\n",
    "    elif money == coffee:\n",
    "        stock -= 1\n",
    "        print('커피를 줍니다.')\n",
    "    else:\n",
    "        stock -= 1\n",
    "        change = money - coffee\n",
    "        print(f\"커피를 줍니다. 잔돈 {change}원.\")\n",
    "        break"
   ]
  },
  {
   "cell_type": "code",
   "execution_count": null,
   "id": "ebef4477-1949-4006-8fc5-dd7179e60d8f",
   "metadata": {},
   "outputs": [],
   "source": [
    "'''\n",
    "input / output 정의\n",
    "\n",
    "데이터: 커피가격 300원, 커피 재고(상수로 입력), 사용자 입력 커피금액(input())\n",
    "coffee=10\n",
    "\n",
    "조건\n",
    "1. 커피값==300\n",
    "커피를 제공하고 프린트\n",
    "커피 재고를 차감하고 coffee-userinput\n",
    "재고를 안내해주자. 커피 프린트\n",
    "\n",
    "2. 커피값 > 300\n",
    "커피를 제공하고 거스름돈을 준다. 유저인풋- 300\n",
    "커피 재고 차감하고 안내한다.\n",
    "\n",
    "3. 커피값 <300\n",
    "안준다 프린트\n",
    "남은 재고 알려준다 프린트\n",
    "\n",
    "4. 커피 재고 == 0\n",
    "재고 소진을 안내하고\n",
    "마감을 안내한다 프린트\n",
    "브레이크\n",
    "'''\n",
    "ㄴ"
   ]
  },
  {
   "cell_type": "code",
   "execution_count": null,
   "id": "266c79da-951d-4534-af9b-4d0e7902d8d5",
   "metadata": {},
   "outputs": [
    {
     "name": "stdin",
     "output_type": "stream",
     "text": [
      "돈을 넣어라: 300\n"
     ]
    },
    {
     "name": "stdout",
     "output_type": "stream",
     "text": [
      "300원을 줬군. 커피를 주겠다.\n",
      "남은 커피 수량은 9 입니다.\n"
     ]
    },
    {
     "name": "stdin",
     "output_type": "stream",
     "text": [
      "돈을 넣어라: 600\n"
     ]
    },
    {
     "name": "stdout",
     "output_type": "stream",
     "text": [
      "거스름돈 300원과 커피를 주겠다.\n",
      "남은 커피 수량은 8 입니다.\n"
     ]
    },
    {
     "name": "stdin",
     "output_type": "stream",
     "text": [
      "돈을 넣어라: 200\n"
     ]
    },
    {
     "name": "stdout",
     "output_type": "stream",
     "text": [
      "돈이 부족하다. 커피 안준다.\n",
      "남은 커피 수량은 8 입니다.\n"
     ]
    }
   ],
   "source": [
    "coffee=10\n",
    "while True:\n",
    "    money=int(input('돈을 넣어라:'))\n",
    "    if money == 300:\n",
    "        print('300원을 줬군. 커피를 주겠다.')\n",
    "        coffee = coffee -1\n",
    "        print(f'남은 커피 수량은 {coffee} 입니다.')\n",
    "        \n",
    "    elif money > 300:\n",
    "        print(f'거스름돈 {money-300}원과 커피를 주겠다.')\n",
    "        coffee = coffee -1\n",
    "        print(f'남은 커피 수량은 {coffee} 입니다.')\n",
    "        \n",
    "    else : # money < 300\n",
    "        print('돈이 부족하다. 커피 안준다.')\n",
    "        print(f'남은 커피 수량은 {coffee} 입니다.')\n",
    "        \n",
    "    if coffee == 0:\n",
    "        print('커피가 다 떨어다. 영업종료한다.')"
   ]
  },
  {
   "cell_type": "code",
   "execution_count": null,
   "id": "0c8ddce5-742c-4721-8351-9a57f1e94f0b",
   "metadata": {},
   "outputs": [],
   "source": []
  },
  {
   "cell_type": "code",
   "execution_count": null,
   "id": "ca4e87e2-4a15-4d54-ada6-aafc47dff305",
   "metadata": {},
   "outputs": [],
   "source": []
  },
  {
   "cell_type": "code",
   "execution_count": null,
   "id": "d5bd9a19-8bea-4963-8505-7fee028e28f2",
   "metadata": {},
   "outputs": [],
   "source": []
  },
  {
   "cell_type": "code",
   "execution_count": null,
   "id": "0de92114-a3d9-41c2-9051-364acf0fcf3c",
   "metadata": {},
   "outputs": [],
   "source": []
  },
  {
   "cell_type": "code",
   "execution_count": null,
   "id": "5581ec02-1783-429b-9c09-44b04c072744",
   "metadata": {},
   "outputs": [],
   "source": []
  },
  {
   "cell_type": "code",
   "execution_count": null,
   "id": "2300cd64-b480-46ff-a158-21de50d01d6c",
   "metadata": {},
   "outputs": [],
   "source": []
  },
  {
   "cell_type": "code",
   "execution_count": null,
   "id": "965bea83-8f98-4598-8bec-c01e0dad7a98",
   "metadata": {},
   "outputs": [],
   "source": []
  },
  {
   "cell_type": "code",
   "execution_count": null,
   "id": "1ee66496-f7fa-4f8a-ac71-4cd786c3f0bc",
   "metadata": {},
   "outputs": [],
   "source": []
  },
  {
   "cell_type": "code",
   "execution_count": null,
   "id": "d089b662-e803-453c-9697-f92a684a2db7",
   "metadata": {},
   "outputs": [],
   "source": []
  },
  {
   "cell_type": "code",
   "execution_count": null,
   "id": "c9ba6af6-5435-4364-9621-4bd1a20d4168",
   "metadata": {},
   "outputs": [],
   "source": []
  },
  {
   "cell_type": "code",
   "execution_count": null,
   "id": "2e8a4d38-dbbd-4194-baf8-cbe1a9f668d9",
   "metadata": {},
   "outputs": [],
   "source": []
  },
  {
   "cell_type": "code",
   "execution_count": null,
   "id": "808faf99-307f-46f1-bd8c-016d4a26b673",
   "metadata": {},
   "outputs": [],
   "source": []
  },
  {
   "cell_type": "code",
   "execution_count": null,
   "id": "a4d891f7-faa9-47e0-838e-433b90f737b0",
   "metadata": {},
   "outputs": [],
   "source": []
  },
  {
   "cell_type": "code",
   "execution_count": null,
   "id": "9da95728-bae0-453c-aa06-cba7e83921e9",
   "metadata": {},
   "outputs": [],
   "source": []
  },
  {
   "cell_type": "code",
   "execution_count": null,
   "id": "d67add29-a5d9-4423-b1af-b28ad82611d9",
   "metadata": {},
   "outputs": [],
   "source": []
  },
  {
   "cell_type": "code",
   "execution_count": null,
   "id": "668777a4-5267-42e3-95c1-ec6fd6ca82d5",
   "metadata": {},
   "outputs": [],
   "source": []
  },
  {
   "cell_type": "code",
   "execution_count": null,
   "id": "ba7d06a4-2882-43c9-a8be-2bae2458a456",
   "metadata": {},
   "outputs": [],
   "source": []
  },
  {
   "cell_type": "code",
   "execution_count": null,
   "id": "5e318961-87e6-43f0-812b-a7ca9ac6ce1f",
   "metadata": {},
   "outputs": [],
   "source": []
  },
  {
   "cell_type": "code",
   "execution_count": null,
   "id": "95810c39-fbe4-4a87-bfb8-83dc33e81bf0",
   "metadata": {},
   "outputs": [],
   "source": []
  },
  {
   "cell_type": "code",
   "execution_count": null,
   "id": "793af3b8-f03f-439e-8984-03ef39dc26e3",
   "metadata": {},
   "outputs": [],
   "source": []
  },
  {
   "cell_type": "code",
   "execution_count": null,
   "id": "5df76971-e4e7-41e2-af39-e203d47cfa18",
   "metadata": {},
   "outputs": [],
   "source": []
  },
  {
   "cell_type": "code",
   "execution_count": null,
   "id": "9c3fc353-bb25-41ac-b8dc-1ef1445b0028",
   "metadata": {},
   "outputs": [],
   "source": []
  },
  {
   "cell_type": "code",
   "execution_count": null,
   "id": "0d228961-62fa-4583-b7cb-efd046936020",
   "metadata": {},
   "outputs": [],
   "source": []
  },
  {
   "cell_type": "code",
   "execution_count": null,
   "id": "06de9d0f-27cc-47a7-836b-e7314dd2f647",
   "metadata": {},
   "outputs": [],
   "source": []
  },
  {
   "cell_type": "code",
   "execution_count": null,
   "id": "d70351f5-b891-4263-bb4d-a9d75c98fc1a",
   "metadata": {},
   "outputs": [],
   "source": []
  },
  {
   "cell_type": "code",
   "execution_count": null,
   "id": "7f5a8bf0-3b38-40a6-9d3b-be4fbb37a14c",
   "metadata": {},
   "outputs": [],
   "source": []
  },
  {
   "cell_type": "code",
   "execution_count": null,
   "id": "dbde2dd7-8a55-46bf-a578-5c9e3b5d6877",
   "metadata": {},
   "outputs": [],
   "source": []
  },
  {
   "cell_type": "code",
   "execution_count": null,
   "id": "53b4a7c8-f173-4f48-98e7-a7ca572738c9",
   "metadata": {},
   "outputs": [],
   "source": []
  },
  {
   "cell_type": "code",
   "execution_count": null,
   "id": "b3ad78de-8caf-408e-9c41-eae6cf738384",
   "metadata": {},
   "outputs": [],
   "source": []
  },
  {
   "cell_type": "code",
   "execution_count": null,
   "id": "c830ef4e-deed-4d9d-bd84-f13a2bb67919",
   "metadata": {},
   "outputs": [],
   "source": []
  },
  {
   "cell_type": "code",
   "execution_count": null,
   "id": "8f73cc56-598f-4ea1-a5e5-b7b865b55eb8",
   "metadata": {},
   "outputs": [],
   "source": []
  },
  {
   "cell_type": "code",
   "execution_count": null,
   "id": "d96ef256-7ffa-4805-80f4-9c81abba0b55",
   "metadata": {},
   "outputs": [],
   "source": []
  },
  {
   "cell_type": "code",
   "execution_count": null,
   "id": "c5fbb18d-a0e9-4b84-ac6b-90a201f4de4c",
   "metadata": {},
   "outputs": [],
   "source": []
  },
  {
   "cell_type": "code",
   "execution_count": null,
   "id": "9bac3762-329d-40b7-a773-ff97ab7d46ad",
   "metadata": {},
   "outputs": [],
   "source": []
  },
  {
   "cell_type": "code",
   "execution_count": null,
   "id": "a7451d6f-ab99-403a-bc39-84e3d2e9d9ee",
   "metadata": {},
   "outputs": [],
   "source": []
  },
  {
   "cell_type": "code",
   "execution_count": null,
   "id": "a16c5a87-9c67-4e47-bc1a-f1480f0ca369",
   "metadata": {},
   "outputs": [],
   "source": []
  },
  {
   "cell_type": "code",
   "execution_count": null,
   "id": "51a76651-0177-4b18-820b-2d57c62dcefd",
   "metadata": {},
   "outputs": [],
   "source": []
  },
  {
   "cell_type": "code",
   "execution_count": null,
   "id": "6542f235-411f-472b-a29d-de0b0f0a7edf",
   "metadata": {},
   "outputs": [],
   "source": []
  },
  {
   "cell_type": "code",
   "execution_count": null,
   "id": "51a0608f-2285-438a-b546-b45e7e0c6b05",
   "metadata": {},
   "outputs": [],
   "source": []
  },
  {
   "cell_type": "code",
   "execution_count": null,
   "id": "c658108d-02a8-4d15-b8f7-423063c3c4f7",
   "metadata": {},
   "outputs": [],
   "source": []
  },
  {
   "cell_type": "code",
   "execution_count": null,
   "id": "fa166ed8-44f3-4e6f-bea0-e5f6f65b3273",
   "metadata": {},
   "outputs": [],
   "source": []
  },
  {
   "cell_type": "code",
   "execution_count": null,
   "id": "7e2a8823-33e6-4a79-b44a-2ecee7b1b9a6",
   "metadata": {},
   "outputs": [],
   "source": []
  },
  {
   "cell_type": "code",
   "execution_count": null,
   "id": "dde97c28-9ce4-4a0e-abc8-ca9f2e805809",
   "metadata": {},
   "outputs": [],
   "source": []
  },
  {
   "cell_type": "code",
   "execution_count": null,
   "id": "c35045fe-432d-426b-aba4-cc161720d218",
   "metadata": {},
   "outputs": [],
   "source": []
  },
  {
   "cell_type": "code",
   "execution_count": null,
   "id": "39c4939d-e006-45fd-a2eb-756edc24328e",
   "metadata": {},
   "outputs": [],
   "source": []
  },
  {
   "cell_type": "code",
   "execution_count": null,
   "id": "046f7c2c-770b-4be9-85da-7754fda8dd0f",
   "metadata": {},
   "outputs": [],
   "source": []
  },
  {
   "cell_type": "code",
   "execution_count": null,
   "id": "bc3d14d1-b072-44e4-b049-178a815a6729",
   "metadata": {},
   "outputs": [],
   "source": []
  },
  {
   "cell_type": "code",
   "execution_count": null,
   "id": "d3cdbc2d-57f6-4767-a96b-4655ee6f9c56",
   "metadata": {},
   "outputs": [],
   "source": []
  },
  {
   "cell_type": "code",
   "execution_count": null,
   "id": "cd3f3850-cafa-4bc7-8bbf-1d23509a4f8e",
   "metadata": {},
   "outputs": [],
   "source": []
  },
  {
   "cell_type": "code",
   "execution_count": null,
   "id": "980c5b5b-4752-45c8-9351-57115506205c",
   "metadata": {},
   "outputs": [],
   "source": []
  },
  {
   "cell_type": "code",
   "execution_count": null,
   "id": "1a6559e3-7905-4938-a2a4-96eaab6cc47d",
   "metadata": {},
   "outputs": [],
   "source": []
  },
  {
   "cell_type": "code",
   "execution_count": null,
   "id": "bdc7272c-9f31-4289-93bd-a105590ce4bd",
   "metadata": {},
   "outputs": [],
   "source": []
  },
  {
   "cell_type": "code",
   "execution_count": null,
   "id": "b9407420-71f0-4047-ad90-e4c692509534",
   "metadata": {},
   "outputs": [],
   "source": []
  },
  {
   "cell_type": "code",
   "execution_count": null,
   "id": "a2459f68-3f47-498d-94cc-1c5d7b81cfed",
   "metadata": {},
   "outputs": [],
   "source": []
  }
 ],
 "metadata": {
  "kernelspec": {
   "display_name": "Python 3 (ipykernel)",
   "language": "python",
   "name": "python3"
  },
  "language_info": {
   "codemirror_mode": {
    "name": "ipython",
    "version": 3
   },
   "file_extension": ".py",
   "mimetype": "text/x-python",
   "name": "python",
   "nbconvert_exporter": "python",
   "pygments_lexer": "ipython3",
   "version": "3.11.7"
  }
 },
 "nbformat": 4,
 "nbformat_minor": 5
}
