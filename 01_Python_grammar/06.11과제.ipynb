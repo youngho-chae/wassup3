{
 "cells": [
  {
   "cell_type": "code",
   "execution_count": 1,
   "id": "e63dc61d-2024-4dfd-97a3-d9323460eb30",
   "metadata": {},
   "outputs": [
    {
     "data": {
      "text/plain": [
       "' hello world'"
      ]
     },
     "execution_count": 1,
     "metadata": {},
     "output_type": "execute_result"
    }
   ],
   "source": [
    "# 화면에 Hello World 문자열을 출력하세요.\n",
    "' hello world'"
   ]
  },
  {
   "cell_type": "code",
   "execution_count": 2,
   "id": "0da76ade-3372-4672-9904-d6d78db2c977",
   "metadata": {},
   "outputs": [
    {
     "data": {
      "text/plain": [
       "\"Mary's cosmetics\""
      ]
     },
     "execution_count": 2,
     "metadata": {},
     "output_type": "execute_result"
    }
   ],
   "source": [
    "# 화면에 Mary's cosmetics을 출력하세요. (중간에 '가 있음에 주의하세요)\n",
    "\"Mary's cosmetics\""
   ]
  },
  {
   "cell_type": "code",
   "execution_count": 3,
   "id": "3baba9da-80c4-4feb-9fc3-f8cb6917fde9",
   "metadata": {},
   "outputs": [
    {
     "data": {
      "text/plain": [
       "' 신씨가 소리질렀다. \"도둑이야\".'"
      ]
     },
     "execution_count": 3,
     "metadata": {},
     "output_type": "execute_result"
    }
   ],
   "source": [
    "# 화면에 아래 문장을 출력하세요. (중간에 \"가 있음에 주의하세요.)\n",
    "# 신씨가 소리질렀다. \"도둑이야\".\n",
    "' 신씨가 소리질렀다. \"도둑이야\".'"
   ]
  },
  {
   "cell_type": "code",
   "execution_count": 8,
   "id": "3f09af33-7c11-4ec9-802c-55d87270b1cb",
   "metadata": {},
   "outputs": [
    {
     "name": "stdout",
     "output_type": "stream",
     "text": [
      "C:\\Windows\n"
     ]
    }
   ],
   "source": [
    "# 화면에 C:\\Windows를 출력하세요.\n",
    "print('C:\\Windows')"
   ]
  },
  {
   "cell_type": "code",
   "execution_count": 10,
   "id": "ab734caf-59a2-4c88-aa26-feb110aa5694",
   "metadata": {},
   "outputs": [
    {
     "name": "stdout",
     "output_type": "stream",
     "text": [
      "안녕하세요.\n",
      "만나서\t\t반갑습니다.\n"
     ]
    }
   ],
   "source": [
    "# 다음 코드를 실행해보고 \\t와 \\n의 역할을 설명해보세요.\n",
    "\n",
    "print(\"안녕하세요.\\n만나서\\t\\t반갑습니다.\")\n",
    "# /n 줄바꿈 /t 탭"
   ]
  },
  {
   "cell_type": "code",
   "execution_count": 11,
   "id": "6752da9f-ac03-495d-a653-1629d0f14bab",
   "metadata": {},
   "outputs": [
    {
     "name": "stdout",
     "output_type": "stream",
     "text": [
      "오늘은 일요일\n"
     ]
    }
   ],
   "source": [
    "#print 함수에 두 개의 단어를 입력한 예제입니다. 아래 코드의 출력 결과를 예상해봅시다.\n",
    "\n",
    "print (\"오늘은\", \"일요일\")"
   ]
  },
  {
   "cell_type": "code",
   "execution_count": 15,
   "id": "3b10b0a7-f121-4311-9752-9a3a2f6aa923",
   "metadata": {},
   "outputs": [
    {
     "name": "stdout",
     "output_type": "stream",
     "text": [
      "naver;kakao;sk;samsumg\n"
     ]
    }
   ],
   "source": [
    "# print() 함수를 사용하여 다음과 같이 출력하세요.\n",
    "# naver;kakao;sk;samsung\n",
    "\n",
    "print('naver','kakao','sk','samsumg', sep=';')"
   ]
  },
  {
   "cell_type": "code",
   "execution_count": 17,
   "id": "99dd1701-fa6b-4684-87e4-4de31635117a",
   "metadata": {},
   "outputs": [
    {
     "name": "stdout",
     "output_type": "stream",
     "text": [
      "naver/kakao/sk/samsumg\n"
     ]
    }
   ],
   "source": [
    "#print() 함수를 사용하여 다음과 같이 출력하세요.\n",
    "\n",
    "#naver/kakao/sk/samsung\n",
    "\n",
    "print('naver','kakao','sk','samsumg', sep='/')"
   ]
  },
  {
   "cell_type": "code",
   "execution_count": 19,
   "id": "f84c6639-795e-4e8a-b460-424f755a72bb",
   "metadata": {},
   "outputs": [
    {
     "name": "stdout",
     "output_type": "stream",
     "text": [
      "first second\n"
     ]
    }
   ],
   "source": [
    "#다음 코드를 수정하여 줄바꿈이 없이 출력하세요. (힌트: end='') print 함수는 두 번 사용합니다. 세미콜론 (;)은 한줄에 여러 개의 명령을 작성하기 위해 사용합니다.\n",
    "\n",
    "print(\"first\",\"second\")"
   ]
  },
  {
   "cell_type": "code",
   "execution_count": 24,
   "id": "af809135-1e90-475c-b8c1-213724007d71",
   "metadata": {},
   "outputs": [
    {
     "data": {
      "text/plain": [
       "1.6666666666666667"
      ]
     },
     "execution_count": 24,
     "metadata": {},
     "output_type": "execute_result"
    }
   ],
   "source": [
    "# 5/3의 결과를 화면에 출력하세요.\n",
    "\n",
    "5/3"
   ]
  },
  {
   "cell_type": "code",
   "execution_count": 28,
   "id": "1abd41c4-ff1a-40a5-a7ff-a4757b10a379",
   "metadata": {},
   "outputs": [
    {
     "data": {
      "text/plain": [
       "500000"
      ]
     },
     "execution_count": 28,
     "metadata": {},
     "output_type": "execute_result"
    }
   ],
   "source": [
    "# 삼성전자라는 변수로 50,000원을 바인딩해보세요. 삼성전자 주식 10주를 보유하고 있을 때 총 평가금액을 출력하세요.\n",
    "삼성전자=50000\n",
    "총평가금액 =삼성전자*10\n",
    "총평가금액"
   ]
  },
  {
   "cell_type": "code",
   "execution_count": 30,
   "id": "b6e3d36d-5462-4b3f-9e98-cb5de8f89cb8",
   "metadata": {},
   "outputs": [
    {
     "name": "stdout",
     "output_type": "stream",
     "text": [
      "298조\n",
      "50,000원\n",
      "15.79\n"
     ]
    }
   ],
   "source": [
    "# 다음 표는 삼성전자의 일부 투자정보입니다. 변수를 사용해서 시가총액, 현재가, PER 등을 바인딩해보세요.\n",
    "\n",
    "#항목\t값\n",
    "#시가총액\t298조\n",
    "#현재가\t50,000원\n",
    "#PER\t15.79\n",
    "\n",
    "시가총액 = '298조'\n",
    "현재가 = '50,000원'\n",
    "PER = '15.79'\n",
    "\n",
    "print(시가총액)\n",
    "print(현재가)\n",
    "print(PER)"
   ]
  },
  {
   "cell_type": "code",
   "execution_count": 42,
   "id": "92cada11-0641-4077-862d-20fbc34a0e8c",
   "metadata": {},
   "outputs": [
    {
     "name": "stdout",
     "output_type": "stream",
     "text": [
      "hello! python\n"
     ]
    }
   ],
   "source": [
    "#변수 s와 t에는 각각 문자열이 바인딩 되어있습니다.\n",
    "\n",
    "s = \"hello\"\n",
    "t = \"python\"\n",
    "#두 변수를 이용하여 아래와 같이 출력해보세요.\n",
    "\n",
    "#실행 예:\n",
    "#hello! python\n",
    "\n",
    "print(s+'!', t)"
   ]
  },
  {
   "cell_type": "code",
   "execution_count": 49,
   "id": "d3298bee-a48f-4471-9983-509da7bf819a",
   "metadata": {},
   "outputs": [
    {
     "data": {
      "text/plain": [
       "8"
      ]
     },
     "execution_count": 49,
     "metadata": {},
     "output_type": "execute_result"
    }
   ],
   "source": [
    "#아래 코드의 실행 결과를 예상해보세요.\n",
    "\n",
    "2 + 2 * 3 "
   ]
  },
  {
   "cell_type": "code",
   "execution_count": 52,
   "id": "93a464d4-b66e-409e-98ca-a17051c37e37",
   "metadata": {},
   "outputs": [
    {
     "name": "stdout",
     "output_type": "stream",
     "text": [
      "132 <class 'str'>\n"
     ]
    }
   ],
   "source": [
    "'''\n",
    "type() 함수는 데이터 타입을 판별합니다. 변수 a에는 128 숫자가 바인딩돼 있어 type 함수가 int (정수)형임을 알려줍니다.\n",
    "\n",
    ">> a = 128\n",
    ">> print (type(a))\n",
    "<class 'int'>\n",
    "아래 변수에 바인딩된 값의 타입을 판별해보세요.\n",
    "\n",
    ">> a = \"132\"\n",
    "'''\n",
    "a = \"132\"\n",
    "\n",
    "print(a, type(a))"
   ]
  },
  {
   "cell_type": "code",
   "execution_count": 53,
   "id": "b3ad556e-b77a-49c1-8250-23702ad93e74",
   "metadata": {},
   "outputs": [
    {
     "data": {
      "text/plain": [
       "str"
      ]
     },
     "execution_count": 53,
     "metadata": {},
     "output_type": "execute_result"
    }
   ],
   "source": [
    "type(a)"
   ]
  },
  {
   "cell_type": "code",
   "execution_count": 55,
   "id": "06925d38-1646-49ce-a0fe-851327f3ee20",
   "metadata": {},
   "outputs": [
    {
     "data": {
      "text/plain": [
       "list"
      ]
     },
     "execution_count": 55,
     "metadata": {},
     "output_type": "execute_result"
    }
   ],
   "source": [
    "'''\n",
    "문자열 '720'를 정수형으로 변환해보세요.\n",
    "\n",
    ">> num_str = \"720\"\n",
    "'''\n",
    "num_str = \"720\"\n",
    "num_str = [720]\n",
    "type(num_str)"
   ]
  },
  {
   "cell_type": "code",
   "execution_count": 58,
   "id": "42400a28-c5d4-49ef-a4ef-b0059d577b10",
   "metadata": {},
   "outputs": [
    {
     "name": "stdout",
     "output_type": "stream",
     "text": [
      "720 <class 'int'>\n"
     ]
    }
   ],
   "source": [
    "num_str = \"720\"  #형변환\n",
    "num_int = int(num_str)\n",
    "print(num_int, type(num_int))"
   ]
  },
  {
   "cell_type": "code",
   "execution_count": 60,
   "id": "dd88c4df-4dc1-48bf-b8f5-7c654adbe2c4",
   "metadata": {},
   "outputs": [
    {
     "name": "stdout",
     "output_type": "stream",
     "text": [
      "100 <class 'str'>\n"
     ]
    }
   ],
   "source": [
    "'''\n",
    "017 정수를 문자열 100으로 변환\n",
    "정수 100을 문자열 '100'으로 변환해보세요.\n",
    "'''\n",
    "\n",
    "num='100'\n",
    "print(num, type(num))"
   ]
  },
  {
   "cell_type": "code",
   "execution_count": 61,
   "id": "6a44a04a-93c2-42d9-bdd8-154e09567e44",
   "metadata": {},
   "outputs": [
    {
     "name": "stdout",
     "output_type": "stream",
     "text": [
      "15.79 <class 'float'>\n"
     ]
    }
   ],
   "source": [
    "'''\n",
    "문자열 \"15.79\"를 실수(float) 타입으로 변환해보세요.'''\n",
    "\n",
    "data = \"15.79\"\n",
    "data = float(data)\n",
    "print(data, type(data))"
   ]
  },
  {
   "cell_type": "code",
   "execution_count": 62,
   "id": "f58fc254-e82e-444a-8e7a-5917789ffca0",
   "metadata": {},
   "outputs": [
    {
     "name": "stdout",
     "output_type": "stream",
     "text": [
      "2017\n",
      "2018\n",
      "2019\n"
     ]
    }
   ],
   "source": [
    "'''\n",
    "year라는 변수가 문자열 타입의 연도를 바인딩하고 있습니다. 이를 정수로 변환한 후 최근 3년의 연도를 화면에 출력해보세요.\n",
    "\n",
    "year = \"2020\"\n",
    "'''\n",
    "year = \"2020\"\n",
    "print(int(year)-3)  \n",
    "print(int(year)-2)  \n",
    "print(int(year)-1)  \n"
   ]
  },
  {
   "cell_type": "code",
   "execution_count": 64,
   "id": "a8603cda-be78-47f5-91b5-6beb482993f6",
   "metadata": {},
   "outputs": [
    {
     "data": {
      "text/plain": [
       "1749024"
      ]
     },
     "execution_count": 64,
     "metadata": {},
     "output_type": "execute_result"
    }
   ],
   "source": [
    "'''\n",
    "에이컨이 월 48,584원에 무이자 36개월의 조건으로 홈쇼핑에서 판매되고 있습니다. 총 금액은 계산한 후 이를 화면에 출력해보세요. (변수사용하기)\n",
    "'''\n",
    "\n",
    "월금액=48584\n",
    "무이자=36\n",
    "총금액=(월금액*무이자)\n",
    "총금액"
   ]
  },
  {
   "cell_type": "code",
   "execution_count": null,
   "id": "76bf8116-3080-46be-9ac3-df583d5aea7e",
   "metadata": {},
   "outputs": [],
   "source": []
  }
 ],
 "metadata": {
  "kernelspec": {
   "display_name": "Python 3 (ipykernel)",
   "language": "python",
   "name": "python3"
  },
  "language_info": {
   "codemirror_mode": {
    "name": "ipython",
    "version": 3
   },
   "file_extension": ".py",
   "mimetype": "text/x-python",
   "name": "python",
   "nbconvert_exporter": "python",
   "pygments_lexer": "ipython3",
   "version": "3.11.7"
  }
 },
 "nbformat": 4,
 "nbformat_minor": 5
}
