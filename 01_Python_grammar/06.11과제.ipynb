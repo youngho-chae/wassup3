{
 "cells": [
  {
   "cell_type": "code",
   "execution_count": 1,
   "id": "e63dc61d-2024-4dfd-97a3-d9323460eb30",
   "metadata": {},
   "outputs": [
    {
     "data": {
      "text/plain": [
       "' hello world'"
      ]
     },
     "execution_count": 1,
     "metadata": {},
     "output_type": "execute_result"
    }
   ],
   "source": [
    "# 화면에 Hello World 문자열을 출력하세요.\n",
    "' hello world'"
   ]
  },
  {
   "cell_type": "code",
   "execution_count": 2,
   "id": "0da76ade-3372-4672-9904-d6d78db2c977",
   "metadata": {},
   "outputs": [
    {
     "data": {
      "text/plain": [
       "\"Mary's cosmetics\""
      ]
     },
     "execution_count": 2,
     "metadata": {},
     "output_type": "execute_result"
    }
   ],
   "source": [
    "# 화면에 Mary's cosmetics을 출력하세요. (중간에 '가 있음에 주의하세요)\n",
    "\"Mary's cosmetics\""
   ]
  },
  {
   "cell_type": "code",
   "execution_count": 3,
   "id": "3baba9da-80c4-4feb-9fc3-f8cb6917fde9",
   "metadata": {},
   "outputs": [
    {
     "data": {
      "text/plain": [
       "' 신씨가 소리질렀다. \"도둑이야\".'"
      ]
     },
     "execution_count": 3,
     "metadata": {},
     "output_type": "execute_result"
    }
   ],
   "source": [
    "# 화면에 아래 문장을 출력하세요. (중간에 \"가 있음에 주의하세요.)\n",
    "# 신씨가 소리질렀다. \"도둑이야\".\n",
    "' 신씨가 소리질렀다. \"도둑이야\".'"
   ]
  },
  {
   "cell_type": "code",
   "execution_count": 8,
   "id": "3f09af33-7c11-4ec9-802c-55d87270b1cb",
   "metadata": {},
   "outputs": [
    {
     "name": "stdout",
     "output_type": "stream",
     "text": [
      "C:\\Windows\n"
     ]
    }
   ],
   "source": [
    "# 화면에 C:\\Windows를 출력하세요.\n",
    "print('C:\\Windows')"
   ]
  },
  {
   "cell_type": "code",
   "execution_count": 10,
   "id": "ab734caf-59a2-4c88-aa26-feb110aa5694",
   "metadata": {},
   "outputs": [
    {
     "name": "stdout",
     "output_type": "stream",
     "text": [
      "안녕하세요.\n",
      "만나서\t\t반갑습니다.\n"
     ]
    }
   ],
   "source": [
    "# 다음 코드를 실행해보고 \\t와 \\n의 역할을 설명해보세요.\n",
    "\n",
    "print(\"안녕하세요.\\n만나서\\t\\t반갑습니다.\")\n",
    "# /n 줄바꿈 /t 탭"
   ]
  },
  {
   "cell_type": "code",
   "execution_count": 11,
   "id": "6752da9f-ac03-495d-a653-1629d0f14bab",
   "metadata": {},
   "outputs": [
    {
     "name": "stdout",
     "output_type": "stream",
     "text": [
      "오늘은 일요일\n"
     ]
    }
   ],
   "source": [
    "#print 함수에 두 개의 단어를 입력한 예제입니다. 아래 코드의 출력 결과를 예상해봅시다.\n",
    "\n",
    "print (\"오늘은\", \"일요일\")"
   ]
  },
  {
   "cell_type": "code",
   "execution_count": 15,
   "id": "3b10b0a7-f121-4311-9752-9a3a2f6aa923",
   "metadata": {},
   "outputs": [
    {
     "name": "stdout",
     "output_type": "stream",
     "text": [
      "naver;kakao;sk;samsumg\n"
     ]
    }
   ],
   "source": [
    "# print() 함수를 사용하여 다음과 같이 출력하세요.\n",
    "# naver;kakao;sk;samsung\n",
    "\n",
    "print('naver','kakao','sk','samsumg', sep=';')"
   ]
  },
  {
   "cell_type": "code",
   "execution_count": 17,
   "id": "99dd1701-fa6b-4684-87e4-4de31635117a",
   "metadata": {},
   "outputs": [
    {
     "name": "stdout",
     "output_type": "stream",
     "text": [
      "naver/kakao/sk/samsumg\n"
     ]
    }
   ],
   "source": [
    "#print() 함수를 사용하여 다음과 같이 출력하세요.\n",
    "\n",
    "#naver/kakao/sk/samsung\n",
    "\n",
    "print('naver','kakao','sk','samsumg', sep='/')"
   ]
  },
  {
   "cell_type": "code",
   "execution_count": 19,
   "id": "f84c6639-795e-4e8a-b460-424f755a72bb",
   "metadata": {},
   "outputs": [
    {
     "name": "stdout",
     "output_type": "stream",
     "text": [
      "first second\n"
     ]
    }
   ],
   "source": [
    "#다음 코드를 수정하여 줄바꿈이 없이 출력하세요. (힌트: end='') print 함수는 두 번 사용합니다. 세미콜론 (;)은 한줄에 여러 개의 명령을 작성하기 위해 사용합니다.\n",
    "\n",
    "print(\"first\",\"second\")"
   ]
  },
  {
   "cell_type": "code",
   "execution_count": 24,
   "id": "af809135-1e90-475c-b8c1-213724007d71",
   "metadata": {},
   "outputs": [
    {
     "data": {
      "text/plain": [
       "1.6666666666666667"
      ]
     },
     "execution_count": 24,
     "metadata": {},
     "output_type": "execute_result"
    }
   ],
   "source": [
    "# 5/3의 결과를 화면에 출력하세요.\n",
    "\n",
    "5/3"
   ]
  },
  {
   "cell_type": "code",
   "execution_count": 28,
   "id": "1abd41c4-ff1a-40a5-a7ff-a4757b10a379",
   "metadata": {},
   "outputs": [
    {
     "data": {
      "text/plain": [
       "500000"
      ]
     },
     "execution_count": 28,
     "metadata": {},
     "output_type": "execute_result"
    }
   ],
   "source": [
    "# 삼성전자라는 변수로 50,000원을 바인딩해보세요. 삼성전자 주식 10주를 보유하고 있을 때 총 평가금액을 출력하세요.\n",
    "삼성전자=50000\n",
    "총평가금액 =삼성전자*10\n",
    "총평가금액"
   ]
  },
  {
   "cell_type": "code",
   "execution_count": 30,
   "id": "b6e3d36d-5462-4b3f-9e98-cb5de8f89cb8",
   "metadata": {},
   "outputs": [
    {
     "name": "stdout",
     "output_type": "stream",
     "text": [
      "298조\n",
      "50,000원\n",
      "15.79\n"
     ]
    }
   ],
   "source": [
    "# 다음 표는 삼성전자의 일부 투자정보입니다. 변수를 사용해서 시가총액, 현재가, PER 등을 바인딩해보세요.\n",
    "\n",
    "#항목\t값\n",
    "#시가총액\t298조\n",
    "#현재가\t50,000원\n",
    "#PER\t15.79\n",
    "\n",
    "시가총액 = '298조'\n",
    "현재가 = '50,000원'\n",
    "PER = '15.79'\n",
    "\n",
    "print(시가총액)\n",
    "print(현재가)\n",
    "print(PER)"
   ]
  },
  {
   "cell_type": "code",
   "execution_count": 42,
   "id": "92cada11-0641-4077-862d-20fbc34a0e8c",
   "metadata": {},
   "outputs": [
    {
     "name": "stdout",
     "output_type": "stream",
     "text": [
      "hello! python\n"
     ]
    }
   ],
   "source": [
    "#변수 s와 t에는 각각 문자열이 바인딩 되어있습니다.\n",
    "\n",
    "s = \"hello\"\n",
    "t = \"python\"\n",
    "#두 변수를 이용하여 아래와 같이 출력해보세요.\n",
    "\n",
    "#실행 예:\n",
    "#hello! python\n",
    "\n",
    "print(s+'!', t)"
   ]
  },
  {
   "cell_type": "code",
   "execution_count": 49,
   "id": "d3298bee-a48f-4471-9983-509da7bf819a",
   "metadata": {},
   "outputs": [
    {
     "data": {
      "text/plain": [
       "8"
      ]
     },
     "execution_count": 49,
     "metadata": {},
     "output_type": "execute_result"
    }
   ],
   "source": [
    "#아래 코드의 실행 결과를 예상해보세요.\n",
    "\n",
    "2 + 2 * 3 "
   ]
  },
  {
   "cell_type": "code",
   "execution_count": 52,
   "id": "93a464d4-b66e-409e-98ca-a17051c37e37",
   "metadata": {},
   "outputs": [
    {
     "name": "stdout",
     "output_type": "stream",
     "text": [
      "132 <class 'str'>\n"
     ]
    }
   ],
   "source": [
    "'''\n",
    "type() 함수는 데이터 타입을 판별합니다. 변수 a에는 128 숫자가 바인딩돼 있어 type 함수가 int (정수)형임을 알려줍니다.\n",
    "\n",
    ">> a = 128\n",
    ">> print (type(a))\n",
    "<class 'int'>\n",
    "아래 변수에 바인딩된 값의 타입을 판별해보세요.\n",
    "\n",
    ">> a = \"132\"\n",
    "'''\n",
    "a = \"132\"\n",
    "\n",
    "print(a, type(a))"
   ]
  },
  {
   "cell_type": "code",
   "execution_count": 53,
   "id": "b3ad556e-b77a-49c1-8250-23702ad93e74",
   "metadata": {},
   "outputs": [
    {
     "data": {
      "text/plain": [
       "str"
      ]
     },
     "execution_count": 53,
     "metadata": {},
     "output_type": "execute_result"
    }
   ],
   "source": [
    "type(a)"
   ]
  },
  {
   "cell_type": "code",
   "execution_count": 55,
   "id": "06925d38-1646-49ce-a0fe-851327f3ee20",
   "metadata": {},
   "outputs": [
    {
     "data": {
      "text/plain": [
       "list"
      ]
     },
     "execution_count": 55,
     "metadata": {},
     "output_type": "execute_result"
    }
   ],
   "source": [
    "'''\n",
    "문자열 '720'를 정수형으로 변환해보세요.\n",
    "\n",
    ">> num_str = \"720\"\n",
    "'''\n",
    "num_str = \"720\"\n",
    "num_str = [720]\n",
    "type(num_str)"
   ]
  },
  {
   "cell_type": "code",
   "execution_count": 58,
   "id": "42400a28-c5d4-49ef-a4ef-b0059d577b10",
   "metadata": {},
   "outputs": [
    {
     "name": "stdout",
     "output_type": "stream",
     "text": [
      "720 <class 'int'>\n"
     ]
    }
   ],
   "source": [
    "num_str = \"720\"  #형변환\n",
    "num_int = int(num_str)\n",
    "print(num_int, type(num_int))"
   ]
  },
  {
   "cell_type": "code",
   "execution_count": 60,
   "id": "dd88c4df-4dc1-48bf-b8f5-7c654adbe2c4",
   "metadata": {},
   "outputs": [
    {
     "name": "stdout",
     "output_type": "stream",
     "text": [
      "100 <class 'str'>\n"
     ]
    }
   ],
   "source": [
    "'''\n",
    "017 정수를 문자열 100으로 변환\n",
    "정수 100을 문자열 '100'으로 변환해보세요.\n",
    "'''\n",
    "\n",
    "num='100'\n",
    "print(num, type(num))"
   ]
  },
  {
   "cell_type": "code",
   "execution_count": 61,
   "id": "6a44a04a-93c2-42d9-bdd8-154e09567e44",
   "metadata": {},
   "outputs": [
    {
     "name": "stdout",
     "output_type": "stream",
     "text": [
      "15.79 <class 'float'>\n"
     ]
    }
   ],
   "source": [
    "'''\n",
    "문자열 \"15.79\"를 실수(float) 타입으로 변환해보세요.'''\n",
    "\n",
    "data = \"15.79\"\n",
    "data = float(data)\n",
    "print(data, type(data))"
   ]
  },
  {
   "cell_type": "code",
   "execution_count": 62,
   "id": "f58fc254-e82e-444a-8e7a-5917789ffca0",
   "metadata": {},
   "outputs": [
    {
     "name": "stdout",
     "output_type": "stream",
     "text": [
      "2017\n",
      "2018\n",
      "2019\n"
     ]
    }
   ],
   "source": [
    "'''\n",
    "year라는 변수가 문자열 타입의 연도를 바인딩하고 있습니다. 이를 정수로 변환한 후 최근 3년의 연도를 화면에 출력해보세요.\n",
    "\n",
    "year = \"2020\"\n",
    "'''\n",
    "year = \"2020\"\n",
    "print(int(year)-3)  \n",
    "print(int(year)-2)  \n",
    "print(int(year)-1)  \n"
   ]
  },
  {
   "cell_type": "code",
   "execution_count": 64,
   "id": "a8603cda-be78-47f5-91b5-6beb482993f6",
   "metadata": {},
   "outputs": [
    {
     "data": {
      "text/plain": [
       "1749024"
      ]
     },
     "execution_count": 64,
     "metadata": {},
     "output_type": "execute_result"
    }
   ],
   "source": [
    "'''\n",
    "에이컨이 월 48,584원에 무이자 36개월의 조건으로 홈쇼핑에서 판매되고 있습니다. 총 금액은 계산한 후 이를 화면에 출력해보세요. (변수사용하기)\n",
    "'''\n",
    "\n",
    "월금액=48584\n",
    "무이자=36\n",
    "총금액=(월금액*무이자)\n",
    "총금액"
   ]
  },
  {
   "cell_type": "code",
   "execution_count": 71,
   "id": "76bf8116-3080-46be-9ac3-df583d5aea7e",
   "metadata": {},
   "outputs": [
    {
     "name": "stdout",
     "output_type": "stream",
     "text": [
      "p t\n"
     ]
    }
   ],
   "source": [
    "'''\n",
    "letters가 바인딩하는 문자열에서 첫번째와 세번째 문자를 출력하세요.\n",
    "\n",
    ">> letters = 'python'\n",
    "실행 예\n",
    "p t\n",
    "'''\n",
    "\n",
    "letters = 'python'\n",
    "print(letters[0], letters[2])\n"
   ]
  },
  {
   "cell_type": "code",
   "execution_count": 72,
   "id": "126523c3-b507-47c3-9499-b06f5e60e65e",
   "metadata": {},
   "outputs": [
    {
     "name": "stdout",
     "output_type": "stream",
     "text": [
      "2210\n"
     ]
    }
   ],
   "source": [
    "'''\n",
    "자동차 번호가 다음과 같을 때 뒤에 4자리만 출력하세요.\n",
    "\n",
    ">> license_plate = \"24가 2210\"\n",
    "실행 예: 2210\n",
    "'''\n",
    "license_plate = \"24가 2210\"\n",
    "print(license_plate[4:])"
   ]
  },
  {
   "cell_type": "code",
   "execution_count": 74,
   "id": "34bb873b-bfec-412d-8901-6e1464413de5",
   "metadata": {},
   "outputs": [
    {
     "name": "stdout",
     "output_type": "stream",
     "text": [
      "홀홀홀\n"
     ]
    }
   ],
   "source": [
    "'''\n",
    "아래의 문자열에서 '홀' 만 출력하세요.\n",
    "\n",
    ">> string = \"홀짝홀짝홀짝\"\n",
    "실행 예:\n",
    "홀홀홀\n",
    "'''\n",
    "string = \"홀짝홀짝홀짝\"\n",
    "print(string[::2])"
   ]
  },
  {
   "cell_type": "code",
   "execution_count": 75,
   "id": "61b977c5-e1ff-414f-9251-16699af2f3be",
   "metadata": {},
   "outputs": [
    {
     "name": "stdout",
     "output_type": "stream",
     "text": [
      "NOHTYP\n"
     ]
    }
   ],
   "source": [
    "'''\n",
    "문자열을 거꾸로 뒤집어 출력하세요.\n",
    "\n",
    ">> string = \"PYTHON\"\n",
    "실행 예:\n",
    "NOHTYP\n",
    "'''\n",
    "\n",
    "string = \"PYTHON\"\n",
    "print(string[::-1])"
   ]
  },
  {
   "cell_type": "code",
   "execution_count": 76,
   "id": "205347ae-e846-4ae0-bb3f-6904becf57c1",
   "metadata": {},
   "outputs": [
    {
     "data": {
      "text/plain": [
       "'010 1111 2222'"
      ]
     },
     "execution_count": 76,
     "metadata": {},
     "output_type": "execute_result"
    }
   ],
   "source": [
    "'''\n",
    "아래의 전화번호에서 하이푼 ('-')을 제거하고 출력하세요.\n",
    "\n",
    ">> phone_number = \"010-1111-2222\"\n",
    "실행 예\n",
    "010 1111 2222\n",
    "'''\n",
    "phone_number = \"010-1111-2222\"\n",
    "phone_number.replace(\"-\", \" \")\n"
   ]
  },
  {
   "cell_type": "code",
   "execution_count": 77,
   "id": "5552131c-2d46-47b3-9130-204502ab7fa0",
   "metadata": {},
   "outputs": [
    {
     "data": {
      "text/plain": [
       "'01011112222'"
      ]
     },
     "execution_count": 77,
     "metadata": {},
     "output_type": "execute_result"
    }
   ],
   "source": [
    "'''\n",
    "25번 문제의 전화번호를 아래와 같이 모두 붙여 출력하세요.\n",
    "\n",
    "실행 예\n",
    "01011112222\n",
    "'''\n",
    "\n",
    "phone_number = \"010-1111-2222\"\n",
    "phone_number.replace(\"-\", \"\")"
   ]
  },
  {
   "cell_type": "code",
   "execution_count": 87,
   "id": "f24345c4-fb74-4954-80d4-20d7abfb62d2",
   "metadata": {},
   "outputs": [
    {
     "data": {
      "text/plain": [
       "19"
      ]
     },
     "execution_count": 87,
     "metadata": {},
     "output_type": "execute_result"
    }
   ],
   "source": [
    "'''\n",
    "url 에 저장된 웹 페이지 주소에서 도메인을 출력하세요.\n",
    "\n",
    ">> url = \"http://sharebook.kr\"\n",
    "실행 예:\n",
    "kr\n",
    "'''\n",
    "url = \"http://sharebook.kr\"\n",
    "len(url)\n"
   ]
  },
  {
   "cell_type": "code",
   "execution_count": 94,
   "id": "f722cad4-58dc-4411-8656-5a06df723b59",
   "metadata": {},
   "outputs": [
    {
     "name": "stdout",
     "output_type": "stream",
     "text": [
      "kr\n"
     ]
    }
   ],
   "source": [
    "print(url[17:])"
   ]
  },
  {
   "cell_type": "code",
   "execution_count": 97,
   "id": "a1d27c59-41da-4c58-9003-a15114728b1a",
   "metadata": {},
   "outputs": [
    {
     "ename": "TypeError",
     "evalue": "'str' object does not support item assignment",
     "output_type": "error",
     "traceback": [
      "\u001b[1;31m---------------------------------------------------------------------------\u001b[0m",
      "\u001b[1;31mTypeError\u001b[0m                                 Traceback (most recent call last)",
      "Cell \u001b[1;32mIn[97], line 9\u001b[0m\n\u001b[0;32m      1\u001b[0m \u001b[38;5;124;03m'''\u001b[39;00m\n\u001b[0;32m      2\u001b[0m \u001b[38;5;124;03m아래 코드의 실행 결과를 예상해보세요.\u001b[39;00m\n\u001b[0;32m      3\u001b[0m \n\u001b[1;32m   (...)\u001b[0m\n\u001b[0;32m      6\u001b[0m \u001b[38;5;124;03m>> print(lang)\u001b[39;00m\n\u001b[0;32m      7\u001b[0m \u001b[38;5;124;03m'''\u001b[39;00m\n\u001b[0;32m      8\u001b[0m lang \u001b[38;5;241m=\u001b[39m \u001b[38;5;124m'\u001b[39m\u001b[38;5;124mpython\u001b[39m\u001b[38;5;124m'\u001b[39m\n\u001b[1;32m----> 9\u001b[0m lang[\u001b[38;5;241m0\u001b[39m] \u001b[38;5;241m=\u001b[39m \u001b[38;5;124m'\u001b[39m\u001b[38;5;124mP\u001b[39m\u001b[38;5;124m'\u001b[39m\n\u001b[0;32m     10\u001b[0m \u001b[38;5;28mprint\u001b[39m(lang)\n",
      "\u001b[1;31mTypeError\u001b[0m: 'str' object does not support item assignment"
     ]
    }
   ],
   "source": [
    "'''\n",
    "아래 코드의 실행 결과를 예상해보세요.\n",
    "\n",
    ">> lang = 'python'\n",
    ">> lang[0] = 'P'\n",
    ">> print(lang)\n",
    "'''\n",
    "lang = 'python'\n",
    "lang[0] = 'P'\n",
    "print(lang)"
   ]
  },
  {
   "cell_type": "code",
   "execution_count": 102,
   "id": "409a625e-c98f-4182-96a6-eac4ca9b9445",
   "metadata": {},
   "outputs": [
    {
     "data": {
      "text/plain": [
       "'Abcdfe2A354A32A'"
      ]
     },
     "execution_count": 102,
     "metadata": {},
     "output_type": "execute_result"
    }
   ],
   "source": [
    "'''\n",
    "아래 문자열에서 소문자 'a'를 대문자 'A'로 변경하세요.\n",
    "\n",
    ">> string = 'abcdfe2a354a32a'\n",
    "실행 예:\n",
    "Abcdfe2A354A32A\n",
    "'''\n",
    "string = 'abcdfe2a354a32a'\n",
    "string.replace('a','A')"
   ]
  },
  {
   "cell_type": "code",
   "execution_count": 104,
   "id": "0379530e-bf8d-46db-a1dc-76a558dfe69b",
   "metadata": {},
   "outputs": [
    {
     "name": "stdout",
     "output_type": "stream",
     "text": [
      "abcd\n"
     ]
    }
   ],
   "source": [
    "'''\n",
    "아래 코드의 실행 결과를 예상해보세요.\n",
    "\n",
    ">> string = 'abcd'\n",
    ">> string.replace('b', 'B')\n",
    ">> print(string)\n",
    "'''\n",
    "string = 'abcd'\n",
    "string.replace('b', 'B')\n",
    "print(string)"
   ]
  },
  {
   "cell_type": "code",
   "execution_count": 105,
   "id": "f71da12c-5dc6-4a7d-b2d2-04f3d632603e",
   "metadata": {},
   "outputs": [
    {
     "name": "stdout",
     "output_type": "stream",
     "text": [
      "34\n"
     ]
    }
   ],
   "source": [
    "'''\n",
    "아래 코드의 실행 결과를 예상해보세요.\n",
    "\n",
    ">> a = \"3\"\n",
    ">> b = \"4\"\n",
    ">> print(a + b)\n",
    "'''\n",
    "a = \"3\"\n",
    "b = \"4\"\n",
    "print(a + b)\n"
   ]
  },
  {
   "cell_type": "code",
   "execution_count": 106,
   "id": "026cd0d9-a273-4b87-8c2f-cc5b44270f8c",
   "metadata": {},
   "outputs": [
    {
     "name": "stdout",
     "output_type": "stream",
     "text": [
      "HiHiHi\n"
     ]
    }
   ],
   "source": [
    "'''\n",
    "아래 코드의 실행 결과를 예상해보세요.\n",
    "\n",
    ">> print(\"Hi\" * 3)\n",
    "'''\n",
    "print(\"Hi\" * 3)\n"
   ]
  },
  {
   "cell_type": "code",
   "execution_count": 107,
   "id": "979d851b-06b2-4bb9-9c7a-02b9e7273fe6",
   "metadata": {},
   "outputs": [
    {
     "name": "stdout",
     "output_type": "stream",
     "text": [
      "--------------------------------------------------------------------------------\n"
     ]
    }
   ],
   "source": [
    "'''\n",
    "화면에 '-'를 80개 출력하세요.\n",
    "'''\n",
    "print(\"-\" * 80)"
   ]
  },
  {
   "cell_type": "code",
   "execution_count": 111,
   "id": "e6744d14-c059-408e-9a53-394a8213bff5",
   "metadata": {},
   "outputs": [
    {
     "name": "stdout",
     "output_type": "stream",
     "text": [
      "python java python java python java python java python java \n"
     ]
    }
   ],
   "source": [
    "'''\n",
    "변수에 다음과 같은 문자열이 바인딩되어 있습니다.\n",
    "\n",
    ">>> t1 = 'python'\n",
    ">>> t2 = 'java'\n",
    "\n",
    "변수에 문자열 더하기와 문자열 곱하기를 사용해서 아래와 같이 출력해보세요.\n",
    "\n",
    "실행 예:\n",
    "python java python java python java python java\n",
    "'''\n",
    "t1 = 'python'\n",
    "t2 = 'java'\n",
    "print((t1 +\" \"+t2+\" \")*5)"
   ]
  },
  {
   "cell_type": "code",
   "execution_count": 112,
   "id": "dd085092-fc4b-4f3b-8586-912e59b6085a",
   "metadata": {},
   "outputs": [
    {
     "name": "stdout",
     "output_type": "stream",
     "text": [
      "이름: 김민수 나이: 10\n",
      "이름: 이철희 나이: 13\n"
     ]
    }
   ],
   "source": [
    "'''\n",
    "변수에 다음과 같이 문자열과 정수가 바인딩되어 있을 때 % formatting을 사용해서 다음과 같이 출력해보세요.\n",
    "\n",
    "name1 = \"김민수\" \n",
    "age1 = 10\n",
    "name2 = \"이철희\"\n",
    "age2 = 13\n",
    "이름: 김민수 나이: 10\n",
    "이름: 이철희 나이: 13\n",
    "'''\n",
    "name1 = \"김민수\" \n",
    "age1 = 10\n",
    "name2 = \"이철희\"\n",
    "age2 = 13\n",
    "print(\"이름: %s 나이: %d\" % (name1, age1))\n",
    "print(\"이름: %s 나이: %d\" % (name2, age2))"
   ]
  },
  {
   "cell_type": "code",
   "execution_count": 113,
   "id": "81e26315-c4dc-4572-8e5f-9b8597273fc3",
   "metadata": {},
   "outputs": [
    {
     "name": "stdout",
     "output_type": "stream",
     "text": [
      "이름: 김민수 나이: 10\n",
      "이름: 이철희 나이: 13\n"
     ]
    }
   ],
   "source": [
    "'''\n",
    "문자열의 format( ) 메서드를 사용해서 035번 문제를 다시 풀어보세요.\n",
    "'''\n",
    "print(\"이름: {} 나이: {}\".format(name1, age1))\n",
    "print(\"이름: {} 나이: {}\".format(name2, age2))"
   ]
  },
  {
   "cell_type": "code",
   "execution_count": 115,
   "id": "3e0876cd-4163-4c40-94db-af8608102877",
   "metadata": {},
   "outputs": [
    {
     "name": "stdout",
     "output_type": "stream",
     "text": [
      "이름: 김민수 나이: 10\n",
      "이름: 이철희 나이: 13\n"
     ]
    }
   ],
   "source": [
    "'''\n",
    "파이썬 3.6부터 지원하는 f-string을 사용해서 035번 문제를 다시 풀어보세요.\n",
    "'''\n",
    "print(f\"이름: {name1} 나이: {age1}\")\n",
    "print(f\"이름: {name2} 나이: {age2}\")"
   ]
  },
  {
   "cell_type": "code",
   "execution_count": 116,
   "id": "f29f3e55-c84c-4f3f-8fef-376592c923bb",
   "metadata": {},
   "outputs": [
    {
     "name": "stdout",
     "output_type": "stream",
     "text": [
      "5969782550 <class 'int'>\n"
     ]
    }
   ],
   "source": [
    "'''\n",
    "삼성전자의 상장주식수가 다음과 같습니다. 컴마를 제거한 후 이를 정수 타입으로 변환해보세요.\n",
    "\n",
    "상장주식수 = \"5,969,782,550\"\n",
    "'''\n",
    "상장주식수 = \"5,969,782,550\"\n",
    "숫자 = 상장주식수.replace(\",\", \"\")\n",
    "결과 = int(숫자)\n",
    "print(결과, type(결과))\n"
   ]
  },
  {
   "cell_type": "code",
   "execution_count": 117,
   "id": "ae32c564-8677-4f8f-82dd-0a4233e825d1",
   "metadata": {},
   "outputs": [
    {
     "name": "stdout",
     "output_type": "stream",
     "text": [
      "2020/03\n"
     ]
    }
   ],
   "source": [
    "'''\n",
    "다음과 같은 문자열에서 '2020/03'만 출력하세요.\n",
    "\n",
    "분기 = \"2020/03(E) (IFRS연결)\"\n",
    "'''\n",
    "분기 = \"2020/03(E) (IFRS연결)\"\n",
    "print(분기[:7])"
   ]
  },
  {
   "cell_type": "code",
   "execution_count": 120,
   "id": "8a776942-4a32-4132-ba6a-fa8bc58372f1",
   "metadata": {},
   "outputs": [
    {
     "data": {
      "text/plain": [
       "'삼성전자'"
      ]
     },
     "execution_count": 120,
     "metadata": {},
     "output_type": "execute_result"
    }
   ],
   "source": [
    "'''\n",
    "문자열의 좌우의 공백이 있을 때 이를 제거해보세요.\n",
    "\n",
    "data = \"   삼성전자    \"\n",
    "'''\n",
    "data = \"   삼성전자    \"\n",
    "data.strip()"
   ]
  },
  {
   "cell_type": "code",
   "execution_count": 121,
   "id": "048f211a-2048-486c-9e05-0c2253ff9171",
   "metadata": {},
   "outputs": [
    {
     "data": {
      "text/plain": [
       "'BTC_KRW'"
      ]
     },
     "execution_count": 121,
     "metadata": {},
     "output_type": "execute_result"
    }
   ],
   "source": [
    "'''\n",
    "다음과 같은 문자열이 있을 때 이를 대문자 BTC_KRW로 변경하세요.\n",
    "\n",
    "ticker = \"btc_krw\"\n",
    "'''\n",
    "ticker = \"btc_krw\"\n",
    "ticker.upper()"
   ]
  },
  {
   "cell_type": "code",
   "execution_count": 122,
   "id": "80a35325-fe6c-4bdb-a41f-d109415840eb",
   "metadata": {},
   "outputs": [
    {
     "data": {
      "text/plain": [
       "'btc_krw'"
      ]
     },
     "execution_count": 122,
     "metadata": {},
     "output_type": "execute_result"
    }
   ],
   "source": [
    "'''\n",
    "다음과 같은 문자열이 있을 때 이를 소문자 btc_krw로 변경하세요.\n",
    "\n",
    "ticker = \"BTC_KRW\"\n",
    "'''\n",
    "ticker = \"BTC_KRW\"\n",
    "ticker.lower()"
   ]
  },
  {
   "cell_type": "code",
   "execution_count": 125,
   "id": "4d6c9dd8-8964-4ef2-af13-bbf428c789f9",
   "metadata": {},
   "outputs": [
    {
     "data": {
      "text/plain": [
       "'Hello'"
      ]
     },
     "execution_count": 125,
     "metadata": {},
     "output_type": "execute_result"
    }
   ],
   "source": [
    "'''\n",
    "문자열 'hello'가 있을 때 이를 'Hello'로 변경해보세요.\n",
    "'''\n",
    "a='hello'\n",
    "a.replace('h','H')"
   ]
  },
  {
   "cell_type": "code",
   "execution_count": 129,
   "id": "75d6784d-b685-4c7a-b96a-2f385771ce39",
   "metadata": {},
   "outputs": [
    {
     "data": {
      "text/plain": [
       "True"
      ]
     },
     "execution_count": 129,
     "metadata": {},
     "output_type": "execute_result"
    }
   ],
   "source": [
    "'''안배운거\n",
    "파일 이름이 문자열로 저장되어 있을 때 endswith 메서드를 사용해서 파일 이름이 'xlsx'로 끝나는지 확인해보세요.\n",
    "\n",
    "file_name = \"보고서.xlsx\"\n",
    "'''\n",
    "file_name = \"보고서.xlsx\"\n",
    "file_name.endswith((\"xlsx\", \"xls\"))\n"
   ]
  },
  {
   "cell_type": "code",
   "execution_count": 128,
   "id": "fc34c402-9ded-4338-b798-b9a36ea6a4b1",
   "metadata": {},
   "outputs": [
    {
     "data": {
      "text/plain": [
       "True"
      ]
     },
     "execution_count": 128,
     "metadata": {},
     "output_type": "execute_result"
    }
   ],
   "source": [
    "# 안배운거\n",
    "file_name = \"2020_보고서.xlsx\"\n",
    "file_name.startswith(\"2020\")"
   ]
  },
  {
   "cell_type": "code",
   "execution_count": 131,
   "id": "6b8be1ae-098c-49e1-b54e-6ebd13b70604",
   "metadata": {},
   "outputs": [
    {
     "data": {
      "text/plain": [
       "['hello', 'world']"
      ]
     },
     "execution_count": 131,
     "metadata": {},
     "output_type": "execute_result"
    }
   ],
   "source": [
    "'''\n",
    "다음과 같은 문자열이 있을 때 공백을 기준으로 문자열을 나눠보세요.\n",
    "\n",
    "a = \"hello world\"\n",
    "'''\n",
    "a = \"hello world\"\n",
    "a.split()"
   ]
  },
  {
   "cell_type": "code",
   "execution_count": 134,
   "id": "001a5926-99d1-4a09-9792-8c2ddd57cbc3",
   "metadata": {},
   "outputs": [
    {
     "data": {
      "text/plain": [
       "['btc', 'krw']"
      ]
     },
     "execution_count": 134,
     "metadata": {},
     "output_type": "execute_result"
    }
   ],
   "source": [
    "'''\n",
    "다음과 같이 문자열이 있을 때 btc와 krw로 나눠보세요.\n",
    "\n",
    "ticker = \"btc_krw\"\n",
    "'''\n",
    "ticker = \"btc_krw\"\n",
    "ticker.split('_')"
   ]
  },
  {
   "cell_type": "code",
   "execution_count": 135,
   "id": "e79eec4b-6349-415e-beaa-f11ec8dec918",
   "metadata": {},
   "outputs": [
    {
     "data": {
      "text/plain": [
       "['2020', '05', '01']"
      ]
     },
     "execution_count": 135,
     "metadata": {},
     "output_type": "execute_result"
    }
   ],
   "source": [
    "'''\n",
    "다음과 같이 날짜를 표현하는 문자열이 있을 때 연도, 월, 일로 나눠보세요.\n",
    "\n",
    "date = \"2020-05-01\"\n",
    "'''\n",
    "date = \"2020-05-01\"\n",
    "date.split('-')"
   ]
  },
  {
   "cell_type": "code",
   "execution_count": 137,
   "id": "3caeb943-afa5-4b53-b6c5-e163f56bc707",
   "metadata": {},
   "outputs": [
    {
     "data": {
      "text/plain": [
       "'039490'"
      ]
     },
     "execution_count": 137,
     "metadata": {},
     "output_type": "execute_result"
    }
   ],
   "source": [
    "'''\n",
    "문자열의 오른쪽에 공백이 있을 때 이를 제거해보세요.\n",
    "\n",
    "data = \"039490     \"\n",
    "'''\n",
    "data = \"039490     \"\n",
    "data.rstrip()"
   ]
  },
  {
   "cell_type": "code",
   "execution_count": null,
   "id": "ae96ab52-bdd0-48f5-a8eb-26b87c95a9f2",
   "metadata": {},
   "outputs": [],
   "source": []
  }
 ],
 "metadata": {
  "kernelspec": {
   "display_name": "Python 3 (ipykernel)",
   "language": "python",
   "name": "python3"
  },
  "language_info": {
   "codemirror_mode": {
    "name": "ipython",
    "version": 3
   },
   "file_extension": ".py",
   "mimetype": "text/x-python",
   "name": "python",
   "nbconvert_exporter": "python",
   "pygments_lexer": "ipython3",
   "version": "3.11.7"
  }
 },
 "nbformat": 4,
 "nbformat_minor": 5
}
